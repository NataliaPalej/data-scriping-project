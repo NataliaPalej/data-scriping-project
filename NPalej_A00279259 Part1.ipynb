{
 "cells": [
  {
   "cell_type": "markdown",
   "id": "b1363ce2-0bfd-4235-8d81-24675b8b4dd4",
   "metadata": {},
   "source": [
    "# Natalia Palej A00279259\n",
    "Software Design with Artificial Intelligence for Cloud Computing \n",
    "Year 4"
   ]
  },
  {
   "cell_type": "markdown",
   "id": "147b7dbd-8edc-4bfe-b4ac-172b41853821",
   "metadata": {},
   "source": [
    "# Part 1: Data Collection Through Web Scraping"
   ]
  },
  {
   "cell_type": "markdown",
   "id": "e8870bdb-3ace-4fb9-8426-a465bda848b7",
   "metadata": {},
   "source": [
    "## Make Necessary Imports"
   ]
  },
  {
   "cell_type": "code",
   "execution_count": 27,
   "id": "a4ca054b-2390-4bce-ad24-9da6367765ab",
   "metadata": {},
   "outputs": [],
   "source": [
    "import requests\n",
    "import re\n",
    "import time\n",
    "import json\n",
    "from bs4 import BeautifulSoup"
   ]
  },
  {
   "cell_type": "markdown",
   "id": "2c2dd03f-c72b-42ec-a45d-0e428b83c82e",
   "metadata": {},
   "source": [
    "## Function to Extract Specific HTML Element"
   ]
  },
  {
   "cell_type": "code",
   "execution_count": 28,
   "id": "a0e327e6-7d9e-4318-8499-a72f29c1ce27",
   "metadata": {},
   "outputs": [],
   "source": [
    "def get_text(selector):\n",
    "    element = pokemon_soup.select_one(selector)\n",
    "    return element.text.strip() if element else 'N/A'"
   ]
  },
  {
   "cell_type": "markdown",
   "id": "bf0afd22-df28-4932-8306-a454ea309eae",
   "metadata": {},
   "source": [
    "## Make Request To Pokemon Page"
   ]
  },
  {
   "cell_type": "code",
   "execution_count": 29,
   "id": "24411dde-f644-47e8-897c-9ab30852d096",
   "metadata": {},
   "outputs": [],
   "source": [
    "url = 'https://pokemondb.net/pokedex/all'"
   ]
  },
  {
   "cell_type": "code",
   "execution_count": 30,
   "id": "ee946ff5-e857-47b8-a585-0113c9082dcd",
   "metadata": {},
   "outputs": [
    {
     "name": "stdout",
     "output_type": "stream",
     "text": [
      "Starting Data Scraping for... https://pokemondb.net/pokedex/all\n"
     ]
    }
   ],
   "source": [
    "print(\"Starting Data Scraping for...\", url)"
   ]
  },
  {
   "cell_type": "code",
   "execution_count": 31,
   "id": "7bd631c9-3301-4284-b4d1-6b19d9b78c81",
   "metadata": {},
   "outputs": [],
   "source": [
    "# Request to fetch the webpage\n",
    "response = requests.get(url)\n",
    "# Raise error for 500 response\n",
    "response.raise_for_status()\n",
    "\n",
    "# Parse the content with BeautifulSoup\n",
    "pokemon_all = BeautifulSoup(response.content, 'html.parser')"
   ]
  },
  {
   "cell_type": "markdown",
   "id": "7588b593-76e9-476a-a348-0120f4fa4bbd",
   "metadata": {},
   "source": [
    "## Data Extraction"
   ]
  },
  {
   "cell_type": "code",
   "execution_count": 32,
   "id": "e036e27d-6360-4989-8a68-315a63118cce",
   "metadata": {},
   "outputs": [],
   "source": [
    "# Find all Pokemon links\n",
    "pokemon_links = []\n",
    "for i in pokemon_all.select('table#pokedex tbody tr a[href^=\"/pokedex/\"]'):\n",
    "    pokemon_links.append(i['href'])"
   ]
  },
  {
   "cell_type": "markdown",
   "id": "9192f198-f7c4-4902-b989-f2e4511dec9e",
   "metadata": {},
   "source": [
    "## Verify Links Were Extracted Properly"
   ]
  },
  {
   "cell_type": "code",
   "execution_count": 33,
   "id": "840a03d3-f8cf-4e2a-a66a-22a33c6b5b93",
   "metadata": {},
   "outputs": [
    {
     "name": "stdout",
     "output_type": "stream",
     "text": [
      "\n",
      "Printing first 10 pokemon_links...\n",
      "1 : /pokedex/bulbasaur\n",
      "2 : /pokedex/ivysaur\n",
      "3 : /pokedex/venusaur\n",
      "4 : /pokedex/venusaur\n",
      "5 : /pokedex/charmander\n",
      "6 : /pokedex/charmeleon\n",
      "7 : /pokedex/charizard\n",
      "8 : /pokedex/charizard\n",
      "9 : /pokedex/charizard\n",
      "10 : /pokedex/squirtle\n"
     ]
    }
   ],
   "source": [
    "print(\"\\nPrinting first 10 pokemon_links...\")\n",
    "index = 0\n",
    "for link in pokemon_links[:10]:\n",
    "    index += 1\n",
    "    print(index, \":\", link)"
   ]
  },
  {
   "cell_type": "markdown",
   "id": "0050c25e-dffe-4481-9fe6-2ff9d46bab24",
   "metadata": {},
   "source": [
    "## Individual Pokemon Scraping"
   ]
  },
  {
   "cell_type": "code",
   "execution_count": 34,
   "id": "fcce93f2-1ac3-4dfe-9096-e4bf13679487",
   "metadata": {},
   "outputs": [
    {
     "name": "stdout",
     "output_type": "stream",
     "text": [
      "\n"
     ]
    }
   ],
   "source": [
    "pokemon_data = {}\n",
    "# Setting the limit to scrape max 500 Pokemons\n",
    "max_pokemons = 500\n",
    "print()"
   ]
  },
  {
   "cell_type": "code",
   "execution_count": 24,
   "id": "c71966e1-1cc4-41e7-8075-d1eb79503d47",
   "metadata": {},
   "outputs": [
    {
     "name": "stdout",
     "output_type": "stream",
     "text": [
      "Scraped data for: Bulbasaur\n",
      "Scraped data for: Ivysaur\n",
      "Scraped data for: Venusaur\n",
      "\n",
      "Data scraping completed successfully.\n"
     ]
    }
   ],
   "source": [
    "for link in pokemon_links[:max_pokemons]:\n",
    "    # Wait for 5 seconds between requests\n",
    "    time.sleep(5)\n",
    "    pokemon_link = 'https://pokemondb.net' + link\n",
    "    response = requests.get(pokemon_link)\n",
    "    response.raise_for_status()\n",
    "    pokemon_soup = BeautifulSoup(response.content, 'html.parser')\n",
    "\n",
    "    # Extract the Data\n",
    "    # Pokedex Data\n",
    "    name = pokemon_soup.find('h1').text\n",
    "    national_no = get_text('table.vitals-table tr:-soup-contains(\"National №\") td')\n",
    "    \n",
    "    # Scraping types\n",
    "    type_elements = pokemon_soup.select('table.vitals-table tr:-soup-contains(\"Type\") td a')\n",
    "    types = [type_element.get_text(strip=True).lower() for type_element in type_elements]\n",
    "    species = get_text('table.vitals-table tr:-soup-contains(\"Species\") td')\n",
    "    height = get_text('table.vitals-table tr:-soup-contains(\"Height\") td').replace('\\xa0', ' ').strip()\n",
    "    weight = get_text('table.vitals-table tr:-soup-contains(\"Weight\") td').replace('\\xa0', ' ').strip()\n",
    "\n",
    "    # Modify the extraction for abilities\n",
    "    abilities = get_text('table.vitals-table tr:-soup-contains(\"Abilities\") td')\n",
    "    # Remove numbers and hidden text\n",
    "    abilities_cleaned = re.sub(r'\\d+\\.\\s*|\\s*\\(hidden ability\\)', '', abilities)\n",
    "    # Add comma before capital letter\n",
    "    abilities_cleaned = re.sub(r'(?<=\\w)(?=[A-Z])', ', ', abilities_cleaned).strip()\n",
    "    \n",
    "    # Training\n",
    "    ev_yield = get_text('table.vitals-table tr:-soup-contains(\"EV yield\") td')\n",
    "    catch_rate = get_text('table.vitals-table tr:-soup-contains(\"Catch rate\") td')\n",
    "    base_friendship = get_text('table.vitals-table tr:-soup-contains(\"Base\") td')\n",
    "    base_exp = get_text('table.vitals-table tr:-soup-contains(\"Base Exp.\") td')\n",
    "    growth_rate = get_text('table.vitals-table tr:-soup-contains(\"Growth Rate\") td')\n",
    "    \n",
    "    # Breeding\n",
    "    egg_groups = get_text('table.vitals-table tr:-soup-contains(\"Egg Groups\") td')\n",
    "    gender = get_text('table.vitals-table tr:-soup-contains(\"Gender\") td')\n",
    "    egg_cycles = get_text('table.vitals-table tr:-soup-contains(\"Egg cycles\") td').strip()\n",
    "    \n",
    "    # Base Stats\n",
    "    hp = get_text('table.vitals-table tr:-soup-contains(\"HP\") td.cell-num:nth-of-type(1)')\n",
    "    min_hp = get_text('table.vitals-table tr:-soup-contains(\"HP\") td.cell-num:nth-of-type(3)')\n",
    "    max_hp = get_text('table.vitals-table tr:-soup-contains(\"HP\") td.cell-num:nth-of-type(4)')\n",
    "    \n",
    "    attack = get_text('table.vitals-table tr:-soup-contains(\"Attack\") td.cell-num:nth-of-type(1)')\n",
    "    min_attack = get_text('table.vitals-table tr:-soup-contains(\"Attack\") td.cell-num:nth-of-type(3)')\n",
    "    max_attack = get_text('table.vitals-table tr:-soup-contains(\"Attack\") td.cell-num:nth-of-type(4)')\n",
    "\n",
    "    defense = get_text('table.vitals-table tr:-soup-contains(\"Defense\") td.cell-num:nth-of-type(1)')\n",
    "    min_defense = get_text('table.vitals-table tr:-soup-contains(\"Defense\") td.cell-num:nth-of-type(3)')\n",
    "    max_defense = get_text('table.vitals-table tr:-soup-contains(\"Defense\") td.cell-num:nth-of-type(4)')\n",
    "    \n",
    "    sp_atk = get_text('table.vitals-table tr:-soup-contains(\"Sp. Atk\") td.cell-num:nth-of-type(1)')\n",
    "    min_sp_atk = get_text('table.vitals-table tr:-soup-contains(\"Sp. Atk\") td.cell-num:nth-of-type(3)')\n",
    "    max_sp_atk = get_text('table.vitals-table tr:-soup-contains(\"Sp. Atk\") td.cell-num:nth-of-type(4)')\n",
    "    \n",
    "    sp_def = get_text('table.vitals-table tr:-soup-contains(\"Sp. Def\") td.cell-num:nth-of-type(1)')\n",
    "    min_sp_def = get_text('table.vitals-table tr:-soup-contains(\"Sp. Def\") td.cell-num:nth-of-type(3)')\n",
    "    max_sp_def = get_text('table.vitals-table tr:-soup-contains(\"Sp. Def\") td.cell-num:nth-of-type(4)')\n",
    "    \n",
    "    speed = get_text('table.vitals-table tr:-soup-contains(\"Speed\") td.cell-num:nth-of-type(1)')\n",
    "    min_speed = get_text('table.vitals-table tr:-soup-contains(\"Speed\") td.cell-num:nth-of-type(3)')\n",
    "    max_speed = get_text('table.vitals-table tr:-soup-contains(\"Speed\") td.cell-num:nth-of-type(4)')\n",
    "    \n",
    "    total = get_text('table.vitals-table tfoot tr th:-soup-contains(\"Total\") + td.cell-num.cell-total')\n",
    "    \n",
    "    # Evo Chart\n",
    "    evo_elements = pokemon_soup.select('div.infocard-list-evo div.infocard a.ent-name')\n",
    "    evo_path = [evo_element.get_text(strip=True) for evo_element in evo_elements]\n",
    "\n",
    "    ######## NOTE ########\n",
    "    ### Im removing \"moves\" from scraped data purposely, as this field is quite excessive. It makes the rest of my assignment messy. ###\n",
    "    ### To see that scraping for \"moves\" works, please uncomment the lines \"move_elements\" and \"moves\" \n",
    "    ### \"moves\" also needs to be uncommented in pokemon_data\n",
    "    ######## NOTE ########\n",
    "    # Moves\n",
    "    # move_elements = pokemon_soup.select('table.data-table tbody tr td.cell-name a.ent-name')\n",
    "    # moves = [move_element.get_text(strip=True) for move_element in move_elements]\n",
    "    \n",
    "    # Pokemon Image\n",
    "    img_tag = pokemon_soup.select_one('div.grid-col.span-md-6.span-lg-4.text-center img')\n",
    "    if img_tag:\n",
    "        pokemon_img_url = img_tag['src']\n",
    "    else:\n",
    "        pokemon_img_url = None\n",
    "\n",
    "    pokemon_data[name.lower()] = {\n",
    "        \"name\": name.lower(),\n",
    "        \"national_no\": national_no,\n",
    "        \"types\": types,\n",
    "        \"species\": species,\n",
    "        \"height\": height,\n",
    "        \"weight\": weight,\n",
    "        \"abilities\": abilities_cleaned,\n",
    "        \"ev_yield\": ev_yield,\n",
    "        \"catch_rate\": catch_rate,\n",
    "        \"base_friendship\": base_friendship,\n",
    "        \"base_exp\": base_exp,\n",
    "        \"growth_rate\": growth_rate,\n",
    "        \"egg_groups\": egg_groups,\n",
    "        \"gender\": gender,\n",
    "        \"egg_cycles\": egg_cycles.replace(\"\\t\", \"\"),\n",
    "        \"hp\": hp,\n",
    "        \"min_hp\": min_hp,\n",
    "        \"max_hp\": max_hp,\n",
    "        \"attack\": attack,\n",
    "        \"min_attack\": min_attack,\n",
    "        \"max_attack\": max_attack,\n",
    "        \"defense\": defense,\n",
    "        \"min_defense\": min_defense,\n",
    "        \"max_defense\": max_defense,\n",
    "        \"sp_atk\": sp_atk,\n",
    "        \"min_sp_atk\": min_sp_atk,\n",
    "        \"max_sp_atk\": max_sp_atk,\n",
    "        \"sp_def\": sp_def,\n",
    "        \"min_sp_def\": min_sp_def,\n",
    "        \"max_sp_def\": max_sp_def,\n",
    "        \"speed\": speed,\n",
    "        \"min_speed\": min_speed,\n",
    "        \"max_speed\": max_speed,\n",
    "        \"total\": total,\n",
    "        \"evo_path\": evo_path,\n",
    "        #\"moves\": moves,\n",
    "        \"pokemon_img_url\": pokemon_img_url\n",
    "    }\n",
    "    print(f\"Scraped data for: {name}\")\n",
    "\n",
    "print(\"\\nData scraping completed successfully.\")"
   ]
  },
  {
   "cell_type": "markdown",
   "id": "8a46460f-cc54-4593-8e4e-819351040c30",
   "metadata": {},
   "source": [
    "## Print First 3 Pokémon Data to Verify"
   ]
  },
  {
   "cell_type": "code",
   "execution_count": 25,
   "id": "152a66b8-dd54-4502-9104-6fd2ca2362f5",
   "metadata": {
    "scrolled": true
   },
   "outputs": [
    {
     "name": "stdout",
     "output_type": "stream",
     "text": [
      "\n",
      "Verifying first 10 Pokemons in JSON file...\n",
      "\n",
      "bulbasaur : {'name': 'bulbasaur', 'national_no': '0001', 'types': ['grass', 'poison'], 'species': 'Seed Pokémon', 'height': '0.7 m (2′04″)', 'weight': '6.9 kg (15.2 lbs)', 'abilities': 'Overgrow, Chlorophyll', 'ev_yield': '1 Sp. Atk', 'catch_rate': '45 (5.9% with PokéBall, full HP)', 'base_friendship': '50 (normal)', 'base_exp': '64', 'growth_rate': 'Medium Slow', 'egg_groups': 'Grass, Monster', 'gender': '87.5% male, 12.5% female', 'egg_cycles': '20(4,884–5,140 steps)', 'hp': '45', 'min_hp': '200', 'max_hp': '294', 'attack': '49', 'min_attack': '92', 'max_attack': '216', 'defense': '49', 'min_defense': '92', 'max_defense': '216', 'sp_atk': '65', 'min_sp_atk': '121', 'max_sp_atk': '251', 'sp_def': '65', 'min_sp_def': '121', 'max_sp_def': '251', 'speed': '45', 'min_speed': '85', 'max_speed': '207', 'total': '318', 'evo_path': ['Bulbasaur', 'Ivysaur', 'Venusaur'], 'pokemon_img_url': 'https://img.pokemondb.net/artwork/bulbasaur.jpg'} \n",
      "\n",
      "ivysaur : {'name': 'ivysaur', 'national_no': '0002', 'types': ['grass', 'poison'], 'species': 'Seed Pokémon', 'height': '1.0 m (3′03″)', 'weight': '13.0 kg (28.7 lbs)', 'abilities': 'Overgrow, Chlorophyll', 'ev_yield': '1 Sp. Atk, 1 Sp. Def', 'catch_rate': '45 (5.9% with PokéBall, full HP)', 'base_friendship': '50 (normal)', 'base_exp': '142', 'growth_rate': 'Medium Slow', 'egg_groups': 'Grass, Monster', 'gender': '87.5% male, 12.5% female', 'egg_cycles': '20(4,884–5,140 steps)', 'hp': '60', 'min_hp': '230', 'max_hp': '324', 'attack': '62', 'min_attack': '116', 'max_attack': '245', 'defense': '63', 'min_defense': '117', 'max_defense': '247', 'sp_atk': '80', 'min_sp_atk': '148', 'max_sp_atk': '284', 'sp_def': '80', 'min_sp_def': '148', 'max_sp_def': '284', 'speed': '60', 'min_speed': '112', 'max_speed': '240', 'total': '405', 'evo_path': ['Bulbasaur', 'Ivysaur', 'Venusaur'], 'pokemon_img_url': 'https://img.pokemondb.net/artwork/ivysaur.jpg'} \n",
      "\n",
      "venusaur : {'name': 'venusaur', 'national_no': '0003', 'types': ['grass', 'poison', 'grass', 'poison'], 'species': 'Seed Pokémon', 'height': '2.0 m (6′07″)', 'weight': '100.0 kg (220.5 lbs)', 'abilities': 'Overgrow, Chlorophyll', 'ev_yield': '2 Sp. Atk, 1 Sp. Def', 'catch_rate': '45 (5.9% with PokéBall, full HP)', 'base_friendship': '50 (normal)', 'base_exp': '236', 'growth_rate': 'Medium Slow', 'egg_groups': 'Grass, Monster', 'gender': '87.5% male, 12.5% female', 'egg_cycles': '20(4,884–5,140 steps)', 'hp': '80', 'min_hp': '270', 'max_hp': '364', 'attack': '82', 'min_attack': '152', 'max_attack': '289', 'defense': '83', 'min_defense': '153', 'max_defense': '291', 'sp_atk': '100', 'min_sp_atk': '184', 'max_sp_atk': '328', 'sp_def': '100', 'min_sp_def': '184', 'max_sp_def': '328', 'speed': '80', 'min_speed': '148', 'max_speed': '284', 'total': '525', 'evo_path': ['Bulbasaur', 'Ivysaur', 'Venusaur'], 'pokemon_img_url': 'https://img.pokemondb.net/artwork/venusaur.jpg'} \n",
      "\n"
     ]
    }
   ],
   "source": [
    "print(\"\\nVerifying first 3 Pokemons in JSON file...\\n\")\n",
    "index = 0\n",
    "for pokemon in list(pokemon_data.keys())[:10]:\n",
    "    index += 1\n",
    "    print(pokemon_data[pokemon]['name'], \":\", pokemon_data[pokemon], \"\\n\")"
   ]
  },
  {
   "cell_type": "markdown",
   "id": "2d967e5d-a580-45ef-a40e-e76e29470fe1",
   "metadata": {},
   "source": [
    "# Save Data in JSON Format"
   ]
  },
  {
   "cell_type": "code",
   "execution_count": 26,
   "id": "5e32ff21-b389-4c64-97e6-96eafab95122",
   "metadata": {},
   "outputs": [
    {
     "name": "stdout",
     "output_type": "stream",
     "text": [
      "\n",
      " pokemon_data.json file was successfully saved\n"
     ]
    }
   ],
   "source": [
    "file_name = \"pokemon_data.json\"\n",
    "with open(file_name, 'w') as json_file:\n",
    "    json.dump(pokemon_data, json_file, indent=4)\n",
    "\n",
    "print('\\n', file_name, 'file was successfully saved')"
   ]
  },
  {
   "cell_type": "code",
   "execution_count": null,
   "id": "2fb8e514-5f4f-458e-adf8-9be86f35b3a8",
   "metadata": {},
   "outputs": [],
   "source": []
  },
  {
   "cell_type": "code",
   "execution_count": null,
   "id": "1d392f22-2f27-4c2b-866a-09a05118e96e",
   "metadata": {},
   "outputs": [],
   "source": []
  }
 ],
 "metadata": {
  "kernelspec": {
   "display_name": "Python 3 (ipykernel)",
   "language": "python",
   "name": "python3"
  },
  "language_info": {
   "codemirror_mode": {
    "name": "ipython",
    "version": 3
   },
   "file_extension": ".py",
   "mimetype": "text/x-python",
   "name": "python",
   "nbconvert_exporter": "python",
   "pygments_lexer": "ipython3",
   "version": "3.8.20"
  }
 },
 "nbformat": 4,
 "nbformat_minor": 5
}
