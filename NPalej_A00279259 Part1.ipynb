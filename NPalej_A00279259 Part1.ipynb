{
 "cells": [
  {
   "cell_type": "markdown",
   "id": "147b7dbd-8edc-4bfe-b4ac-172b41853821",
   "metadata": {},
   "source": [
    "# Part 1: Data Collection Through Web Scraping"
   ]
  },
  {
   "cell_type": "markdown",
   "id": "e8870bdb-3ace-4fb9-8426-a465bda848b7",
   "metadata": {},
   "source": [
    "## Make Necessary Imports"
   ]
  },
  {
   "cell_type": "code",
   "execution_count": 33,
   "id": "a4ca054b-2390-4bce-ad24-9da6367765ab",
   "metadata": {},
   "outputs": [],
   "source": [
    "import requests\n",
    "import time\n",
    "import json\n",
    "from bs4 import BeautifulSoup"
   ]
  },
  {
   "cell_type": "markdown",
   "id": "2c2dd03f-c72b-42ec-a45d-0e428b83c82e",
   "metadata": {},
   "source": [
    "## Function to Extract Specific HTML Element"
   ]
  },
  {
   "cell_type": "code",
   "execution_count": 34,
   "id": "a0e327e6-7d9e-4318-8499-a72f29c1ce27",
   "metadata": {},
   "outputs": [],
   "source": [
    "def get_text(selector):\n",
    "    element = pokemon_soup.select_one(selector)\n",
    "    return element.text.strip() if element else 'N/A'"
   ]
  },
  {
   "cell_type": "markdown",
   "id": "bf0afd22-df28-4932-8306-a454ea309eae",
   "metadata": {},
   "source": [
    "## Make Request To Pokemon Page"
   ]
  },
  {
   "cell_type": "code",
   "execution_count": 35,
   "id": "24411dde-f644-47e8-897c-9ab30852d096",
   "metadata": {},
   "outputs": [],
   "source": [
    "url = 'https://pokemondb.net/pokedex/all'"
   ]
  },
  {
   "cell_type": "code",
   "execution_count": 36,
   "id": "ee946ff5-e857-47b8-a585-0113c9082dcd",
   "metadata": {},
   "outputs": [
    {
     "name": "stdout",
     "output_type": "stream",
     "text": [
      "Starting Data Scraping for... https://pokemondb.net/pokedex/all\n"
     ]
    }
   ],
   "source": [
    "print(\"Starting Data Scraping for...\", url)"
   ]
  },
  {
   "cell_type": "code",
   "execution_count": 14,
   "id": "7bd631c9-3301-4284-b4d1-6b19d9b78c81",
   "metadata": {},
   "outputs": [],
   "source": [
    "# Request to fetch the webpage\n",
    "response = requests.get(url)\n",
    "# Raise error for 500 response\n",
    "response.raise_for_status()\n",
    "\n",
    "# Parse the content with BeautifulSoup\n",
    "pokemon_all = BeautifulSoup(response.content, 'html.parser')"
   ]
  },
  {
   "cell_type": "markdown",
   "id": "7588b593-76e9-476a-a348-0120f4fa4bbd",
   "metadata": {},
   "source": [
    "## Data Extraction"
   ]
  },
  {
   "cell_type": "code",
   "execution_count": 15,
   "id": "e036e27d-6360-4989-8a68-315a63118cce",
   "metadata": {},
   "outputs": [],
   "source": [
    "# Find all Pokemon links\n",
    "pokemon_links = []\n",
    "for i in pokemon_all.select('table#pokedex tbody tr a[href^=\"/pokedex/\"]'):\n",
    "    pokemon_links.append(i['href'])"
   ]
  },
  {
   "cell_type": "markdown",
   "id": "9192f198-f7c4-4902-b989-f2e4511dec9e",
   "metadata": {},
   "source": [
    "## Verify Links Were Extracted Properly"
   ]
  },
  {
   "cell_type": "code",
   "execution_count": 16,
   "id": "840a03d3-f8cf-4e2a-a66a-22a33c6b5b93",
   "metadata": {},
   "outputs": [
    {
     "name": "stdout",
     "output_type": "stream",
     "text": [
      "\n",
      "Printing first 10 pokemon_links...\n",
      "1 : /pokedex/bulbasaur\n",
      "2 : /pokedex/ivysaur\n",
      "3 : /pokedex/venusaur\n",
      "4 : /pokedex/venusaur\n",
      "5 : /pokedex/charmander\n",
      "6 : /pokedex/charmeleon\n",
      "7 : /pokedex/charizard\n",
      "8 : /pokedex/charizard\n",
      "9 : /pokedex/charizard\n",
      "10 : /pokedex/squirtle\n"
     ]
    }
   ],
   "source": [
    "print(\"\\nPrinting first 10 pokemon_links...\")\n",
    "index = 0\n",
    "for link in pokemon_links[:10]:\n",
    "    index += 1\n",
    "    print(index, \":\", link)"
   ]
  },
  {
   "cell_type": "markdown",
   "id": "0050c25e-dffe-4481-9fe6-2ff9d46bab24",
   "metadata": {},
   "source": [
    "## Individual Pokemon Scraping"
   ]
  },
  {
   "cell_type": "code",
   "execution_count": 20,
   "id": "fcce93f2-1ac3-4dfe-9096-e4bf13679487",
   "metadata": {},
   "outputs": [
    {
     "name": "stdout",
     "output_type": "stream",
     "text": [
      "\n"
     ]
    }
   ],
   "source": [
    "pokemon_data = {}\n",
    "# Setting the limit to scrape max 50 Pokemons\n",
    "max_pokemons = 50\n",
    "print()"
   ]
  },
  {
   "cell_type": "code",
   "execution_count": 21,
   "id": "c71966e1-1cc4-41e7-8075-d1eb79503d47",
   "metadata": {},
   "outputs": [
    {
     "name": "stdout",
     "output_type": "stream",
     "text": [
      "Scraped data for: Bulbasaur\n",
      "Scraped data for: Ivysaur\n",
      "Scraped data for: Venusaur\n",
      "Scraped data for: Venusaur\n",
      "Scraped data for: Charmander\n",
      "Scraped data for: Charmeleon\n",
      "Scraped data for: Charizard\n",
      "Scraped data for: Charizard\n",
      "Scraped data for: Charizard\n",
      "Scraped data for: Squirtle\n",
      "Scraped data for: Wartortle\n",
      "Scraped data for: Blastoise\n",
      "Scraped data for: Blastoise\n",
      "Scraped data for: Caterpie\n",
      "Scraped data for: Metapod\n",
      "Scraped data for: Butterfree\n",
      "Scraped data for: Weedle\n",
      "Scraped data for: Kakuna\n",
      "Scraped data for: Beedrill\n",
      "Scraped data for: Beedrill\n",
      "Scraped data for: Pidgey\n",
      "Scraped data for: Pidgeotto\n",
      "Scraped data for: Pidgeot\n",
      "Scraped data for: Pidgeot\n",
      "Scraped data for: Rattata\n",
      "Scraped data for: Rattata\n",
      "Scraped data for: Raticate\n",
      "Scraped data for: Raticate\n",
      "Scraped data for: Spearow\n",
      "Scraped data for: Fearow\n",
      "Scraped data for: Ekans\n",
      "Scraped data for: Arbok\n",
      "Scraped data for: Pikachu\n",
      "Scraped data for: Pikachu\n",
      "Scraped data for: Raichu\n",
      "Scraped data for: Raichu\n",
      "Scraped data for: Sandshrew\n",
      "Scraped data for: Sandshrew\n",
      "Scraped data for: Sandslash\n",
      "Scraped data for: Sandslash\n",
      "Scraped data for: Nidoran♀ (female)\n",
      "Scraped data for: Nidorina\n",
      "Scraped data for: Nidoqueen\n",
      "Scraped data for: Nidoran♂ (male)\n",
      "Scraped data for: Nidorino\n",
      "Scraped data for: Nidoking\n",
      "Scraped data for: Clefairy\n",
      "Scraped data for: Clefable\n",
      "Scraped data for: Vulpix\n",
      "Scraped data for: Vulpix\n"
     ]
    }
   ],
   "source": [
    "for link in pokemon_links[:max_pokemons]:\n",
    "    # Wait for 5 seconds between requests\n",
    "    time.sleep(5)\n",
    "    pokemon_link = 'https://pokemondb.net' + link\n",
    "    response = requests.get(pokemon_link)\n",
    "    response.raise_for_status()\n",
    "    pokemon_soup = BeautifulSoup(response.content, 'html.parser')\n",
    "\n",
    "    # Extract the Data\n",
    "    # Pokedex Data\n",
    "    name = pokemon_soup.find('h1').text\n",
    "    national_no = get_text('table.vitals-table tr:-soup-contains(\"National №\") td')\n",
    "    \n",
    "    # Scraping types\n",
    "    type_elements = pokemon_soup.select('table.vitals-table tr:-soup-contains(\"Type\") td a')\n",
    "    types = [type_element.get_text(strip=True).lower() for type_element in type_elements]\n",
    "    species = get_text('table.vitals-table tr:-soup-contains(\"Species\") td')\n",
    "    height = get_text('table.vitals-table tr:-soup-contains(\"Height\") td').replace('\\xa0', ' ').strip()\n",
    "    weight = get_text('table.vitals-table tr:-soup-contains(\"Weight\") td').replace('\\xa0', ' ').strip()\n",
    "\n",
    "    # Modify the extraction for abilities\n",
    "    abilities = get_text('table.vitals-table tr:-soup-contains(\"Abilities\") td')\n",
    "    # Remove numbers and hidden text\n",
    "    abilities_cleaned = re.sub(r'\\d+\\.\\s*|\\s*\\(hidden ability\\)', '', abilities)\n",
    "    # Add comma before capital letter\n",
    "    abilities_cleaned = re.sub(r'(?<=\\w)(?=[A-Z])', ', ', abilities_cleaned).strip()\n",
    "    \n",
    "    # Training\n",
    "    ev_yield = get_text('table.vitals-table tr:-soup-contains(\"EV yield\") td')\n",
    "    catch_rate = get_text('table.vitals-table tr:-soup-contains(\"Catch rate\") td')\n",
    "    base_friendship = get_text('table.vitals-table tr:-soup-contains(\"Base\") td')\n",
    "    base_exp = get_text('table.vitals-table tr:-soup-contains(\"Base Exp.\") td')\n",
    "    growth_rate = get_text('table.vitals-table tr:-soup-contains(\"Growth Rate\") td')\n",
    "    \n",
    "    # Breeding\n",
    "    egg_groups = get_text('table.vitals-table tr:-soup-contains(\"Egg Groups\") td')\n",
    "    gender = get_text('table.vitals-table tr:-soup-contains(\"Gender\") td')\n",
    "    egg_cycles = get_text('table.vitals-table tr:-soup-contains(\"Egg cycles\") td').strip()\n",
    "    \n",
    "    # Base Stats\n",
    "    hp = get_text('table.vitals-table tr:-soup-contains(\"HP\") td.cell-num:nth-of-type(1)')\n",
    "    attack = get_text('table.vitals-table tr:-soup-contains(\"Attack\") td.cell-num:nth-of-type(1)')\n",
    "    defense = get_text('table.vitals-table tr:-soup-contains(\"Defense\") td.cell-num:nth-of-type(1)')\n",
    "    sp_atk = get_text('table.vitals-table tr:-soup-contains(\"Sp. Atk\") td.cell-num:nth-of-type(1)')\n",
    "    sp_def = get_text('table.vitals-table tr:-soup-contains(\"Sp. Def\") td.cell-num:nth-of-type(1)')\n",
    "    speed = get_text('table.vitals-table tr:-soup-contains(\"Speed\") td.cell-num:nth-of-type(1)')\n",
    "    total = get_text('table.vitals-table tfoot tr th:-soup-contains(\"Total\") + td.cell-num.cell-total')\n",
    "    \n",
    "    # Evo Chart\n",
    "    evo_elements = pokemon_soup.select('div.infocard-list-evo div.infocard a.ent-name')\n",
    "    evo_path = [evo_element.get_text(strip=True) for evo_element in evo_elements]\n",
    "\n",
    "    ######## NOTE ########\n",
    "    ### Im removing \"moves\" from scraped data purposely, as this field is quite excessive. It makes the rest of my assignment messy. ###\n",
    "    ### To see that scraping for \"moves\" works, please uncomment the lines \"move_elements\" and \"moves\" \n",
    "    ### \"moves\" also needs to be uncommented in pokemon_data\n",
    "    ######## NOTE ########\n",
    "    # Moves\n",
    "    # move_elements = pokemon_soup.select('table.data-table tbody tr td.cell-name a.ent-name')\n",
    "    # moves = [move_element.get_text(strip=True) for move_element in move_elements]\n",
    "    \n",
    "    # Pokemon Image\n",
    "    img_tag = pokemon_soup.select_one('div.grid-col.span-md-6.span-lg-4.text-center img')\n",
    "    if img_tag:\n",
    "        pokemon_img_url = img_tag['src']\n",
    "    else:\n",
    "        pokemon_img_url = None\n",
    "\n",
    "    pokemon_data[name.lower()] = {\n",
    "        \"name\": name.lower(),\n",
    "        \"national_no\": national_no,\n",
    "        \"types\": types,\n",
    "        \"species\": species,\n",
    "        \"height\": height,\n",
    "        \"weight\": weight,\n",
    "        \"abilities\": abilities_cleaned,\n",
    "        \"ev_yield\": ev_yield,\n",
    "        \"catch_rate\": catch_rate,\n",
    "        \"base_friendship\": base_friendship,\n",
    "        \"base_exp\": base_exp,\n",
    "        \"growth_rate\": growth_rate,\n",
    "        \"egg_groups\": egg_groups,\n",
    "        \"gender\": gender,\n",
    "        \"egg_cycles\": egg_cycles.replace(\"\\t\", \"\"),\n",
    "        \"hp\": hp,\n",
    "        \"attack\": attack,\n",
    "        \"defense\": defense,\n",
    "        \"sp_atk\": sp_atk,\n",
    "        \"sp_def\": sp_def,\n",
    "        \"speed\": speed,\n",
    "        \"total\": total,\n",
    "        \"evo_path\": evo_path,\n",
    "        #\"moves\": moves,\n",
    "        \"pokemon_img_url\": pokemon_img_url\n",
    "    }\n",
    "    print(f\"Scraped data for: {name}\")\n",
    "\n",
    "print(\"\\nData scraping completed successfully.\")"
   ]
  },
  {
   "cell_type": "markdown",
   "id": "8a46460f-cc54-4593-8e4e-819351040c30",
   "metadata": {},
   "source": [
    "## Print First 10 Pokémon Data to Verify"
   ]
  },
  {
   "cell_type": "code",
   "execution_count": 26,
   "id": "152a66b8-dd54-4502-9104-6fd2ca2362f5",
   "metadata": {},
   "outputs": [
    {
     "name": "stdout",
     "output_type": "stream",
     "text": [
      "\n",
      "Verifying first 10 Pokemons in JSON file...\n",
      "\n",
      "bulbasaur : {'name': 'bulbasaur', 'national_no': '0001', 'types': ['grass', 'poison'], 'species': 'Seed Pokémon', 'height': '0.7 m (2′04″)', 'weight': '6.9 kg (15.2 lbs)', 'abilities': '1. OvergrowChlorophyll (hidden ability)', 'ev_yield': '1 Sp. Atk', 'catch_rate': '45 (5.9% with PokéBall, full HP)', 'base_friendship': '50 (normal)', 'base_exp': '64', 'growth_rate': 'Medium Slow', 'egg_groups': 'Grass, Monster', 'gender': '87.5% male, 12.5% female', 'egg_cycles': '20(4,884–5,140 steps)', 'hp': '45', 'attack': '49', 'defense': '49', 'sp_atk': '65', 'sp_def': '65', 'speed': '45', 'total': '318', 'evo_path': ['Bulbasaur', 'Ivysaur', 'Venusaur'], 'moves': ['Growl', 'Tackle', 'Vine Whip', 'Growth', 'Leech Seed', 'Razor Leaf', 'Poison Powder', 'Sleep Powder', 'Seed Bomb', 'Take Down', 'Sweet Scent', 'Synthesis', 'Worry Seed', 'Power Whip', 'Solar Beam', 'Curse', 'Ingrain', 'Petal Dance', 'Toxic', 'Take Down', 'Charm', 'Protect', 'Acid Spray', 'Trailblaze', 'Facade', 'Magical Leaf', 'Venoshock', 'Endure', 'Sunny Day', 'Bullet Seed', 'False Swipe', 'Body Slam', 'Sleep Talk', 'Seed Bomb', 'Grass Knot', 'Rest', 'Swords Dance', 'Substitute', 'Giga Drain', 'Energy Ball', 'Helping Hand', 'Grassy Terrain', 'Grass Pledge', 'Sludge Bomb', 'Leaf Storm', 'Solar Beam', 'Tera Blast', 'Toxic', 'Knock Off', 'Weather Ball', 'Grassy Glide', 'Double-Edge', 'Curse', 'Growl', 'Tackle', 'Vine Whip', 'Growth', 'Leech Seed', 'Razor Leaf', 'Poison Powder', 'Sleep Powder', 'Seed Bomb', 'Take Down', 'Sweet Scent', 'Synthesis', 'Worry Seed', 'Double-Edge', 'Solar Beam', 'Amnesia', 'Charm', 'Curse', 'Grassy Terrain', 'Ingrain', 'Leaf Storm', 'Magical Leaf', 'Nature Power', 'Petal Dance', 'Power Whip', 'Skull Bash', 'Sludge', 'Toxic', 'Bullet Seed', 'Work Up', 'Sunny Day', 'Light Screen', 'Protect', 'Giga Drain', 'Safeguard', 'Solar Beam', 'Double Team', 'Sludge Bomb', 'Facade', 'Rest', 'Attract', 'Energy Ball', 'False Swipe', 'Endure', 'Flash', 'Swords Dance', 'Sleep Talk', 'Grass Knot', 'Swagger', 'Substitute', 'Cut', 'Strength', 'Rock Smash'], 'pokemon_img_url': 'https://img.pokemondb.net/artwork/bulbasaur.jpg'} \n",
      "\n",
      "ivysaur : {'name': 'ivysaur', 'national_no': '0002', 'types': ['grass', 'poison'], 'species': 'Seed Pokémon', 'height': '1.0 m (3′03″)', 'weight': '13.0 kg (28.7 lbs)', 'abilities': '1. OvergrowChlorophyll (hidden ability)', 'ev_yield': '1 Sp. Atk, 1 Sp. Def', 'catch_rate': '45 (5.9% with PokéBall, full HP)', 'base_friendship': '50 (normal)', 'base_exp': '142', 'growth_rate': 'Medium Slow', 'egg_groups': 'Grass, Monster', 'gender': '87.5% male, 12.5% female', 'egg_cycles': '20(4,884–5,140 steps)', 'hp': '60', 'attack': '62', 'defense': '63', 'sp_atk': '80', 'sp_def': '80', 'speed': '60', 'total': '405', 'evo_path': ['Bulbasaur', 'Ivysaur', 'Venusaur'], 'moves': ['Growl', 'Growth', 'Tackle', 'Vine Whip', 'Leech Seed', 'Razor Leaf', 'Poison Powder', 'Sleep Powder', 'Seed Bomb', 'Take Down', 'Sweet Scent', 'Synthesis', 'Worry Seed', 'Power Whip', 'Solar Beam', 'Take Down', 'Charm', 'Protect', 'Acid Spray', 'Trailblaze', 'Facade', 'Magical Leaf', 'Venoshock', 'Endure', 'Sunny Day', 'Bullet Seed', 'False Swipe', 'Body Slam', 'Sleep Talk', 'Seed Bomb', 'Grass Knot', 'Rest', 'Swords Dance', 'Substitute', 'Giga Drain', 'Energy Ball', 'Helping Hand', 'Grassy Terrain', 'Grass Pledge', 'Sludge Bomb', 'Leaf Storm', 'Solar Beam', 'Tera Blast', 'Roar', 'Toxic', 'Knock Off', 'Weather Ball', 'Grassy Glide', 'Double-Edge', 'Curse', 'Growl', 'Growth', 'Tackle', 'Vine Whip', 'Leech Seed', 'Razor Leaf', 'Poison Powder', 'Sleep Powder', 'Seed Bomb', 'Take Down', 'Sweet Scent', 'Synthesis', 'Worry Seed', 'Double-Edge', 'Solar Beam', 'Amnesia', 'Charm', 'Curse', 'Grassy Terrain', 'Ingrain', 'Leaf Storm', 'Magical Leaf', 'Nature Power', 'Petal Dance', 'Power Whip', 'Skull Bash', 'Sludge', 'Toxic', 'Bullet Seed', 'Work Up', 'Sunny Day', 'Light Screen', 'Protect', 'Giga Drain', 'Safeguard', 'Solar Beam', 'Double Team', 'Sludge Bomb', 'Facade', 'Rest', 'Attract', 'Energy Ball', 'False Swipe', 'Endure', 'Flash', 'Swords Dance', 'Sleep Talk', 'Grass Knot', 'Swagger', 'Substitute', 'Cut', 'Strength', 'Rock Smash'], 'pokemon_img_url': 'https://img.pokemondb.net/artwork/ivysaur.jpg'} \n",
      "\n",
      "venusaur : {'name': 'venusaur', 'national_no': '0003', 'types': ['grass', 'poison', 'grass', 'poison'], 'species': 'Seed Pokémon', 'height': '2.0 m (6′07″)', 'weight': '100.0 kg (220.5 lbs)', 'abilities': '1. OvergrowChlorophyll (hidden ability)', 'ev_yield': '2 Sp. Atk, 1 Sp. Def', 'catch_rate': '45 (5.9% with PokéBall, full HP)', 'base_friendship': '50 (normal)', 'base_exp': '236', 'growth_rate': 'Medium Slow', 'egg_groups': 'Grass, Monster', 'gender': '87.5% male, 12.5% female', 'egg_cycles': '20(4,884–5,140 steps)', 'hp': '80', 'attack': '82', 'defense': '83', 'sp_atk': '100', 'sp_def': '100', 'speed': '80', 'total': '525', 'evo_path': ['Bulbasaur', 'Ivysaur', 'Venusaur'], 'moves': ['Growl', 'Growth', 'Petal Dance', 'Tackle', 'Vine Whip', 'Leech Seed', 'Razor Leaf', 'Poison Powder', 'Sleep Powder', 'Seed Bomb', 'Take Down', 'Sweet Scent', 'Synthesis', 'Worry Seed', 'Power Whip', 'Solar Beam', 'Petal Blizzard', 'Take Down', 'Charm', 'Scary Face', 'Protect', 'Acid Spray', 'Trailblaze', 'Facade', 'Bulldoze', 'Magical Leaf', 'Venoshock', 'Endure', 'Sunny Day', 'Bullet Seed', 'False Swipe', 'Body Slam', 'Sleep Talk', 'Seed Bomb', 'Grass Knot', 'Poison Jab', 'Stomping Tantrum', 'Rest', 'Swords Dance', 'Substitute', 'Giga Drain', 'Energy Ball', 'Amnesia', 'Helping Hand', 'Earth Power', 'Grassy Terrain', 'Grass Pledge', 'Sludge Bomb', 'Earthquake', 'Giga Impact', 'Frenzy Plant', 'Leaf Storm', 'Hyper Beam', 'Solar Beam', 'Tera Blast', 'Roar', 'Toxic', 'Knock Off', 'Weather Ball', 'Grassy Glide', 'Double-Edge', 'Petal Blizzard', 'Curse', 'Growl', 'Growth', 'Petal Blizzard', 'Petal Dance', 'Tackle', 'Vine Whip', 'Leech Seed', 'Razor Leaf', 'Poison Powder', 'Sleep Powder', 'Seed Bomb', 'Take Down', 'Sweet Scent', 'Synthesis', 'Worry Seed', 'Double-Edge', 'Solar Beam', 'Petal Blizzard', 'Amnesia', 'Charm', 'Curse', 'Grassy Terrain', 'Ingrain', 'Leaf Storm', 'Magical Leaf', 'Nature Power', 'Petal Dance', 'Power Whip', 'Skull Bash', 'Sludge', 'Frenzy Plant', 'Roar', 'Toxic', 'Bullet Seed', 'Work Up', 'Sunny Day', 'Hyper Beam', 'Light Screen', 'Protect', 'Giga Drain', 'Safeguard', 'Solar Beam', 'Earthquake', 'Double Team', 'Sludge Bomb', 'Facade', 'Rest', 'Attract', 'Energy Ball', 'False Swipe', 'Endure', 'Giga Impact', 'Flash', 'Swords Dance', 'Sleep Talk', 'Bulldoze', 'Grass Knot', 'Swagger', 'Substitute', 'Cut', 'Strength', 'Rock Smash', 'Rock Climb'], 'pokemon_img_url': 'https://img.pokemondb.net/artwork/venusaur.jpg'} \n",
      "\n",
      "charmander : {'name': 'charmander', 'national_no': '0004', 'types': ['fire'], 'species': 'Lizard Pokémon', 'height': '0.6 m (2′00″)', 'weight': '8.5 kg (18.7 lbs)', 'abilities': '1. BlazeSolar Power (hidden ability)', 'ev_yield': '1 Speed', 'catch_rate': '45 (5.9% with PokéBall, full HP)', 'base_friendship': '50 (normal)', 'base_exp': '62', 'growth_rate': 'Medium Slow', 'egg_groups': 'Dragon, Monster', 'gender': '87.5% male, 12.5% female', 'egg_cycles': '20(4,884–5,140 steps)', 'hp': '39', 'attack': '52', 'defense': '43', 'sp_atk': '60', 'sp_def': '50', 'speed': '65', 'total': '309', 'evo_path': ['Charmander', 'Charmeleon', 'Charizard'], 'moves': ['Growl', 'Scratch', 'Ember', 'Smokescreen', 'Dragon Breath', 'Fire Fang', 'Slash', 'Flamethrower', 'Scary Face', 'Fire Spin', 'Inferno', 'Flare Blitz', 'Ancient Power', 'Belly Drum', 'Bite', 'Counter', 'Dragon Rush', 'Dragon Tail', 'Iron Tail', 'Metal Claw', 'Take Down', 'Scary Face', 'Protect', 'Fire Fang', 'Fire Spin', 'Facade', 'Metal Claw', 'Swift', 'Rock Tomb', 'Flame Charge', 'Fling', 'Dragon Tail', 'Endure', 'Sunny Day', 'Dig', 'False Swipe', 'Brick Break', 'Shadow Claw', 'Body Slam', 'Fire Punch', 'Thunder Punch', 'Sleep Talk', 'Dragon Claw', 'Rest', 'Rock Slide', 'Swords Dance', 'Dragon Dance', 'Substitute', 'Will-O-Wisp', 'Crunch', 'Dragon Pulse', 'Heat Wave', 'Flamethrower', 'Helping Hand', 'Fire Blast', 'Fire Pledge', 'Outrage', 'Overheat', 'Focus Blast', 'Flare Blitz', 'Tera Blast', 'Roar', 'Focus Punch', 'Weather Ball', 'Temper Flare', 'Breaking Swipe', 'Growl', 'Scratch', 'Ember', 'Smokescreen', 'Dragon Breath', 'Fire Fang', 'Slash', 'Flamethrower', 'Scary Face', 'Fire Spin', 'Inferno', 'Flare Blitz', 'Air Cutter', 'Ancient Power', 'Beat Up', 'Belly Drum', 'Bite', 'Counter', 'Crunch', 'Dragon Dance', 'Dragon Rush', 'Dragon Tail', 'Flare Blitz', 'Metal Claw', 'Outrage', 'Wing Attack', 'Focus Punch', 'Dragon Claw', 'Work Up', 'Sunny Day', 'Protect', 'Iron Tail', 'Dig', 'Brick Break', 'Double Team', 'Flamethrower', 'Fire Blast', 'Rock Tomb', 'Aerial Ace', 'Facade', 'Rest', 'Attract', 'Overheat', 'False Swipe', 'Fling', 'Endure', 'Dragon Pulse', 'Will-O-Wisp', 'Shadow Claw', 'Swords Dance', 'Rock Slide', 'Sleep Talk', 'Swagger', 'Substitute', 'Cut', 'Strength', 'Rock Smash'], 'pokemon_img_url': 'https://img.pokemondb.net/artwork/charmander.jpg'} \n",
      "\n",
      "charmeleon : {'name': 'charmeleon', 'national_no': '0005', 'types': ['fire'], 'species': 'Flame Pokémon', 'height': '1.1 m (3′07″)', 'weight': '19.0 kg (41.9 lbs)', 'abilities': '1. BlazeSolar Power (hidden ability)', 'ev_yield': '1 Sp. Atk, 1 Speed', 'catch_rate': '45 (5.9% with PokéBall, full HP)', 'base_friendship': '50 (normal)', 'base_exp': '142', 'growth_rate': 'Medium Slow', 'egg_groups': 'Dragon, Monster', 'gender': '87.5% male, 12.5% female', 'egg_cycles': '20(4,884–5,140 steps)', 'hp': '58', 'attack': '64', 'defense': '58', 'sp_atk': '80', 'sp_def': '65', 'speed': '80', 'total': '405', 'evo_path': ['Charmander', 'Charmeleon', 'Charizard'], 'moves': ['Ember', 'Growl', 'Scratch', 'Smokescreen', 'Dragon Breath', 'Fire Fang', 'Slash', 'Flamethrower', 'Scary Face', 'Inferno', 'Flare Blitz', 'Ancient Power', 'Belly Drum', 'Bite', 'Counter', 'Dragon Rush', 'Dragon Tail', 'Iron Tail', 'Metal Claw', 'Take Down', 'Scary Face', 'Protect', 'Fire Fang', 'Fire Spin', 'Facade', 'Swift', 'Rock Tomb', 'Flame Charge', 'Fling', 'Dragon Tail', 'Endure', 'Sunny Day', 'Dig', 'False Swipe', 'Brick Break', 'Shadow Claw', 'Body Slam', 'Fire Punch', 'Thunder Punch', 'Sleep Talk', 'Dragon Claw', 'Rest', 'Rock Slide', 'Swords Dance', 'Dragon Dance', 'Substitute', 'Will-O-Wisp', 'Crunch', 'Dragon Pulse', 'Heat Wave', 'Flamethrower', 'Helping Hand', 'Fire Blast', 'Fire Pledge', 'Outrage', 'Overheat', 'Focus Blast', 'Flare Blitz', 'Tera Blast', 'Roar', 'Focus Punch', 'Weather Ball', 'Temper Flare', 'Breaking Swipe', 'Ember', 'Growl', 'Scratch', 'Smokescreen', 'Dragon Breath', 'Fire Fang', 'Slash', 'Flamethrower', 'Scary Face', 'Fire Spin', 'Inferno', 'Flare Blitz', 'Air Cutter', 'Ancient Power', 'Beat Up', 'Belly Drum', 'Bite', 'Counter', 'Crunch', 'Dragon Dance', 'Dragon Rush', 'Dragon Tail', 'Flare Blitz', 'Metal Claw', 'Outrage', 'Wing Attack', 'Focus Punch', 'Dragon Claw', 'Work Up', 'Sunny Day', 'Protect', 'Iron Tail', 'Dig', 'Brick Break', 'Double Team', 'Flamethrower', 'Fire Blast', 'Rock Tomb', 'Aerial Ace', 'Facade', 'Rest', 'Attract', 'Overheat', 'False Swipe', 'Fling', 'Endure', 'Dragon Pulse', 'Will-O-Wisp', 'Shadow Claw', 'Swords Dance', 'Rock Slide', 'Sleep Talk', 'Swagger', 'Substitute', 'Cut', 'Strength', 'Rock Smash'], 'pokemon_img_url': 'https://img.pokemondb.net/artwork/charmeleon.jpg'} \n",
      "\n",
      "charizard : {'name': 'charizard', 'national_no': '0006', 'types': ['fire', 'flying', 'fire', 'dragon', 'fire', 'flying'], 'species': 'Flame Pokémon', 'height': '1.7 m (5′07″)', 'weight': '90.5 kg (199.5 lbs)', 'abilities': '1. BlazeSolar Power (hidden ability)', 'ev_yield': '3 Sp. Atk', 'catch_rate': '45 (5.9% with PokéBall, full HP)', 'base_friendship': '50 (normal)', 'base_exp': '267', 'growth_rate': 'Medium Slow', 'egg_groups': 'Dragon, Monster', 'gender': '87.5% male, 12.5% female', 'egg_cycles': '20(4,884–5,140 steps)', 'hp': '78', 'attack': '84', 'defense': '78', 'sp_atk': '109', 'sp_def': '85', 'speed': '100', 'total': '534', 'evo_path': ['Charmander', 'Charmeleon', 'Charizard'], 'moves': ['Dragon Claw', 'Ember', 'Growl', 'Heat Wave', 'Scratch', 'Smokescreen', 'Dragon Breath', 'Fire Fang', 'Slash', 'Flamethrower', 'Scary Face', 'Fire Spin', 'Inferno', 'Flare Blitz', 'Air Slash', 'Ancient Power', 'Belly Drum', 'Bite', 'Counter', 'Dragon Rush', 'Dragon Tail', 'Iron Tail', 'Metal Claw', 'Take Down', 'Scary Face', 'Protect', 'Fire Fang', 'Acrobatics', 'Fire Spin', 'Facade', 'Aerial Ace', 'Bulldoze', 'Swift', 'Rock Tomb', 'Flame Charge', 'Air Cutter', 'Fling', 'Dragon Tail', 'Endure', 'Sunny Day', 'Sandstorm', 'Dig', 'Brick Break', 'Shadow Claw', 'Air Slash', 'Body Slam', 'Fire Punch', 'Thunder Punch', 'Sleep Talk', 'Dragon Claw', 'Rest', 'Rock Slide', 'Swords Dance', 'Fly', 'Dragon Dance', 'Substitute', 'Will-O-Wisp', 'Crunch', 'Dragon Pulse', 'Heat Wave', 'Flamethrower', 'Helping Hand', 'Fire Blast', 'Fire Pledge', 'Earthquake', 'Giga Impact', 'Blast Burn', 'Outrage', 'Overheat', 'Focus Blast', 'Hurricane', 'Hyper Beam', 'Flare Blitz', 'Solar Beam', 'Tera Blast', 'Roar', 'Heat Crash', 'Focus Punch', 'Weather Ball', 'Double-Edge', 'Temper Flare', 'Scorching Sands', 'Breaking Swipe', 'Dragon Cheer', 'Air Slash', 'Dragon Claw', 'Ember', 'Growl', 'Heat Wave', 'Scratch', 'Smokescreen', 'Dragon Breath', 'Fire Fang', 'Slash', 'Flamethrower', 'Scary Face', 'Fire Spin', 'Inferno', 'Flare Blitz', 'Air Slash', 'Air Cutter', 'Ancient Power', 'Beat Up', 'Belly Drum', 'Bite', 'Counter', 'Crunch', 'Dragon Dance', 'Dragon Rush', 'Dragon Tail', 'Flare Blitz', 'Metal Claw', 'Outrage', 'Wing Attack', 'Blast Burn', 'Focus Punch', 'Dragon Claw', 'Roar', 'Work Up', 'Sunny Day', 'Hyper Beam', 'Protect', 'Solar Beam', 'Iron Tail', 'Earthquake', 'Dig', 'Brick Break', 'Double Team', 'Flamethrower', 'Fire Blast', 'Rock Tomb', 'Aerial Ace', 'Facade', 'Rest', 'Attract', 'Steel Wing', 'Overheat', 'Roost', 'Focus Blast', 'False Swipe', 'Fling', 'Endure', 'Dragon Pulse', 'Will-O-Wisp', 'Shadow Claw', 'Giga Impact', 'Swords Dance', 'Rock Slide', 'Sleep Talk', 'Bulldoze', 'Swagger', 'Substitute', 'Cut', 'Fly', 'Strength', 'Rock Smash'], 'pokemon_img_url': 'https://img.pokemondb.net/artwork/charizard.jpg'} \n",
      "\n",
      "squirtle : {'name': 'squirtle', 'national_no': '0007', 'types': ['water'], 'species': 'Tiny Turtle Pokémon', 'height': '0.5 m (1′08″)', 'weight': '9.0 kg (19.8 lbs)', 'abilities': '1. TorrentRain Dish (hidden ability)', 'ev_yield': '1 Defense', 'catch_rate': '45 (5.9% with PokéBall, full HP)', 'base_friendship': '50 (normal)', 'base_exp': '63', 'growth_rate': 'Medium Slow', 'egg_groups': 'Monster, Water 1', 'gender': '87.5% male, 12.5% female', 'egg_cycles': '20(4,884–5,140 steps)', 'hp': '44', 'attack': '48', 'defense': '65', 'sp_atk': '50', 'sp_def': '64', 'speed': '43', 'total': '314', 'evo_path': ['Squirtle', 'Wartortle', 'Blastoise'], 'moves': ['Tackle', 'Tail Whip', 'Water Gun', 'Withdraw', 'Rapid Spin', 'Bite', 'Water Pulse', 'Protect', 'Rain Dance', 'Aqua Tail', 'Shell Smash', 'Iron Defense', 'Hydro Pump', 'Wave Crash', 'Aqua Jet', 'Aqua Ring', 'Fake Out', 'Flail', 'Life Dew', 'Mirror Coat', 'Mist', 'Water Spout', 'Yawn', 'Take Down', 'Protect', 'Water Pulse', 'Chilling Water', 'Facade', 'Icy Wind', 'Mud Shot', 'Fling', 'Endure', 'Rain Dance', 'Dig', 'Brick Break', 'Zen Headbutt', 'Body Slam', 'Ice Punch', 'Sleep Talk', 'Rest', 'Substitute', 'Iron Defense', 'Liquidation', 'Surf', 'Ice Spinner', 'Helping Hand', 'Ice Beam', 'Hydro Pump', 'Blizzard', 'Water Pledge', 'Tera Blast', 'Haze', 'Gyro Ball', 'Focus Punch', 'Weather Ball', 'Flip Turn', 'Double-Edge', 'Whirlpool', 'Muddy Water', 'Tackle', 'Tail Whip', 'Water Gun', 'Withdraw', 'Rapid Spin', 'Bite', 'Water Pulse', 'Protect', 'Rain Dance', 'Aqua Tail', 'Shell Smash', 'Iron Defense', 'Hydro Pump', 'Skull Bash', 'Aqua Jet', 'Aqua Ring', 'Aura Sphere', 'Fake Out', 'Flail', 'Haze', 'Life Dew', 'Mirror Coat', 'Mist', 'Muddy Water', 'Water Spout', 'Yawn', 'Focus Punch', 'Water Pulse', 'Hail', 'Work Up', 'Ice Beam', 'Blizzard', 'Protect', 'Rain Dance', 'Iron Tail', 'Dig', 'Brick Break', 'Double Team', 'Rock Tomb', 'Facade', 'Rest', 'Attract', 'Scald', 'False Swipe', 'Brine', 'Fling', 'Endure', 'Dragon Pulse', 'Gyro Ball', 'Sleep Talk', 'Swagger', 'Substitute', 'Surf', 'Strength', 'Rock Smash', 'Waterfall'], 'pokemon_img_url': 'https://img.pokemondb.net/artwork/squirtle.jpg'} \n",
      "\n",
      "wartortle : {'name': 'wartortle', 'national_no': '0008', 'types': ['water'], 'species': 'Turtle Pokémon', 'height': '1.0 m (3′03″)', 'weight': '22.5 kg (49.6 lbs)', 'abilities': '1. TorrentRain Dish (hidden ability)', 'ev_yield': '1 Defense, 1 Sp. Def', 'catch_rate': '45 (5.9% with PokéBall, full HP)', 'base_friendship': '50 (normal)', 'base_exp': '142', 'growth_rate': 'Medium Slow', 'egg_groups': 'Monster, Water 1', 'gender': '87.5% male, 12.5% female', 'egg_cycles': '20(4,884–5,140 steps)', 'hp': '59', 'attack': '63', 'defense': '80', 'sp_atk': '65', 'sp_def': '80', 'speed': '58', 'total': '405', 'evo_path': ['Squirtle', 'Wartortle', 'Blastoise'], 'moves': ['Tackle', 'Tail Whip', 'Water Gun', 'Withdraw', 'Rapid Spin', 'Bite', 'Water Pulse', 'Protect', 'Rain Dance', 'Aqua Tail', 'Shell Smash', 'Iron Defense', 'Hydro Pump', 'Wave Crash', 'Take Down', 'Protect', 'Water Pulse', 'Chilling Water', 'Facade', 'Icy Wind', 'Mud Shot', 'Fling', 'Endure', 'Rain Dance', 'Dig', 'Brick Break', 'Zen Headbutt', 'Body Slam', 'Ice Punch', 'Sleep Talk', 'Rest', 'Substitute', 'Iron Defense', 'Liquidation', 'Surf', 'Ice Spinner', 'Helping Hand', 'Ice Beam', 'Hydro Pump', 'Blizzard', 'Water Pledge', 'Tera Blast', 'Haze', 'Gyro Ball', 'Focus Punch', 'Weather Ball', 'Flip Turn', 'Double-Edge', 'Whirlpool', 'Muddy Water', 'Tackle', 'Tail Whip', 'Water Gun', 'Withdraw', 'Rapid Spin', 'Bite', 'Water Pulse', 'Protect', 'Rain Dance', 'Aqua Tail', 'Shell Smash', 'Iron Defense', 'Hydro Pump', 'Skull Bash', 'Aqua Jet', 'Aqua Ring', 'Aura Sphere', 'Fake Out', 'Flail', 'Haze', 'Life Dew', 'Mirror Coat', 'Mist', 'Muddy Water', 'Water Spout', 'Yawn', 'Focus Punch', 'Water Pulse', 'Hail', 'Work Up', 'Ice Beam', 'Blizzard', 'Protect', 'Rain Dance', 'Iron Tail', 'Dig', 'Brick Break', 'Double Team', 'Rock Tomb', 'Facade', 'Rest', 'Attract', 'Scald', 'False Swipe', 'Brine', 'Fling', 'Endure', 'Dragon Pulse', 'Gyro Ball', 'Sleep Talk', 'Swagger', 'Substitute', 'Surf', 'Strength', 'Rock Smash', 'Waterfall'], 'pokemon_img_url': 'https://img.pokemondb.net/artwork/wartortle.jpg'} \n",
      "\n",
      "blastoise : {'name': 'blastoise', 'national_no': '0009', 'types': ['water', 'water'], 'species': 'Shellfish Pokémon', 'height': '1.6 m (5′03″)', 'weight': '85.5 kg (188.5 lbs)', 'abilities': '1. TorrentRain Dish (hidden ability)', 'ev_yield': '3 Sp. Def', 'catch_rate': '45 (5.9% with PokéBall, full HP)', 'base_friendship': '50 (normal)', 'base_exp': '239', 'growth_rate': 'Medium Slow', 'egg_groups': 'Monster, Water 1', 'gender': '87.5% male, 12.5% female', 'egg_cycles': '20(4,884–5,140 steps)', 'hp': '79', 'attack': '83', 'defense': '100', 'sp_atk': '85', 'sp_def': '105', 'speed': '78', 'total': '530', 'evo_path': ['Squirtle', 'Wartortle', 'Blastoise'], 'moves': ['Tackle', 'Tail Whip', 'Water Gun', 'Withdraw', 'Rapid Spin', 'Bite', 'Water Pulse', 'Protect', 'Rain Dance', 'Aqua Tail', 'Shell Smash', 'Iron Defense', 'Hydro Pump', 'Wave Crash', 'Flash Cannon', 'Take Down', 'Scary Face', 'Protect', 'Water Pulse', 'Chilling Water', 'Facade', 'Icy Wind', 'Mud Shot', 'Rock Tomb', 'Fling', 'Avalanche', 'Endure', 'Rain Dance', 'Dig', 'Brick Break', 'Zen Headbutt', 'Body Slam', 'Ice Punch', 'Sleep Talk', 'Rest', 'Rock Slide', 'Body Press', 'Flash Cannon', 'Dark Pulse', 'Substitute', 'Iron Defense', 'Crunch', 'Liquidation', 'Aura Sphere', 'Dragon Pulse', 'Surf', 'Ice Spinner', 'Helping Hand', 'Ice Beam', 'Hydro Pump', 'Blizzard', 'Water Pledge', 'Earthquake', 'Giga Impact', 'Hydro Cannon', 'Focus Blast', 'Hyper Beam', 'Tera Blast', 'Roar', 'Haze', 'Smack Down', 'Gyro Ball', 'Focus Punch', 'Weather Ball', 'Flip Turn', 'Double-Edge', 'Whirlpool', 'Muddy Water', 'Flash Cannon', 'Tackle', 'Tail Whip', 'Water Gun', 'Withdraw', 'Rapid Spin', 'Bite', 'Water Pulse', 'Protect', 'Rain Dance', 'Aqua Tail', 'Shell Smash', 'Iron Defense', 'Hydro Pump', 'Skull Bash', 'Flash Cannon', 'Aqua Jet', 'Aqua Ring', 'Aura Sphere', 'Fake Out', 'Flail', 'Haze', 'Life Dew', 'Mirror Coat', 'Mist', 'Muddy Water', 'Water Spout', 'Yawn', 'Hydro Cannon', 'Focus Punch', 'Water Pulse', 'Roar', 'Hail', 'Work Up', 'Ice Beam', 'Blizzard', 'Hyper Beam', 'Protect', 'Rain Dance', 'Iron Tail', 'Earthquake', 'Dig', 'Brick Break', 'Double Team', 'Rock Tomb', 'Facade', 'Rest', 'Attract', 'Scald', 'Focus Blast', 'False Swipe', 'Brine', 'Fling', 'Endure', 'Dragon Pulse', 'Giga Impact', 'Avalanche', 'Gyro Ball', 'Dark Pulse', 'Rock Slide', 'Sleep Talk', 'Bulldoze', 'Swagger', 'Substitute', 'Flash Cannon', 'Surf', 'Strength', 'Rock Smash', 'Waterfall', 'Rock Climb'], 'pokemon_img_url': 'https://img.pokemondb.net/artwork/blastoise.jpg'} \n",
      "\n",
      "caterpie : {'name': 'caterpie', 'national_no': '0010', 'types': ['bug'], 'species': 'Worm Pokémon', 'height': '0.3 m (1′00″)', 'weight': '2.9 kg (6.4 lbs)', 'abilities': '1. Shield DustRun Away (hidden ability)', 'ev_yield': '1 HP', 'catch_rate': '255 (33.3% with PokéBall, full HP)', 'base_friendship': '50 (normal)', 'base_exp': '39', 'growth_rate': 'Medium Fast', 'egg_groups': 'Bug', 'gender': '50% male, 50% female', 'egg_cycles': '15(3,599–3,855 steps)', 'hp': '45', 'attack': '30', 'defense': '35', 'sp_atk': '20', 'sp_def': '20', 'speed': '45', 'total': '195', 'evo_path': ['Caterpie', 'Metapod', 'Butterfree'], 'moves': ['String Shot', 'Tackle', 'Bug Bite', 'String Shot', 'Tackle', 'Bug Bite', 'Electroweb'], 'pokemon_img_url': 'https://img.pokemondb.net/artwork/caterpie.jpg'} \n",
      "\n"
     ]
    }
   ],
   "source": [
    "print(\"\\nVerifying first 10 Pokemons in JSON file...\\n\")\n",
    "index = 0\n",
    "for pokemon in list(pokemon_data.keys())[:10]:\n",
    "    index += 1\n",
    "    print(pokemon_data[pokemon]['name'], \":\", pokemon_data[pokemon], \"\\n\")"
   ]
  },
  {
   "cell_type": "markdown",
   "id": "2d967e5d-a580-45ef-a40e-e76e29470fe1",
   "metadata": {},
   "source": [
    "# Save Data in JSON Format"
   ]
  },
  {
   "cell_type": "code",
   "execution_count": 32,
   "id": "5e32ff21-b389-4c64-97e6-96eafab95122",
   "metadata": {},
   "outputs": [
    {
     "name": "stdout",
     "output_type": "stream",
     "text": [
      "pokemon_data.json file was successfully saved\n"
     ]
    }
   ],
   "source": [
    "file_name = \"pokemon_data.json\"\n",
    "with open(file_name, 'w') as json_file:\n",
    "    json.dump(pokemon_data, json_file, indent=4)\n",
    "\n",
    "print('\\n', file_name, 'file was successfully saved')"
   ]
  },
  {
   "cell_type": "code",
   "execution_count": null,
   "id": "99d5a353-15f0-40b2-b967-4ffc94e11db8",
   "metadata": {},
   "outputs": [],
   "source": []
  },
  {
   "cell_type": "code",
   "execution_count": null,
   "id": "091bdf08-6ad7-46f0-8a2e-3d9a8e88df1c",
   "metadata": {},
   "outputs": [],
   "source": []
  },
  {
   "cell_type": "code",
   "execution_count": null,
   "id": "fb4e04b6-1f0d-4f43-b633-39272fd1838b",
   "metadata": {},
   "outputs": [],
   "source": []
  },
  {
   "cell_type": "code",
   "execution_count": null,
   "id": "b9b9db6f-f56f-4cb8-9545-f9de9ac1182d",
   "metadata": {},
   "outputs": [],
   "source": []
  }
 ],
 "metadata": {
  "kernelspec": {
   "display_name": "Python 3 (ipykernel)",
   "language": "python",
   "name": "python3"
  },
  "language_info": {
   "codemirror_mode": {
    "name": "ipython",
    "version": 3
   },
   "file_extension": ".py",
   "mimetype": "text/x-python",
   "name": "python",
   "nbconvert_exporter": "python",
   "pygments_lexer": "ipython3",
   "version": "3.8.19"
  }
 },
 "nbformat": 4,
 "nbformat_minor": 5
}
