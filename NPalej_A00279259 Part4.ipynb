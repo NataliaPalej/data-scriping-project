{
 "cells": [
  {
   "cell_type": "markdown",
   "id": "8e8c1397-2a3c-4692-9d68-35e016ad303e",
   "metadata": {},
   "source": [
    "# Natalia Palej A00279259\n",
    "Software Design with Artificial Intelligence for Cloud Computing, Year 4"
   ]
  },
  {
   "cell_type": "markdown",
   "id": "19f3f3e4-416c-408b-a0bd-e9c9460c564e",
   "metadata": {},
   "source": [
    "# Part 4: Comparative Analysis of Pokémon Distribution by Primary Type and Generation"
   ]
  },
  {
   "cell_type": "markdown",
   "id": "24f2706d-1e54-4101-8642-9a47873b680d",
   "metadata": {},
   "source": [
    "## Make Necessary Imports"
   ]
  },
  {
   "cell_type": "code",
   "execution_count": 187,
   "id": "f1c5efc3-663c-4b7a-8c60-a9ca64b3a38a",
   "metadata": {},
   "outputs": [],
   "source": [
    "import pandas as pd \n",
    "import numpy as np\n",
    "import plotly.graph_objects as go"
   ]
  },
  {
   "cell_type": "markdown",
   "id": "b4ca19a6-5e10-4dc3-b937-f2f3aeb1b184",
   "metadata": {},
   "source": [
    "## Load the Dataset and Perform Basic Checks"
   ]
  },
  {
   "cell_type": "code",
   "execution_count": 188,
   "id": "8e5b63a7-62c1-4719-9071-ca27303f111f",
   "metadata": {},
   "outputs": [],
   "source": [
    "df = pd.read_pickle('data/cleaned_pokemon_data.pkl')"
   ]
  },
  {
   "cell_type": "code",
   "execution_count": 189,
   "id": "f6ce0c67-4052-4667-bb32-ff7be056888a",
   "metadata": {},
   "outputs": [
    {
     "data": {
      "text/html": [
       "<div>\n",
       "<style scoped>\n",
       "    .dataframe tbody tr th:only-of-type {\n",
       "        vertical-align: middle;\n",
       "    }\n",
       "\n",
       "    .dataframe tbody tr th {\n",
       "        vertical-align: top;\n",
       "    }\n",
       "\n",
       "    .dataframe thead th {\n",
       "        text-align: right;\n",
       "    }\n",
       "</style>\n",
       "<table border=\"1\" class=\"dataframe\">\n",
       "  <thead>\n",
       "    <tr style=\"text-align: right;\">\n",
       "      <th></th>\n",
       "      <th>name</th>\n",
       "      <th>national_no</th>\n",
       "      <th>species</th>\n",
       "      <th>ev_yield</th>\n",
       "      <th>catch_rate</th>\n",
       "      <th>base_friendship</th>\n",
       "      <th>base_exp</th>\n",
       "      <th>growth_rate</th>\n",
       "      <th>egg_groups</th>\n",
       "      <th>egg_cycles</th>\n",
       "      <th>...</th>\n",
       "      <th>pokemon_img_url</th>\n",
       "      <th>height_m</th>\n",
       "      <th>weight_kg</th>\n",
       "      <th>primary_type</th>\n",
       "      <th>secondary_type</th>\n",
       "      <th>male_percentage</th>\n",
       "      <th>female_percentage</th>\n",
       "      <th>gen</th>\n",
       "      <th>primary_ability</th>\n",
       "      <th>secondary_ability</th>\n",
       "    </tr>\n",
       "  </thead>\n",
       "  <tbody>\n",
       "    <tr>\n",
       "      <th>0</th>\n",
       "      <td>bulbasaur</td>\n",
       "      <td>1</td>\n",
       "      <td>Seed Pokémon</td>\n",
       "      <td>1 Sp. Atk</td>\n",
       "      <td>45.0</td>\n",
       "      <td>50.0</td>\n",
       "      <td>64</td>\n",
       "      <td>Medium Slow</td>\n",
       "      <td>Grass, Monster</td>\n",
       "      <td>20</td>\n",
       "      <td>...</td>\n",
       "      <td>https://img.pokemondb.net/artwork/bulbasaur.jpg</td>\n",
       "      <td>0.7</td>\n",
       "      <td>6.9</td>\n",
       "      <td>grass</td>\n",
       "      <td>poison</td>\n",
       "      <td>87.5</td>\n",
       "      <td>12.5</td>\n",
       "      <td>1</td>\n",
       "      <td>Overgrow</td>\n",
       "      <td>Chlorophyll</td>\n",
       "    </tr>\n",
       "    <tr>\n",
       "      <th>1</th>\n",
       "      <td>ivysaur</td>\n",
       "      <td>2</td>\n",
       "      <td>Seed Pokémon</td>\n",
       "      <td>1 Sp. Atk, 1 Sp. Def</td>\n",
       "      <td>45.0</td>\n",
       "      <td>50.0</td>\n",
       "      <td>142</td>\n",
       "      <td>Medium Slow</td>\n",
       "      <td>Grass, Monster</td>\n",
       "      <td>20</td>\n",
       "      <td>...</td>\n",
       "      <td>https://img.pokemondb.net/artwork/ivysaur.jpg</td>\n",
       "      <td>1.0</td>\n",
       "      <td>13.0</td>\n",
       "      <td>grass</td>\n",
       "      <td>poison</td>\n",
       "      <td>87.5</td>\n",
       "      <td>12.5</td>\n",
       "      <td>1</td>\n",
       "      <td>Overgrow</td>\n",
       "      <td>Chlorophyll</td>\n",
       "    </tr>\n",
       "    <tr>\n",
       "      <th>2</th>\n",
       "      <td>venusaur</td>\n",
       "      <td>3</td>\n",
       "      <td>Seed Pokémon</td>\n",
       "      <td>2 Sp. Atk, 1 Sp. Def</td>\n",
       "      <td>45.0</td>\n",
       "      <td>50.0</td>\n",
       "      <td>236</td>\n",
       "      <td>Medium Slow</td>\n",
       "      <td>Grass, Monster</td>\n",
       "      <td>20</td>\n",
       "      <td>...</td>\n",
       "      <td>https://img.pokemondb.net/artwork/venusaur.jpg</td>\n",
       "      <td>2.0</td>\n",
       "      <td>100.0</td>\n",
       "      <td>grass</td>\n",
       "      <td>poison</td>\n",
       "      <td>87.5</td>\n",
       "      <td>12.5</td>\n",
       "      <td>1</td>\n",
       "      <td>Overgrow</td>\n",
       "      <td>Chlorophyll</td>\n",
       "    </tr>\n",
       "    <tr>\n",
       "      <th>3</th>\n",
       "      <td>charmander</td>\n",
       "      <td>4</td>\n",
       "      <td>Lizard Pokémon</td>\n",
       "      <td>1 Speed</td>\n",
       "      <td>45.0</td>\n",
       "      <td>50.0</td>\n",
       "      <td>62</td>\n",
       "      <td>Medium Slow</td>\n",
       "      <td>Dragon, Monster</td>\n",
       "      <td>20</td>\n",
       "      <td>...</td>\n",
       "      <td>https://img.pokemondb.net/artwork/charmander.jpg</td>\n",
       "      <td>0.6</td>\n",
       "      <td>8.5</td>\n",
       "      <td>fire</td>\n",
       "      <td>Pure</td>\n",
       "      <td>87.5</td>\n",
       "      <td>12.5</td>\n",
       "      <td>1</td>\n",
       "      <td>Blaze</td>\n",
       "      <td>Solar Power</td>\n",
       "    </tr>\n",
       "    <tr>\n",
       "      <th>4</th>\n",
       "      <td>charmeleon</td>\n",
       "      <td>5</td>\n",
       "      <td>Flame Pokémon</td>\n",
       "      <td>1 Sp. Atk, 1 Speed</td>\n",
       "      <td>45.0</td>\n",
       "      <td>50.0</td>\n",
       "      <td>142</td>\n",
       "      <td>Medium Slow</td>\n",
       "      <td>Dragon, Monster</td>\n",
       "      <td>20</td>\n",
       "      <td>...</td>\n",
       "      <td>https://img.pokemondb.net/artwork/charmeleon.jpg</td>\n",
       "      <td>1.1</td>\n",
       "      <td>19.0</td>\n",
       "      <td>fire</td>\n",
       "      <td>Pure</td>\n",
       "      <td>87.5</td>\n",
       "      <td>12.5</td>\n",
       "      <td>1</td>\n",
       "      <td>Blaze</td>\n",
       "      <td>Solar Power</td>\n",
       "    </tr>\n",
       "  </tbody>\n",
       "</table>\n",
       "<p>5 rows × 40 columns</p>\n",
       "</div>"
      ],
      "text/plain": [
       "         name  national_no         species              ev_yield  catch_rate  \\\n",
       "0   bulbasaur            1    Seed Pokémon             1 Sp. Atk        45.0   \n",
       "1     ivysaur            2    Seed Pokémon  1 Sp. Atk, 1 Sp. Def        45.0   \n",
       "2    venusaur            3    Seed Pokémon  2 Sp. Atk, 1 Sp. Def        45.0   \n",
       "3  charmander            4  Lizard Pokémon               1 Speed        45.0   \n",
       "4  charmeleon            5   Flame Pokémon    1 Sp. Atk, 1 Speed        45.0   \n",
       "\n",
       "   base_friendship  base_exp  growth_rate       egg_groups  egg_cycles  ...  \\\n",
       "0             50.0        64  Medium Slow   Grass, Monster          20  ...   \n",
       "1             50.0       142  Medium Slow   Grass, Monster          20  ...   \n",
       "2             50.0       236  Medium Slow   Grass, Monster          20  ...   \n",
       "3             50.0        62  Medium Slow  Dragon, Monster          20  ...   \n",
       "4             50.0       142  Medium Slow  Dragon, Monster          20  ...   \n",
       "\n",
       "                                    pokemon_img_url  height_m  weight_kg  \\\n",
       "0   https://img.pokemondb.net/artwork/bulbasaur.jpg       0.7        6.9   \n",
       "1     https://img.pokemondb.net/artwork/ivysaur.jpg       1.0       13.0   \n",
       "2    https://img.pokemondb.net/artwork/venusaur.jpg       2.0      100.0   \n",
       "3  https://img.pokemondb.net/artwork/charmander.jpg       0.6        8.5   \n",
       "4  https://img.pokemondb.net/artwork/charmeleon.jpg       1.1       19.0   \n",
       "\n",
       "   primary_type  secondary_type  male_percentage  female_percentage  gen  \\\n",
       "0         grass          poison             87.5               12.5    1   \n",
       "1         grass          poison             87.5               12.5    1   \n",
       "2         grass          poison             87.5               12.5    1   \n",
       "3          fire            Pure             87.5               12.5    1   \n",
       "4          fire            Pure             87.5               12.5    1   \n",
       "\n",
       "   primary_ability  secondary_ability  \n",
       "0         Overgrow        Chlorophyll  \n",
       "1         Overgrow        Chlorophyll  \n",
       "2         Overgrow        Chlorophyll  \n",
       "3            Blaze        Solar Power  \n",
       "4            Blaze        Solar Power  \n",
       "\n",
       "[5 rows x 40 columns]"
      ]
     },
     "execution_count": 189,
     "metadata": {},
     "output_type": "execute_result"
    }
   ],
   "source": [
    "df.head()"
   ]
  },
  {
   "cell_type": "code",
   "execution_count": 190,
   "id": "308df2b2-bd85-46e3-b52d-75e00d6c051a",
   "metadata": {},
   "outputs": [
    {
     "data": {
      "text/plain": [
       "Index(['name', 'national_no', 'species', 'ev_yield', 'catch_rate',\n",
       "       'base_friendship', 'base_exp', 'growth_rate', 'egg_groups',\n",
       "       'egg_cycles', 'hp', 'min_hp', 'max_hp', 'attack', 'min_attack',\n",
       "       'max_attack', 'defense', 'min_defense', 'max_defense', 'sp_atk',\n",
       "       'min_sp_atk', 'max_sp_atk', 'sp_def', 'min_sp_def', 'max_sp_def',\n",
       "       'speed', 'min_speed', 'max_speed', 'total', 'evo_path',\n",
       "       'pokemon_img_url', 'height_m', 'weight_kg', 'primary_type',\n",
       "       'secondary_type', 'male_percentage', 'female_percentage', 'gen',\n",
       "       'primary_ability', 'secondary_ability'],\n",
       "      dtype='object')"
      ]
     },
     "execution_count": 190,
     "metadata": {},
     "output_type": "execute_result"
    }
   ],
   "source": [
    "df.columns"
   ]
  },
  {
   "cell_type": "markdown",
   "id": "09d6e43f-d3e7-4f2c-bd95-c47817dd3847",
   "metadata": {},
   "source": [
    "## Data Organization"
   ]
  },
  {
   "cell_type": "markdown",
   "id": "2fbafd08-5814-4e83-bd0b-0ac9ec15c54c",
   "metadata": {},
   "source": [
    "Group the dataset by gen and count Pokemon by primary type, fill missing values with 0"
   ]
  },
  {
   "cell_type": "code",
   "execution_count": 191,
   "id": "19d0c358-1dbe-408e-9a67-f6d1d8600dd9",
   "metadata": {},
   "outputs": [
    {
     "name": "stdout",
     "output_type": "stream",
     "text": [
      "primary_type  bug  dark  dragon  electric  fairy  fighting  fire  ghost  \\\n",
      "gen                                                                       \n",
      "1              12     0       3         9      2         7    12      3   \n",
      "2              10     5       0         6      5         2     8      1   \n",
      "3              12     4       7         4      0         4     6      4   \n",
      "4               2     0       0         3      0         0     3      0   \n",
      "5               0     0       0         0      0         0     0      0   \n",
      "6               0     0       0         0      0         0     0      0   \n",
      "7               0     0       0         0      0         0     0      0   \n",
      "8               0     0       0         0      0         0     0      0   \n",
      "\n",
      "primary_type  grass  ground  ice  normal  poison  psychic  rock  steel  water  \n",
      "gen                                                                            \n",
      "1                12       8    2      22      14        8     9      0     28  \n",
      "2                 9       3    4      15       1        7     4      2     18  \n",
      "3                12       6    6      18       3        8     8      9     24  \n",
      "4                 3       0    0       5       0        0     0      0      3  \n",
      "5                 0       0    0       0       0        0     0      0      0  \n",
      "6                 0       0    0       0       0        0     0      0      0  \n",
      "7                 0       0    0       0       0        0     0      0      0  \n",
      "8                 0       0    0       0       0        0     0      0      0  \n"
     ]
    }
   ],
   "source": [
    "primary_type_count = df.groupby('gen')['primary_type'].value_counts().unstack(fill_value=0)\n",
    "# Print results to verify\n",
    "print(primary_type_count)"
   ]
  },
  {
   "cell_type": "markdown",
   "id": "c0eff3ba-e939-4ced-a6be-3eed54e15e4f",
   "metadata": {},
   "source": [
    "Define colour scheme for Pokemon types with dictionary of hexadecimal color values"
   ]
  },
  {
   "cell_type": "code",
   "execution_count": 192,
   "id": "a53ca609-2ef6-47aa-a6f4-5efee18dd6eb",
   "metadata": {},
   "outputs": [],
   "source": [
    "type_colors = {\n",
    "    'grass': '#78C850', 'fire': '#F08030', 'water': '#6890F0',\n",
    "    'bug': '#A8B820', 'normal': '#A8A878', 'poison': '#A040A0',\n",
    "    'electric': '#F8D030', 'ground': '#E0C068', 'fairy': '#EE99AC',\n",
    "    'fighting': '#C03028', 'flying': '#A890F0', 'psychic': '#F85888',\n",
    "    'rock': '#B8A038', 'ghost': '#705898', 'ice': '#98D8D8',\n",
    "    'dragon': '#7038F8', 'dark': '#705848', 'steel': '#B8B8D0',\n",
    "}"
   ]
  },
  {
   "cell_type": "markdown",
   "id": "4ba5cdaf-9909-4d7c-a4a3-45bad07bfa0a",
   "metadata": {},
   "source": [
    "## Grouped Bar Chart Creation"
   ]
  },
  {
   "cell_type": "markdown",
   "id": "ad2b6c1e-133c-4b5d-94b1-fccda428a745",
   "metadata": {},
   "source": [
    "Create Plotly figure for the grouped bar chart"
   ]
  },
  {
   "cell_type": "markdown",
   "id": "3cb23704-9c2f-4ca8-815c-9f9674f7ed00",
   "metadata": {},
   "source": [
    "### Create Plotly Figure"
   ]
  },
  {
   "cell_type": "markdown",
   "id": "00c88bbb-88fb-486a-9680-ebd8b2d4321f",
   "metadata": {},
   "source": [
    "Loop through each primary type to create bar for each in the chart"
   ]
  },
  {
   "cell_type": "code",
   "execution_count": 198,
   "id": "b14663ae-407e-49de-8ab8-f9fde31ef052",
   "metadata": {},
   "outputs": [],
   "source": [
    "bar_chart = go.Figure()\n",
    "for ptype in primary_type_count.columns:\n",
    "    bar_chart.add_trace(\n",
    "        go.Bar(\n",
    "            x=primary_type_count.index,  # Generations\n",
    "            y=primary_type_count[ptype],  # Pokemon Count\n",
    "            name=ptype, # Pokemon type\n",
    "            # Create custom hover info\n",
    "            hoverinfo='text',\n",
    "            hovertext=[f'Type: {ptype}<br>Total: {count}' for count in primary_type_count[ptype]],\n",
    "            # Set bar color from the type_colors dic\n",
    "            marker={'color': type_colors.get(ptype)}, \n",
    "    )"
   ]
  },
  {
   "cell_type": "markdown",
   "id": "a76180e6-0292-4775-89ac-e5dc2eb2d556",
   "metadata": {},
   "source": [
    "### Add Vertical Dash Lines"
   ]
  },
  {
   "cell_type": "markdown",
   "id": "e1921f7a-da29-4bf3-bee9-1765feb5addf",
   "metadata": {},
   "source": [
    "Add Vertical Dash Lines to separate gens in the bar chart"
   ]
  },
  {
   "cell_type": "code",
   "execution_count": 199,
   "id": "0e63305f-0a2d-4338-8be2-df1001b8201e",
   "metadata": {},
   "outputs": [],
   "source": [
    "for i in range(2, len(primary_type_count.index)+1):\n",
    "    bar_chart.add_shape(\n",
    "        type='line', # Specyfing shape type as line\n",
    "        x0=i-0.5, x1=i-0.5, # Setting x coordinates for line position\n",
    "        y0=0, y1=1, # Extend line from bottom to top\n",
    "        yref='paper', # Use paper coordinates for the vertical position\n",
    "        line=dict(color='gray', dash='dash') # Set the line color to gray and style it as dashed\n",
    "    ) "
   ]
  },
  {
   "cell_type": "markdown",
   "id": "688edd30-4d66-4aad-b9e9-8cc78bc941a1",
   "metadata": {},
   "source": [
    "### Configure Bar Chart"
   ]
  },
  {
   "cell_type": "code",
   "execution_count": 200,
   "id": "d0418053-8d98-45f5-b79f-9d63d5c75ecd",
   "metadata": {},
   "outputs": [
    {
     "data": {
      "application/vnd.plotly.v1+json": {
       "config": {
        "plotlyServerURL": "https://plot.ly"
       },
       "data": [
        {
         "hoverinfo": "text",
         "hovertext": [
          "Type: bug<br>Total: 12",
          "Type: bug<br>Total: 10",
          "Type: bug<br>Total: 12",
          "Type: bug<br>Total: 2",
          "Type: bug<br>Total: 0",
          "Type: bug<br>Total: 0",
          "Type: bug<br>Total: 0",
          "Type: bug<br>Total: 0"
         ],
         "marker": {
          "color": "#A8B820"
         },
         "name": "bug",
         "type": "bar",
         "x": [
          1,
          2,
          3,
          4,
          5,
          6,
          7,
          8
         ],
         "y": [
          12,
          10,
          12,
          2,
          0,
          0,
          0,
          0
         ]
        },
        {
         "hoverinfo": "text",
         "hovertext": [
          "Type: dark<br>Total: 0",
          "Type: dark<br>Total: 5",
          "Type: dark<br>Total: 4",
          "Type: dark<br>Total: 0",
          "Type: dark<br>Total: 0",
          "Type: dark<br>Total: 0",
          "Type: dark<br>Total: 0",
          "Type: dark<br>Total: 0"
         ],
         "marker": {
          "color": "#705848"
         },
         "name": "dark",
         "type": "bar",
         "x": [
          1,
          2,
          3,
          4,
          5,
          6,
          7,
          8
         ],
         "y": [
          0,
          5,
          4,
          0,
          0,
          0,
          0,
          0
         ]
        },
        {
         "hoverinfo": "text",
         "hovertext": [
          "Type: dragon<br>Total: 3",
          "Type: dragon<br>Total: 0",
          "Type: dragon<br>Total: 7",
          "Type: dragon<br>Total: 0",
          "Type: dragon<br>Total: 0",
          "Type: dragon<br>Total: 0",
          "Type: dragon<br>Total: 0",
          "Type: dragon<br>Total: 0"
         ],
         "marker": {
          "color": "#7038F8"
         },
         "name": "dragon",
         "type": "bar",
         "x": [
          1,
          2,
          3,
          4,
          5,
          6,
          7,
          8
         ],
         "y": [
          3,
          0,
          7,
          0,
          0,
          0,
          0,
          0
         ]
        },
        {
         "hoverinfo": "text",
         "hovertext": [
          "Type: electric<br>Total: 9",
          "Type: electric<br>Total: 6",
          "Type: electric<br>Total: 4",
          "Type: electric<br>Total: 3",
          "Type: electric<br>Total: 0",
          "Type: electric<br>Total: 0",
          "Type: electric<br>Total: 0",
          "Type: electric<br>Total: 0"
         ],
         "marker": {
          "color": "#F8D030"
         },
         "name": "electric",
         "type": "bar",
         "x": [
          1,
          2,
          3,
          4,
          5,
          6,
          7,
          8
         ],
         "y": [
          9,
          6,
          4,
          3,
          0,
          0,
          0,
          0
         ]
        },
        {
         "hoverinfo": "text",
         "hovertext": [
          "Type: fairy<br>Total: 2",
          "Type: fairy<br>Total: 5",
          "Type: fairy<br>Total: 0",
          "Type: fairy<br>Total: 0",
          "Type: fairy<br>Total: 0",
          "Type: fairy<br>Total: 0",
          "Type: fairy<br>Total: 0",
          "Type: fairy<br>Total: 0"
         ],
         "marker": {
          "color": "#EE99AC"
         },
         "name": "fairy",
         "type": "bar",
         "x": [
          1,
          2,
          3,
          4,
          5,
          6,
          7,
          8
         ],
         "y": [
          2,
          5,
          0,
          0,
          0,
          0,
          0,
          0
         ]
        },
        {
         "hoverinfo": "text",
         "hovertext": [
          "Type: fighting<br>Total: 7",
          "Type: fighting<br>Total: 2",
          "Type: fighting<br>Total: 4",
          "Type: fighting<br>Total: 0",
          "Type: fighting<br>Total: 0",
          "Type: fighting<br>Total: 0",
          "Type: fighting<br>Total: 0",
          "Type: fighting<br>Total: 0"
         ],
         "marker": {
          "color": "#C03028"
         },
         "name": "fighting",
         "type": "bar",
         "x": [
          1,
          2,
          3,
          4,
          5,
          6,
          7,
          8
         ],
         "y": [
          7,
          2,
          4,
          0,
          0,
          0,
          0,
          0
         ]
        },
        {
         "hoverinfo": "text",
         "hovertext": [
          "Type: fire<br>Total: 12",
          "Type: fire<br>Total: 8",
          "Type: fire<br>Total: 6",
          "Type: fire<br>Total: 3",
          "Type: fire<br>Total: 0",
          "Type: fire<br>Total: 0",
          "Type: fire<br>Total: 0",
          "Type: fire<br>Total: 0"
         ],
         "marker": {
          "color": "#F08030"
         },
         "name": "fire",
         "type": "bar",
         "x": [
          1,
          2,
          3,
          4,
          5,
          6,
          7,
          8
         ],
         "y": [
          12,
          8,
          6,
          3,
          0,
          0,
          0,
          0
         ]
        },
        {
         "hoverinfo": "text",
         "hovertext": [
          "Type: ghost<br>Total: 3",
          "Type: ghost<br>Total: 1",
          "Type: ghost<br>Total: 4",
          "Type: ghost<br>Total: 0",
          "Type: ghost<br>Total: 0",
          "Type: ghost<br>Total: 0",
          "Type: ghost<br>Total: 0",
          "Type: ghost<br>Total: 0"
         ],
         "marker": {
          "color": "#705898"
         },
         "name": "ghost",
         "type": "bar",
         "x": [
          1,
          2,
          3,
          4,
          5,
          6,
          7,
          8
         ],
         "y": [
          3,
          1,
          4,
          0,
          0,
          0,
          0,
          0
         ]
        },
        {
         "hoverinfo": "text",
         "hovertext": [
          "Type: grass<br>Total: 12",
          "Type: grass<br>Total: 9",
          "Type: grass<br>Total: 12",
          "Type: grass<br>Total: 3",
          "Type: grass<br>Total: 0",
          "Type: grass<br>Total: 0",
          "Type: grass<br>Total: 0",
          "Type: grass<br>Total: 0"
         ],
         "marker": {
          "color": "#78C850"
         },
         "name": "grass",
         "type": "bar",
         "x": [
          1,
          2,
          3,
          4,
          5,
          6,
          7,
          8
         ],
         "y": [
          12,
          9,
          12,
          3,
          0,
          0,
          0,
          0
         ]
        },
        {
         "hoverinfo": "text",
         "hovertext": [
          "Type: ground<br>Total: 8",
          "Type: ground<br>Total: 3",
          "Type: ground<br>Total: 6",
          "Type: ground<br>Total: 0",
          "Type: ground<br>Total: 0",
          "Type: ground<br>Total: 0",
          "Type: ground<br>Total: 0",
          "Type: ground<br>Total: 0"
         ],
         "marker": {
          "color": "#E0C068"
         },
         "name": "ground",
         "type": "bar",
         "x": [
          1,
          2,
          3,
          4,
          5,
          6,
          7,
          8
         ],
         "y": [
          8,
          3,
          6,
          0,
          0,
          0,
          0,
          0
         ]
        },
        {
         "hoverinfo": "text",
         "hovertext": [
          "Type: ice<br>Total: 2",
          "Type: ice<br>Total: 4",
          "Type: ice<br>Total: 6",
          "Type: ice<br>Total: 0",
          "Type: ice<br>Total: 0",
          "Type: ice<br>Total: 0",
          "Type: ice<br>Total: 0",
          "Type: ice<br>Total: 0"
         ],
         "marker": {
          "color": "#98D8D8"
         },
         "name": "ice",
         "type": "bar",
         "x": [
          1,
          2,
          3,
          4,
          5,
          6,
          7,
          8
         ],
         "y": [
          2,
          4,
          6,
          0,
          0,
          0,
          0,
          0
         ]
        },
        {
         "hoverinfo": "text",
         "hovertext": [
          "Type: normal<br>Total: 22",
          "Type: normal<br>Total: 15",
          "Type: normal<br>Total: 18",
          "Type: normal<br>Total: 5",
          "Type: normal<br>Total: 0",
          "Type: normal<br>Total: 0",
          "Type: normal<br>Total: 0",
          "Type: normal<br>Total: 0"
         ],
         "marker": {
          "color": "#A8A878"
         },
         "name": "normal",
         "type": "bar",
         "x": [
          1,
          2,
          3,
          4,
          5,
          6,
          7,
          8
         ],
         "y": [
          22,
          15,
          18,
          5,
          0,
          0,
          0,
          0
         ]
        },
        {
         "hoverinfo": "text",
         "hovertext": [
          "Type: poison<br>Total: 14",
          "Type: poison<br>Total: 1",
          "Type: poison<br>Total: 3",
          "Type: poison<br>Total: 0",
          "Type: poison<br>Total: 0",
          "Type: poison<br>Total: 0",
          "Type: poison<br>Total: 0",
          "Type: poison<br>Total: 0"
         ],
         "marker": {
          "color": "#A040A0"
         },
         "name": "poison",
         "type": "bar",
         "x": [
          1,
          2,
          3,
          4,
          5,
          6,
          7,
          8
         ],
         "y": [
          14,
          1,
          3,
          0,
          0,
          0,
          0,
          0
         ]
        },
        {
         "hoverinfo": "text",
         "hovertext": [
          "Type: psychic<br>Total: 8",
          "Type: psychic<br>Total: 7",
          "Type: psychic<br>Total: 8",
          "Type: psychic<br>Total: 0",
          "Type: psychic<br>Total: 0",
          "Type: psychic<br>Total: 0",
          "Type: psychic<br>Total: 0",
          "Type: psychic<br>Total: 0"
         ],
         "marker": {
          "color": "#F85888"
         },
         "name": "psychic",
         "type": "bar",
         "x": [
          1,
          2,
          3,
          4,
          5,
          6,
          7,
          8
         ],
         "y": [
          8,
          7,
          8,
          0,
          0,
          0,
          0,
          0
         ]
        },
        {
         "hoverinfo": "text",
         "hovertext": [
          "Type: rock<br>Total: 9",
          "Type: rock<br>Total: 4",
          "Type: rock<br>Total: 8",
          "Type: rock<br>Total: 0",
          "Type: rock<br>Total: 0",
          "Type: rock<br>Total: 0",
          "Type: rock<br>Total: 0",
          "Type: rock<br>Total: 0"
         ],
         "marker": {
          "color": "#B8A038"
         },
         "name": "rock",
         "type": "bar",
         "x": [
          1,
          2,
          3,
          4,
          5,
          6,
          7,
          8
         ],
         "y": [
          9,
          4,
          8,
          0,
          0,
          0,
          0,
          0
         ]
        },
        {
         "hoverinfo": "text",
         "hovertext": [
          "Type: steel<br>Total: 0",
          "Type: steel<br>Total: 2",
          "Type: steel<br>Total: 9",
          "Type: steel<br>Total: 0",
          "Type: steel<br>Total: 0",
          "Type: steel<br>Total: 0",
          "Type: steel<br>Total: 0",
          "Type: steel<br>Total: 0"
         ],
         "marker": {
          "color": "#B8B8D0"
         },
         "name": "steel",
         "type": "bar",
         "x": [
          1,
          2,
          3,
          4,
          5,
          6,
          7,
          8
         ],
         "y": [
          0,
          2,
          9,
          0,
          0,
          0,
          0,
          0
         ]
        },
        {
         "hoverinfo": "text",
         "hovertext": [
          "Type: water<br>Total: 28",
          "Type: water<br>Total: 18",
          "Type: water<br>Total: 24",
          "Type: water<br>Total: 3",
          "Type: water<br>Total: 0",
          "Type: water<br>Total: 0",
          "Type: water<br>Total: 0",
          "Type: water<br>Total: 0"
         ],
         "marker": {
          "color": "#6890F0"
         },
         "name": "water",
         "type": "bar",
         "x": [
          1,
          2,
          3,
          4,
          5,
          6,
          7,
          8
         ],
         "y": [
          28,
          18,
          24,
          3,
          0,
          0,
          0,
          0
         ]
        }
       ],
       "layout": {
        "barmode": "group",
        "height": 600,
        "shapes": [
         {
          "line": {
           "color": "gray",
           "dash": "dash"
          },
          "type": "line",
          "x0": 1.5,
          "x1": 1.5,
          "y0": 0,
          "y1": 1,
          "yref": "paper"
         },
         {
          "line": {
           "color": "gray",
           "dash": "dash"
          },
          "type": "line",
          "x0": 2.5,
          "x1": 2.5,
          "y0": 0,
          "y1": 1,
          "yref": "paper"
         },
         {
          "line": {
           "color": "gray",
           "dash": "dash"
          },
          "type": "line",
          "x0": 3.5,
          "x1": 3.5,
          "y0": 0,
          "y1": 1,
          "yref": "paper"
         },
         {
          "line": {
           "color": "gray",
           "dash": "dash"
          },
          "type": "line",
          "x0": 4.5,
          "x1": 4.5,
          "y0": 0,
          "y1": 1,
          "yref": "paper"
         },
         {
          "line": {
           "color": "gray",
           "dash": "dash"
          },
          "type": "line",
          "x0": 5.5,
          "x1": 5.5,
          "y0": 0,
          "y1": 1,
          "yref": "paper"
         },
         {
          "line": {
           "color": "gray",
           "dash": "dash"
          },
          "type": "line",
          "x0": 6.5,
          "x1": 6.5,
          "y0": 0,
          "y1": 1,
          "yref": "paper"
         },
         {
          "line": {
           "color": "gray",
           "dash": "dash"
          },
          "type": "line",
          "x0": 7.5,
          "x1": 7.5,
          "y0": 0,
          "y1": 1,
          "yref": "paper"
         }
        ],
        "template": {
         "data": {
          "bar": [
           {
            "error_x": {
             "color": "#2a3f5f"
            },
            "error_y": {
             "color": "#2a3f5f"
            },
            "marker": {
             "line": {
              "color": "#E5ECF6",
              "width": 0.5
             },
             "pattern": {
              "fillmode": "overlay",
              "size": 10,
              "solidity": 0.2
             }
            },
            "type": "bar"
           }
          ],
          "barpolar": [
           {
            "marker": {
             "line": {
              "color": "#E5ECF6",
              "width": 0.5
             },
             "pattern": {
              "fillmode": "overlay",
              "size": 10,
              "solidity": 0.2
             }
            },
            "type": "barpolar"
           }
          ],
          "carpet": [
           {
            "aaxis": {
             "endlinecolor": "#2a3f5f",
             "gridcolor": "white",
             "linecolor": "white",
             "minorgridcolor": "white",
             "startlinecolor": "#2a3f5f"
            },
            "baxis": {
             "endlinecolor": "#2a3f5f",
             "gridcolor": "white",
             "linecolor": "white",
             "minorgridcolor": "white",
             "startlinecolor": "#2a3f5f"
            },
            "type": "carpet"
           }
          ],
          "choropleth": [
           {
            "colorbar": {
             "outlinewidth": 0,
             "ticks": ""
            },
            "type": "choropleth"
           }
          ],
          "contour": [
           {
            "colorbar": {
             "outlinewidth": 0,
             "ticks": ""
            },
            "colorscale": [
             [
              0,
              "#0d0887"
             ],
             [
              0.1111111111111111,
              "#46039f"
             ],
             [
              0.2222222222222222,
              "#7201a8"
             ],
             [
              0.3333333333333333,
              "#9c179e"
             ],
             [
              0.4444444444444444,
              "#bd3786"
             ],
             [
              0.5555555555555556,
              "#d8576b"
             ],
             [
              0.6666666666666666,
              "#ed7953"
             ],
             [
              0.7777777777777778,
              "#fb9f3a"
             ],
             [
              0.8888888888888888,
              "#fdca26"
             ],
             [
              1,
              "#f0f921"
             ]
            ],
            "type": "contour"
           }
          ],
          "contourcarpet": [
           {
            "colorbar": {
             "outlinewidth": 0,
             "ticks": ""
            },
            "type": "contourcarpet"
           }
          ],
          "heatmap": [
           {
            "colorbar": {
             "outlinewidth": 0,
             "ticks": ""
            },
            "colorscale": [
             [
              0,
              "#0d0887"
             ],
             [
              0.1111111111111111,
              "#46039f"
             ],
             [
              0.2222222222222222,
              "#7201a8"
             ],
             [
              0.3333333333333333,
              "#9c179e"
             ],
             [
              0.4444444444444444,
              "#bd3786"
             ],
             [
              0.5555555555555556,
              "#d8576b"
             ],
             [
              0.6666666666666666,
              "#ed7953"
             ],
             [
              0.7777777777777778,
              "#fb9f3a"
             ],
             [
              0.8888888888888888,
              "#fdca26"
             ],
             [
              1,
              "#f0f921"
             ]
            ],
            "type": "heatmap"
           }
          ],
          "heatmapgl": [
           {
            "colorbar": {
             "outlinewidth": 0,
             "ticks": ""
            },
            "colorscale": [
             [
              0,
              "#0d0887"
             ],
             [
              0.1111111111111111,
              "#46039f"
             ],
             [
              0.2222222222222222,
              "#7201a8"
             ],
             [
              0.3333333333333333,
              "#9c179e"
             ],
             [
              0.4444444444444444,
              "#bd3786"
             ],
             [
              0.5555555555555556,
              "#d8576b"
             ],
             [
              0.6666666666666666,
              "#ed7953"
             ],
             [
              0.7777777777777778,
              "#fb9f3a"
             ],
             [
              0.8888888888888888,
              "#fdca26"
             ],
             [
              1,
              "#f0f921"
             ]
            ],
            "type": "heatmapgl"
           }
          ],
          "histogram": [
           {
            "marker": {
             "pattern": {
              "fillmode": "overlay",
              "size": 10,
              "solidity": 0.2
             }
            },
            "type": "histogram"
           }
          ],
          "histogram2d": [
           {
            "colorbar": {
             "outlinewidth": 0,
             "ticks": ""
            },
            "colorscale": [
             [
              0,
              "#0d0887"
             ],
             [
              0.1111111111111111,
              "#46039f"
             ],
             [
              0.2222222222222222,
              "#7201a8"
             ],
             [
              0.3333333333333333,
              "#9c179e"
             ],
             [
              0.4444444444444444,
              "#bd3786"
             ],
             [
              0.5555555555555556,
              "#d8576b"
             ],
             [
              0.6666666666666666,
              "#ed7953"
             ],
             [
              0.7777777777777778,
              "#fb9f3a"
             ],
             [
              0.8888888888888888,
              "#fdca26"
             ],
             [
              1,
              "#f0f921"
             ]
            ],
            "type": "histogram2d"
           }
          ],
          "histogram2dcontour": [
           {
            "colorbar": {
             "outlinewidth": 0,
             "ticks": ""
            },
            "colorscale": [
             [
              0,
              "#0d0887"
             ],
             [
              0.1111111111111111,
              "#46039f"
             ],
             [
              0.2222222222222222,
              "#7201a8"
             ],
             [
              0.3333333333333333,
              "#9c179e"
             ],
             [
              0.4444444444444444,
              "#bd3786"
             ],
             [
              0.5555555555555556,
              "#d8576b"
             ],
             [
              0.6666666666666666,
              "#ed7953"
             ],
             [
              0.7777777777777778,
              "#fb9f3a"
             ],
             [
              0.8888888888888888,
              "#fdca26"
             ],
             [
              1,
              "#f0f921"
             ]
            ],
            "type": "histogram2dcontour"
           }
          ],
          "mesh3d": [
           {
            "colorbar": {
             "outlinewidth": 0,
             "ticks": ""
            },
            "type": "mesh3d"
           }
          ],
          "parcoords": [
           {
            "line": {
             "colorbar": {
              "outlinewidth": 0,
              "ticks": ""
             }
            },
            "type": "parcoords"
           }
          ],
          "pie": [
           {
            "automargin": true,
            "type": "pie"
           }
          ],
          "scatter": [
           {
            "fillpattern": {
             "fillmode": "overlay",
             "size": 10,
             "solidity": 0.2
            },
            "type": "scatter"
           }
          ],
          "scatter3d": [
           {
            "line": {
             "colorbar": {
              "outlinewidth": 0,
              "ticks": ""
             }
            },
            "marker": {
             "colorbar": {
              "outlinewidth": 0,
              "ticks": ""
             }
            },
            "type": "scatter3d"
           }
          ],
          "scattercarpet": [
           {
            "marker": {
             "colorbar": {
              "outlinewidth": 0,
              "ticks": ""
             }
            },
            "type": "scattercarpet"
           }
          ],
          "scattergeo": [
           {
            "marker": {
             "colorbar": {
              "outlinewidth": 0,
              "ticks": ""
             }
            },
            "type": "scattergeo"
           }
          ],
          "scattergl": [
           {
            "marker": {
             "colorbar": {
              "outlinewidth": 0,
              "ticks": ""
             }
            },
            "type": "scattergl"
           }
          ],
          "scattermapbox": [
           {
            "marker": {
             "colorbar": {
              "outlinewidth": 0,
              "ticks": ""
             }
            },
            "type": "scattermapbox"
           }
          ],
          "scatterpolar": [
           {
            "marker": {
             "colorbar": {
              "outlinewidth": 0,
              "ticks": ""
             }
            },
            "type": "scatterpolar"
           }
          ],
          "scatterpolargl": [
           {
            "marker": {
             "colorbar": {
              "outlinewidth": 0,
              "ticks": ""
             }
            },
            "type": "scatterpolargl"
           }
          ],
          "scatterternary": [
           {
            "marker": {
             "colorbar": {
              "outlinewidth": 0,
              "ticks": ""
             }
            },
            "type": "scatterternary"
           }
          ],
          "surface": [
           {
            "colorbar": {
             "outlinewidth": 0,
             "ticks": ""
            },
            "colorscale": [
             [
              0,
              "#0d0887"
             ],
             [
              0.1111111111111111,
              "#46039f"
             ],
             [
              0.2222222222222222,
              "#7201a8"
             ],
             [
              0.3333333333333333,
              "#9c179e"
             ],
             [
              0.4444444444444444,
              "#bd3786"
             ],
             [
              0.5555555555555556,
              "#d8576b"
             ],
             [
              0.6666666666666666,
              "#ed7953"
             ],
             [
              0.7777777777777778,
              "#fb9f3a"
             ],
             [
              0.8888888888888888,
              "#fdca26"
             ],
             [
              1,
              "#f0f921"
             ]
            ],
            "type": "surface"
           }
          ],
          "table": [
           {
            "cells": {
             "fill": {
              "color": "#EBF0F8"
             },
             "line": {
              "color": "white"
             }
            },
            "header": {
             "fill": {
              "color": "#C8D4E3"
             },
             "line": {
              "color": "white"
             }
            },
            "type": "table"
           }
          ]
         },
         "layout": {
          "annotationdefaults": {
           "arrowcolor": "#2a3f5f",
           "arrowhead": 0,
           "arrowwidth": 1
          },
          "autotypenumbers": "strict",
          "coloraxis": {
           "colorbar": {
            "outlinewidth": 0,
            "ticks": ""
           }
          },
          "colorscale": {
           "diverging": [
            [
             0,
             "#8e0152"
            ],
            [
             0.1,
             "#c51b7d"
            ],
            [
             0.2,
             "#de77ae"
            ],
            [
             0.3,
             "#f1b6da"
            ],
            [
             0.4,
             "#fde0ef"
            ],
            [
             0.5,
             "#f7f7f7"
            ],
            [
             0.6,
             "#e6f5d0"
            ],
            [
             0.7,
             "#b8e186"
            ],
            [
             0.8,
             "#7fbc41"
            ],
            [
             0.9,
             "#4d9221"
            ],
            [
             1,
             "#276419"
            ]
           ],
           "sequential": [
            [
             0,
             "#0d0887"
            ],
            [
             0.1111111111111111,
             "#46039f"
            ],
            [
             0.2222222222222222,
             "#7201a8"
            ],
            [
             0.3333333333333333,
             "#9c179e"
            ],
            [
             0.4444444444444444,
             "#bd3786"
            ],
            [
             0.5555555555555556,
             "#d8576b"
            ],
            [
             0.6666666666666666,
             "#ed7953"
            ],
            [
             0.7777777777777778,
             "#fb9f3a"
            ],
            [
             0.8888888888888888,
             "#fdca26"
            ],
            [
             1,
             "#f0f921"
            ]
           ],
           "sequentialminus": [
            [
             0,
             "#0d0887"
            ],
            [
             0.1111111111111111,
             "#46039f"
            ],
            [
             0.2222222222222222,
             "#7201a8"
            ],
            [
             0.3333333333333333,
             "#9c179e"
            ],
            [
             0.4444444444444444,
             "#bd3786"
            ],
            [
             0.5555555555555556,
             "#d8576b"
            ],
            [
             0.6666666666666666,
             "#ed7953"
            ],
            [
             0.7777777777777778,
             "#fb9f3a"
            ],
            [
             0.8888888888888888,
             "#fdca26"
            ],
            [
             1,
             "#f0f921"
            ]
           ]
          },
          "colorway": [
           "#636efa",
           "#EF553B",
           "#00cc96",
           "#ab63fa",
           "#FFA15A",
           "#19d3f3",
           "#FF6692",
           "#B6E880",
           "#FF97FF",
           "#FECB52"
          ],
          "font": {
           "color": "#2a3f5f"
          },
          "geo": {
           "bgcolor": "white",
           "lakecolor": "white",
           "landcolor": "#E5ECF6",
           "showlakes": true,
           "showland": true,
           "subunitcolor": "white"
          },
          "hoverlabel": {
           "align": "left"
          },
          "hovermode": "closest",
          "mapbox": {
           "style": "light"
          },
          "paper_bgcolor": "white",
          "plot_bgcolor": "#E5ECF6",
          "polar": {
           "angularaxis": {
            "gridcolor": "white",
            "linecolor": "white",
            "ticks": ""
           },
           "bgcolor": "#E5ECF6",
           "radialaxis": {
            "gridcolor": "white",
            "linecolor": "white",
            "ticks": ""
           }
          },
          "scene": {
           "xaxis": {
            "backgroundcolor": "#E5ECF6",
            "gridcolor": "white",
            "gridwidth": 2,
            "linecolor": "white",
            "showbackground": true,
            "ticks": "",
            "zerolinecolor": "white"
           },
           "yaxis": {
            "backgroundcolor": "#E5ECF6",
            "gridcolor": "white",
            "gridwidth": 2,
            "linecolor": "white",
            "showbackground": true,
            "ticks": "",
            "zerolinecolor": "white"
           },
           "zaxis": {
            "backgroundcolor": "#E5ECF6",
            "gridcolor": "white",
            "gridwidth": 2,
            "linecolor": "white",
            "showbackground": true,
            "ticks": "",
            "zerolinecolor": "white"
           }
          },
          "shapedefaults": {
           "line": {
            "color": "#2a3f5f"
           }
          },
          "ternary": {
           "aaxis": {
            "gridcolor": "white",
            "linecolor": "white",
            "ticks": ""
           },
           "baxis": {
            "gridcolor": "white",
            "linecolor": "white",
            "ticks": ""
           },
           "bgcolor": "#E5ECF6",
           "caxis": {
            "gridcolor": "white",
            "linecolor": "white",
            "ticks": ""
           }
          },
          "title": {
           "x": 0.05
          },
          "xaxis": {
           "automargin": true,
           "gridcolor": "white",
           "linecolor": "white",
           "ticks": "",
           "title": {
            "standoff": 15
           },
           "zerolinecolor": "white",
           "zerolinewidth": 2
          },
          "yaxis": {
           "automargin": true,
           "gridcolor": "white",
           "linecolor": "white",
           "ticks": "",
           "title": {
            "standoff": 15
           },
           "zerolinecolor": "white",
           "zerolinewidth": 2
          }
         }
        },
        "title": {
         "text": "Pokemon Primary Type Distribution by Generaion"
        },
        "width": 800,
        "xaxis": {
         "autorange": true,
         "range": [
          0.5,
          8.5
         ],
         "title": {
          "text": "Generation"
         },
         "type": "linear"
        },
        "yaxis": {
         "autorange": true,
         "range": [
          0,
          29.473684210526315
         ],
         "title": {
          "text": "Number of Pokemons"
         },
         "type": "linear"
        }
       }
      },
      "image/png": "[encoded data removed]",
      "text/html": [
       "<div>                            <div id=\"b5eb3ccf-14a5-4ed3-9441-29b8cf2eb1d3\" class=\"plotly-graph-div\" style=\"height:600px; width:800px;\"></div>            <script type=\"text/javascript\">                require([\"plotly\"], function(Plotly) {                    window.PLOTLYENV=window.PLOTLYENV || {};                                    if (document.getElementById(\"b5eb3ccf-14a5-4ed3-9441-29b8cf2eb1d3\")) {                    Plotly.newPlot(                        \"b5eb3ccf-14a5-4ed3-9441-29b8cf2eb1d3\",                        [{\"hoverinfo\":\"text\",\"hovertext\":[\"Type: bug\\u003cbr\\u003eTotal: 12\",\"Type: bug\\u003cbr\\u003eTotal: 10\",\"Type: bug\\u003cbr\\u003eTotal: 12\",\"Type: bug\\u003cbr\\u003eTotal: 2\",\"Type: bug\\u003cbr\\u003eTotal: 0\",\"Type: bug\\u003cbr\\u003eTotal: 0\",\"Type: bug\\u003cbr\\u003eTotal: 0\",\"Type: bug\\u003cbr\\u003eTotal: 0\"],\"marker\":{\"color\":\"#A8B820\"},\"name\":\"bug\",\"x\":[1,2,3,4,5,6,7,8],\"y\":[12,10,12,2,0,0,0,0],\"type\":\"bar\"},{\"hoverinfo\":\"text\",\"hovertext\":[\"Type: dark\\u003cbr\\u003eTotal: 0\",\"Type: dark\\u003cbr\\u003eTotal: 5\",\"Type: dark\\u003cbr\\u003eTotal: 4\",\"Type: dark\\u003cbr\\u003eTotal: 0\",\"Type: dark\\u003cbr\\u003eTotal: 0\",\"Type: dark\\u003cbr\\u003eTotal: 0\",\"Type: dark\\u003cbr\\u003eTotal: 0\",\"Type: dark\\u003cbr\\u003eTotal: 0\"],\"marker\":{\"color\":\"#705848\"},\"name\":\"dark\",\"x\":[1,2,3,4,5,6,7,8],\"y\":[0,5,4,0,0,0,0,0],\"type\":\"bar\"},{\"hoverinfo\":\"text\",\"hovertext\":[\"Type: dragon\\u003cbr\\u003eTotal: 3\",\"Type: dragon\\u003cbr\\u003eTotal: 0\",\"Type: dragon\\u003cbr\\u003eTotal: 7\",\"Type: dragon\\u003cbr\\u003eTotal: 0\",\"Type: dragon\\u003cbr\\u003eTotal: 0\",\"Type: dragon\\u003cbr\\u003eTotal: 0\",\"Type: dragon\\u003cbr\\u003eTotal: 0\",\"Type: dragon\\u003cbr\\u003eTotal: 0\"],\"marker\":{\"color\":\"#7038F8\"},\"name\":\"dragon\",\"x\":[1,2,3,4,5,6,7,8],\"y\":[3,0,7,0,0,0,0,0],\"type\":\"bar\"},{\"hoverinfo\":\"text\",\"hovertext\":[\"Type: electric\\u003cbr\\u003eTotal: 9\",\"Type: electric\\u003cbr\\u003eTotal: 6\",\"Type: electric\\u003cbr\\u003eTotal: 4\",\"Type: electric\\u003cbr\\u003eTotal: 3\",\"Type: electric\\u003cbr\\u003eTotal: 0\",\"Type: electric\\u003cbr\\u003eTotal: 0\",\"Type: electric\\u003cbr\\u003eTotal: 0\",\"Type: electric\\u003cbr\\u003eTotal: 0\"],\"marker\":{\"color\":\"#F8D030\"},\"name\":\"electric\",\"x\":[1,2,3,4,5,6,7,8],\"y\":[9,6,4,3,0,0,0,0],\"type\":\"bar\"},{\"hoverinfo\":\"text\",\"hovertext\":[\"Type: fairy\\u003cbr\\u003eTotal: 2\",\"Type: fairy\\u003cbr\\u003eTotal: 5\",\"Type: fairy\\u003cbr\\u003eTotal: 0\",\"Type: fairy\\u003cbr\\u003eTotal: 0\",\"Type: fairy\\u003cbr\\u003eTotal: 0\",\"Type: fairy\\u003cbr\\u003eTotal: 0\",\"Type: fairy\\u003cbr\\u003eTotal: 0\",\"Type: fairy\\u003cbr\\u003eTotal: 0\"],\"marker\":{\"color\":\"#EE99AC\"},\"name\":\"fairy\",\"x\":[1,2,3,4,5,6,7,8],\"y\":[2,5,0,0,0,0,0,0],\"type\":\"bar\"},{\"hoverinfo\":\"text\",\"hovertext\":[\"Type: fighting\\u003cbr\\u003eTotal: 7\",\"Type: fighting\\u003cbr\\u003eTotal: 2\",\"Type: fighting\\u003cbr\\u003eTotal: 4\",\"Type: fighting\\u003cbr\\u003eTotal: 0\",\"Type: fighting\\u003cbr\\u003eTotal: 0\",\"Type: fighting\\u003cbr\\u003eTotal: 0\",\"Type: fighting\\u003cbr\\u003eTotal: 0\",\"Type: fighting\\u003cbr\\u003eTotal: 0\"],\"marker\":{\"color\":\"#C03028\"},\"name\":\"fighting\",\"x\":[1,2,3,4,5,6,7,8],\"y\":[7,2,4,0,0,0,0,0],\"type\":\"bar\"},{\"hoverinfo\":\"text\",\"hovertext\":[\"Type: fire\\u003cbr\\u003eTotal: 12\",\"Type: fire\\u003cbr\\u003eTotal: 8\",\"Type: fire\\u003cbr\\u003eTotal: 6\",\"Type: fire\\u003cbr\\u003eTotal: 3\",\"Type: fire\\u003cbr\\u003eTotal: 0\",\"Type: fire\\u003cbr\\u003eTotal: 0\",\"Type: fire\\u003cbr\\u003eTotal: 0\",\"Type: fire\\u003cbr\\u003eTotal: 0\"],\"marker\":{\"color\":\"#F08030\"},\"name\":\"fire\",\"x\":[1,2,3,4,5,6,7,8],\"y\":[12,8,6,3,0,0,0,0],\"type\":\"bar\"},{\"hoverinfo\":\"text\",\"hovertext\":[\"Type: ghost\\u003cbr\\u003eTotal: 3\",\"Type: ghost\\u003cbr\\u003eTotal: 1\",\"Type: ghost\\u003cbr\\u003eTotal: 4\",\"Type: ghost\\u003cbr\\u003eTotal: 0\",\"Type: ghost\\u003cbr\\u003eTotal: 0\",\"Type: ghost\\u003cbr\\u003eTotal: 0\",\"Type: ghost\\u003cbr\\u003eTotal: 0\",\"Type: ghost\\u003cbr\\u003eTotal: 0\"],\"marker\":{\"color\":\"#705898\"},\"name\":\"ghost\",\"x\":[1,2,3,4,5,6,7,8],\"y\":[3,1,4,0,0,0,0,0],\"type\":\"bar\"},{\"hoverinfo\":\"text\",\"hovertext\":[\"Type: grass\\u003cbr\\u003eTotal: 12\",\"Type: grass\\u003cbr\\u003eTotal: 9\",\"Type: grass\\u003cbr\\u003eTotal: 12\",\"Type: grass\\u003cbr\\u003eTotal: 3\",\"Type: grass\\u003cbr\\u003eTotal: 0\",\"Type: grass\\u003cbr\\u003eTotal: 0\",\"Type: grass\\u003cbr\\u003eTotal: 0\",\"Type: grass\\u003cbr\\u003eTotal: 0\"],\"marker\":{\"color\":\"#78C850\"},\"name\":\"grass\",\"x\":[1,2,3,4,5,6,7,8],\"y\":[12,9,12,3,0,0,0,0],\"type\":\"bar\"},{\"hoverinfo\":\"text\",\"hovertext\":[\"Type: ground\\u003cbr\\u003eTotal: 8\",\"Type: ground\\u003cbr\\u003eTotal: 3\",\"Type: ground\\u003cbr\\u003eTotal: 6\",\"Type: ground\\u003cbr\\u003eTotal: 0\",\"Type: ground\\u003cbr\\u003eTotal: 0\",\"Type: ground\\u003cbr\\u003eTotal: 0\",\"Type: ground\\u003cbr\\u003eTotal: 0\",\"Type: ground\\u003cbr\\u003eTotal: 0\"],\"marker\":{\"color\":\"#E0C068\"},\"name\":\"ground\",\"x\":[1,2,3,4,5,6,7,8],\"y\":[8,3,6,0,0,0,0,0],\"type\":\"bar\"},{\"hoverinfo\":\"text\",\"hovertext\":[\"Type: ice\\u003cbr\\u003eTotal: 2\",\"Type: ice\\u003cbr\\u003eTotal: 4\",\"Type: ice\\u003cbr\\u003eTotal: 6\",\"Type: ice\\u003cbr\\u003eTotal: 0\",\"Type: ice\\u003cbr\\u003eTotal: 0\",\"Type: ice\\u003cbr\\u003eTotal: 0\",\"Type: ice\\u003cbr\\u003eTotal: 0\",\"Type: ice\\u003cbr\\u003eTotal: 0\"],\"marker\":{\"color\":\"#98D8D8\"},\"name\":\"ice\",\"x\":[1,2,3,4,5,6,7,8],\"y\":[2,4,6,0,0,0,0,0],\"type\":\"bar\"},{\"hoverinfo\":\"text\",\"hovertext\":[\"Type: normal\\u003cbr\\u003eTotal: 22\",\"Type: normal\\u003cbr\\u003eTotal: 15\",\"Type: normal\\u003cbr\\u003eTotal: 18\",\"Type: normal\\u003cbr\\u003eTotal: 5\",\"Type: normal\\u003cbr\\u003eTotal: 0\",\"Type: normal\\u003cbr\\u003eTotal: 0\",\"Type: normal\\u003cbr\\u003eTotal: 0\",\"Type: normal\\u003cbr\\u003eTotal: 0\"],\"marker\":{\"color\":\"#A8A878\"},\"name\":\"normal\",\"x\":[1,2,3,4,5,6,7,8],\"y\":[22,15,18,5,0,0,0,0],\"type\":\"bar\"},{\"hoverinfo\":\"text\",\"hovertext\":[\"Type: poison\\u003cbr\\u003eTotal: 14\",\"Type: poison\\u003cbr\\u003eTotal: 1\",\"Type: poison\\u003cbr\\u003eTotal: 3\",\"Type: poison\\u003cbr\\u003eTotal: 0\",\"Type: poison\\u003cbr\\u003eTotal: 0\",\"Type: poison\\u003cbr\\u003eTotal: 0\",\"Type: poison\\u003cbr\\u003eTotal: 0\",\"Type: poison\\u003cbr\\u003eTotal: 0\"],\"marker\":{\"color\":\"#A040A0\"},\"name\":\"poison\",\"x\":[1,2,3,4,5,6,7,8],\"y\":[14,1,3,0,0,0,0,0],\"type\":\"bar\"},{\"hoverinfo\":\"text\",\"hovertext\":[\"Type: psychic\\u003cbr\\u003eTotal: 8\",\"Type: psychic\\u003cbr\\u003eTotal: 7\",\"Type: psychic\\u003cbr\\u003eTotal: 8\",\"Type: psychic\\u003cbr\\u003eTotal: 0\",\"Type: psychic\\u003cbr\\u003eTotal: 0\",\"Type: psychic\\u003cbr\\u003eTotal: 0\",\"Type: psychic\\u003cbr\\u003eTotal: 0\",\"Type: psychic\\u003cbr\\u003eTotal: 0\"],\"marker\":{\"color\":\"#F85888\"},\"name\":\"psychic\",\"x\":[1,2,3,4,5,6,7,8],\"y\":[8,7,8,0,0,0,0,0],\"type\":\"bar\"},{\"hoverinfo\":\"text\",\"hovertext\":[\"Type: rock\\u003cbr\\u003eTotal: 9\",\"Type: rock\\u003cbr\\u003eTotal: 4\",\"Type: rock\\u003cbr\\u003eTotal: 8\",\"Type: rock\\u003cbr\\u003eTotal: 0\",\"Type: rock\\u003cbr\\u003eTotal: 0\",\"Type: rock\\u003cbr\\u003eTotal: 0\",\"Type: rock\\u003cbr\\u003eTotal: 0\",\"Type: rock\\u003cbr\\u003eTotal: 0\"],\"marker\":{\"color\":\"#B8A038\"},\"name\":\"rock\",\"x\":[1,2,3,4,5,6,7,8],\"y\":[9,4,8,0,0,0,0,0],\"type\":\"bar\"},{\"hoverinfo\":\"text\",\"hovertext\":[\"Type: steel\\u003cbr\\u003eTotal: 0\",\"Type: steel\\u003cbr\\u003eTotal: 2\",\"Type: steel\\u003cbr\\u003eTotal: 9\",\"Type: steel\\u003cbr\\u003eTotal: 0\",\"Type: steel\\u003cbr\\u003eTotal: 0\",\"Type: steel\\u003cbr\\u003eTotal: 0\",\"Type: steel\\u003cbr\\u003eTotal: 0\",\"Type: steel\\u003cbr\\u003eTotal: 0\"],\"marker\":{\"color\":\"#B8B8D0\"},\"name\":\"steel\",\"x\":[1,2,3,4,5,6,7,8],\"y\":[0,2,9,0,0,0,0,0],\"type\":\"bar\"},{\"hoverinfo\":\"text\",\"hovertext\":[\"Type: water\\u003cbr\\u003eTotal: 28\",\"Type: water\\u003cbr\\u003eTotal: 18\",\"Type: water\\u003cbr\\u003eTotal: 24\",\"Type: water\\u003cbr\\u003eTotal: 3\",\"Type: water\\u003cbr\\u003eTotal: 0\",\"Type: water\\u003cbr\\u003eTotal: 0\",\"Type: water\\u003cbr\\u003eTotal: 0\",\"Type: water\\u003cbr\\u003eTotal: 0\"],\"marker\":{\"color\":\"#6890F0\"},\"name\":\"water\",\"x\":[1,2,3,4,5,6,7,8],\"y\":[28,18,24,3,0,0,0,0],\"type\":\"bar\"}],                        {\"template\":{\"data\":{\"histogram2dcontour\":[{\"type\":\"histogram2dcontour\",\"colorbar\":{\"outlinewidth\":0,\"ticks\":\"\"},\"colorscale\":[[0.0,\"#0d0887\"],[0.1111111111111111,\"#46039f\"],[0.2222222222222222,\"#7201a8\"],[0.3333333333333333,\"#9c179e\"],[0.4444444444444444,\"#bd3786\"],[0.5555555555555556,\"#d8576b\"],[0.6666666666666666,\"#ed7953\"],[0.7777777777777778,\"#fb9f3a\"],[0.8888888888888888,\"#fdca26\"],[1.0,\"#f0f921\"]]}],\"choropleth\":[{\"type\":\"choropleth\",\"colorbar\":{\"outlinewidth\":0,\"ticks\":\"\"}}],\"histogram2d\":[{\"type\":\"histogram2d\",\"colorbar\":{\"outlinewidth\":0,\"ticks\":\"\"},\"colorscale\":[[0.0,\"#0d0887\"],[0.1111111111111111,\"#46039f\"],[0.2222222222222222,\"#7201a8\"],[0.3333333333333333,\"#9c179e\"],[0.4444444444444444,\"#bd3786\"],[0.5555555555555556,\"#d8576b\"],[0.6666666666666666,\"#ed7953\"],[0.7777777777777778,\"#fb9f3a\"],[0.8888888888888888,\"#fdca26\"],[1.0,\"#f0f921\"]]}],\"heatmap\":[{\"type\":\"heatmap\",\"colorbar\":{\"outlinewidth\":0,\"ticks\":\"\"},\"colorscale\":[[0.0,\"#0d0887\"],[0.1111111111111111,\"#46039f\"],[0.2222222222222222,\"#7201a8\"],[0.3333333333333333,\"#9c179e\"],[0.4444444444444444,\"#bd3786\"],[0.5555555555555556,\"#d8576b\"],[0.6666666666666666,\"#ed7953\"],[0.7777777777777778,\"#fb9f3a\"],[0.8888888888888888,\"#fdca26\"],[1.0,\"#f0f921\"]]}],\"heatmapgl\":[{\"type\":\"heatmapgl\",\"colorbar\":{\"outlinewidth\":0,\"ticks\":\"\"},\"colorscale\":[[0.0,\"#0d0887\"],[0.1111111111111111,\"#46039f\"],[0.2222222222222222,\"#7201a8\"],[0.3333333333333333,\"#9c179e\"],[0.4444444444444444,\"#bd3786\"],[0.5555555555555556,\"#d8576b\"],[0.6666666666666666,\"#ed7953\"],[0.7777777777777778,\"#fb9f3a\"],[0.8888888888888888,\"#fdca26\"],[1.0,\"#f0f921\"]]}],\"contourcarpet\":[{\"type\":\"contourcarpet\",\"colorbar\":{\"outlinewidth\":0,\"ticks\":\"\"}}],\"contour\":[{\"type\":\"contour\",\"colorbar\":{\"outlinewidth\":0,\"ticks\":\"\"},\"colorscale\":[[0.0,\"#0d0887\"],[0.1111111111111111,\"#46039f\"],[0.2222222222222222,\"#7201a8\"],[0.3333333333333333,\"#9c179e\"],[0.4444444444444444,\"#bd3786\"],[0.5555555555555556,\"#d8576b\"],[0.6666666666666666,\"#ed7953\"],[0.7777777777777778,\"#fb9f3a\"],[0.8888888888888888,\"#fdca26\"],[1.0,\"#f0f921\"]]}],\"surface\":[{\"type\":\"surface\",\"colorbar\":{\"outlinewidth\":0,\"ticks\":\"\"},\"colorscale\":[[0.0,\"#0d0887\"],[0.1111111111111111,\"#46039f\"],[0.2222222222222222,\"#7201a8\"],[0.3333333333333333,\"#9c179e\"],[0.4444444444444444,\"#bd3786\"],[0.5555555555555556,\"#d8576b\"],[0.6666666666666666,\"#ed7953\"],[0.7777777777777778,\"#fb9f3a\"],[0.8888888888888888,\"#fdca26\"],[1.0,\"#f0f921\"]]}],\"mesh3d\":[{\"type\":\"mesh3d\",\"colorbar\":{\"outlinewidth\":0,\"ticks\":\"\"}}],\"scatter\":[{\"fillpattern\":{\"fillmode\":\"overlay\",\"size\":10,\"solidity\":0.2},\"type\":\"scatter\"}],\"parcoords\":[{\"type\":\"parcoords\",\"line\":{\"colorbar\":{\"outlinewidth\":0,\"ticks\":\"\"}}}],\"scatterpolargl\":[{\"type\":\"scatterpolargl\",\"marker\":{\"colorbar\":{\"outlinewidth\":0,\"ticks\":\"\"}}}],\"bar\":[{\"error_x\":{\"color\":\"#2a3f5f\"},\"error_y\":{\"color\":\"#2a3f5f\"},\"marker\":{\"line\":{\"color\":\"#E5ECF6\",\"width\":0.5},\"pattern\":{\"fillmode\":\"overlay\",\"size\":10,\"solidity\":0.2}},\"type\":\"bar\"}],\"scattergeo\":[{\"type\":\"scattergeo\",\"marker\":{\"colorbar\":{\"outlinewidth\":0,\"ticks\":\"\"}}}],\"scatterpolar\":[{\"type\":\"scatterpolar\",\"marker\":{\"colorbar\":{\"outlinewidth\":0,\"ticks\":\"\"}}}],\"histogram\":[{\"marker\":{\"pattern\":{\"fillmode\":\"overlay\",\"size\":10,\"solidity\":0.2}},\"type\":\"histogram\"}],\"scattergl\":[{\"type\":\"scattergl\",\"marker\":{\"colorbar\":{\"outlinewidth\":0,\"ticks\":\"\"}}}],\"scatter3d\":[{\"type\":\"scatter3d\",\"line\":{\"colorbar\":{\"outlinewidth\":0,\"ticks\":\"\"}},\"marker\":{\"colorbar\":{\"outlinewidth\":0,\"ticks\":\"\"}}}],\"scattermapbox\":[{\"type\":\"scattermapbox\",\"marker\":{\"colorbar\":{\"outlinewidth\":0,\"ticks\":\"\"}}}],\"scatterternary\":[{\"type\":\"scatterternary\",\"marker\":{\"colorbar\":{\"outlinewidth\":0,\"ticks\":\"\"}}}],\"scattercarpet\":[{\"type\":\"scattercarpet\",\"marker\":{\"colorbar\":{\"outlinewidth\":0,\"ticks\":\"\"}}}],\"carpet\":[{\"aaxis\":{\"endlinecolor\":\"#2a3f5f\",\"gridcolor\":\"white\",\"linecolor\":\"white\",\"minorgridcolor\":\"white\",\"startlinecolor\":\"#2a3f5f\"},\"baxis\":{\"endlinecolor\":\"#2a3f5f\",\"gridcolor\":\"white\",\"linecolor\":\"white\",\"minorgridcolor\":\"white\",\"startlinecolor\":\"#2a3f5f\"},\"type\":\"carpet\"}],\"table\":[{\"cells\":{\"fill\":{\"color\":\"#EBF0F8\"},\"line\":{\"color\":\"white\"}},\"header\":{\"fill\":{\"color\":\"#C8D4E3\"},\"line\":{\"color\":\"white\"}},\"type\":\"table\"}],\"barpolar\":[{\"marker\":{\"line\":{\"color\":\"#E5ECF6\",\"width\":0.5},\"pattern\":{\"fillmode\":\"overlay\",\"size\":10,\"solidity\":0.2}},\"type\":\"barpolar\"}],\"pie\":[{\"automargin\":true,\"type\":\"pie\"}]},\"layout\":{\"autotypenumbers\":\"strict\",\"colorway\":[\"#636efa\",\"#EF553B\",\"#00cc96\",\"#ab63fa\",\"#FFA15A\",\"#19d3f3\",\"#FF6692\",\"#B6E880\",\"#FF97FF\",\"#FECB52\"],\"font\":{\"color\":\"#2a3f5f\"},\"hovermode\":\"closest\",\"hoverlabel\":{\"align\":\"left\"},\"paper_bgcolor\":\"white\",\"plot_bgcolor\":\"#E5ECF6\",\"polar\":{\"bgcolor\":\"#E5ECF6\",\"angularaxis\":{\"gridcolor\":\"white\",\"linecolor\":\"white\",\"ticks\":\"\"},\"radialaxis\":{\"gridcolor\":\"white\",\"linecolor\":\"white\",\"ticks\":\"\"}},\"ternary\":{\"bgcolor\":\"#E5ECF6\",\"aaxis\":{\"gridcolor\":\"white\",\"linecolor\":\"white\",\"ticks\":\"\"},\"baxis\":{\"gridcolor\":\"white\",\"linecolor\":\"white\",\"ticks\":\"\"},\"caxis\":{\"gridcolor\":\"white\",\"linecolor\":\"white\",\"ticks\":\"\"}},\"coloraxis\":{\"colorbar\":{\"outlinewidth\":0,\"ticks\":\"\"}},\"colorscale\":{\"sequential\":[[0.0,\"#0d0887\"],[0.1111111111111111,\"#46039f\"],[0.2222222222222222,\"#7201a8\"],[0.3333333333333333,\"#9c179e\"],[0.4444444444444444,\"#bd3786\"],[0.5555555555555556,\"#d8576b\"],[0.6666666666666666,\"#ed7953\"],[0.7777777777777778,\"#fb9f3a\"],[0.8888888888888888,\"#fdca26\"],[1.0,\"#f0f921\"]],\"sequentialminus\":[[0.0,\"#0d0887\"],[0.1111111111111111,\"#46039f\"],[0.2222222222222222,\"#7201a8\"],[0.3333333333333333,\"#9c179e\"],[0.4444444444444444,\"#bd3786\"],[0.5555555555555556,\"#d8576b\"],[0.6666666666666666,\"#ed7953\"],[0.7777777777777778,\"#fb9f3a\"],[0.8888888888888888,\"#fdca26\"],[1.0,\"#f0f921\"]],\"diverging\":[[0,\"#8e0152\"],[0.1,\"#c51b7d\"],[0.2,\"#de77ae\"],[0.3,\"#f1b6da\"],[0.4,\"#fde0ef\"],[0.5,\"#f7f7f7\"],[0.6,\"#e6f5d0\"],[0.7,\"#b8e186\"],[0.8,\"#7fbc41\"],[0.9,\"#4d9221\"],[1,\"#276419\"]]},\"xaxis\":{\"gridcolor\":\"white\",\"linecolor\":\"white\",\"ticks\":\"\",\"title\":{\"standoff\":15},\"zerolinecolor\":\"white\",\"automargin\":true,\"zerolinewidth\":2},\"yaxis\":{\"gridcolor\":\"white\",\"linecolor\":\"white\",\"ticks\":\"\",\"title\":{\"standoff\":15},\"zerolinecolor\":\"white\",\"automargin\":true,\"zerolinewidth\":2},\"scene\":{\"xaxis\":{\"backgroundcolor\":\"#E5ECF6\",\"gridcolor\":\"white\",\"linecolor\":\"white\",\"showbackground\":true,\"ticks\":\"\",\"zerolinecolor\":\"white\",\"gridwidth\":2},\"yaxis\":{\"backgroundcolor\":\"#E5ECF6\",\"gridcolor\":\"white\",\"linecolor\":\"white\",\"showbackground\":true,\"ticks\":\"\",\"zerolinecolor\":\"white\",\"gridwidth\":2},\"zaxis\":{\"backgroundcolor\":\"#E5ECF6\",\"gridcolor\":\"white\",\"linecolor\":\"white\",\"showbackground\":true,\"ticks\":\"\",\"zerolinecolor\":\"white\",\"gridwidth\":2}},\"shapedefaults\":{\"line\":{\"color\":\"#2a3f5f\"}},\"annotationdefaults\":{\"arrowcolor\":\"#2a3f5f\",\"arrowhead\":0,\"arrowwidth\":1},\"geo\":{\"bgcolor\":\"white\",\"landcolor\":\"#E5ECF6\",\"subunitcolor\":\"white\",\"showland\":true,\"showlakes\":true,\"lakecolor\":\"white\"},\"title\":{\"x\":0.05},\"mapbox\":{\"style\":\"light\"}}},\"shapes\":[{\"line\":{\"color\":\"gray\",\"dash\":\"dash\"},\"type\":\"line\",\"x0\":1.5,\"x1\":1.5,\"y0\":0,\"y1\":1,\"yref\":\"paper\"},{\"line\":{\"color\":\"gray\",\"dash\":\"dash\"},\"type\":\"line\",\"x0\":2.5,\"x1\":2.5,\"y0\":0,\"y1\":1,\"yref\":\"paper\"},{\"line\":{\"color\":\"gray\",\"dash\":\"dash\"},\"type\":\"line\",\"x0\":3.5,\"x1\":3.5,\"y0\":0,\"y1\":1,\"yref\":\"paper\"},{\"line\":{\"color\":\"gray\",\"dash\":\"dash\"},\"type\":\"line\",\"x0\":4.5,\"x1\":4.5,\"y0\":0,\"y1\":1,\"yref\":\"paper\"},{\"line\":{\"color\":\"gray\",\"dash\":\"dash\"},\"type\":\"line\",\"x0\":5.5,\"x1\":5.5,\"y0\":0,\"y1\":1,\"yref\":\"paper\"},{\"line\":{\"color\":\"gray\",\"dash\":\"dash\"},\"type\":\"line\",\"x0\":6.5,\"x1\":6.5,\"y0\":0,\"y1\":1,\"yref\":\"paper\"},{\"line\":{\"color\":\"gray\",\"dash\":\"dash\"},\"type\":\"line\",\"x0\":7.5,\"x1\":7.5,\"y0\":0,\"y1\":1,\"yref\":\"paper\"}],\"title\":{\"text\":\"Pokemon Primary Type Distribution by Generaion\"},\"xaxis\":{\"title\":{\"text\":\"Generation\"}},\"yaxis\":{\"title\":{\"text\":\"Number of Pokemons\"}},\"barmode\":\"group\",\"height\":600,\"width\":800},                        {\"responsive\": true}                    ).then(function(){\n",
       "                            \n",
       "var gd = document.getElementById('b5eb3ccf-14a5-4ed3-9441-29b8cf2eb1d3');\n",
       "var x = new MutationObserver(function (mutations, observer) {{\n",
       "        var display = window.getComputedStyle(gd).display;\n",
       "        if (!display || display === 'none') {{\n",
       "            console.log([gd, 'removed!']);\n",
       "            Plotly.purge(gd);\n",
       "            observer.disconnect();\n",
       "        }}\n",
       "}});\n",
       "\n",
       "// Listen for the removal of the full notebook cells\n",
       "var notebookContainer = gd.closest('#notebook-container');\n",
       "if (notebookContainer) {{\n",
       "    x.observe(notebookContainer, {childList: true});\n",
       "}}\n",
       "\n",
       "// Listen for the clearing of the current output cell\n",
       "var outputEl = gd.closest('.output');\n",
       "if (outputEl) {{\n",
       "    x.observe(outputEl, {childList: true});\n",
       "}}\n",
       "\n",
       "                        })                };                });            </script>        </div>"
      ]
     },
     "metadata": {},
     "output_type": "display_data"
    }
   ],
   "source": [
    "bar_chart.update_layout(\n",
    "    title_text='Pokemon Primary Type Distribution by Generaion',\n",
    "    xaxis_title='Generation',\n",
    "    yaxis_title='Number of Pokemons',\n",
    "    barmode='group', # Arrange bars in groups for side-by-side comparison\n",
    "    height=600,\n",
    "    width=800\n",
    ")\n",
    "\n",
    "# Show the figure\n",
    "bar_chart.show()"
   ]
  },
  {
   "cell_type": "markdown",
   "id": "7b80e50b-bc5e-4137-807d-4b27eba9287b",
   "metadata": {},
   "source": [
    "## Stacked Bar Chart Creation"
   ]
  },
  {
   "cell_type": "markdown",
   "id": "ba732d46-a103-4ea3-9976-7deab11b6006",
   "metadata": {},
   "source": [
    "Create new Plotly figure for the stacked bar chart"
   ]
  },
  {
   "cell_type": "code",
   "execution_count": 201,
   "id": "f8f4b1fe-e1b9-47d6-93b0-12b8ea08817a",
   "metadata": {},
   "outputs": [
    {
     "data": {
      "application/vnd.plotly.v1+json": {
       "config": {
        "plotlyServerURL": "https://plot.ly"
       },
       "data": [
        {
         "hoverinfo": "text",
         "hovertext": [
          "Type: bug<br>Total: 12",
          "Type: bug<br>Total: 10",
          "Type: bug<br>Total: 12",
          "Type: bug<br>Total: 2",
          "Type: bug<br>Total: 0",
          "Type: bug<br>Total: 0",
          "Type: bug<br>Total: 0",
          "Type: bug<br>Total: 0"
         ],
         "marker": {
          "color": "#A8B820"
         },
         "name": "bug",
         "type": "bar",
         "x": [
          1,
          2,
          3,
          4,
          5,
          6,
          7,
          8
         ],
         "y": [
          12,
          10,
          12,
          2,
          0,
          0,
          0,
          0
         ]
        },
        {
         "hoverinfo": "text",
         "hovertext": [
          "Type: dark<br>Total: 0",
          "Type: dark<br>Total: 5",
          "Type: dark<br>Total: 4",
          "Type: dark<br>Total: 0",
          "Type: dark<br>Total: 0",
          "Type: dark<br>Total: 0",
          "Type: dark<br>Total: 0",
          "Type: dark<br>Total: 0"
         ],
         "marker": {
          "color": "#705848"
         },
         "name": "dark",
         "type": "bar",
         "x": [
          1,
          2,
          3,
          4,
          5,
          6,
          7,
          8
         ],
         "y": [
          0,
          5,
          4,
          0,
          0,
          0,
          0,
          0
         ]
        },
        {
         "hoverinfo": "text",
         "hovertext": [
          "Type: dragon<br>Total: 3",
          "Type: dragon<br>Total: 0",
          "Type: dragon<br>Total: 7",
          "Type: dragon<br>Total: 0",
          "Type: dragon<br>Total: 0",
          "Type: dragon<br>Total: 0",
          "Type: dragon<br>Total: 0",
          "Type: dragon<br>Total: 0"
         ],
         "marker": {
          "color": "#7038F8"
         },
         "name": "dragon",
         "type": "bar",
         "x": [
          1,
          2,
          3,
          4,
          5,
          6,
          7,
          8
         ],
         "y": [
          3,
          0,
          7,
          0,
          0,
          0,
          0,
          0
         ]
        },
        {
         "hoverinfo": "text",
         "hovertext": [
          "Type: electric<br>Total: 9",
          "Type: electric<br>Total: 6",
          "Type: electric<br>Total: 4",
          "Type: electric<br>Total: 3",
          "Type: electric<br>Total: 0",
          "Type: electric<br>Total: 0",
          "Type: electric<br>Total: 0",
          "Type: electric<br>Total: 0"
         ],
         "marker": {
          "color": "#F8D030"
         },
         "name": "electric",
         "type": "bar",
         "x": [
          1,
          2,
          3,
          4,
          5,
          6,
          7,
          8
         ],
         "y": [
          9,
          6,
          4,
          3,
          0,
          0,
          0,
          0
         ]
        },
        {
         "hoverinfo": "text",
         "hovertext": [
          "Type: fairy<br>Total: 2",
          "Type: fairy<br>Total: 5",
          "Type: fairy<br>Total: 0",
          "Type: fairy<br>Total: 0",
          "Type: fairy<br>Total: 0",
          "Type: fairy<br>Total: 0",
          "Type: fairy<br>Total: 0",
          "Type: fairy<br>Total: 0"
         ],
         "marker": {
          "color": "#EE99AC"
         },
         "name": "fairy",
         "type": "bar",
         "x": [
          1,
          2,
          3,
          4,
          5,
          6,
          7,
          8
         ],
         "y": [
          2,
          5,
          0,
          0,
          0,
          0,
          0,
          0
         ]
        },
        {
         "hoverinfo": "text",
         "hovertext": [
          "Type: fighting<br>Total: 7",
          "Type: fighting<br>Total: 2",
          "Type: fighting<br>Total: 4",
          "Type: fighting<br>Total: 0",
          "Type: fighting<br>Total: 0",
          "Type: fighting<br>Total: 0",
          "Type: fighting<br>Total: 0",
          "Type: fighting<br>Total: 0"
         ],
         "marker": {
          "color": "#C03028"
         },
         "name": "fighting",
         "type": "bar",
         "x": [
          1,
          2,
          3,
          4,
          5,
          6,
          7,
          8
         ],
         "y": [
          7,
          2,
          4,
          0,
          0,
          0,
          0,
          0
         ]
        },
        {
         "hoverinfo": "text",
         "hovertext": [
          "Type: fire<br>Total: 12",
          "Type: fire<br>Total: 8",
          "Type: fire<br>Total: 6",
          "Type: fire<br>Total: 3",
          "Type: fire<br>Total: 0",
          "Type: fire<br>Total: 0",
          "Type: fire<br>Total: 0",
          "Type: fire<br>Total: 0"
         ],
         "marker": {
          "color": "#F08030"
         },
         "name": "fire",
         "type": "bar",
         "x": [
          1,
          2,
          3,
          4,
          5,
          6,
          7,
          8
         ],
         "y": [
          12,
          8,
          6,
          3,
          0,
          0,
          0,
          0
         ]
        },
        {
         "hoverinfo": "text",
         "hovertext": [
          "Type: ghost<br>Total: 3",
          "Type: ghost<br>Total: 1",
          "Type: ghost<br>Total: 4",
          "Type: ghost<br>Total: 0",
          "Type: ghost<br>Total: 0",
          "Type: ghost<br>Total: 0",
          "Type: ghost<br>Total: 0",
          "Type: ghost<br>Total: 0"
         ],
         "marker": {
          "color": "#705898"
         },
         "name": "ghost",
         "type": "bar",
         "x": [
          1,
          2,
          3,
          4,
          5,
          6,
          7,
          8
         ],
         "y": [
          3,
          1,
          4,
          0,
          0,
          0,
          0,
          0
         ]
        },
        {
         "hoverinfo": "text",
         "hovertext": [
          "Type: grass<br>Total: 12",
          "Type: grass<br>Total: 9",
          "Type: grass<br>Total: 12",
          "Type: grass<br>Total: 3",
          "Type: grass<br>Total: 0",
          "Type: grass<br>Total: 0",
          "Type: grass<br>Total: 0",
          "Type: grass<br>Total: 0"
         ],
         "marker": {
          "color": "#78C850"
         },
         "name": "grass",
         "type": "bar",
         "x": [
          1,
          2,
          3,
          4,
          5,
          6,
          7,
          8
         ],
         "y": [
          12,
          9,
          12,
          3,
          0,
          0,
          0,
          0
         ]
        },
        {
         "hoverinfo": "text",
         "hovertext": [
          "Type: ground<br>Total: 8",
          "Type: ground<br>Total: 3",
          "Type: ground<br>Total: 6",
          "Type: ground<br>Total: 0",
          "Type: ground<br>Total: 0",
          "Type: ground<br>Total: 0",
          "Type: ground<br>Total: 0",
          "Type: ground<br>Total: 0"
         ],
         "marker": {
          "color": "#E0C068"
         },
         "name": "ground",
         "type": "bar",
         "x": [
          1,
          2,
          3,
          4,
          5,
          6,
          7,
          8
         ],
         "y": [
          8,
          3,
          6,
          0,
          0,
          0,
          0,
          0
         ]
        },
        {
         "hoverinfo": "text",
         "hovertext": [
          "Type: ice<br>Total: 2",
          "Type: ice<br>Total: 4",
          "Type: ice<br>Total: 6",
          "Type: ice<br>Total: 0",
          "Type: ice<br>Total: 0",
          "Type: ice<br>Total: 0",
          "Type: ice<br>Total: 0",
          "Type: ice<br>Total: 0"
         ],
         "marker": {
          "color": "#98D8D8"
         },
         "name": "ice",
         "type": "bar",
         "x": [
          1,
          2,
          3,
          4,
          5,
          6,
          7,
          8
         ],
         "y": [
          2,
          4,
          6,
          0,
          0,
          0,
          0,
          0
         ]
        },
        {
         "hoverinfo": "text",
         "hovertext": [
          "Type: normal<br>Total: 22",
          "Type: normal<br>Total: 15",
          "Type: normal<br>Total: 18",
          "Type: normal<br>Total: 5",
          "Type: normal<br>Total: 0",
          "Type: normal<br>Total: 0",
          "Type: normal<br>Total: 0",
          "Type: normal<br>Total: 0"
         ],
         "marker": {
          "color": "#A8A878"
         },
         "name": "normal",
         "type": "bar",
         "x": [
          1,
          2,
          3,
          4,
          5,
          6,
          7,
          8
         ],
         "y": [
          22,
          15,
          18,
          5,
          0,
          0,
          0,
          0
         ]
        },
        {
         "hoverinfo": "text",
         "hovertext": [
          "Type: poison<br>Total: 14",
          "Type: poison<br>Total: 1",
          "Type: poison<br>Total: 3",
          "Type: poison<br>Total: 0",
          "Type: poison<br>Total: 0",
          "Type: poison<br>Total: 0",
          "Type: poison<br>Total: 0",
          "Type: poison<br>Total: 0"
         ],
         "marker": {
          "color": "#A040A0"
         },
         "name": "poison",
         "type": "bar",
         "x": [
          1,
          2,
          3,
          4,
          5,
          6,
          7,
          8
         ],
         "y": [
          14,
          1,
          3,
          0,
          0,
          0,
          0,
          0
         ]
        },
        {
         "hoverinfo": "text",
         "hovertext": [
          "Type: psychic<br>Total: 8",
          "Type: psychic<br>Total: 7",
          "Type: psychic<br>Total: 8",
          "Type: psychic<br>Total: 0",
          "Type: psychic<br>Total: 0",
          "Type: psychic<br>Total: 0",
          "Type: psychic<br>Total: 0",
          "Type: psychic<br>Total: 0"
         ],
         "marker": {
          "color": "#F85888"
         },
         "name": "psychic",
         "type": "bar",
         "x": [
          1,
          2,
          3,
          4,
          5,
          6,
          7,
          8
         ],
         "y": [
          8,
          7,
          8,
          0,
          0,
          0,
          0,
          0
         ]
        },
        {
         "hoverinfo": "text",
         "hovertext": [
          "Type: rock<br>Total: 9",
          "Type: rock<br>Total: 4",
          "Type: rock<br>Total: 8",
          "Type: rock<br>Total: 0",
          "Type: rock<br>Total: 0",
          "Type: rock<br>Total: 0",
          "Type: rock<br>Total: 0",
          "Type: rock<br>Total: 0"
         ],
         "marker": {
          "color": "#B8A038"
         },
         "name": "rock",
         "type": "bar",
         "x": [
          1,
          2,
          3,
          4,
          5,
          6,
          7,
          8
         ],
         "y": [
          9,
          4,
          8,
          0,
          0,
          0,
          0,
          0
         ]
        },
        {
         "hoverinfo": "text",
         "hovertext": [
          "Type: steel<br>Total: 0",
          "Type: steel<br>Total: 2",
          "Type: steel<br>Total: 9",
          "Type: steel<br>Total: 0",
          "Type: steel<br>Total: 0",
          "Type: steel<br>Total: 0",
          "Type: steel<br>Total: 0",
          "Type: steel<br>Total: 0"
         ],
         "marker": {
          "color": "#B8B8D0"
         },
         "name": "steel",
         "type": "bar",
         "x": [
          1,
          2,
          3,
          4,
          5,
          6,
          7,
          8
         ],
         "y": [
          0,
          2,
          9,
          0,
          0,
          0,
          0,
          0
         ]
        },
        {
         "hoverinfo": "text",
         "hovertext": [
          "Type: water<br>Total: 28",
          "Type: water<br>Total: 18",
          "Type: water<br>Total: 24",
          "Type: water<br>Total: 3",
          "Type: water<br>Total: 0",
          "Type: water<br>Total: 0",
          "Type: water<br>Total: 0",
          "Type: water<br>Total: 0"
         ],
         "marker": {
          "color": "#6890F0"
         },
         "name": "water",
         "type": "bar",
         "x": [
          1,
          2,
          3,
          4,
          5,
          6,
          7,
          8
         ],
         "y": [
          28,
          18,
          24,
          3,
          0,
          0,
          0,
          0
         ]
        }
       ],
       "layout": {
        "barmode": "stack",
        "height": 700,
        "legend": {
         "tracegroupgap": 3
        },
        "template": {
         "data": {
          "bar": [
           {
            "error_x": {
             "color": "#2a3f5f"
            },
            "error_y": {
             "color": "#2a3f5f"
            },
            "marker": {
             "line": {
              "color": "#E5ECF6",
              "width": 0.5
             },
             "pattern": {
              "fillmode": "overlay",
              "size": 10,
              "solidity": 0.2
             }
            },
            "type": "bar"
           }
          ],
          "barpolar": [
           {
            "marker": {
             "line": {
              "color": "#E5ECF6",
              "width": 0.5
             },
             "pattern": {
              "fillmode": "overlay",
              "size": 10,
              "solidity": 0.2
             }
            },
            "type": "barpolar"
           }
          ],
          "carpet": [
           {
            "aaxis": {
             "endlinecolor": "#2a3f5f",
             "gridcolor": "white",
             "linecolor": "white",
             "minorgridcolor": "white",
             "startlinecolor": "#2a3f5f"
            },
            "baxis": {
             "endlinecolor": "#2a3f5f",
             "gridcolor": "white",
             "linecolor": "white",
             "minorgridcolor": "white",
             "startlinecolor": "#2a3f5f"
            },
            "type": "carpet"
           }
          ],
          "choropleth": [
           {
            "colorbar": {
             "outlinewidth": 0,
             "ticks": ""
            },
            "type": "choropleth"
           }
          ],
          "contour": [
           {
            "colorbar": {
             "outlinewidth": 0,
             "ticks": ""
            },
            "colorscale": [
             [
              0,
              "#0d0887"
             ],
             [
              0.1111111111111111,
              "#46039f"
             ],
             [
              0.2222222222222222,
              "#7201a8"
             ],
             [
              0.3333333333333333,
              "#9c179e"
             ],
             [
              0.4444444444444444,
              "#bd3786"
             ],
             [
              0.5555555555555556,
              "#d8576b"
             ],
             [
              0.6666666666666666,
              "#ed7953"
             ],
             [
              0.7777777777777778,
              "#fb9f3a"
             ],
             [
              0.8888888888888888,
              "#fdca26"
             ],
             [
              1,
              "#f0f921"
             ]
            ],
            "type": "contour"
           }
          ],
          "contourcarpet": [
           {
            "colorbar": {
             "outlinewidth": 0,
             "ticks": ""
            },
            "type": "contourcarpet"
           }
          ],
          "heatmap": [
           {
            "colorbar": {
             "outlinewidth": 0,
             "ticks": ""
            },
            "colorscale": [
             [
              0,
              "#0d0887"
             ],
             [
              0.1111111111111111,
              "#46039f"
             ],
             [
              0.2222222222222222,
              "#7201a8"
             ],
             [
              0.3333333333333333,
              "#9c179e"
             ],
             [
              0.4444444444444444,
              "#bd3786"
             ],
             [
              0.5555555555555556,
              "#d8576b"
             ],
             [
              0.6666666666666666,
              "#ed7953"
             ],
             [
              0.7777777777777778,
              "#fb9f3a"
             ],
             [
              0.8888888888888888,
              "#fdca26"
             ],
             [
              1,
              "#f0f921"
             ]
            ],
            "type": "heatmap"
           }
          ],
          "heatmapgl": [
           {
            "colorbar": {
             "outlinewidth": 0,
             "ticks": ""
            },
            "colorscale": [
             [
              0,
              "#0d0887"
             ],
             [
              0.1111111111111111,
              "#46039f"
             ],
             [
              0.2222222222222222,
              "#7201a8"
             ],
             [
              0.3333333333333333,
              "#9c179e"
             ],
             [
              0.4444444444444444,
              "#bd3786"
             ],
             [
              0.5555555555555556,
              "#d8576b"
             ],
             [
              0.6666666666666666,
              "#ed7953"
             ],
             [
              0.7777777777777778,
              "#fb9f3a"
             ],
             [
              0.8888888888888888,
              "#fdca26"
             ],
             [
              1,
              "#f0f921"
             ]
            ],
            "type": "heatmapgl"
           }
          ],
          "histogram": [
           {
            "marker": {
             "pattern": {
              "fillmode": "overlay",
              "size": 10,
              "solidity": 0.2
             }
            },
            "type": "histogram"
           }
          ],
          "histogram2d": [
           {
            "colorbar": {
             "outlinewidth": 0,
             "ticks": ""
            },
            "colorscale": [
             [
              0,
              "#0d0887"
             ],
             [
              0.1111111111111111,
              "#46039f"
             ],
             [
              0.2222222222222222,
              "#7201a8"
             ],
             [
              0.3333333333333333,
              "#9c179e"
             ],
             [
              0.4444444444444444,
              "#bd3786"
             ],
             [
              0.5555555555555556,
              "#d8576b"
             ],
             [
              0.6666666666666666,
              "#ed7953"
             ],
             [
              0.7777777777777778,
              "#fb9f3a"
             ],
             [
              0.8888888888888888,
              "#fdca26"
             ],
             [
              1,
              "#f0f921"
             ]
            ],
            "type": "histogram2d"
           }
          ],
          "histogram2dcontour": [
           {
            "colorbar": {
             "outlinewidth": 0,
             "ticks": ""
            },
            "colorscale": [
             [
              0,
              "#0d0887"
             ],
             [
              0.1111111111111111,
              "#46039f"
             ],
             [
              0.2222222222222222,
              "#7201a8"
             ],
             [
              0.3333333333333333,
              "#9c179e"
             ],
             [
              0.4444444444444444,
              "#bd3786"
             ],
             [
              0.5555555555555556,
              "#d8576b"
             ],
             [
              0.6666666666666666,
              "#ed7953"
             ],
             [
              0.7777777777777778,
              "#fb9f3a"
             ],
             [
              0.8888888888888888,
              "#fdca26"
             ],
             [
              1,
              "#f0f921"
             ]
            ],
            "type": "histogram2dcontour"
           }
          ],
          "mesh3d": [
           {
            "colorbar": {
             "outlinewidth": 0,
             "ticks": ""
            },
            "type": "mesh3d"
           }
          ],
          "parcoords": [
           {
            "line": {
             "colorbar": {
              "outlinewidth": 0,
              "ticks": ""
             }
            },
            "type": "parcoords"
           }
          ],
          "pie": [
           {
            "automargin": true,
            "type": "pie"
           }
          ],
          "scatter": [
           {
            "fillpattern": {
             "fillmode": "overlay",
             "size": 10,
             "solidity": 0.2
            },
            "type": "scatter"
           }
          ],
          "scatter3d": [
           {
            "line": {
             "colorbar": {
              "outlinewidth": 0,
              "ticks": ""
             }
            },
            "marker": {
             "colorbar": {
              "outlinewidth": 0,
              "ticks": ""
             }
            },
            "type": "scatter3d"
           }
          ],
          "scattercarpet": [
           {
            "marker": {
             "colorbar": {
              "outlinewidth": 0,
              "ticks": ""
             }
            },
            "type": "scattercarpet"
           }
          ],
          "scattergeo": [
           {
            "marker": {
             "colorbar": {
              "outlinewidth": 0,
              "ticks": ""
             }
            },
            "type": "scattergeo"
           }
          ],
          "scattergl": [
           {
            "marker": {
             "colorbar": {
              "outlinewidth": 0,
              "ticks": ""
             }
            },
            "type": "scattergl"
           }
          ],
          "scattermapbox": [
           {
            "marker": {
             "colorbar": {
              "outlinewidth": 0,
              "ticks": ""
             }
            },
            "type": "scattermapbox"
           }
          ],
          "scatterpolar": [
           {
            "marker": {
             "colorbar": {
              "outlinewidth": 0,
              "ticks": ""
             }
            },
            "type": "scatterpolar"
           }
          ],
          "scatterpolargl": [
           {
            "marker": {
             "colorbar": {
              "outlinewidth": 0,
              "ticks": ""
             }
            },
            "type": "scatterpolargl"
           }
          ],
          "scatterternary": [
           {
            "marker": {
             "colorbar": {
              "outlinewidth": 0,
              "ticks": ""
             }
            },
            "type": "scatterternary"
           }
          ],
          "surface": [
           {
            "colorbar": {
             "outlinewidth": 0,
             "ticks": ""
            },
            "colorscale": [
             [
              0,
              "#0d0887"
             ],
             [
              0.1111111111111111,
              "#46039f"
             ],
             [
              0.2222222222222222,
              "#7201a8"
             ],
             [
              0.3333333333333333,
              "#9c179e"
             ],
             [
              0.4444444444444444,
              "#bd3786"
             ],
             [
              0.5555555555555556,
              "#d8576b"
             ],
             [
              0.6666666666666666,
              "#ed7953"
             ],
             [
              0.7777777777777778,
              "#fb9f3a"
             ],
             [
              0.8888888888888888,
              "#fdca26"
             ],
             [
              1,
              "#f0f921"
             ]
            ],
            "type": "surface"
           }
          ],
          "table": [
           {
            "cells": {
             "fill": {
              "color": "#EBF0F8"
             },
             "line": {
              "color": "white"
             }
            },
            "header": {
             "fill": {
              "color": "#C8D4E3"
             },
             "line": {
              "color": "white"
             }
            },
            "type": "table"
           }
          ]
         },
         "layout": {
          "annotationdefaults": {
           "arrowcolor": "#2a3f5f",
           "arrowhead": 0,
           "arrowwidth": 1
          },
          "autotypenumbers": "strict",
          "coloraxis": {
           "colorbar": {
            "outlinewidth": 0,
            "ticks": ""
           }
          },
          "colorscale": {
           "diverging": [
            [
             0,
             "#8e0152"
            ],
            [
             0.1,
             "#c51b7d"
            ],
            [
             0.2,
             "#de77ae"
            ],
            [
             0.3,
             "#f1b6da"
            ],
            [
             0.4,
             "#fde0ef"
            ],
            [
             0.5,
             "#f7f7f7"
            ],
            [
             0.6,
             "#e6f5d0"
            ],
            [
             0.7,
             "#b8e186"
            ],
            [
             0.8,
             "#7fbc41"
            ],
            [
             0.9,
             "#4d9221"
            ],
            [
             1,
             "#276419"
            ]
           ],
           "sequential": [
            [
             0,
             "#0d0887"
            ],
            [
             0.1111111111111111,
             "#46039f"
            ],
            [
             0.2222222222222222,
             "#7201a8"
            ],
            [
             0.3333333333333333,
             "#9c179e"
            ],
            [
             0.4444444444444444,
             "#bd3786"
            ],
            [
             0.5555555555555556,
             "#d8576b"
            ],
            [
             0.6666666666666666,
             "#ed7953"
            ],
            [
             0.7777777777777778,
             "#fb9f3a"
            ],
            [
             0.8888888888888888,
             "#fdca26"
            ],
            [
             1,
             "#f0f921"
            ]
           ],
           "sequentialminus": [
            [
             0,
             "#0d0887"
            ],
            [
             0.1111111111111111,
             "#46039f"
            ],
            [
             0.2222222222222222,
             "#7201a8"
            ],
            [
             0.3333333333333333,
             "#9c179e"
            ],
            [
             0.4444444444444444,
             "#bd3786"
            ],
            [
             0.5555555555555556,
             "#d8576b"
            ],
            [
             0.6666666666666666,
             "#ed7953"
            ],
            [
             0.7777777777777778,
             "#fb9f3a"
            ],
            [
             0.8888888888888888,
             "#fdca26"
            ],
            [
             1,
             "#f0f921"
            ]
           ]
          },
          "colorway": [
           "#636efa",
           "#EF553B",
           "#00cc96",
           "#ab63fa",
           "#FFA15A",
           "#19d3f3",
           "#FF6692",
           "#B6E880",
           "#FF97FF",
           "#FECB52"
          ],
          "font": {
           "color": "#2a3f5f"
          },
          "geo": {
           "bgcolor": "white",
           "lakecolor": "white",
           "landcolor": "#E5ECF6",
           "showlakes": true,
           "showland": true,
           "subunitcolor": "white"
          },
          "hoverlabel": {
           "align": "left"
          },
          "hovermode": "closest",
          "mapbox": {
           "style": "light"
          },
          "paper_bgcolor": "white",
          "plot_bgcolor": "#E5ECF6",
          "polar": {
           "angularaxis": {
            "gridcolor": "white",
            "linecolor": "white",
            "ticks": ""
           },
           "bgcolor": "#E5ECF6",
           "radialaxis": {
            "gridcolor": "white",
            "linecolor": "white",
            "ticks": ""
           }
          },
          "scene": {
           "xaxis": {
            "backgroundcolor": "#E5ECF6",
            "gridcolor": "white",
            "gridwidth": 2,
            "linecolor": "white",
            "showbackground": true,
            "ticks": "",
            "zerolinecolor": "white"
           },
           "yaxis": {
            "backgroundcolor": "#E5ECF6",
            "gridcolor": "white",
            "gridwidth": 2,
            "linecolor": "white",
            "showbackground": true,
            "ticks": "",
            "zerolinecolor": "white"
           },
           "zaxis": {
            "backgroundcolor": "#E5ECF6",
            "gridcolor": "white",
            "gridwidth": 2,
            "linecolor": "white",
            "showbackground": true,
            "ticks": "",
            "zerolinecolor": "white"
           }
          },
          "shapedefaults": {
           "line": {
            "color": "#2a3f5f"
           }
          },
          "ternary": {
           "aaxis": {
            "gridcolor": "white",
            "linecolor": "white",
            "ticks": ""
           },
           "baxis": {
            "gridcolor": "white",
            "linecolor": "white",
            "ticks": ""
           },
           "bgcolor": "#E5ECF6",
           "caxis": {
            "gridcolor": "white",
            "linecolor": "white",
            "ticks": ""
           }
          },
          "title": {
           "x": 0.05
          },
          "xaxis": {
           "automargin": true,
           "gridcolor": "white",
           "linecolor": "white",
           "ticks": "",
           "title": {
            "standoff": 15
           },
           "zerolinecolor": "white",
           "zerolinewidth": 2
          },
          "yaxis": {
           "automargin": true,
           "gridcolor": "white",
           "linecolor": "white",
           "ticks": "",
           "title": {
            "standoff": 15
           },
           "zerolinecolor": "white",
           "zerolinewidth": 2
          }
         }
        },
        "title": {
         "text": "Pokemon Primary Type Distribution by Generaion"
        },
        "width": 800,
        "xaxis": {
         "autorange": true,
         "range": [
          0.5,
          8.5
         ],
         "title": {
          "text": "Generation # [-]"
         },
         "type": "linear"
        },
        "yaxis": {
         "autorange": true,
         "range": [
          0,
          158.94736842105263
         ],
         "title": {
          "text": "Primary Type Count [-]"
         },
         "type": "linear"
        }
       }
      },
      "image/png": "[encoded data removed]",
      "text/html": [
       "<div>                            <div id=\"e2c89591-af84-4b48-a131-4b17bb56acc4\" class=\"plotly-graph-div\" style=\"height:700px; width:800px;\"></div>            <script type=\"text/javascript\">                require([\"plotly\"], function(Plotly) {                    window.PLOTLYENV=window.PLOTLYENV || {};                                    if (document.getElementById(\"e2c89591-af84-4b48-a131-4b17bb56acc4\")) {                    Plotly.newPlot(                        \"e2c89591-af84-4b48-a131-4b17bb56acc4\",                        [{\"hoverinfo\":\"text\",\"hovertext\":[\"Type: bug\\u003cbr\\u003eTotal: 12\",\"Type: bug\\u003cbr\\u003eTotal: 10\",\"Type: bug\\u003cbr\\u003eTotal: 12\",\"Type: bug\\u003cbr\\u003eTotal: 2\",\"Type: bug\\u003cbr\\u003eTotal: 0\",\"Type: bug\\u003cbr\\u003eTotal: 0\",\"Type: bug\\u003cbr\\u003eTotal: 0\",\"Type: bug\\u003cbr\\u003eTotal: 0\"],\"marker\":{\"color\":\"#A8B820\"},\"name\":\"bug\",\"x\":[1,2,3,4,5,6,7,8],\"y\":[12,10,12,2,0,0,0,0],\"type\":\"bar\"},{\"hoverinfo\":\"text\",\"hovertext\":[\"Type: dark\\u003cbr\\u003eTotal: 0\",\"Type: dark\\u003cbr\\u003eTotal: 5\",\"Type: dark\\u003cbr\\u003eTotal: 4\",\"Type: dark\\u003cbr\\u003eTotal: 0\",\"Type: dark\\u003cbr\\u003eTotal: 0\",\"Type: dark\\u003cbr\\u003eTotal: 0\",\"Type: dark\\u003cbr\\u003eTotal: 0\",\"Type: dark\\u003cbr\\u003eTotal: 0\"],\"marker\":{\"color\":\"#705848\"},\"name\":\"dark\",\"x\":[1,2,3,4,5,6,7,8],\"y\":[0,5,4,0,0,0,0,0],\"type\":\"bar\"},{\"hoverinfo\":\"text\",\"hovertext\":[\"Type: dragon\\u003cbr\\u003eTotal: 3\",\"Type: dragon\\u003cbr\\u003eTotal: 0\",\"Type: dragon\\u003cbr\\u003eTotal: 7\",\"Type: dragon\\u003cbr\\u003eTotal: 0\",\"Type: dragon\\u003cbr\\u003eTotal: 0\",\"Type: dragon\\u003cbr\\u003eTotal: 0\",\"Type: dragon\\u003cbr\\u003eTotal: 0\",\"Type: dragon\\u003cbr\\u003eTotal: 0\"],\"marker\":{\"color\":\"#7038F8\"},\"name\":\"dragon\",\"x\":[1,2,3,4,5,6,7,8],\"y\":[3,0,7,0,0,0,0,0],\"type\":\"bar\"},{\"hoverinfo\":\"text\",\"hovertext\":[\"Type: electric\\u003cbr\\u003eTotal: 9\",\"Type: electric\\u003cbr\\u003eTotal: 6\",\"Type: electric\\u003cbr\\u003eTotal: 4\",\"Type: electric\\u003cbr\\u003eTotal: 3\",\"Type: electric\\u003cbr\\u003eTotal: 0\",\"Type: electric\\u003cbr\\u003eTotal: 0\",\"Type: electric\\u003cbr\\u003eTotal: 0\",\"Type: electric\\u003cbr\\u003eTotal: 0\"],\"marker\":{\"color\":\"#F8D030\"},\"name\":\"electric\",\"x\":[1,2,3,4,5,6,7,8],\"y\":[9,6,4,3,0,0,0,0],\"type\":\"bar\"},{\"hoverinfo\":\"text\",\"hovertext\":[\"Type: fairy\\u003cbr\\u003eTotal: 2\",\"Type: fairy\\u003cbr\\u003eTotal: 5\",\"Type: fairy\\u003cbr\\u003eTotal: 0\",\"Type: fairy\\u003cbr\\u003eTotal: 0\",\"Type: fairy\\u003cbr\\u003eTotal: 0\",\"Type: fairy\\u003cbr\\u003eTotal: 0\",\"Type: fairy\\u003cbr\\u003eTotal: 0\",\"Type: fairy\\u003cbr\\u003eTotal: 0\"],\"marker\":{\"color\":\"#EE99AC\"},\"name\":\"fairy\",\"x\":[1,2,3,4,5,6,7,8],\"y\":[2,5,0,0,0,0,0,0],\"type\":\"bar\"},{\"hoverinfo\":\"text\",\"hovertext\":[\"Type: fighting\\u003cbr\\u003eTotal: 7\",\"Type: fighting\\u003cbr\\u003eTotal: 2\",\"Type: fighting\\u003cbr\\u003eTotal: 4\",\"Type: fighting\\u003cbr\\u003eTotal: 0\",\"Type: fighting\\u003cbr\\u003eTotal: 0\",\"Type: fighting\\u003cbr\\u003eTotal: 0\",\"Type: fighting\\u003cbr\\u003eTotal: 0\",\"Type: fighting\\u003cbr\\u003eTotal: 0\"],\"marker\":{\"color\":\"#C03028\"},\"name\":\"fighting\",\"x\":[1,2,3,4,5,6,7,8],\"y\":[7,2,4,0,0,0,0,0],\"type\":\"bar\"},{\"hoverinfo\":\"text\",\"hovertext\":[\"Type: fire\\u003cbr\\u003eTotal: 12\",\"Type: fire\\u003cbr\\u003eTotal: 8\",\"Type: fire\\u003cbr\\u003eTotal: 6\",\"Type: fire\\u003cbr\\u003eTotal: 3\",\"Type: fire\\u003cbr\\u003eTotal: 0\",\"Type: fire\\u003cbr\\u003eTotal: 0\",\"Type: fire\\u003cbr\\u003eTotal: 0\",\"Type: fire\\u003cbr\\u003eTotal: 0\"],\"marker\":{\"color\":\"#F08030\"},\"name\":\"fire\",\"x\":[1,2,3,4,5,6,7,8],\"y\":[12,8,6,3,0,0,0,0],\"type\":\"bar\"},{\"hoverinfo\":\"text\",\"hovertext\":[\"Type: ghost\\u003cbr\\u003eTotal: 3\",\"Type: ghost\\u003cbr\\u003eTotal: 1\",\"Type: ghost\\u003cbr\\u003eTotal: 4\",\"Type: ghost\\u003cbr\\u003eTotal: 0\",\"Type: ghost\\u003cbr\\u003eTotal: 0\",\"Type: ghost\\u003cbr\\u003eTotal: 0\",\"Type: ghost\\u003cbr\\u003eTotal: 0\",\"Type: ghost\\u003cbr\\u003eTotal: 0\"],\"marker\":{\"color\":\"#705898\"},\"name\":\"ghost\",\"x\":[1,2,3,4,5,6,7,8],\"y\":[3,1,4,0,0,0,0,0],\"type\":\"bar\"},{\"hoverinfo\":\"text\",\"hovertext\":[\"Type: grass\\u003cbr\\u003eTotal: 12\",\"Type: grass\\u003cbr\\u003eTotal: 9\",\"Type: grass\\u003cbr\\u003eTotal: 12\",\"Type: grass\\u003cbr\\u003eTotal: 3\",\"Type: grass\\u003cbr\\u003eTotal: 0\",\"Type: grass\\u003cbr\\u003eTotal: 0\",\"Type: grass\\u003cbr\\u003eTotal: 0\",\"Type: grass\\u003cbr\\u003eTotal: 0\"],\"marker\":{\"color\":\"#78C850\"},\"name\":\"grass\",\"x\":[1,2,3,4,5,6,7,8],\"y\":[12,9,12,3,0,0,0,0],\"type\":\"bar\"},{\"hoverinfo\":\"text\",\"hovertext\":[\"Type: ground\\u003cbr\\u003eTotal: 8\",\"Type: ground\\u003cbr\\u003eTotal: 3\",\"Type: ground\\u003cbr\\u003eTotal: 6\",\"Type: ground\\u003cbr\\u003eTotal: 0\",\"Type: ground\\u003cbr\\u003eTotal: 0\",\"Type: ground\\u003cbr\\u003eTotal: 0\",\"Type: ground\\u003cbr\\u003eTotal: 0\",\"Type: ground\\u003cbr\\u003eTotal: 0\"],\"marker\":{\"color\":\"#E0C068\"},\"name\":\"ground\",\"x\":[1,2,3,4,5,6,7,8],\"y\":[8,3,6,0,0,0,0,0],\"type\":\"bar\"},{\"hoverinfo\":\"text\",\"hovertext\":[\"Type: ice\\u003cbr\\u003eTotal: 2\",\"Type: ice\\u003cbr\\u003eTotal: 4\",\"Type: ice\\u003cbr\\u003eTotal: 6\",\"Type: ice\\u003cbr\\u003eTotal: 0\",\"Type: ice\\u003cbr\\u003eTotal: 0\",\"Type: ice\\u003cbr\\u003eTotal: 0\",\"Type: ice\\u003cbr\\u003eTotal: 0\",\"Type: ice\\u003cbr\\u003eTotal: 0\"],\"marker\":{\"color\":\"#98D8D8\"},\"name\":\"ice\",\"x\":[1,2,3,4,5,6,7,8],\"y\":[2,4,6,0,0,0,0,0],\"type\":\"bar\"},{\"hoverinfo\":\"text\",\"hovertext\":[\"Type: normal\\u003cbr\\u003eTotal: 22\",\"Type: normal\\u003cbr\\u003eTotal: 15\",\"Type: normal\\u003cbr\\u003eTotal: 18\",\"Type: normal\\u003cbr\\u003eTotal: 5\",\"Type: normal\\u003cbr\\u003eTotal: 0\",\"Type: normal\\u003cbr\\u003eTotal: 0\",\"Type: normal\\u003cbr\\u003eTotal: 0\",\"Type: normal\\u003cbr\\u003eTotal: 0\"],\"marker\":{\"color\":\"#A8A878\"},\"name\":\"normal\",\"x\":[1,2,3,4,5,6,7,8],\"y\":[22,15,18,5,0,0,0,0],\"type\":\"bar\"},{\"hoverinfo\":\"text\",\"hovertext\":[\"Type: poison\\u003cbr\\u003eTotal: 14\",\"Type: poison\\u003cbr\\u003eTotal: 1\",\"Type: poison\\u003cbr\\u003eTotal: 3\",\"Type: poison\\u003cbr\\u003eTotal: 0\",\"Type: poison\\u003cbr\\u003eTotal: 0\",\"Type: poison\\u003cbr\\u003eTotal: 0\",\"Type: poison\\u003cbr\\u003eTotal: 0\",\"Type: poison\\u003cbr\\u003eTotal: 0\"],\"marker\":{\"color\":\"#A040A0\"},\"name\":\"poison\",\"x\":[1,2,3,4,5,6,7,8],\"y\":[14,1,3,0,0,0,0,0],\"type\":\"bar\"},{\"hoverinfo\":\"text\",\"hovertext\":[\"Type: psychic\\u003cbr\\u003eTotal: 8\",\"Type: psychic\\u003cbr\\u003eTotal: 7\",\"Type: psychic\\u003cbr\\u003eTotal: 8\",\"Type: psychic\\u003cbr\\u003eTotal: 0\",\"Type: psychic\\u003cbr\\u003eTotal: 0\",\"Type: psychic\\u003cbr\\u003eTotal: 0\",\"Type: psychic\\u003cbr\\u003eTotal: 0\",\"Type: psychic\\u003cbr\\u003eTotal: 0\"],\"marker\":{\"color\":\"#F85888\"},\"name\":\"psychic\",\"x\":[1,2,3,4,5,6,7,8],\"y\":[8,7,8,0,0,0,0,0],\"type\":\"bar\"},{\"hoverinfo\":\"text\",\"hovertext\":[\"Type: rock\\u003cbr\\u003eTotal: 9\",\"Type: rock\\u003cbr\\u003eTotal: 4\",\"Type: rock\\u003cbr\\u003eTotal: 8\",\"Type: rock\\u003cbr\\u003eTotal: 0\",\"Type: rock\\u003cbr\\u003eTotal: 0\",\"Type: rock\\u003cbr\\u003eTotal: 0\",\"Type: rock\\u003cbr\\u003eTotal: 0\",\"Type: rock\\u003cbr\\u003eTotal: 0\"],\"marker\":{\"color\":\"#B8A038\"},\"name\":\"rock\",\"x\":[1,2,3,4,5,6,7,8],\"y\":[9,4,8,0,0,0,0,0],\"type\":\"bar\"},{\"hoverinfo\":\"text\",\"hovertext\":[\"Type: steel\\u003cbr\\u003eTotal: 0\",\"Type: steel\\u003cbr\\u003eTotal: 2\",\"Type: steel\\u003cbr\\u003eTotal: 9\",\"Type: steel\\u003cbr\\u003eTotal: 0\",\"Type: steel\\u003cbr\\u003eTotal: 0\",\"Type: steel\\u003cbr\\u003eTotal: 0\",\"Type: steel\\u003cbr\\u003eTotal: 0\",\"Type: steel\\u003cbr\\u003eTotal: 0\"],\"marker\":{\"color\":\"#B8B8D0\"},\"name\":\"steel\",\"x\":[1,2,3,4,5,6,7,8],\"y\":[0,2,9,0,0,0,0,0],\"type\":\"bar\"},{\"hoverinfo\":\"text\",\"hovertext\":[\"Type: water\\u003cbr\\u003eTotal: 28\",\"Type: water\\u003cbr\\u003eTotal: 18\",\"Type: water\\u003cbr\\u003eTotal: 24\",\"Type: water\\u003cbr\\u003eTotal: 3\",\"Type: water\\u003cbr\\u003eTotal: 0\",\"Type: water\\u003cbr\\u003eTotal: 0\",\"Type: water\\u003cbr\\u003eTotal: 0\",\"Type: water\\u003cbr\\u003eTotal: 0\"],\"marker\":{\"color\":\"#6890F0\"},\"name\":\"water\",\"x\":[1,2,3,4,5,6,7,8],\"y\":[28,18,24,3,0,0,0,0],\"type\":\"bar\"}],                        {\"template\":{\"data\":{\"histogram2dcontour\":[{\"type\":\"histogram2dcontour\",\"colorbar\":{\"outlinewidth\":0,\"ticks\":\"\"},\"colorscale\":[[0.0,\"#0d0887\"],[0.1111111111111111,\"#46039f\"],[0.2222222222222222,\"#7201a8\"],[0.3333333333333333,\"#9c179e\"],[0.4444444444444444,\"#bd3786\"],[0.5555555555555556,\"#d8576b\"],[0.6666666666666666,\"#ed7953\"],[0.7777777777777778,\"#fb9f3a\"],[0.8888888888888888,\"#fdca26\"],[1.0,\"#f0f921\"]]}],\"choropleth\":[{\"type\":\"choropleth\",\"colorbar\":{\"outlinewidth\":0,\"ticks\":\"\"}}],\"histogram2d\":[{\"type\":\"histogram2d\",\"colorbar\":{\"outlinewidth\":0,\"ticks\":\"\"},\"colorscale\":[[0.0,\"#0d0887\"],[0.1111111111111111,\"#46039f\"],[0.2222222222222222,\"#7201a8\"],[0.3333333333333333,\"#9c179e\"],[0.4444444444444444,\"#bd3786\"],[0.5555555555555556,\"#d8576b\"],[0.6666666666666666,\"#ed7953\"],[0.7777777777777778,\"#fb9f3a\"],[0.8888888888888888,\"#fdca26\"],[1.0,\"#f0f921\"]]}],\"heatmap\":[{\"type\":\"heatmap\",\"colorbar\":{\"outlinewidth\":0,\"ticks\":\"\"},\"colorscale\":[[0.0,\"#0d0887\"],[0.1111111111111111,\"#46039f\"],[0.2222222222222222,\"#7201a8\"],[0.3333333333333333,\"#9c179e\"],[0.4444444444444444,\"#bd3786\"],[0.5555555555555556,\"#d8576b\"],[0.6666666666666666,\"#ed7953\"],[0.7777777777777778,\"#fb9f3a\"],[0.8888888888888888,\"#fdca26\"],[1.0,\"#f0f921\"]]}],\"heatmapgl\":[{\"type\":\"heatmapgl\",\"colorbar\":{\"outlinewidth\":0,\"ticks\":\"\"},\"colorscale\":[[0.0,\"#0d0887\"],[0.1111111111111111,\"#46039f\"],[0.2222222222222222,\"#7201a8\"],[0.3333333333333333,\"#9c179e\"],[0.4444444444444444,\"#bd3786\"],[0.5555555555555556,\"#d8576b\"],[0.6666666666666666,\"#ed7953\"],[0.7777777777777778,\"#fb9f3a\"],[0.8888888888888888,\"#fdca26\"],[1.0,\"#f0f921\"]]}],\"contourcarpet\":[{\"type\":\"contourcarpet\",\"colorbar\":{\"outlinewidth\":0,\"ticks\":\"\"}}],\"contour\":[{\"type\":\"contour\",\"colorbar\":{\"outlinewidth\":0,\"ticks\":\"\"},\"colorscale\":[[0.0,\"#0d0887\"],[0.1111111111111111,\"#46039f\"],[0.2222222222222222,\"#7201a8\"],[0.3333333333333333,\"#9c179e\"],[0.4444444444444444,\"#bd3786\"],[0.5555555555555556,\"#d8576b\"],[0.6666666666666666,\"#ed7953\"],[0.7777777777777778,\"#fb9f3a\"],[0.8888888888888888,\"#fdca26\"],[1.0,\"#f0f921\"]]}],\"surface\":[{\"type\":\"surface\",\"colorbar\":{\"outlinewidth\":0,\"ticks\":\"\"},\"colorscale\":[[0.0,\"#0d0887\"],[0.1111111111111111,\"#46039f\"],[0.2222222222222222,\"#7201a8\"],[0.3333333333333333,\"#9c179e\"],[0.4444444444444444,\"#bd3786\"],[0.5555555555555556,\"#d8576b\"],[0.6666666666666666,\"#ed7953\"],[0.7777777777777778,\"#fb9f3a\"],[0.8888888888888888,\"#fdca26\"],[1.0,\"#f0f921\"]]}],\"mesh3d\":[{\"type\":\"mesh3d\",\"colorbar\":{\"outlinewidth\":0,\"ticks\":\"\"}}],\"scatter\":[{\"fillpattern\":{\"fillmode\":\"overlay\",\"size\":10,\"solidity\":0.2},\"type\":\"scatter\"}],\"parcoords\":[{\"type\":\"parcoords\",\"line\":{\"colorbar\":{\"outlinewidth\":0,\"ticks\":\"\"}}}],\"scatterpolargl\":[{\"type\":\"scatterpolargl\",\"marker\":{\"colorbar\":{\"outlinewidth\":0,\"ticks\":\"\"}}}],\"bar\":[{\"error_x\":{\"color\":\"#2a3f5f\"},\"error_y\":{\"color\":\"#2a3f5f\"},\"marker\":{\"line\":{\"color\":\"#E5ECF6\",\"width\":0.5},\"pattern\":{\"fillmode\":\"overlay\",\"size\":10,\"solidity\":0.2}},\"type\":\"bar\"}],\"scattergeo\":[{\"type\":\"scattergeo\",\"marker\":{\"colorbar\":{\"outlinewidth\":0,\"ticks\":\"\"}}}],\"scatterpolar\":[{\"type\":\"scatterpolar\",\"marker\":{\"colorbar\":{\"outlinewidth\":0,\"ticks\":\"\"}}}],\"histogram\":[{\"marker\":{\"pattern\":{\"fillmode\":\"overlay\",\"size\":10,\"solidity\":0.2}},\"type\":\"histogram\"}],\"scattergl\":[{\"type\":\"scattergl\",\"marker\":{\"colorbar\":{\"outlinewidth\":0,\"ticks\":\"\"}}}],\"scatter3d\":[{\"type\":\"scatter3d\",\"line\":{\"colorbar\":{\"outlinewidth\":0,\"ticks\":\"\"}},\"marker\":{\"colorbar\":{\"outlinewidth\":0,\"ticks\":\"\"}}}],\"scattermapbox\":[{\"type\":\"scattermapbox\",\"marker\":{\"colorbar\":{\"outlinewidth\":0,\"ticks\":\"\"}}}],\"scatterternary\":[{\"type\":\"scatterternary\",\"marker\":{\"colorbar\":{\"outlinewidth\":0,\"ticks\":\"\"}}}],\"scattercarpet\":[{\"type\":\"scattercarpet\",\"marker\":{\"colorbar\":{\"outlinewidth\":0,\"ticks\":\"\"}}}],\"carpet\":[{\"aaxis\":{\"endlinecolor\":\"#2a3f5f\",\"gridcolor\":\"white\",\"linecolor\":\"white\",\"minorgridcolor\":\"white\",\"startlinecolor\":\"#2a3f5f\"},\"baxis\":{\"endlinecolor\":\"#2a3f5f\",\"gridcolor\":\"white\",\"linecolor\":\"white\",\"minorgridcolor\":\"white\",\"startlinecolor\":\"#2a3f5f\"},\"type\":\"carpet\"}],\"table\":[{\"cells\":{\"fill\":{\"color\":\"#EBF0F8\"},\"line\":{\"color\":\"white\"}},\"header\":{\"fill\":{\"color\":\"#C8D4E3\"},\"line\":{\"color\":\"white\"}},\"type\":\"table\"}],\"barpolar\":[{\"marker\":{\"line\":{\"color\":\"#E5ECF6\",\"width\":0.5},\"pattern\":{\"fillmode\":\"overlay\",\"size\":10,\"solidity\":0.2}},\"type\":\"barpolar\"}],\"pie\":[{\"automargin\":true,\"type\":\"pie\"}]},\"layout\":{\"autotypenumbers\":\"strict\",\"colorway\":[\"#636efa\",\"#EF553B\",\"#00cc96\",\"#ab63fa\",\"#FFA15A\",\"#19d3f3\",\"#FF6692\",\"#B6E880\",\"#FF97FF\",\"#FECB52\"],\"font\":{\"color\":\"#2a3f5f\"},\"hovermode\":\"closest\",\"hoverlabel\":{\"align\":\"left\"},\"paper_bgcolor\":\"white\",\"plot_bgcolor\":\"#E5ECF6\",\"polar\":{\"bgcolor\":\"#E5ECF6\",\"angularaxis\":{\"gridcolor\":\"white\",\"linecolor\":\"white\",\"ticks\":\"\"},\"radialaxis\":{\"gridcolor\":\"white\",\"linecolor\":\"white\",\"ticks\":\"\"}},\"ternary\":{\"bgcolor\":\"#E5ECF6\",\"aaxis\":{\"gridcolor\":\"white\",\"linecolor\":\"white\",\"ticks\":\"\"},\"baxis\":{\"gridcolor\":\"white\",\"linecolor\":\"white\",\"ticks\":\"\"},\"caxis\":{\"gridcolor\":\"white\",\"linecolor\":\"white\",\"ticks\":\"\"}},\"coloraxis\":{\"colorbar\":{\"outlinewidth\":0,\"ticks\":\"\"}},\"colorscale\":{\"sequential\":[[0.0,\"#0d0887\"],[0.1111111111111111,\"#46039f\"],[0.2222222222222222,\"#7201a8\"],[0.3333333333333333,\"#9c179e\"],[0.4444444444444444,\"#bd3786\"],[0.5555555555555556,\"#d8576b\"],[0.6666666666666666,\"#ed7953\"],[0.7777777777777778,\"#fb9f3a\"],[0.8888888888888888,\"#fdca26\"],[1.0,\"#f0f921\"]],\"sequentialminus\":[[0.0,\"#0d0887\"],[0.1111111111111111,\"#46039f\"],[0.2222222222222222,\"#7201a8\"],[0.3333333333333333,\"#9c179e\"],[0.4444444444444444,\"#bd3786\"],[0.5555555555555556,\"#d8576b\"],[0.6666666666666666,\"#ed7953\"],[0.7777777777777778,\"#fb9f3a\"],[0.8888888888888888,\"#fdca26\"],[1.0,\"#f0f921\"]],\"diverging\":[[0,\"#8e0152\"],[0.1,\"#c51b7d\"],[0.2,\"#de77ae\"],[0.3,\"#f1b6da\"],[0.4,\"#fde0ef\"],[0.5,\"#f7f7f7\"],[0.6,\"#e6f5d0\"],[0.7,\"#b8e186\"],[0.8,\"#7fbc41\"],[0.9,\"#4d9221\"],[1,\"#276419\"]]},\"xaxis\":{\"gridcolor\":\"white\",\"linecolor\":\"white\",\"ticks\":\"\",\"title\":{\"standoff\":15},\"zerolinecolor\":\"white\",\"automargin\":true,\"zerolinewidth\":2},\"yaxis\":{\"gridcolor\":\"white\",\"linecolor\":\"white\",\"ticks\":\"\",\"title\":{\"standoff\":15},\"zerolinecolor\":\"white\",\"automargin\":true,\"zerolinewidth\":2},\"scene\":{\"xaxis\":{\"backgroundcolor\":\"#E5ECF6\",\"gridcolor\":\"white\",\"linecolor\":\"white\",\"showbackground\":true,\"ticks\":\"\",\"zerolinecolor\":\"white\",\"gridwidth\":2},\"yaxis\":{\"backgroundcolor\":\"#E5ECF6\",\"gridcolor\":\"white\",\"linecolor\":\"white\",\"showbackground\":true,\"ticks\":\"\",\"zerolinecolor\":\"white\",\"gridwidth\":2},\"zaxis\":{\"backgroundcolor\":\"#E5ECF6\",\"gridcolor\":\"white\",\"linecolor\":\"white\",\"showbackground\":true,\"ticks\":\"\",\"zerolinecolor\":\"white\",\"gridwidth\":2}},\"shapedefaults\":{\"line\":{\"color\":\"#2a3f5f\"}},\"annotationdefaults\":{\"arrowcolor\":\"#2a3f5f\",\"arrowhead\":0,\"arrowwidth\":1},\"geo\":{\"bgcolor\":\"white\",\"landcolor\":\"#E5ECF6\",\"subunitcolor\":\"white\",\"showland\":true,\"showlakes\":true,\"lakecolor\":\"white\"},\"title\":{\"x\":0.05},\"mapbox\":{\"style\":\"light\"}}},\"title\":{\"text\":\"Pokemon Primary Type Distribution by Generaion\"},\"legend\":{\"tracegroupgap\":3},\"barmode\":\"stack\",\"xaxis\":{\"title\":{\"text\":\"Generation # [-]\"}},\"yaxis\":{\"title\":{\"text\":\"Primary Type Count [-]\"}},\"height\":700,\"width\":800},                        {\"responsive\": true}                    ).then(function(){\n",
       "                            \n",
       "var gd = document.getElementById('e2c89591-af84-4b48-a131-4b17bb56acc4');\n",
       "var x = new MutationObserver(function (mutations, observer) {{\n",
       "        var display = window.getComputedStyle(gd).display;\n",
       "        if (!display || display === 'none') {{\n",
       "            console.log([gd, 'removed!']);\n",
       "            Plotly.purge(gd);\n",
       "            observer.disconnect();\n",
       "        }}\n",
       "}});\n",
       "\n",
       "// Listen for the removal of the full notebook cells\n",
       "var notebookContainer = gd.closest('#notebook-container');\n",
       "if (notebookContainer) {{\n",
       "    x.observe(notebookContainer, {childList: true});\n",
       "}}\n",
       "\n",
       "// Listen for the clearing of the current output cell\n",
       "var outputEl = gd.closest('.output');\n",
       "if (outputEl) {{\n",
       "    x.observe(outputEl, {childList: true});\n",
       "}}\n",
       "\n",
       "                        })                };                });            </script>        </div>"
      ]
     },
     "metadata": {},
     "output_type": "display_data"
    }
   ],
   "source": [
    "stack_chart = go.Figure()\n",
    "\n",
    "# Loop through each Pokemon type to add stacked bars to the chart\n",
    "for ptype in primary_type_count.columns:\n",
    "    stack_chart.add_trace(go.Bar(\n",
    "        x=primary_type_count.index, # Generations\n",
    "        y=primary_type_count[ptype], # Pokemon count\n",
    "        name=ptype, # Pokemon type\n",
    "        # Create custom hover info\n",
    "        hoverinfo='text',\n",
    "        # Show type and count on hover\n",
    "        hovertext=[f'Type: {ptype}<br>Total: {count}' for count in primary_type_count[ptype]],\n",
    "        # Set the color of the bars based on the type_colors dictionary\n",
    "        marker={'color': type_colors.get(ptype)}\n",
    "        )\n",
    "    )\n",
    "\n",
    "# Update the layout settings for stacked bar chart\n",
    "stack_chart.update_layout(\n",
    "    # Stack bars on top of each other\n",
    "    barmode='stack',\n",
    "    title_text='Pokemon Primary Type Distribution by Generaion',\n",
    "    xaxis_title='Generation # [-]',\n",
    "    yaxis_title='Primary Type Count [-]',\n",
    "    # Adjust spacing between legend items\n",
    "    legend=dict(tracegroupgap=3),\n",
    "    height=700, width=800\n",
    ")\n",
    "\n",
    "# Show the figure\n",
    "stack_chart.show()"
   ]
  },
  {
   "cell_type": "markdown",
   "id": "40c3d199-9b65-4879-96bd-cec418a5c4d5",
   "metadata": {},
   "source": [
    "## Stacked Bar → Matrix Bar Chart Base Alignment"
   ]
  },
  {
   "cell_type": "markdown",
   "id": "1918725f-9b8c-43aa-b8e2-6de99f72f5eb",
   "metadata": {},
   "source": [
    "Display columns in primary_type_count for reference"
   ]
  },
  {
   "cell_type": "code",
   "execution_count": 202,
   "id": "e7cf9457-86b0-4482-9727-0e44aacf8e8e",
   "metadata": {},
   "outputs": [
    {
     "data": {
      "text/plain": [
       "Index(['bug', 'dark', 'dragon', 'electric', 'fairy', 'fighting', 'fire',\n",
       "       'ghost', 'grass', 'ground', 'ice', 'normal', 'poison', 'psychic',\n",
       "       'rock', 'steel', 'water'],\n",
       "      dtype='object', name='primary_type')"
      ]
     },
     "execution_count": 202,
     "metadata": {},
     "output_type": "execute_result"
    }
   ],
   "source": [
    "primary_type_count.columns"
   ]
  },
  {
   "cell_type": "markdown",
   "id": "5e65f6a0-0c15-46ff-a686-93753f30f455",
   "metadata": {},
   "source": [
    "Set positions for bars in the matrix bar chart"
   ]
  },
  {
   "cell_type": "code",
   "execution_count": 203,
   "id": "8669f58e-55c9-424e-a060-a7451b6bc2e4",
   "metadata": {},
   "outputs": [],
   "source": [
    "base_positions = {\n",
    "    'bug': 20,\n",
    "    'dark': 40,\n",
    "    'dragon': 60,\n",
    "    'electric': 80,\n",
    "    'fairy': 100,\n",
    "    'fighting': 120,\n",
    "    'fire': 140,\n",
    "    'flying': 160,\n",
    "    'ghost': 180,\n",
    "    'grass': 200,\n",
    "    'ground': 220,\n",
    "    'ice': 240,\n",
    "    'normal': 260,\n",
    "    'poison': 280,\n",
    "    'psychic': 300,\n",
    "    'rock': 320,\n",
    "    'steel': 340,\n",
    "    'water': 360,\n",
    "}"
   ]
  },
  {
   "cell_type": "markdown",
   "id": "398cd8c3-e633-40b4-9f2e-e49119e1ca82",
   "metadata": {},
   "source": [
    "Create a new figure for the matrix stacked chart"
   ]
  },
  {
   "cell_type": "code",
   "execution_count": 204,
   "id": "c062257d-18db-4b20-a10c-cf1869ea2956",
   "metadata": {},
   "outputs": [
    {
     "data": {
      "application/vnd.plotly.v1+json": {
       "config": {
        "plotlyServerURL": "https://plot.ly"
       },
       "data": [
        {
         "base": 20,
         "hoverinfo": "text",
         "hovertext": [
          "Type: bug<br>Total: 12",
          "Type: bug<br>Total: 10",
          "Type: bug<br>Total: 12",
          "Type: bug<br>Total: 2",
          "Type: bug<br>Total: 0",
          "Type: bug<br>Total: 0",
          "Type: bug<br>Total: 0",
          "Type: bug<br>Total: 0"
         ],
         "marker": {
          "color": "#A8B820"
         },
         "name": "bug",
         "opacity": 0.75,
         "type": "bar",
         "x": [
          1,
          2,
          3,
          4,
          5,
          6,
          7,
          8
         ],
         "y": [
          12,
          10,
          12,
          2,
          0,
          0,
          0,
          0
         ]
        },
        {
         "base": 40,
         "hoverinfo": "text",
         "hovertext": [
          "Type: dark<br>Total: 0",
          "Type: dark<br>Total: 5",
          "Type: dark<br>Total: 4",
          "Type: dark<br>Total: 0",
          "Type: dark<br>Total: 0",
          "Type: dark<br>Total: 0",
          "Type: dark<br>Total: 0",
          "Type: dark<br>Total: 0"
         ],
         "marker": {
          "color": "#705848"
         },
         "name": "dark",
         "opacity": 0.75,
         "type": "bar",
         "x": [
          1,
          2,
          3,
          4,
          5,
          6,
          7,
          8
         ],
         "y": [
          0,
          5,
          4,
          0,
          0,
          0,
          0,
          0
         ]
        },
        {
         "base": 60,
         "hoverinfo": "text",
         "hovertext": [
          "Type: dragon<br>Total: 3",
          "Type: dragon<br>Total: 0",
          "Type: dragon<br>Total: 7",
          "Type: dragon<br>Total: 0",
          "Type: dragon<br>Total: 0",
          "Type: dragon<br>Total: 0",
          "Type: dragon<br>Total: 0",
          "Type: dragon<br>Total: 0"
         ],
         "marker": {
          "color": "#7038F8"
         },
         "name": "dragon",
         "opacity": 0.75,
         "type": "bar",
         "x": [
          1,
          2,
          3,
          4,
          5,
          6,
          7,
          8
         ],
         "y": [
          3,
          0,
          7,
          0,
          0,
          0,
          0,
          0
         ]
        },
        {
         "base": 80,
         "hoverinfo": "text",
         "hovertext": [
          "Type: electric<br>Total: 9",
          "Type: electric<br>Total: 6",
          "Type: electric<br>Total: 4",
          "Type: electric<br>Total: 3",
          "Type: electric<br>Total: 0",
          "Type: electric<br>Total: 0",
          "Type: electric<br>Total: 0",
          "Type: electric<br>Total: 0"
         ],
         "marker": {
          "color": "#F8D030"
         },
         "name": "electric",
         "opacity": 0.75,
         "type": "bar",
         "x": [
          1,
          2,
          3,
          4,
          5,
          6,
          7,
          8
         ],
         "y": [
          9,
          6,
          4,
          3,
          0,
          0,
          0,
          0
         ]
        },
        {
         "base": 100,
         "hoverinfo": "text",
         "hovertext": [
          "Type: fairy<br>Total: 2",
          "Type: fairy<br>Total: 5",
          "Type: fairy<br>Total: 0",
          "Type: fairy<br>Total: 0",
          "Type: fairy<br>Total: 0",
          "Type: fairy<br>Total: 0",
          "Type: fairy<br>Total: 0",
          "Type: fairy<br>Total: 0"
         ],
         "marker": {
          "color": "#EE99AC"
         },
         "name": "fairy",
         "opacity": 0.75,
         "type": "bar",
         "x": [
          1,
          2,
          3,
          4,
          5,
          6,
          7,
          8
         ],
         "y": [
          2,
          5,
          0,
          0,
          0,
          0,
          0,
          0
         ]
        },
        {
         "base": 120,
         "hoverinfo": "text",
         "hovertext": [
          "Type: fighting<br>Total: 7",
          "Type: fighting<br>Total: 2",
          "Type: fighting<br>Total: 4",
          "Type: fighting<br>Total: 0",
          "Type: fighting<br>Total: 0",
          "Type: fighting<br>Total: 0",
          "Type: fighting<br>Total: 0",
          "Type: fighting<br>Total: 0"
         ],
         "marker": {
          "color": "#C03028"
         },
         "name": "fighting",
         "opacity": 0.75,
         "type": "bar",
         "x": [
          1,
          2,
          3,
          4,
          5,
          6,
          7,
          8
         ],
         "y": [
          7,
          2,
          4,
          0,
          0,
          0,
          0,
          0
         ]
        },
        {
         "base": 140,
         "hoverinfo": "text",
         "hovertext": [
          "Type: fire<br>Total: 12",
          "Type: fire<br>Total: 8",
          "Type: fire<br>Total: 6",
          "Type: fire<br>Total: 3",
          "Type: fire<br>Total: 0",
          "Type: fire<br>Total: 0",
          "Type: fire<br>Total: 0",
          "Type: fire<br>Total: 0"
         ],
         "marker": {
          "color": "#F08030"
         },
         "name": "fire",
         "opacity": 0.75,
         "type": "bar",
         "x": [
          1,
          2,
          3,
          4,
          5,
          6,
          7,
          8
         ],
         "y": [
          12,
          8,
          6,
          3,
          0,
          0,
          0,
          0
         ]
        },
        {
         "base": 180,
         "hoverinfo": "text",
         "hovertext": [
          "Type: ghost<br>Total: 3",
          "Type: ghost<br>Total: 1",
          "Type: ghost<br>Total: 4",
          "Type: ghost<br>Total: 0",
          "Type: ghost<br>Total: 0",
          "Type: ghost<br>Total: 0",
          "Type: ghost<br>Total: 0",
          "Type: ghost<br>Total: 0"
         ],
         "marker": {
          "color": "#705898"
         },
         "name": "ghost",
         "opacity": 0.75,
         "type": "bar",
         "x": [
          1,
          2,
          3,
          4,
          5,
          6,
          7,
          8
         ],
         "y": [
          3,
          1,
          4,
          0,
          0,
          0,
          0,
          0
         ]
        },
        {
         "base": 200,
         "hoverinfo": "text",
         "hovertext": [
          "Type: grass<br>Total: 12",
          "Type: grass<br>Total: 9",
          "Type: grass<br>Total: 12",
          "Type: grass<br>Total: 3",
          "Type: grass<br>Total: 0",
          "Type: grass<br>Total: 0",
          "Type: grass<br>Total: 0",
          "Type: grass<br>Total: 0"
         ],
         "marker": {
          "color": "#78C850"
         },
         "name": "grass",
         "opacity": 0.75,
         "type": "bar",
         "x": [
          1,
          2,
          3,
          4,
          5,
          6,
          7,
          8
         ],
         "y": [
          12,
          9,
          12,
          3,
          0,
          0,
          0,
          0
         ]
        },
        {
         "base": 220,
         "hoverinfo": "text",
         "hovertext": [
          "Type: ground<br>Total: 8",
          "Type: ground<br>Total: 3",
          "Type: ground<br>Total: 6",
          "Type: ground<br>Total: 0",
          "Type: ground<br>Total: 0",
          "Type: ground<br>Total: 0",
          "Type: ground<br>Total: 0",
          "Type: ground<br>Total: 0"
         ],
         "marker": {
          "color": "#E0C068"
         },
         "name": "ground",
         "opacity": 0.75,
         "type": "bar",
         "x": [
          1,
          2,
          3,
          4,
          5,
          6,
          7,
          8
         ],
         "y": [
          8,
          3,
          6,
          0,
          0,
          0,
          0,
          0
         ]
        },
        {
         "base": 240,
         "hoverinfo": "text",
         "hovertext": [
          "Type: ice<br>Total: 2",
          "Type: ice<br>Total: 4",
          "Type: ice<br>Total: 6",
          "Type: ice<br>Total: 0",
          "Type: ice<br>Total: 0",
          "Type: ice<br>Total: 0",
          "Type: ice<br>Total: 0",
          "Type: ice<br>Total: 0"
         ],
         "marker": {
          "color": "#98D8D8"
         },
         "name": "ice",
         "opacity": 0.75,
         "type": "bar",
         "x": [
          1,
          2,
          3,
          4,
          5,
          6,
          7,
          8
         ],
         "y": [
          2,
          4,
          6,
          0,
          0,
          0,
          0,
          0
         ]
        },
        {
         "base": 260,
         "hoverinfo": "text",
         "hovertext": [
          "Type: normal<br>Total: 22",
          "Type: normal<br>Total: 15",
          "Type: normal<br>Total: 18",
          "Type: normal<br>Total: 5",
          "Type: normal<br>Total: 0",
          "Type: normal<br>Total: 0",
          "Type: normal<br>Total: 0",
          "Type: normal<br>Total: 0"
         ],
         "marker": {
          "color": "#A8A878"
         },
         "name": "normal",
         "opacity": 0.75,
         "type": "bar",
         "x": [
          1,
          2,
          3,
          4,
          5,
          6,
          7,
          8
         ],
         "y": [
          22,
          15,
          18,
          5,
          0,
          0,
          0,
          0
         ]
        },
        {
         "base": 280,
         "hoverinfo": "text",
         "hovertext": [
          "Type: poison<br>Total: 14",
          "Type: poison<br>Total: 1",
          "Type: poison<br>Total: 3",
          "Type: poison<br>Total: 0",
          "Type: poison<br>Total: 0",
          "Type: poison<br>Total: 0",
          "Type: poison<br>Total: 0",
          "Type: poison<br>Total: 0"
         ],
         "marker": {
          "color": "#A040A0"
         },
         "name": "poison",
         "opacity": 0.75,
         "type": "bar",
         "x": [
          1,
          2,
          3,
          4,
          5,
          6,
          7,
          8
         ],
         "y": [
          14,
          1,
          3,
          0,
          0,
          0,
          0,
          0
         ]
        },
        {
         "base": 300,
         "hoverinfo": "text",
         "hovertext": [
          "Type: psychic<br>Total: 8",
          "Type: psychic<br>Total: 7",
          "Type: psychic<br>Total: 8",
          "Type: psychic<br>Total: 0",
          "Type: psychic<br>Total: 0",
          "Type: psychic<br>Total: 0",
          "Type: psychic<br>Total: 0",
          "Type: psychic<br>Total: 0"
         ],
         "marker": {
          "color": "#F85888"
         },
         "name": "psychic",
         "opacity": 0.75,
         "type": "bar",
         "x": [
          1,
          2,
          3,
          4,
          5,
          6,
          7,
          8
         ],
         "y": [
          8,
          7,
          8,
          0,
          0,
          0,
          0,
          0
         ]
        },
        {
         "base": 320,
         "hoverinfo": "text",
         "hovertext": [
          "Type: rock<br>Total: 9",
          "Type: rock<br>Total: 4",
          "Type: rock<br>Total: 8",
          "Type: rock<br>Total: 0",
          "Type: rock<br>Total: 0",
          "Type: rock<br>Total: 0",
          "Type: rock<br>Total: 0",
          "Type: rock<br>Total: 0"
         ],
         "marker": {
          "color": "#B8A038"
         },
         "name": "rock",
         "opacity": 0.75,
         "type": "bar",
         "x": [
          1,
          2,
          3,
          4,
          5,
          6,
          7,
          8
         ],
         "y": [
          9,
          4,
          8,
          0,
          0,
          0,
          0,
          0
         ]
        },
        {
         "base": 340,
         "hoverinfo": "text",
         "hovertext": [
          "Type: steel<br>Total: 0",
          "Type: steel<br>Total: 2",
          "Type: steel<br>Total: 9",
          "Type: steel<br>Total: 0",
          "Type: steel<br>Total: 0",
          "Type: steel<br>Total: 0",
          "Type: steel<br>Total: 0",
          "Type: steel<br>Total: 0"
         ],
         "marker": {
          "color": "#B8B8D0"
         },
         "name": "steel",
         "opacity": 0.75,
         "type": "bar",
         "x": [
          1,
          2,
          3,
          4,
          5,
          6,
          7,
          8
         ],
         "y": [
          0,
          2,
          9,
          0,
          0,
          0,
          0,
          0
         ]
        },
        {
         "base": 360,
         "hoverinfo": "text",
         "hovertext": [
          "Type: water<br>Total: 28",
          "Type: water<br>Total: 18",
          "Type: water<br>Total: 24",
          "Type: water<br>Total: 3",
          "Type: water<br>Total: 0",
          "Type: water<br>Total: 0",
          "Type: water<br>Total: 0",
          "Type: water<br>Total: 0"
         ],
         "marker": {
          "color": "#6890F0"
         },
         "name": "water",
         "opacity": 0.75,
         "type": "bar",
         "x": [
          1,
          2,
          3,
          4,
          5,
          6,
          7,
          8
         ],
         "y": [
          28,
          18,
          24,
          3,
          0,
          0,
          0,
          0
         ]
        }
       ],
       "layout": {
        "barmode": "overlay",
        "height": 700,
        "legend": {
         "tracegroupgap": 3
        },
        "template": {
         "data": {
          "bar": [
           {
            "error_x": {
             "color": "#2a3f5f"
            },
            "error_y": {
             "color": "#2a3f5f"
            },
            "marker": {
             "line": {
              "color": "#E5ECF6",
              "width": 0.5
             },
             "pattern": {
              "fillmode": "overlay",
              "size": 10,
              "solidity": 0.2
             }
            },
            "type": "bar"
           }
          ],
          "barpolar": [
           {
            "marker": {
             "line": {
              "color": "#E5ECF6",
              "width": 0.5
             },
             "pattern": {
              "fillmode": "overlay",
              "size": 10,
              "solidity": 0.2
             }
            },
            "type": "barpolar"
           }
          ],
          "carpet": [
           {
            "aaxis": {
             "endlinecolor": "#2a3f5f",
             "gridcolor": "white",
             "linecolor": "white",
             "minorgridcolor": "white",
             "startlinecolor": "#2a3f5f"
            },
            "baxis": {
             "endlinecolor": "#2a3f5f",
             "gridcolor": "white",
             "linecolor": "white",
             "minorgridcolor": "white",
             "startlinecolor": "#2a3f5f"
            },
            "type": "carpet"
           }
          ],
          "choropleth": [
           {
            "colorbar": {
             "outlinewidth": 0,
             "ticks": ""
            },
            "type": "choropleth"
           }
          ],
          "contour": [
           {
            "colorbar": {
             "outlinewidth": 0,
             "ticks": ""
            },
            "colorscale": [
             [
              0,
              "#0d0887"
             ],
             [
              0.1111111111111111,
              "#46039f"
             ],
             [
              0.2222222222222222,
              "#7201a8"
             ],
             [
              0.3333333333333333,
              "#9c179e"
             ],
             [
              0.4444444444444444,
              "#bd3786"
             ],
             [
              0.5555555555555556,
              "#d8576b"
             ],
             [
              0.6666666666666666,
              "#ed7953"
             ],
             [
              0.7777777777777778,
              "#fb9f3a"
             ],
             [
              0.8888888888888888,
              "#fdca26"
             ],
             [
              1,
              "#f0f921"
             ]
            ],
            "type": "contour"
           }
          ],
          "contourcarpet": [
           {
            "colorbar": {
             "outlinewidth": 0,
             "ticks": ""
            },
            "type": "contourcarpet"
           }
          ],
          "heatmap": [
           {
            "colorbar": {
             "outlinewidth": 0,
             "ticks": ""
            },
            "colorscale": [
             [
              0,
              "#0d0887"
             ],
             [
              0.1111111111111111,
              "#46039f"
             ],
             [
              0.2222222222222222,
              "#7201a8"
             ],
             [
              0.3333333333333333,
              "#9c179e"
             ],
             [
              0.4444444444444444,
              "#bd3786"
             ],
             [
              0.5555555555555556,
              "#d8576b"
             ],
             [
              0.6666666666666666,
              "#ed7953"
             ],
             [
              0.7777777777777778,
              "#fb9f3a"
             ],
             [
              0.8888888888888888,
              "#fdca26"
             ],
             [
              1,
              "#f0f921"
             ]
            ],
            "type": "heatmap"
           }
          ],
          "heatmapgl": [
           {
            "colorbar": {
             "outlinewidth": 0,
             "ticks": ""
            },
            "colorscale": [
             [
              0,
              "#0d0887"
             ],
             [
              0.1111111111111111,
              "#46039f"
             ],
             [
              0.2222222222222222,
              "#7201a8"
             ],
             [
              0.3333333333333333,
              "#9c179e"
             ],
             [
              0.4444444444444444,
              "#bd3786"
             ],
             [
              0.5555555555555556,
              "#d8576b"
             ],
             [
              0.6666666666666666,
              "#ed7953"
             ],
             [
              0.7777777777777778,
              "#fb9f3a"
             ],
             [
              0.8888888888888888,
              "#fdca26"
             ],
             [
              1,
              "#f0f921"
             ]
            ],
            "type": "heatmapgl"
           }
          ],
          "histogram": [
           {
            "marker": {
             "pattern": {
              "fillmode": "overlay",
              "size": 10,
              "solidity": 0.2
             }
            },
            "type": "histogram"
           }
          ],
          "histogram2d": [
           {
            "colorbar": {
             "outlinewidth": 0,
             "ticks": ""
            },
            "colorscale": [
             [
              0,
              "#0d0887"
             ],
             [
              0.1111111111111111,
              "#46039f"
             ],
             [
              0.2222222222222222,
              "#7201a8"
             ],
             [
              0.3333333333333333,
              "#9c179e"
             ],
             [
              0.4444444444444444,
              "#bd3786"
             ],
             [
              0.5555555555555556,
              "#d8576b"
             ],
             [
              0.6666666666666666,
              "#ed7953"
             ],
             [
              0.7777777777777778,
              "#fb9f3a"
             ],
             [
              0.8888888888888888,
              "#fdca26"
             ],
             [
              1,
              "#f0f921"
             ]
            ],
            "type": "histogram2d"
           }
          ],
          "histogram2dcontour": [
           {
            "colorbar": {
             "outlinewidth": 0,
             "ticks": ""
            },
            "colorscale": [
             [
              0,
              "#0d0887"
             ],
             [
              0.1111111111111111,
              "#46039f"
             ],
             [
              0.2222222222222222,
              "#7201a8"
             ],
             [
              0.3333333333333333,
              "#9c179e"
             ],
             [
              0.4444444444444444,
              "#bd3786"
             ],
             [
              0.5555555555555556,
              "#d8576b"
             ],
             [
              0.6666666666666666,
              "#ed7953"
             ],
             [
              0.7777777777777778,
              "#fb9f3a"
             ],
             [
              0.8888888888888888,
              "#fdca26"
             ],
             [
              1,
              "#f0f921"
             ]
            ],
            "type": "histogram2dcontour"
           }
          ],
          "mesh3d": [
           {
            "colorbar": {
             "outlinewidth": 0,
             "ticks": ""
            },
            "type": "mesh3d"
           }
          ],
          "parcoords": [
           {
            "line": {
             "colorbar": {
              "outlinewidth": 0,
              "ticks": ""
             }
            },
            "type": "parcoords"
           }
          ],
          "pie": [
           {
            "automargin": true,
            "type": "pie"
           }
          ],
          "scatter": [
           {
            "fillpattern": {
             "fillmode": "overlay",
             "size": 10,
             "solidity": 0.2
            },
            "type": "scatter"
           }
          ],
          "scatter3d": [
           {
            "line": {
             "colorbar": {
              "outlinewidth": 0,
              "ticks": ""
             }
            },
            "marker": {
             "colorbar": {
              "outlinewidth": 0,
              "ticks": ""
             }
            },
            "type": "scatter3d"
           }
          ],
          "scattercarpet": [
           {
            "marker": {
             "colorbar": {
              "outlinewidth": 0,
              "ticks": ""
             }
            },
            "type": "scattercarpet"
           }
          ],
          "scattergeo": [
           {
            "marker": {
             "colorbar": {
              "outlinewidth": 0,
              "ticks": ""
             }
            },
            "type": "scattergeo"
           }
          ],
          "scattergl": [
           {
            "marker": {
             "colorbar": {
              "outlinewidth": 0,
              "ticks": ""
             }
            },
            "type": "scattergl"
           }
          ],
          "scattermapbox": [
           {
            "marker": {
             "colorbar": {
              "outlinewidth": 0,
              "ticks": ""
             }
            },
            "type": "scattermapbox"
           }
          ],
          "scatterpolar": [
           {
            "marker": {
             "colorbar": {
              "outlinewidth": 0,
              "ticks": ""
             }
            },
            "type": "scatterpolar"
           }
          ],
          "scatterpolargl": [
           {
            "marker": {
             "colorbar": {
              "outlinewidth": 0,
              "ticks": ""
             }
            },
            "type": "scatterpolargl"
           }
          ],
          "scatterternary": [
           {
            "marker": {
             "colorbar": {
              "outlinewidth": 0,
              "ticks": ""
             }
            },
            "type": "scatterternary"
           }
          ],
          "surface": [
           {
            "colorbar": {
             "outlinewidth": 0,
             "ticks": ""
            },
            "colorscale": [
             [
              0,
              "#0d0887"
             ],
             [
              0.1111111111111111,
              "#46039f"
             ],
             [
              0.2222222222222222,
              "#7201a8"
             ],
             [
              0.3333333333333333,
              "#9c179e"
             ],
             [
              0.4444444444444444,
              "#bd3786"
             ],
             [
              0.5555555555555556,
              "#d8576b"
             ],
             [
              0.6666666666666666,
              "#ed7953"
             ],
             [
              0.7777777777777778,
              "#fb9f3a"
             ],
             [
              0.8888888888888888,
              "#fdca26"
             ],
             [
              1,
              "#f0f921"
             ]
            ],
            "type": "surface"
           }
          ],
          "table": [
           {
            "cells": {
             "fill": {
              "color": "#EBF0F8"
             },
             "line": {
              "color": "white"
             }
            },
            "header": {
             "fill": {
              "color": "#C8D4E3"
             },
             "line": {
              "color": "white"
             }
            },
            "type": "table"
           }
          ]
         },
         "layout": {
          "annotationdefaults": {
           "arrowcolor": "#2a3f5f",
           "arrowhead": 0,
           "arrowwidth": 1
          },
          "autotypenumbers": "strict",
          "coloraxis": {
           "colorbar": {
            "outlinewidth": 0,
            "ticks": ""
           }
          },
          "colorscale": {
           "diverging": [
            [
             0,
             "#8e0152"
            ],
            [
             0.1,
             "#c51b7d"
            ],
            [
             0.2,
             "#de77ae"
            ],
            [
             0.3,
             "#f1b6da"
            ],
            [
             0.4,
             "#fde0ef"
            ],
            [
             0.5,
             "#f7f7f7"
            ],
            [
             0.6,
             "#e6f5d0"
            ],
            [
             0.7,
             "#b8e186"
            ],
            [
             0.8,
             "#7fbc41"
            ],
            [
             0.9,
             "#4d9221"
            ],
            [
             1,
             "#276419"
            ]
           ],
           "sequential": [
            [
             0,
             "#0d0887"
            ],
            [
             0.1111111111111111,
             "#46039f"
            ],
            [
             0.2222222222222222,
             "#7201a8"
            ],
            [
             0.3333333333333333,
             "#9c179e"
            ],
            [
             0.4444444444444444,
             "#bd3786"
            ],
            [
             0.5555555555555556,
             "#d8576b"
            ],
            [
             0.6666666666666666,
             "#ed7953"
            ],
            [
             0.7777777777777778,
             "#fb9f3a"
            ],
            [
             0.8888888888888888,
             "#fdca26"
            ],
            [
             1,
             "#f0f921"
            ]
           ],
           "sequentialminus": [
            [
             0,
             "#0d0887"
            ],
            [
             0.1111111111111111,
             "#46039f"
            ],
            [
             0.2222222222222222,
             "#7201a8"
            ],
            [
             0.3333333333333333,
             "#9c179e"
            ],
            [
             0.4444444444444444,
             "#bd3786"
            ],
            [
             0.5555555555555556,
             "#d8576b"
            ],
            [
             0.6666666666666666,
             "#ed7953"
            ],
            [
             0.7777777777777778,
             "#fb9f3a"
            ],
            [
             0.8888888888888888,
             "#fdca26"
            ],
            [
             1,
             "#f0f921"
            ]
           ]
          },
          "colorway": [
           "#636efa",
           "#EF553B",
           "#00cc96",
           "#ab63fa",
           "#FFA15A",
           "#19d3f3",
           "#FF6692",
           "#B6E880",
           "#FF97FF",
           "#FECB52"
          ],
          "font": {
           "color": "#2a3f5f"
          },
          "geo": {
           "bgcolor": "white",
           "lakecolor": "white",
           "landcolor": "#E5ECF6",
           "showlakes": true,
           "showland": true,
           "subunitcolor": "white"
          },
          "hoverlabel": {
           "align": "left"
          },
          "hovermode": "closest",
          "mapbox": {
           "style": "light"
          },
          "paper_bgcolor": "white",
          "plot_bgcolor": "#E5ECF6",
          "polar": {
           "angularaxis": {
            "gridcolor": "white",
            "linecolor": "white",
            "ticks": ""
           },
           "bgcolor": "#E5ECF6",
           "radialaxis": {
            "gridcolor": "white",
            "linecolor": "white",
            "ticks": ""
           }
          },
          "scene": {
           "xaxis": {
            "backgroundcolor": "#E5ECF6",
            "gridcolor": "white",
            "gridwidth": 2,
            "linecolor": "white",
            "showbackground": true,
            "ticks": "",
            "zerolinecolor": "white"
           },
           "yaxis": {
            "backgroundcolor": "#E5ECF6",
            "gridcolor": "white",
            "gridwidth": 2,
            "linecolor": "white",
            "showbackground": true,
            "ticks": "",
            "zerolinecolor": "white"
           },
           "zaxis": {
            "backgroundcolor": "#E5ECF6",
            "gridcolor": "white",
            "gridwidth": 2,
            "linecolor": "white",
            "showbackground": true,
            "ticks": "",
            "zerolinecolor": "white"
           }
          },
          "shapedefaults": {
           "line": {
            "color": "#2a3f5f"
           }
          },
          "ternary": {
           "aaxis": {
            "gridcolor": "white",
            "linecolor": "white",
            "ticks": ""
           },
           "baxis": {
            "gridcolor": "white",
            "linecolor": "white",
            "ticks": ""
           },
           "bgcolor": "#E5ECF6",
           "caxis": {
            "gridcolor": "white",
            "linecolor": "white",
            "ticks": ""
           }
          },
          "title": {
           "x": 0.05
          },
          "xaxis": {
           "automargin": true,
           "gridcolor": "white",
           "linecolor": "white",
           "ticks": "",
           "title": {
            "standoff": 15
           },
           "zerolinecolor": "white",
           "zerolinewidth": 2
          },
          "yaxis": {
           "automargin": true,
           "gridcolor": "white",
           "linecolor": "white",
           "ticks": "",
           "title": {
            "standoff": 15
           },
           "zerolinecolor": "white",
           "zerolinewidth": 2
          }
         }
        },
        "title": {
         "text": "Pokemon Primary Type Distribution Matrix"
        },
        "width": 800,
        "xaxis": {
         "autorange": true,
         "range": [
          0.5,
          8.5
         ],
         "title": {
          "text": "Generation # [-]"
         },
         "type": "linear"
        },
        "yaxis": {
         "autorange": true,
         "range": [
          -0.44444444444444287,
          408.44444444444446
         ],
         "showticklabels": false,
         "title": {
          "text": "Primary Type Count [-]"
         },
         "type": "linear"
        }
       }
      },
      "image/png": "[encoded data removed]",
      "text/html": [
       "<div>                            <div id=\"ecc74b21-49e1-4360-9060-ce914f20be3f\" class=\"plotly-graph-div\" style=\"height:700px; width:800px;\"></div>            <script type=\"text/javascript\">                require([\"plotly\"], function(Plotly) {                    window.PLOTLYENV=window.PLOTLYENV || {};                                    if (document.getElementById(\"ecc74b21-49e1-4360-9060-ce914f20be3f\")) {                    Plotly.newPlot(                        \"ecc74b21-49e1-4360-9060-ce914f20be3f\",                        [{\"base\":20,\"hoverinfo\":\"text\",\"hovertext\":[\"Type: bug\\u003cbr\\u003eTotal: 12\",\"Type: bug\\u003cbr\\u003eTotal: 10\",\"Type: bug\\u003cbr\\u003eTotal: 12\",\"Type: bug\\u003cbr\\u003eTotal: 2\",\"Type: bug\\u003cbr\\u003eTotal: 0\",\"Type: bug\\u003cbr\\u003eTotal: 0\",\"Type: bug\\u003cbr\\u003eTotal: 0\",\"Type: bug\\u003cbr\\u003eTotal: 0\"],\"marker\":{\"color\":\"#A8B820\"},\"name\":\"bug\",\"opacity\":0.75,\"x\":[1,2,3,4,5,6,7,8],\"y\":[12,10,12,2,0,0,0,0],\"type\":\"bar\"},{\"base\":40,\"hoverinfo\":\"text\",\"hovertext\":[\"Type: dark\\u003cbr\\u003eTotal: 0\",\"Type: dark\\u003cbr\\u003eTotal: 5\",\"Type: dark\\u003cbr\\u003eTotal: 4\",\"Type: dark\\u003cbr\\u003eTotal: 0\",\"Type: dark\\u003cbr\\u003eTotal: 0\",\"Type: dark\\u003cbr\\u003eTotal: 0\",\"Type: dark\\u003cbr\\u003eTotal: 0\",\"Type: dark\\u003cbr\\u003eTotal: 0\"],\"marker\":{\"color\":\"#705848\"},\"name\":\"dark\",\"opacity\":0.75,\"x\":[1,2,3,4,5,6,7,8],\"y\":[0,5,4,0,0,0,0,0],\"type\":\"bar\"},{\"base\":60,\"hoverinfo\":\"text\",\"hovertext\":[\"Type: dragon\\u003cbr\\u003eTotal: 3\",\"Type: dragon\\u003cbr\\u003eTotal: 0\",\"Type: dragon\\u003cbr\\u003eTotal: 7\",\"Type: dragon\\u003cbr\\u003eTotal: 0\",\"Type: dragon\\u003cbr\\u003eTotal: 0\",\"Type: dragon\\u003cbr\\u003eTotal: 0\",\"Type: dragon\\u003cbr\\u003eTotal: 0\",\"Type: dragon\\u003cbr\\u003eTotal: 0\"],\"marker\":{\"color\":\"#7038F8\"},\"name\":\"dragon\",\"opacity\":0.75,\"x\":[1,2,3,4,5,6,7,8],\"y\":[3,0,7,0,0,0,0,0],\"type\":\"bar\"},{\"base\":80,\"hoverinfo\":\"text\",\"hovertext\":[\"Type: electric\\u003cbr\\u003eTotal: 9\",\"Type: electric\\u003cbr\\u003eTotal: 6\",\"Type: electric\\u003cbr\\u003eTotal: 4\",\"Type: electric\\u003cbr\\u003eTotal: 3\",\"Type: electric\\u003cbr\\u003eTotal: 0\",\"Type: electric\\u003cbr\\u003eTotal: 0\",\"Type: electric\\u003cbr\\u003eTotal: 0\",\"Type: electric\\u003cbr\\u003eTotal: 0\"],\"marker\":{\"color\":\"#F8D030\"},\"name\":\"electric\",\"opacity\":0.75,\"x\":[1,2,3,4,5,6,7,8],\"y\":[9,6,4,3,0,0,0,0],\"type\":\"bar\"},{\"base\":100,\"hoverinfo\":\"text\",\"hovertext\":[\"Type: fairy\\u003cbr\\u003eTotal: 2\",\"Type: fairy\\u003cbr\\u003eTotal: 5\",\"Type: fairy\\u003cbr\\u003eTotal: 0\",\"Type: fairy\\u003cbr\\u003eTotal: 0\",\"Type: fairy\\u003cbr\\u003eTotal: 0\",\"Type: fairy\\u003cbr\\u003eTotal: 0\",\"Type: fairy\\u003cbr\\u003eTotal: 0\",\"Type: fairy\\u003cbr\\u003eTotal: 0\"],\"marker\":{\"color\":\"#EE99AC\"},\"name\":\"fairy\",\"opacity\":0.75,\"x\":[1,2,3,4,5,6,7,8],\"y\":[2,5,0,0,0,0,0,0],\"type\":\"bar\"},{\"base\":120,\"hoverinfo\":\"text\",\"hovertext\":[\"Type: fighting\\u003cbr\\u003eTotal: 7\",\"Type: fighting\\u003cbr\\u003eTotal: 2\",\"Type: fighting\\u003cbr\\u003eTotal: 4\",\"Type: fighting\\u003cbr\\u003eTotal: 0\",\"Type: fighting\\u003cbr\\u003eTotal: 0\",\"Type: fighting\\u003cbr\\u003eTotal: 0\",\"Type: fighting\\u003cbr\\u003eTotal: 0\",\"Type: fighting\\u003cbr\\u003eTotal: 0\"],\"marker\":{\"color\":\"#C03028\"},\"name\":\"fighting\",\"opacity\":0.75,\"x\":[1,2,3,4,5,6,7,8],\"y\":[7,2,4,0,0,0,0,0],\"type\":\"bar\"},{\"base\":140,\"hoverinfo\":\"text\",\"hovertext\":[\"Type: fire\\u003cbr\\u003eTotal: 12\",\"Type: fire\\u003cbr\\u003eTotal: 8\",\"Type: fire\\u003cbr\\u003eTotal: 6\",\"Type: fire\\u003cbr\\u003eTotal: 3\",\"Type: fire\\u003cbr\\u003eTotal: 0\",\"Type: fire\\u003cbr\\u003eTotal: 0\",\"Type: fire\\u003cbr\\u003eTotal: 0\",\"Type: fire\\u003cbr\\u003eTotal: 0\"],\"marker\":{\"color\":\"#F08030\"},\"name\":\"fire\",\"opacity\":0.75,\"x\":[1,2,3,4,5,6,7,8],\"y\":[12,8,6,3,0,0,0,0],\"type\":\"bar\"},{\"base\":180,\"hoverinfo\":\"text\",\"hovertext\":[\"Type: ghost\\u003cbr\\u003eTotal: 3\",\"Type: ghost\\u003cbr\\u003eTotal: 1\",\"Type: ghost\\u003cbr\\u003eTotal: 4\",\"Type: ghost\\u003cbr\\u003eTotal: 0\",\"Type: ghost\\u003cbr\\u003eTotal: 0\",\"Type: ghost\\u003cbr\\u003eTotal: 0\",\"Type: ghost\\u003cbr\\u003eTotal: 0\",\"Type: ghost\\u003cbr\\u003eTotal: 0\"],\"marker\":{\"color\":\"#705898\"},\"name\":\"ghost\",\"opacity\":0.75,\"x\":[1,2,3,4,5,6,7,8],\"y\":[3,1,4,0,0,0,0,0],\"type\":\"bar\"},{\"base\":200,\"hoverinfo\":\"text\",\"hovertext\":[\"Type: grass\\u003cbr\\u003eTotal: 12\",\"Type: grass\\u003cbr\\u003eTotal: 9\",\"Type: grass\\u003cbr\\u003eTotal: 12\",\"Type: grass\\u003cbr\\u003eTotal: 3\",\"Type: grass\\u003cbr\\u003eTotal: 0\",\"Type: grass\\u003cbr\\u003eTotal: 0\",\"Type: grass\\u003cbr\\u003eTotal: 0\",\"Type: grass\\u003cbr\\u003eTotal: 0\"],\"marker\":{\"color\":\"#78C850\"},\"name\":\"grass\",\"opacity\":0.75,\"x\":[1,2,3,4,5,6,7,8],\"y\":[12,9,12,3,0,0,0,0],\"type\":\"bar\"},{\"base\":220,\"hoverinfo\":\"text\",\"hovertext\":[\"Type: ground\\u003cbr\\u003eTotal: 8\",\"Type: ground\\u003cbr\\u003eTotal: 3\",\"Type: ground\\u003cbr\\u003eTotal: 6\",\"Type: ground\\u003cbr\\u003eTotal: 0\",\"Type: ground\\u003cbr\\u003eTotal: 0\",\"Type: ground\\u003cbr\\u003eTotal: 0\",\"Type: ground\\u003cbr\\u003eTotal: 0\",\"Type: ground\\u003cbr\\u003eTotal: 0\"],\"marker\":{\"color\":\"#E0C068\"},\"name\":\"ground\",\"opacity\":0.75,\"x\":[1,2,3,4,5,6,7,8],\"y\":[8,3,6,0,0,0,0,0],\"type\":\"bar\"},{\"base\":240,\"hoverinfo\":\"text\",\"hovertext\":[\"Type: ice\\u003cbr\\u003eTotal: 2\",\"Type: ice\\u003cbr\\u003eTotal: 4\",\"Type: ice\\u003cbr\\u003eTotal: 6\",\"Type: ice\\u003cbr\\u003eTotal: 0\",\"Type: ice\\u003cbr\\u003eTotal: 0\",\"Type: ice\\u003cbr\\u003eTotal: 0\",\"Type: ice\\u003cbr\\u003eTotal: 0\",\"Type: ice\\u003cbr\\u003eTotal: 0\"],\"marker\":{\"color\":\"#98D8D8\"},\"name\":\"ice\",\"opacity\":0.75,\"x\":[1,2,3,4,5,6,7,8],\"y\":[2,4,6,0,0,0,0,0],\"type\":\"bar\"},{\"base\":260,\"hoverinfo\":\"text\",\"hovertext\":[\"Type: normal\\u003cbr\\u003eTotal: 22\",\"Type: normal\\u003cbr\\u003eTotal: 15\",\"Type: normal\\u003cbr\\u003eTotal: 18\",\"Type: normal\\u003cbr\\u003eTotal: 5\",\"Type: normal\\u003cbr\\u003eTotal: 0\",\"Type: normal\\u003cbr\\u003eTotal: 0\",\"Type: normal\\u003cbr\\u003eTotal: 0\",\"Type: normal\\u003cbr\\u003eTotal: 0\"],\"marker\":{\"color\":\"#A8A878\"},\"name\":\"normal\",\"opacity\":0.75,\"x\":[1,2,3,4,5,6,7,8],\"y\":[22,15,18,5,0,0,0,0],\"type\":\"bar\"},{\"base\":280,\"hoverinfo\":\"text\",\"hovertext\":[\"Type: poison\\u003cbr\\u003eTotal: 14\",\"Type: poison\\u003cbr\\u003eTotal: 1\",\"Type: poison\\u003cbr\\u003eTotal: 3\",\"Type: poison\\u003cbr\\u003eTotal: 0\",\"Type: poison\\u003cbr\\u003eTotal: 0\",\"Type: poison\\u003cbr\\u003eTotal: 0\",\"Type: poison\\u003cbr\\u003eTotal: 0\",\"Type: poison\\u003cbr\\u003eTotal: 0\"],\"marker\":{\"color\":\"#A040A0\"},\"name\":\"poison\",\"opacity\":0.75,\"x\":[1,2,3,4,5,6,7,8],\"y\":[14,1,3,0,0,0,0,0],\"type\":\"bar\"},{\"base\":300,\"hoverinfo\":\"text\",\"hovertext\":[\"Type: psychic\\u003cbr\\u003eTotal: 8\",\"Type: psychic\\u003cbr\\u003eTotal: 7\",\"Type: psychic\\u003cbr\\u003eTotal: 8\",\"Type: psychic\\u003cbr\\u003eTotal: 0\",\"Type: psychic\\u003cbr\\u003eTotal: 0\",\"Type: psychic\\u003cbr\\u003eTotal: 0\",\"Type: psychic\\u003cbr\\u003eTotal: 0\",\"Type: psychic\\u003cbr\\u003eTotal: 0\"],\"marker\":{\"color\":\"#F85888\"},\"name\":\"psychic\",\"opacity\":0.75,\"x\":[1,2,3,4,5,6,7,8],\"y\":[8,7,8,0,0,0,0,0],\"type\":\"bar\"},{\"base\":320,\"hoverinfo\":\"text\",\"hovertext\":[\"Type: rock\\u003cbr\\u003eTotal: 9\",\"Type: rock\\u003cbr\\u003eTotal: 4\",\"Type: rock\\u003cbr\\u003eTotal: 8\",\"Type: rock\\u003cbr\\u003eTotal: 0\",\"Type: rock\\u003cbr\\u003eTotal: 0\",\"Type: rock\\u003cbr\\u003eTotal: 0\",\"Type: rock\\u003cbr\\u003eTotal: 0\",\"Type: rock\\u003cbr\\u003eTotal: 0\"],\"marker\":{\"color\":\"#B8A038\"},\"name\":\"rock\",\"opacity\":0.75,\"x\":[1,2,3,4,5,6,7,8],\"y\":[9,4,8,0,0,0,0,0],\"type\":\"bar\"},{\"base\":340,\"hoverinfo\":\"text\",\"hovertext\":[\"Type: steel\\u003cbr\\u003eTotal: 0\",\"Type: steel\\u003cbr\\u003eTotal: 2\",\"Type: steel\\u003cbr\\u003eTotal: 9\",\"Type: steel\\u003cbr\\u003eTotal: 0\",\"Type: steel\\u003cbr\\u003eTotal: 0\",\"Type: steel\\u003cbr\\u003eTotal: 0\",\"Type: steel\\u003cbr\\u003eTotal: 0\",\"Type: steel\\u003cbr\\u003eTotal: 0\"],\"marker\":{\"color\":\"#B8B8D0\"},\"name\":\"steel\",\"opacity\":0.75,\"x\":[1,2,3,4,5,6,7,8],\"y\":[0,2,9,0,0,0,0,0],\"type\":\"bar\"},{\"base\":360,\"hoverinfo\":\"text\",\"hovertext\":[\"Type: water\\u003cbr\\u003eTotal: 28\",\"Type: water\\u003cbr\\u003eTotal: 18\",\"Type: water\\u003cbr\\u003eTotal: 24\",\"Type: water\\u003cbr\\u003eTotal: 3\",\"Type: water\\u003cbr\\u003eTotal: 0\",\"Type: water\\u003cbr\\u003eTotal: 0\",\"Type: water\\u003cbr\\u003eTotal: 0\",\"Type: water\\u003cbr\\u003eTotal: 0\"],\"marker\":{\"color\":\"#6890F0\"},\"name\":\"water\",\"opacity\":0.75,\"x\":[1,2,3,4,5,6,7,8],\"y\":[28,18,24,3,0,0,0,0],\"type\":\"bar\"}],                        {\"template\":{\"data\":{\"histogram2dcontour\":[{\"type\":\"histogram2dcontour\",\"colorbar\":{\"outlinewidth\":0,\"ticks\":\"\"},\"colorscale\":[[0.0,\"#0d0887\"],[0.1111111111111111,\"#46039f\"],[0.2222222222222222,\"#7201a8\"],[0.3333333333333333,\"#9c179e\"],[0.4444444444444444,\"#bd3786\"],[0.5555555555555556,\"#d8576b\"],[0.6666666666666666,\"#ed7953\"],[0.7777777777777778,\"#fb9f3a\"],[0.8888888888888888,\"#fdca26\"],[1.0,\"#f0f921\"]]}],\"choropleth\":[{\"type\":\"choropleth\",\"colorbar\":{\"outlinewidth\":0,\"ticks\":\"\"}}],\"histogram2d\":[{\"type\":\"histogram2d\",\"colorbar\":{\"outlinewidth\":0,\"ticks\":\"\"},\"colorscale\":[[0.0,\"#0d0887\"],[0.1111111111111111,\"#46039f\"],[0.2222222222222222,\"#7201a8\"],[0.3333333333333333,\"#9c179e\"],[0.4444444444444444,\"#bd3786\"],[0.5555555555555556,\"#d8576b\"],[0.6666666666666666,\"#ed7953\"],[0.7777777777777778,\"#fb9f3a\"],[0.8888888888888888,\"#fdca26\"],[1.0,\"#f0f921\"]]}],\"heatmap\":[{\"type\":\"heatmap\",\"colorbar\":{\"outlinewidth\":0,\"ticks\":\"\"},\"colorscale\":[[0.0,\"#0d0887\"],[0.1111111111111111,\"#46039f\"],[0.2222222222222222,\"#7201a8\"],[0.3333333333333333,\"#9c179e\"],[0.4444444444444444,\"#bd3786\"],[0.5555555555555556,\"#d8576b\"],[0.6666666666666666,\"#ed7953\"],[0.7777777777777778,\"#fb9f3a\"],[0.8888888888888888,\"#fdca26\"],[1.0,\"#f0f921\"]]}],\"heatmapgl\":[{\"type\":\"heatmapgl\",\"colorbar\":{\"outlinewidth\":0,\"ticks\":\"\"},\"colorscale\":[[0.0,\"#0d0887\"],[0.1111111111111111,\"#46039f\"],[0.2222222222222222,\"#7201a8\"],[0.3333333333333333,\"#9c179e\"],[0.4444444444444444,\"#bd3786\"],[0.5555555555555556,\"#d8576b\"],[0.6666666666666666,\"#ed7953\"],[0.7777777777777778,\"#fb9f3a\"],[0.8888888888888888,\"#fdca26\"],[1.0,\"#f0f921\"]]}],\"contourcarpet\":[{\"type\":\"contourcarpet\",\"colorbar\":{\"outlinewidth\":0,\"ticks\":\"\"}}],\"contour\":[{\"type\":\"contour\",\"colorbar\":{\"outlinewidth\":0,\"ticks\":\"\"},\"colorscale\":[[0.0,\"#0d0887\"],[0.1111111111111111,\"#46039f\"],[0.2222222222222222,\"#7201a8\"],[0.3333333333333333,\"#9c179e\"],[0.4444444444444444,\"#bd3786\"],[0.5555555555555556,\"#d8576b\"],[0.6666666666666666,\"#ed7953\"],[0.7777777777777778,\"#fb9f3a\"],[0.8888888888888888,\"#fdca26\"],[1.0,\"#f0f921\"]]}],\"surface\":[{\"type\":\"surface\",\"colorbar\":{\"outlinewidth\":0,\"ticks\":\"\"},\"colorscale\":[[0.0,\"#0d0887\"],[0.1111111111111111,\"#46039f\"],[0.2222222222222222,\"#7201a8\"],[0.3333333333333333,\"#9c179e\"],[0.4444444444444444,\"#bd3786\"],[0.5555555555555556,\"#d8576b\"],[0.6666666666666666,\"#ed7953\"],[0.7777777777777778,\"#fb9f3a\"],[0.8888888888888888,\"#fdca26\"],[1.0,\"#f0f921\"]]}],\"mesh3d\":[{\"type\":\"mesh3d\",\"colorbar\":{\"outlinewidth\":0,\"ticks\":\"\"}}],\"scatter\":[{\"fillpattern\":{\"fillmode\":\"overlay\",\"size\":10,\"solidity\":0.2},\"type\":\"scatter\"}],\"parcoords\":[{\"type\":\"parcoords\",\"line\":{\"colorbar\":{\"outlinewidth\":0,\"ticks\":\"\"}}}],\"scatterpolargl\":[{\"type\":\"scatterpolargl\",\"marker\":{\"colorbar\":{\"outlinewidth\":0,\"ticks\":\"\"}}}],\"bar\":[{\"error_x\":{\"color\":\"#2a3f5f\"},\"error_y\":{\"color\":\"#2a3f5f\"},\"marker\":{\"line\":{\"color\":\"#E5ECF6\",\"width\":0.5},\"pattern\":{\"fillmode\":\"overlay\",\"size\":10,\"solidity\":0.2}},\"type\":\"bar\"}],\"scattergeo\":[{\"type\":\"scattergeo\",\"marker\":{\"colorbar\":{\"outlinewidth\":0,\"ticks\":\"\"}}}],\"scatterpolar\":[{\"type\":\"scatterpolar\",\"marker\":{\"colorbar\":{\"outlinewidth\":0,\"ticks\":\"\"}}}],\"histogram\":[{\"marker\":{\"pattern\":{\"fillmode\":\"overlay\",\"size\":10,\"solidity\":0.2}},\"type\":\"histogram\"}],\"scattergl\":[{\"type\":\"scattergl\",\"marker\":{\"colorbar\":{\"outlinewidth\":0,\"ticks\":\"\"}}}],\"scatter3d\":[{\"type\":\"scatter3d\",\"line\":{\"colorbar\":{\"outlinewidth\":0,\"ticks\":\"\"}},\"marker\":{\"colorbar\":{\"outlinewidth\":0,\"ticks\":\"\"}}}],\"scattermapbox\":[{\"type\":\"scattermapbox\",\"marker\":{\"colorbar\":{\"outlinewidth\":0,\"ticks\":\"\"}}}],\"scatterternary\":[{\"type\":\"scatterternary\",\"marker\":{\"colorbar\":{\"outlinewidth\":0,\"ticks\":\"\"}}}],\"scattercarpet\":[{\"type\":\"scattercarpet\",\"marker\":{\"colorbar\":{\"outlinewidth\":0,\"ticks\":\"\"}}}],\"carpet\":[{\"aaxis\":{\"endlinecolor\":\"#2a3f5f\",\"gridcolor\":\"white\",\"linecolor\":\"white\",\"minorgridcolor\":\"white\",\"startlinecolor\":\"#2a3f5f\"},\"baxis\":{\"endlinecolor\":\"#2a3f5f\",\"gridcolor\":\"white\",\"linecolor\":\"white\",\"minorgridcolor\":\"white\",\"startlinecolor\":\"#2a3f5f\"},\"type\":\"carpet\"}],\"table\":[{\"cells\":{\"fill\":{\"color\":\"#EBF0F8\"},\"line\":{\"color\":\"white\"}},\"header\":{\"fill\":{\"color\":\"#C8D4E3\"},\"line\":{\"color\":\"white\"}},\"type\":\"table\"}],\"barpolar\":[{\"marker\":{\"line\":{\"color\":\"#E5ECF6\",\"width\":0.5},\"pattern\":{\"fillmode\":\"overlay\",\"size\":10,\"solidity\":0.2}},\"type\":\"barpolar\"}],\"pie\":[{\"automargin\":true,\"type\":\"pie\"}]},\"layout\":{\"autotypenumbers\":\"strict\",\"colorway\":[\"#636efa\",\"#EF553B\",\"#00cc96\",\"#ab63fa\",\"#FFA15A\",\"#19d3f3\",\"#FF6692\",\"#B6E880\",\"#FF97FF\",\"#FECB52\"],\"font\":{\"color\":\"#2a3f5f\"},\"hovermode\":\"closest\",\"hoverlabel\":{\"align\":\"left\"},\"paper_bgcolor\":\"white\",\"plot_bgcolor\":\"#E5ECF6\",\"polar\":{\"bgcolor\":\"#E5ECF6\",\"angularaxis\":{\"gridcolor\":\"white\",\"linecolor\":\"white\",\"ticks\":\"\"},\"radialaxis\":{\"gridcolor\":\"white\",\"linecolor\":\"white\",\"ticks\":\"\"}},\"ternary\":{\"bgcolor\":\"#E5ECF6\",\"aaxis\":{\"gridcolor\":\"white\",\"linecolor\":\"white\",\"ticks\":\"\"},\"baxis\":{\"gridcolor\":\"white\",\"linecolor\":\"white\",\"ticks\":\"\"},\"caxis\":{\"gridcolor\":\"white\",\"linecolor\":\"white\",\"ticks\":\"\"}},\"coloraxis\":{\"colorbar\":{\"outlinewidth\":0,\"ticks\":\"\"}},\"colorscale\":{\"sequential\":[[0.0,\"#0d0887\"],[0.1111111111111111,\"#46039f\"],[0.2222222222222222,\"#7201a8\"],[0.3333333333333333,\"#9c179e\"],[0.4444444444444444,\"#bd3786\"],[0.5555555555555556,\"#d8576b\"],[0.6666666666666666,\"#ed7953\"],[0.7777777777777778,\"#fb9f3a\"],[0.8888888888888888,\"#fdca26\"],[1.0,\"#f0f921\"]],\"sequentialminus\":[[0.0,\"#0d0887\"],[0.1111111111111111,\"#46039f\"],[0.2222222222222222,\"#7201a8\"],[0.3333333333333333,\"#9c179e\"],[0.4444444444444444,\"#bd3786\"],[0.5555555555555556,\"#d8576b\"],[0.6666666666666666,\"#ed7953\"],[0.7777777777777778,\"#fb9f3a\"],[0.8888888888888888,\"#fdca26\"],[1.0,\"#f0f921\"]],\"diverging\":[[0,\"#8e0152\"],[0.1,\"#c51b7d\"],[0.2,\"#de77ae\"],[0.3,\"#f1b6da\"],[0.4,\"#fde0ef\"],[0.5,\"#f7f7f7\"],[0.6,\"#e6f5d0\"],[0.7,\"#b8e186\"],[0.8,\"#7fbc41\"],[0.9,\"#4d9221\"],[1,\"#276419\"]]},\"xaxis\":{\"gridcolor\":\"white\",\"linecolor\":\"white\",\"ticks\":\"\",\"title\":{\"standoff\":15},\"zerolinecolor\":\"white\",\"automargin\":true,\"zerolinewidth\":2},\"yaxis\":{\"gridcolor\":\"white\",\"linecolor\":\"white\",\"ticks\":\"\",\"title\":{\"standoff\":15},\"zerolinecolor\":\"white\",\"automargin\":true,\"zerolinewidth\":2},\"scene\":{\"xaxis\":{\"backgroundcolor\":\"#E5ECF6\",\"gridcolor\":\"white\",\"linecolor\":\"white\",\"showbackground\":true,\"ticks\":\"\",\"zerolinecolor\":\"white\",\"gridwidth\":2},\"yaxis\":{\"backgroundcolor\":\"#E5ECF6\",\"gridcolor\":\"white\",\"linecolor\":\"white\",\"showbackground\":true,\"ticks\":\"\",\"zerolinecolor\":\"white\",\"gridwidth\":2},\"zaxis\":{\"backgroundcolor\":\"#E5ECF6\",\"gridcolor\":\"white\",\"linecolor\":\"white\",\"showbackground\":true,\"ticks\":\"\",\"zerolinecolor\":\"white\",\"gridwidth\":2}},\"shapedefaults\":{\"line\":{\"color\":\"#2a3f5f\"}},\"annotationdefaults\":{\"arrowcolor\":\"#2a3f5f\",\"arrowhead\":0,\"arrowwidth\":1},\"geo\":{\"bgcolor\":\"white\",\"landcolor\":\"#E5ECF6\",\"subunitcolor\":\"white\",\"showland\":true,\"showlakes\":true,\"lakecolor\":\"white\"},\"title\":{\"x\":0.05},\"mapbox\":{\"style\":\"light\"}}},\"title\":{\"text\":\"Pokemon Primary Type Distribution Matrix\"},\"yaxis\":{\"showticklabels\":false,\"title\":{\"text\":\"Primary Type Count [-]\"}},\"legend\":{\"tracegroupgap\":3},\"barmode\":\"overlay\",\"xaxis\":{\"title\":{\"text\":\"Generation # [-]\"}},\"height\":700,\"width\":800},                        {\"responsive\": true}                    ).then(function(){\n",
       "                            \n",
       "var gd = document.getElementById('ecc74b21-49e1-4360-9060-ce914f20be3f');\n",
       "var x = new MutationObserver(function (mutations, observer) {{\n",
       "        var display = window.getComputedStyle(gd).display;\n",
       "        if (!display || display === 'none') {{\n",
       "            console.log([gd, 'removed!']);\n",
       "            Plotly.purge(gd);\n",
       "            observer.disconnect();\n",
       "        }}\n",
       "}});\n",
       "\n",
       "// Listen for the removal of the full notebook cells\n",
       "var notebookContainer = gd.closest('#notebook-container');\n",
       "if (notebookContainer) {{\n",
       "    x.observe(notebookContainer, {childList: true});\n",
       "}}\n",
       "\n",
       "// Listen for the clearing of the current output cell\n",
       "var outputEl = gd.closest('.output');\n",
       "if (outputEl) {{\n",
       "    x.observe(outputEl, {childList: true});\n",
       "}}\n",
       "\n",
       "                        })                };                });            </script>        </div>"
      ]
     },
     "metadata": {},
     "output_type": "display_data"
    }
   ],
   "source": [
    "matrix_stack_chart = go.Figure()\n",
    "\n",
    "# Loop through each Pokemon type to add bars to the matrix chart\n",
    "for ptype in primary_type_count.columns: \n",
    "    matrix_stack_chart.add_trace(go.Bar(\n",
    "        x=primary_type_count.index,  \n",
    "        y=primary_type_count[ptype],\n",
    "        name=ptype,\n",
    "        # Create custom hover info\n",
    "        hoverinfo='text',\n",
    "        hovertext=[f'Type: {ptype}<br>Total: {count}' for count in primary_type_count[ptype]],\n",
    "        marker={'color': type_colors.get(ptype)},\n",
    "        # Set base and adjust opacity for overlap\n",
    "        base=base_positions.get(ptype, 0),\n",
    "        opacity=0.75\n",
    "        )\n",
    "    )\n",
    "\n",
    "# Update layout settings for the matrix stacked chart\n",
    "matrix_stack_chart.update_layout(\n",
    "    barmode='overlay',\n",
    "    title_text='Pokemon Primary Type Distribution Matrix',\n",
    "    xaxis_title='Generation # [-]',\n",
    "    # Hide tick labels on the x-axis for clarity\n",
    "    yaxis_showticklabels=False,\n",
    "    yaxis_title='Primary Type Count [-]',\n",
    "    # Adjust the spacing for legend items\n",
    "    legend=dict(tracegroupgap=3),\n",
    "    height=700, width=800\n",
    ")\n",
    "\n",
    "# Show the figure\n",
    "matrix_stack_chart.show()"
   ]
  },
  {
   "cell_type": "markdown",
   "id": "af4fc7fe-1dce-499a-ab4b-58c5dc13860c",
   "metadata": {},
   "source": [
    "## Matrix Bar Plots and Utilizing the Negative Y-Axis for Additional Data Representation"
   ]
  },
  {
   "cell_type": "markdown",
   "id": "c1ba60ec-4995-469e-84b5-9c9ea3716c59",
   "metadata": {},
   "source": [
    "Count total Pokemon per generation"
   ]
  },
  {
   "cell_type": "code",
   "execution_count": 205,
   "id": "9d2cabb7-603e-421c-acbf-64aae9d5c07e",
   "metadata": {},
   "outputs": [],
   "source": [
    "total_count = df['gen'].value_counts()"
   ]
  },
  {
   "cell_type": "markdown",
   "id": "4b13ad45-70e4-404d-8ff5-0ef288e5c110",
   "metadata": {},
   "source": [
    "Sort the types for consistent display"
   ]
  },
  {
   "cell_type": "code",
   "execution_count": null,
   "id": "a32ba8b8-40a0-45dd-8e82-d73f353d38cc",
   "metadata": {},
   "outputs": [],
   "source": [
    "sorted_types = sorted(primary_type_count.columns)"
   ]
  },
  {
   "cell_type": "markdown",
   "id": "8a6fca43-d509-4339-8d9c-3f946951d1e6",
   "metadata": {},
   "source": [
    "Position based on sorted type order"
   ]
  },
  {
   "cell_type": "code",
   "execution_count": null,
   "id": "8ab264e5-b397-4799-b76c-d9b4bd2cd7de",
   "metadata": {},
   "outputs": [],
   "source": [
    "base_positions = {ptype: index * 20 for index, ptype in enumerate(sorted_types)}"
   ]
  },
  {
   "cell_type": "markdown",
   "id": "799e11b6-8475-4111-9d00-640b06c55585",
   "metadata": {},
   "source": [
    "Create new figure for the second matrix stack chart"
   ]
  },
  {
   "cell_type": "code",
   "execution_count": 206,
   "id": "9039bdaa-29c6-44b8-be20-e40f31ebc874",
   "metadata": {},
   "outputs": [
    {
     "data": {
      "application/vnd.plotly.v1+json": {
       "config": {
        "plotlyServerURL": "https://plot.ly"
       },
       "data": [
        {
         "base": 0,
         "hoverinfo": "text",
         "hovertext": [
          12,
          10,
          12,
          2,
          0,
          0,
          0,
          0
         ],
         "marker": {
          "color": "#A8B820"
         },
         "name": "bug",
         "opacity": 0.8,
         "text": [
          12,
          10,
          12,
          2,
          0,
          0,
          0,
          0
         ],
         "textposition": "inside",
         "type": "bar",
         "x": [
          1,
          2,
          3,
          4,
          5,
          6,
          7,
          8
         ],
         "y": [
          12,
          10,
          12,
          2,
          0,
          0,
          0,
          0
         ]
        },
        {
         "base": 20,
         "hoverinfo": "text",
         "hovertext": [
          0,
          5,
          4,
          0,
          0,
          0,
          0,
          0
         ],
         "marker": {
          "color": "#705848"
         },
         "name": "dark",
         "opacity": 0.8,
         "text": [
          0,
          5,
          4,
          0,
          0,
          0,
          0,
          0
         ],
         "textposition": "inside",
         "type": "bar",
         "x": [
          1,
          2,
          3,
          4,
          5,
          6,
          7,
          8
         ],
         "y": [
          0,
          5,
          4,
          0,
          0,
          0,
          0,
          0
         ]
        },
        {
         "base": 40,
         "hoverinfo": "text",
         "hovertext": [
          3,
          0,
          7,
          0,
          0,
          0,
          0,
          0
         ],
         "marker": {
          "color": "#7038F8"
         },
         "name": "dragon",
         "opacity": 0.8,
         "text": [
          3,
          0,
          7,
          0,
          0,
          0,
          0,
          0
         ],
         "textposition": "inside",
         "type": "bar",
         "x": [
          1,
          2,
          3,
          4,
          5,
          6,
          7,
          8
         ],
         "y": [
          3,
          0,
          7,
          0,
          0,
          0,
          0,
          0
         ]
        },
        {
         "base": 60,
         "hoverinfo": "text",
         "hovertext": [
          9,
          6,
          4,
          3,
          0,
          0,
          0,
          0
         ],
         "marker": {
          "color": "#F8D030"
         },
         "name": "electric",
         "opacity": 0.8,
         "text": [
          9,
          6,
          4,
          3,
          0,
          0,
          0,
          0
         ],
         "textposition": "inside",
         "type": "bar",
         "x": [
          1,
          2,
          3,
          4,
          5,
          6,
          7,
          8
         ],
         "y": [
          9,
          6,
          4,
          3,
          0,
          0,
          0,
          0
         ]
        },
        {
         "base": 80,
         "hoverinfo": "text",
         "hovertext": [
          2,
          5,
          0,
          0,
          0,
          0,
          0,
          0
         ],
         "marker": {
          "color": "#EE99AC"
         },
         "name": "fairy",
         "opacity": 0.8,
         "text": [
          2,
          5,
          0,
          0,
          0,
          0,
          0,
          0
         ],
         "textposition": "inside",
         "type": "bar",
         "x": [
          1,
          2,
          3,
          4,
          5,
          6,
          7,
          8
         ],
         "y": [
          2,
          5,
          0,
          0,
          0,
          0,
          0,
          0
         ]
        },
        {
         "base": 100,
         "hoverinfo": "text",
         "hovertext": [
          7,
          2,
          4,
          0,
          0,
          0,
          0,
          0
         ],
         "marker": {
          "color": "#C03028"
         },
         "name": "fighting",
         "opacity": 0.8,
         "text": [
          7,
          2,
          4,
          0,
          0,
          0,
          0,
          0
         ],
         "textposition": "inside",
         "type": "bar",
         "x": [
          1,
          2,
          3,
          4,
          5,
          6,
          7,
          8
         ],
         "y": [
          7,
          2,
          4,
          0,
          0,
          0,
          0,
          0
         ]
        },
        {
         "base": 120,
         "hoverinfo": "text",
         "hovertext": [
          12,
          8,
          6,
          3,
          0,
          0,
          0,
          0
         ],
         "marker": {
          "color": "#F08030"
         },
         "name": "fire",
         "opacity": 0.8,
         "text": [
          12,
          8,
          6,
          3,
          0,
          0,
          0,
          0
         ],
         "textposition": "inside",
         "type": "bar",
         "x": [
          1,
          2,
          3,
          4,
          5,
          6,
          7,
          8
         ],
         "y": [
          12,
          8,
          6,
          3,
          0,
          0,
          0,
          0
         ]
        },
        {
         "base": 140,
         "hoverinfo": "text",
         "hovertext": [
          3,
          1,
          4,
          0,
          0,
          0,
          0,
          0
         ],
         "marker": {
          "color": "#705898"
         },
         "name": "ghost",
         "opacity": 0.8,
         "text": [
          3,
          1,
          4,
          0,
          0,
          0,
          0,
          0
         ],
         "textposition": "inside",
         "type": "bar",
         "x": [
          1,
          2,
          3,
          4,
          5,
          6,
          7,
          8
         ],
         "y": [
          3,
          1,
          4,
          0,
          0,
          0,
          0,
          0
         ]
        },
        {
         "base": 160,
         "hoverinfo": "text",
         "hovertext": [
          12,
          9,
          12,
          3,
          0,
          0,
          0,
          0
         ],
         "marker": {
          "color": "#78C850"
         },
         "name": "grass",
         "opacity": 0.8,
         "text": [
          12,
          9,
          12,
          3,
          0,
          0,
          0,
          0
         ],
         "textposition": "inside",
         "type": "bar",
         "x": [
          1,
          2,
          3,
          4,
          5,
          6,
          7,
          8
         ],
         "y": [
          12,
          9,
          12,
          3,
          0,
          0,
          0,
          0
         ]
        },
        {
         "base": 180,
         "hoverinfo": "text",
         "hovertext": [
          8,
          3,
          6,
          0,
          0,
          0,
          0,
          0
         ],
         "marker": {
          "color": "#E0C068"
         },
         "name": "ground",
         "opacity": 0.8,
         "text": [
          8,
          3,
          6,
          0,
          0,
          0,
          0,
          0
         ],
         "textposition": "inside",
         "type": "bar",
         "x": [
          1,
          2,
          3,
          4,
          5,
          6,
          7,
          8
         ],
         "y": [
          8,
          3,
          6,
          0,
          0,
          0,
          0,
          0
         ]
        },
        {
         "base": 200,
         "hoverinfo": "text",
         "hovertext": [
          2,
          4,
          6,
          0,
          0,
          0,
          0,
          0
         ],
         "marker": {
          "color": "#98D8D8"
         },
         "name": "ice",
         "opacity": 0.8,
         "text": [
          2,
          4,
          6,
          0,
          0,
          0,
          0,
          0
         ],
         "textposition": "inside",
         "type": "bar",
         "x": [
          1,
          2,
          3,
          4,
          5,
          6,
          7,
          8
         ],
         "y": [
          2,
          4,
          6,
          0,
          0,
          0,
          0,
          0
         ]
        },
        {
         "base": 220,
         "hoverinfo": "text",
         "hovertext": [
          22,
          15,
          18,
          5,
          0,
          0,
          0,
          0
         ],
         "marker": {
          "color": "#A8A878"
         },
         "name": "normal",
         "opacity": 0.8,
         "text": [
          22,
          15,
          18,
          5,
          0,
          0,
          0,
          0
         ],
         "textposition": "inside",
         "type": "bar",
         "x": [
          1,
          2,
          3,
          4,
          5,
          6,
          7,
          8
         ],
         "y": [
          22,
          15,
          18,
          5,
          0,
          0,
          0,
          0
         ]
        },
        {
         "base": 240,
         "hoverinfo": "text",
         "hovertext": [
          14,
          1,
          3,
          0,
          0,
          0,
          0,
          0
         ],
         "marker": {
          "color": "#A040A0"
         },
         "name": "poison",
         "opacity": 0.8,
         "text": [
          14,
          1,
          3,
          0,
          0,
          0,
          0,
          0
         ],
         "textposition": "inside",
         "type": "bar",
         "x": [
          1,
          2,
          3,
          4,
          5,
          6,
          7,
          8
         ],
         "y": [
          14,
          1,
          3,
          0,
          0,
          0,
          0,
          0
         ]
        },
        {
         "base": 260,
         "hoverinfo": "text",
         "hovertext": [
          8,
          7,
          8,
          0,
          0,
          0,
          0,
          0
         ],
         "marker": {
          "color": "#F85888"
         },
         "name": "psychic",
         "opacity": 0.8,
         "text": [
          8,
          7,
          8,
          0,
          0,
          0,
          0,
          0
         ],
         "textposition": "inside",
         "type": "bar",
         "x": [
          1,
          2,
          3,
          4,
          5,
          6,
          7,
          8
         ],
         "y": [
          8,
          7,
          8,
          0,
          0,
          0,
          0,
          0
         ]
        },
        {
         "base": 280,
         "hoverinfo": "text",
         "hovertext": [
          9,
          4,
          8,
          0,
          0,
          0,
          0,
          0
         ],
         "marker": {
          "color": "#B8A038"
         },
         "name": "rock",
         "opacity": 0.8,
         "text": [
          9,
          4,
          8,
          0,
          0,
          0,
          0,
          0
         ],
         "textposition": "inside",
         "type": "bar",
         "x": [
          1,
          2,
          3,
          4,
          5,
          6,
          7,
          8
         ],
         "y": [
          9,
          4,
          8,
          0,
          0,
          0,
          0,
          0
         ]
        },
        {
         "base": 300,
         "hoverinfo": "text",
         "hovertext": [
          0,
          2,
          9,
          0,
          0,
          0,
          0,
          0
         ],
         "marker": {
          "color": "#B8B8D0"
         },
         "name": "steel",
         "opacity": 0.8,
         "text": [
          0,
          2,
          9,
          0,
          0,
          0,
          0,
          0
         ],
         "textposition": "inside",
         "type": "bar",
         "x": [
          1,
          2,
          3,
          4,
          5,
          6,
          7,
          8
         ],
         "y": [
          0,
          2,
          9,
          0,
          0,
          0,
          0,
          0
         ]
        },
        {
         "base": 320,
         "hoverinfo": "text",
         "hovertext": [
          28,
          18,
          24,
          3,
          0,
          0,
          0,
          0
         ],
         "marker": {
          "color": "#6890F0"
         },
         "name": "water",
         "opacity": 0.8,
         "text": [
          28,
          18,
          24,
          3,
          0,
          0,
          0,
          0
         ],
         "textposition": "inside",
         "type": "bar",
         "x": [
          1,
          2,
          3,
          4,
          5,
          6,
          7,
          8
         ],
         "y": [
          28,
          18,
          24,
          3,
          0,
          0,
          0,
          0
         ]
        },
        {
         "hoverinfo": "text",
         "marker": {
          "color": "black"
         },
         "name": "total",
         "text": [
          151,
          135,
          100,
          19,
          0,
          0,
          0,
          0
         ],
         "textposition": "auto",
         "type": "bar",
         "x": [
          1,
          3,
          2,
          4,
          5,
          6,
          7,
          8
         ],
         "y": [
          -151,
          -135,
          -100,
          -19,
          0,
          0,
          0,
          0
         ]
        }
       ],
       "layout": {
        "barmode": "overlay",
        "height": 800,
        "legend": {
         "tracegroupgap": 3
        },
        "template": {
         "data": {
          "bar": [
           {
            "error_x": {
             "color": "#2a3f5f"
            },
            "error_y": {
             "color": "#2a3f5f"
            },
            "marker": {
             "line": {
              "color": "#E5ECF6",
              "width": 0.5
             },
             "pattern": {
              "fillmode": "overlay",
              "size": 10,
              "solidity": 0.2
             }
            },
            "type": "bar"
           }
          ],
          "barpolar": [
           {
            "marker": {
             "line": {
              "color": "#E5ECF6",
              "width": 0.5
             },
             "pattern": {
              "fillmode": "overlay",
              "size": 10,
              "solidity": 0.2
             }
            },
            "type": "barpolar"
           }
          ],
          "carpet": [
           {
            "aaxis": {
             "endlinecolor": "#2a3f5f",
             "gridcolor": "white",
             "linecolor": "white",
             "minorgridcolor": "white",
             "startlinecolor": "#2a3f5f"
            },
            "baxis": {
             "endlinecolor": "#2a3f5f",
             "gridcolor": "white",
             "linecolor": "white",
             "minorgridcolor": "white",
             "startlinecolor": "#2a3f5f"
            },
            "type": "carpet"
           }
          ],
          "choropleth": [
           {
            "colorbar": {
             "outlinewidth": 0,
             "ticks": ""
            },
            "type": "choropleth"
           }
          ],
          "contour": [
           {
            "colorbar": {
             "outlinewidth": 0,
             "ticks": ""
            },
            "colorscale": [
             [
              0,
              "#0d0887"
             ],
             [
              0.1111111111111111,
              "#46039f"
             ],
             [
              0.2222222222222222,
              "#7201a8"
             ],
             [
              0.3333333333333333,
              "#9c179e"
             ],
             [
              0.4444444444444444,
              "#bd3786"
             ],
             [
              0.5555555555555556,
              "#d8576b"
             ],
             [
              0.6666666666666666,
              "#ed7953"
             ],
             [
              0.7777777777777778,
              "#fb9f3a"
             ],
             [
              0.8888888888888888,
              "#fdca26"
             ],
             [
              1,
              "#f0f921"
             ]
            ],
            "type": "contour"
           }
          ],
          "contourcarpet": [
           {
            "colorbar": {
             "outlinewidth": 0,
             "ticks": ""
            },
            "type": "contourcarpet"
           }
          ],
          "heatmap": [
           {
            "colorbar": {
             "outlinewidth": 0,
             "ticks": ""
            },
            "colorscale": [
             [
              0,
              "#0d0887"
             ],
             [
              0.1111111111111111,
              "#46039f"
             ],
             [
              0.2222222222222222,
              "#7201a8"
             ],
             [
              0.3333333333333333,
              "#9c179e"
             ],
             [
              0.4444444444444444,
              "#bd3786"
             ],
             [
              0.5555555555555556,
              "#d8576b"
             ],
             [
              0.6666666666666666,
              "#ed7953"
             ],
             [
              0.7777777777777778,
              "#fb9f3a"
             ],
             [
              0.8888888888888888,
              "#fdca26"
             ],
             [
              1,
              "#f0f921"
             ]
            ],
            "type": "heatmap"
           }
          ],
          "heatmapgl": [
           {
            "colorbar": {
             "outlinewidth": 0,
             "ticks": ""
            },
            "colorscale": [
             [
              0,
              "#0d0887"
             ],
             [
              0.1111111111111111,
              "#46039f"
             ],
             [
              0.2222222222222222,
              "#7201a8"
             ],
             [
              0.3333333333333333,
              "#9c179e"
             ],
             [
              0.4444444444444444,
              "#bd3786"
             ],
             [
              0.5555555555555556,
              "#d8576b"
             ],
             [
              0.6666666666666666,
              "#ed7953"
             ],
             [
              0.7777777777777778,
              "#fb9f3a"
             ],
             [
              0.8888888888888888,
              "#fdca26"
             ],
             [
              1,
              "#f0f921"
             ]
            ],
            "type": "heatmapgl"
           }
          ],
          "histogram": [
           {
            "marker": {
             "pattern": {
              "fillmode": "overlay",
              "size": 10,
              "solidity": 0.2
             }
            },
            "type": "histogram"
           }
          ],
          "histogram2d": [
           {
            "colorbar": {
             "outlinewidth": 0,
             "ticks": ""
            },
            "colorscale": [
             [
              0,
              "#0d0887"
             ],
             [
              0.1111111111111111,
              "#46039f"
             ],
             [
              0.2222222222222222,
              "#7201a8"
             ],
             [
              0.3333333333333333,
              "#9c179e"
             ],
             [
              0.4444444444444444,
              "#bd3786"
             ],
             [
              0.5555555555555556,
              "#d8576b"
             ],
             [
              0.6666666666666666,
              "#ed7953"
             ],
             [
              0.7777777777777778,
              "#fb9f3a"
             ],
             [
              0.8888888888888888,
              "#fdca26"
             ],
             [
              1,
              "#f0f921"
             ]
            ],
            "type": "histogram2d"
           }
          ],
          "histogram2dcontour": [
           {
            "colorbar": {
             "outlinewidth": 0,
             "ticks": ""
            },
            "colorscale": [
             [
              0,
              "#0d0887"
             ],
             [
              0.1111111111111111,
              "#46039f"
             ],
             [
              0.2222222222222222,
              "#7201a8"
             ],
             [
              0.3333333333333333,
              "#9c179e"
             ],
             [
              0.4444444444444444,
              "#bd3786"
             ],
             [
              0.5555555555555556,
              "#d8576b"
             ],
             [
              0.6666666666666666,
              "#ed7953"
             ],
             [
              0.7777777777777778,
              "#fb9f3a"
             ],
             [
              0.8888888888888888,
              "#fdca26"
             ],
             [
              1,
              "#f0f921"
             ]
            ],
            "type": "histogram2dcontour"
           }
          ],
          "mesh3d": [
           {
            "colorbar": {
             "outlinewidth": 0,
             "ticks": ""
            },
            "type": "mesh3d"
           }
          ],
          "parcoords": [
           {
            "line": {
             "colorbar": {
              "outlinewidth": 0,
              "ticks": ""
             }
            },
            "type": "parcoords"
           }
          ],
          "pie": [
           {
            "automargin": true,
            "type": "pie"
           }
          ],
          "scatter": [
           {
            "fillpattern": {
             "fillmode": "overlay",
             "size": 10,
             "solidity": 0.2
            },
            "type": "scatter"
           }
          ],
          "scatter3d": [
           {
            "line": {
             "colorbar": {
              "outlinewidth": 0,
              "ticks": ""
             }
            },
            "marker": {
             "colorbar": {
              "outlinewidth": 0,
              "ticks": ""
             }
            },
            "type": "scatter3d"
           }
          ],
          "scattercarpet": [
           {
            "marker": {
             "colorbar": {
              "outlinewidth": 0,
              "ticks": ""
             }
            },
            "type": "scattercarpet"
           }
          ],
          "scattergeo": [
           {
            "marker": {
             "colorbar": {
              "outlinewidth": 0,
              "ticks": ""
             }
            },
            "type": "scattergeo"
           }
          ],
          "scattergl": [
           {
            "marker": {
             "colorbar": {
              "outlinewidth": 0,
              "ticks": ""
             }
            },
            "type": "scattergl"
           }
          ],
          "scattermapbox": [
           {
            "marker": {
             "colorbar": {
              "outlinewidth": 0,
              "ticks": ""
             }
            },
            "type": "scattermapbox"
           }
          ],
          "scatterpolar": [
           {
            "marker": {
             "colorbar": {
              "outlinewidth": 0,
              "ticks": ""
             }
            },
            "type": "scatterpolar"
           }
          ],
          "scatterpolargl": [
           {
            "marker": {
             "colorbar": {
              "outlinewidth": 0,
              "ticks": ""
             }
            },
            "type": "scatterpolargl"
           }
          ],
          "scatterternary": [
           {
            "marker": {
             "colorbar": {
              "outlinewidth": 0,
              "ticks": ""
             }
            },
            "type": "scatterternary"
           }
          ],
          "surface": [
           {
            "colorbar": {
             "outlinewidth": 0,
             "ticks": ""
            },
            "colorscale": [
             [
              0,
              "#0d0887"
             ],
             [
              0.1111111111111111,
              "#46039f"
             ],
             [
              0.2222222222222222,
              "#7201a8"
             ],
             [
              0.3333333333333333,
              "#9c179e"
             ],
             [
              0.4444444444444444,
              "#bd3786"
             ],
             [
              0.5555555555555556,
              "#d8576b"
             ],
             [
              0.6666666666666666,
              "#ed7953"
             ],
             [
              0.7777777777777778,
              "#fb9f3a"
             ],
             [
              0.8888888888888888,
              "#fdca26"
             ],
             [
              1,
              "#f0f921"
             ]
            ],
            "type": "surface"
           }
          ],
          "table": [
           {
            "cells": {
             "fill": {
              "color": "#EBF0F8"
             },
             "line": {
              "color": "white"
             }
            },
            "header": {
             "fill": {
              "color": "#C8D4E3"
             },
             "line": {
              "color": "white"
             }
            },
            "type": "table"
           }
          ]
         },
         "layout": {
          "annotationdefaults": {
           "arrowcolor": "#2a3f5f",
           "arrowhead": 0,
           "arrowwidth": 1
          },
          "autotypenumbers": "strict",
          "coloraxis": {
           "colorbar": {
            "outlinewidth": 0,
            "ticks": ""
           }
          },
          "colorscale": {
           "diverging": [
            [
             0,
             "#8e0152"
            ],
            [
             0.1,
             "#c51b7d"
            ],
            [
             0.2,
             "#de77ae"
            ],
            [
             0.3,
             "#f1b6da"
            ],
            [
             0.4,
             "#fde0ef"
            ],
            [
             0.5,
             "#f7f7f7"
            ],
            [
             0.6,
             "#e6f5d0"
            ],
            [
             0.7,
             "#b8e186"
            ],
            [
             0.8,
             "#7fbc41"
            ],
            [
             0.9,
             "#4d9221"
            ],
            [
             1,
             "#276419"
            ]
           ],
           "sequential": [
            [
             0,
             "#0d0887"
            ],
            [
             0.1111111111111111,
             "#46039f"
            ],
            [
             0.2222222222222222,
             "#7201a8"
            ],
            [
             0.3333333333333333,
             "#9c179e"
            ],
            [
             0.4444444444444444,
             "#bd3786"
            ],
            [
             0.5555555555555556,
             "#d8576b"
            ],
            [
             0.6666666666666666,
             "#ed7953"
            ],
            [
             0.7777777777777778,
             "#fb9f3a"
            ],
            [
             0.8888888888888888,
             "#fdca26"
            ],
            [
             1,
             "#f0f921"
            ]
           ],
           "sequentialminus": [
            [
             0,
             "#0d0887"
            ],
            [
             0.1111111111111111,
             "#46039f"
            ],
            [
             0.2222222222222222,
             "#7201a8"
            ],
            [
             0.3333333333333333,
             "#9c179e"
            ],
            [
             0.4444444444444444,
             "#bd3786"
            ],
            [
             0.5555555555555556,
             "#d8576b"
            ],
            [
             0.6666666666666666,
             "#ed7953"
            ],
            [
             0.7777777777777778,
             "#fb9f3a"
            ],
            [
             0.8888888888888888,
             "#fdca26"
            ],
            [
             1,
             "#f0f921"
            ]
           ]
          },
          "colorway": [
           "#636efa",
           "#EF553B",
           "#00cc96",
           "#ab63fa",
           "#FFA15A",
           "#19d3f3",
           "#FF6692",
           "#B6E880",
           "#FF97FF",
           "#FECB52"
          ],
          "font": {
           "color": "#2a3f5f"
          },
          "geo": {
           "bgcolor": "white",
           "lakecolor": "white",
           "landcolor": "#E5ECF6",
           "showlakes": true,
           "showland": true,
           "subunitcolor": "white"
          },
          "hoverlabel": {
           "align": "left"
          },
          "hovermode": "closest",
          "mapbox": {
           "style": "light"
          },
          "paper_bgcolor": "white",
          "plot_bgcolor": "#E5ECF6",
          "polar": {
           "angularaxis": {
            "gridcolor": "white",
            "linecolor": "white",
            "ticks": ""
           },
           "bgcolor": "#E5ECF6",
           "radialaxis": {
            "gridcolor": "white",
            "linecolor": "white",
            "ticks": ""
           }
          },
          "scene": {
           "xaxis": {
            "backgroundcolor": "#E5ECF6",
            "gridcolor": "white",
            "gridwidth": 2,
            "linecolor": "white",
            "showbackground": true,
            "ticks": "",
            "zerolinecolor": "white"
           },
           "yaxis": {
            "backgroundcolor": "#E5ECF6",
            "gridcolor": "white",
            "gridwidth": 2,
            "linecolor": "white",
            "showbackground": true,
            "ticks": "",
            "zerolinecolor": "white"
           },
           "zaxis": {
            "backgroundcolor": "#E5ECF6",
            "gridcolor": "white",
            "gridwidth": 2,
            "linecolor": "white",
            "showbackground": true,
            "ticks": "",
            "zerolinecolor": "white"
           }
          },
          "shapedefaults": {
           "line": {
            "color": "#2a3f5f"
           }
          },
          "ternary": {
           "aaxis": {
            "gridcolor": "white",
            "linecolor": "white",
            "ticks": ""
           },
           "baxis": {
            "gridcolor": "white",
            "linecolor": "white",
            "ticks": ""
           },
           "bgcolor": "#E5ECF6",
           "caxis": {
            "gridcolor": "white",
            "linecolor": "white",
            "ticks": ""
           }
          },
          "title": {
           "x": 0.05
          },
          "xaxis": {
           "automargin": true,
           "gridcolor": "white",
           "linecolor": "white",
           "ticks": "",
           "title": {
            "standoff": 15
           },
           "zerolinecolor": "white",
           "zerolinewidth": 2
          },
          "yaxis": {
           "automargin": true,
           "gridcolor": "white",
           "linecolor": "white",
           "ticks": "",
           "title": {
            "standoff": 15
           },
           "zerolinecolor": "white",
           "zerolinewidth": 2
          }
         }
        },
        "title": {
         "text": "Pokemon Primary Type Distribution Matrix"
        },
        "width": 1000,
        "xaxis": {
         "autorange": true,
         "range": [
          0.5,
          8.5
         ],
         "title": {
          "text": "Generation # [-]"
         },
         "type": "linear"
        },
        "yaxis": {
         "autorange": true,
         "range": [
          -178.72222222222223,
          375.72222222222223
         ],
         "showticklabels": false,
         "title": {
          "text": "Primary Type Count [-]"
         },
         "type": "linear"
        }
       }
      },
      "image/png": "[encoded data removed]",
      "text/html": [
       "<div>                            <div id=\"9adb6b55-d8c4-4b5d-a59d-6ac60ff7c831\" class=\"plotly-graph-div\" style=\"height:800px; width:1000px;\"></div>            <script type=\"text/javascript\">                require([\"plotly\"], function(Plotly) {                    window.PLOTLYENV=window.PLOTLYENV || {};                                    if (document.getElementById(\"9adb6b55-d8c4-4b5d-a59d-6ac60ff7c831\")) {                    Plotly.newPlot(                        \"9adb6b55-d8c4-4b5d-a59d-6ac60ff7c831\",                        [{\"base\":0,\"hoverinfo\":\"text\",\"hovertext\":[12.0,10.0,12.0,2.0,0.0,0.0,0.0,0.0],\"marker\":{\"color\":\"#A8B820\"},\"name\":\"bug\",\"opacity\":0.8,\"text\":[12.0,10.0,12.0,2.0,0.0,0.0,0.0,0.0],\"textposition\":\"inside\",\"x\":[1,2,3,4,5,6,7,8],\"y\":[12,10,12,2,0,0,0,0],\"type\":\"bar\"},{\"base\":20,\"hoverinfo\":\"text\",\"hovertext\":[0.0,5.0,4.0,0.0,0.0,0.0,0.0,0.0],\"marker\":{\"color\":\"#705848\"},\"name\":\"dark\",\"opacity\":0.8,\"text\":[0.0,5.0,4.0,0.0,0.0,0.0,0.0,0.0],\"textposition\":\"inside\",\"x\":[1,2,3,4,5,6,7,8],\"y\":[0,5,4,0,0,0,0,0],\"type\":\"bar\"},{\"base\":40,\"hoverinfo\":\"text\",\"hovertext\":[3.0,0.0,7.0,0.0,0.0,0.0,0.0,0.0],\"marker\":{\"color\":\"#7038F8\"},\"name\":\"dragon\",\"opacity\":0.8,\"text\":[3.0,0.0,7.0,0.0,0.0,0.0,0.0,0.0],\"textposition\":\"inside\",\"x\":[1,2,3,4,5,6,7,8],\"y\":[3,0,7,0,0,0,0,0],\"type\":\"bar\"},{\"base\":60,\"hoverinfo\":\"text\",\"hovertext\":[9.0,6.0,4.0,3.0,0.0,0.0,0.0,0.0],\"marker\":{\"color\":\"#F8D030\"},\"name\":\"electric\",\"opacity\":0.8,\"text\":[9.0,6.0,4.0,3.0,0.0,0.0,0.0,0.0],\"textposition\":\"inside\",\"x\":[1,2,3,4,5,6,7,8],\"y\":[9,6,4,3,0,0,0,0],\"type\":\"bar\"},{\"base\":80,\"hoverinfo\":\"text\",\"hovertext\":[2.0,5.0,0.0,0.0,0.0,0.0,0.0,0.0],\"marker\":{\"color\":\"#EE99AC\"},\"name\":\"fairy\",\"opacity\":0.8,\"text\":[2.0,5.0,0.0,0.0,0.0,0.0,0.0,0.0],\"textposition\":\"inside\",\"x\":[1,2,3,4,5,6,7,8],\"y\":[2,5,0,0,0,0,0,0],\"type\":\"bar\"},{\"base\":100,\"hoverinfo\":\"text\",\"hovertext\":[7.0,2.0,4.0,0.0,0.0,0.0,0.0,0.0],\"marker\":{\"color\":\"#C03028\"},\"name\":\"fighting\",\"opacity\":0.8,\"text\":[7.0,2.0,4.0,0.0,0.0,0.0,0.0,0.0],\"textposition\":\"inside\",\"x\":[1,2,3,4,5,6,7,8],\"y\":[7,2,4,0,0,0,0,0],\"type\":\"bar\"},{\"base\":120,\"hoverinfo\":\"text\",\"hovertext\":[12.0,8.0,6.0,3.0,0.0,0.0,0.0,0.0],\"marker\":{\"color\":\"#F08030\"},\"name\":\"fire\",\"opacity\":0.8,\"text\":[12.0,8.0,6.0,3.0,0.0,0.0,0.0,0.0],\"textposition\":\"inside\",\"x\":[1,2,3,4,5,6,7,8],\"y\":[12,8,6,3,0,0,0,0],\"type\":\"bar\"},{\"base\":140,\"hoverinfo\":\"text\",\"hovertext\":[3.0,1.0,4.0,0.0,0.0,0.0,0.0,0.0],\"marker\":{\"color\":\"#705898\"},\"name\":\"ghost\",\"opacity\":0.8,\"text\":[3.0,1.0,4.0,0.0,0.0,0.0,0.0,0.0],\"textposition\":\"inside\",\"x\":[1,2,3,4,5,6,7,8],\"y\":[3,1,4,0,0,0,0,0],\"type\":\"bar\"},{\"base\":160,\"hoverinfo\":\"text\",\"hovertext\":[12.0,9.0,12.0,3.0,0.0,0.0,0.0,0.0],\"marker\":{\"color\":\"#78C850\"},\"name\":\"grass\",\"opacity\":0.8,\"text\":[12.0,9.0,12.0,3.0,0.0,0.0,0.0,0.0],\"textposition\":\"inside\",\"x\":[1,2,3,4,5,6,7,8],\"y\":[12,9,12,3,0,0,0,0],\"type\":\"bar\"},{\"base\":180,\"hoverinfo\":\"text\",\"hovertext\":[8.0,3.0,6.0,0.0,0.0,0.0,0.0,0.0],\"marker\":{\"color\":\"#E0C068\"},\"name\":\"ground\",\"opacity\":0.8,\"text\":[8.0,3.0,6.0,0.0,0.0,0.0,0.0,0.0],\"textposition\":\"inside\",\"x\":[1,2,3,4,5,6,7,8],\"y\":[8,3,6,0,0,0,0,0],\"type\":\"bar\"},{\"base\":200,\"hoverinfo\":\"text\",\"hovertext\":[2.0,4.0,6.0,0.0,0.0,0.0,0.0,0.0],\"marker\":{\"color\":\"#98D8D8\"},\"name\":\"ice\",\"opacity\":0.8,\"text\":[2.0,4.0,6.0,0.0,0.0,0.0,0.0,0.0],\"textposition\":\"inside\",\"x\":[1,2,3,4,5,6,7,8],\"y\":[2,4,6,0,0,0,0,0],\"type\":\"bar\"},{\"base\":220,\"hoverinfo\":\"text\",\"hovertext\":[22.0,15.0,18.0,5.0,0.0,0.0,0.0,0.0],\"marker\":{\"color\":\"#A8A878\"},\"name\":\"normal\",\"opacity\":0.8,\"text\":[22.0,15.0,18.0,5.0,0.0,0.0,0.0,0.0],\"textposition\":\"inside\",\"x\":[1,2,3,4,5,6,7,8],\"y\":[22,15,18,5,0,0,0,0],\"type\":\"bar\"},{\"base\":240,\"hoverinfo\":\"text\",\"hovertext\":[14.0,1.0,3.0,0.0,0.0,0.0,0.0,0.0],\"marker\":{\"color\":\"#A040A0\"},\"name\":\"poison\",\"opacity\":0.8,\"text\":[14.0,1.0,3.0,0.0,0.0,0.0,0.0,0.0],\"textposition\":\"inside\",\"x\":[1,2,3,4,5,6,7,8],\"y\":[14,1,3,0,0,0,0,0],\"type\":\"bar\"},{\"base\":260,\"hoverinfo\":\"text\",\"hovertext\":[8.0,7.0,8.0,0.0,0.0,0.0,0.0,0.0],\"marker\":{\"color\":\"#F85888\"},\"name\":\"psychic\",\"opacity\":0.8,\"text\":[8.0,7.0,8.0,0.0,0.0,0.0,0.0,0.0],\"textposition\":\"inside\",\"x\":[1,2,3,4,5,6,7,8],\"y\":[8,7,8,0,0,0,0,0],\"type\":\"bar\"},{\"base\":280,\"hoverinfo\":\"text\",\"hovertext\":[9.0,4.0,8.0,0.0,0.0,0.0,0.0,0.0],\"marker\":{\"color\":\"#B8A038\"},\"name\":\"rock\",\"opacity\":0.8,\"text\":[9.0,4.0,8.0,0.0,0.0,0.0,0.0,0.0],\"textposition\":\"inside\",\"x\":[1,2,3,4,5,6,7,8],\"y\":[9,4,8,0,0,0,0,0],\"type\":\"bar\"},{\"base\":300,\"hoverinfo\":\"text\",\"hovertext\":[0.0,2.0,9.0,0.0,0.0,0.0,0.0,0.0],\"marker\":{\"color\":\"#B8B8D0\"},\"name\":\"steel\",\"opacity\":0.8,\"text\":[0.0,2.0,9.0,0.0,0.0,0.0,0.0,0.0],\"textposition\":\"inside\",\"x\":[1,2,3,4,5,6,7,8],\"y\":[0,2,9,0,0,0,0,0],\"type\":\"bar\"},{\"base\":320,\"hoverinfo\":\"text\",\"hovertext\":[28.0,18.0,24.0,3.0,0.0,0.0,0.0,0.0],\"marker\":{\"color\":\"#6890F0\"},\"name\":\"water\",\"opacity\":0.8,\"text\":[28.0,18.0,24.0,3.0,0.0,0.0,0.0,0.0],\"textposition\":\"inside\",\"x\":[1,2,3,4,5,6,7,8],\"y\":[28,18,24,3,0,0,0,0],\"type\":\"bar\"},{\"hoverinfo\":\"text\",\"marker\":{\"color\":\"black\"},\"name\":\"total\",\"text\":[151.0,135.0,100.0,19.0,0.0,0.0,0.0,0.0],\"textposition\":\"auto\",\"x\":[1,3,2,4,5,6,7,8],\"y\":[-151,-135,-100,-19,0,0,0,0],\"type\":\"bar\"}],                        {\"template\":{\"data\":{\"histogram2dcontour\":[{\"type\":\"histogram2dcontour\",\"colorbar\":{\"outlinewidth\":0,\"ticks\":\"\"},\"colorscale\":[[0.0,\"#0d0887\"],[0.1111111111111111,\"#46039f\"],[0.2222222222222222,\"#7201a8\"],[0.3333333333333333,\"#9c179e\"],[0.4444444444444444,\"#bd3786\"],[0.5555555555555556,\"#d8576b\"],[0.6666666666666666,\"#ed7953\"],[0.7777777777777778,\"#fb9f3a\"],[0.8888888888888888,\"#fdca26\"],[1.0,\"#f0f921\"]]}],\"choropleth\":[{\"type\":\"choropleth\",\"colorbar\":{\"outlinewidth\":0,\"ticks\":\"\"}}],\"histogram2d\":[{\"type\":\"histogram2d\",\"colorbar\":{\"outlinewidth\":0,\"ticks\":\"\"},\"colorscale\":[[0.0,\"#0d0887\"],[0.1111111111111111,\"#46039f\"],[0.2222222222222222,\"#7201a8\"],[0.3333333333333333,\"#9c179e\"],[0.4444444444444444,\"#bd3786\"],[0.5555555555555556,\"#d8576b\"],[0.6666666666666666,\"#ed7953\"],[0.7777777777777778,\"#fb9f3a\"],[0.8888888888888888,\"#fdca26\"],[1.0,\"#f0f921\"]]}],\"heatmap\":[{\"type\":\"heatmap\",\"colorbar\":{\"outlinewidth\":0,\"ticks\":\"\"},\"colorscale\":[[0.0,\"#0d0887\"],[0.1111111111111111,\"#46039f\"],[0.2222222222222222,\"#7201a8\"],[0.3333333333333333,\"#9c179e\"],[0.4444444444444444,\"#bd3786\"],[0.5555555555555556,\"#d8576b\"],[0.6666666666666666,\"#ed7953\"],[0.7777777777777778,\"#fb9f3a\"],[0.8888888888888888,\"#fdca26\"],[1.0,\"#f0f921\"]]}],\"heatmapgl\":[{\"type\":\"heatmapgl\",\"colorbar\":{\"outlinewidth\":0,\"ticks\":\"\"},\"colorscale\":[[0.0,\"#0d0887\"],[0.1111111111111111,\"#46039f\"],[0.2222222222222222,\"#7201a8\"],[0.3333333333333333,\"#9c179e\"],[0.4444444444444444,\"#bd3786\"],[0.5555555555555556,\"#d8576b\"],[0.6666666666666666,\"#ed7953\"],[0.7777777777777778,\"#fb9f3a\"],[0.8888888888888888,\"#fdca26\"],[1.0,\"#f0f921\"]]}],\"contourcarpet\":[{\"type\":\"contourcarpet\",\"colorbar\":{\"outlinewidth\":0,\"ticks\":\"\"}}],\"contour\":[{\"type\":\"contour\",\"colorbar\":{\"outlinewidth\":0,\"ticks\":\"\"},\"colorscale\":[[0.0,\"#0d0887\"],[0.1111111111111111,\"#46039f\"],[0.2222222222222222,\"#7201a8\"],[0.3333333333333333,\"#9c179e\"],[0.4444444444444444,\"#bd3786\"],[0.5555555555555556,\"#d8576b\"],[0.6666666666666666,\"#ed7953\"],[0.7777777777777778,\"#fb9f3a\"],[0.8888888888888888,\"#fdca26\"],[1.0,\"#f0f921\"]]}],\"surface\":[{\"type\":\"surface\",\"colorbar\":{\"outlinewidth\":0,\"ticks\":\"\"},\"colorscale\":[[0.0,\"#0d0887\"],[0.1111111111111111,\"#46039f\"],[0.2222222222222222,\"#7201a8\"],[0.3333333333333333,\"#9c179e\"],[0.4444444444444444,\"#bd3786\"],[0.5555555555555556,\"#d8576b\"],[0.6666666666666666,\"#ed7953\"],[0.7777777777777778,\"#fb9f3a\"],[0.8888888888888888,\"#fdca26\"],[1.0,\"#f0f921\"]]}],\"mesh3d\":[{\"type\":\"mesh3d\",\"colorbar\":{\"outlinewidth\":0,\"ticks\":\"\"}}],\"scatter\":[{\"fillpattern\":{\"fillmode\":\"overlay\",\"size\":10,\"solidity\":0.2},\"type\":\"scatter\"}],\"parcoords\":[{\"type\":\"parcoords\",\"line\":{\"colorbar\":{\"outlinewidth\":0,\"ticks\":\"\"}}}],\"scatterpolargl\":[{\"type\":\"scatterpolargl\",\"marker\":{\"colorbar\":{\"outlinewidth\":0,\"ticks\":\"\"}}}],\"bar\":[{\"error_x\":{\"color\":\"#2a3f5f\"},\"error_y\":{\"color\":\"#2a3f5f\"},\"marker\":{\"line\":{\"color\":\"#E5ECF6\",\"width\":0.5},\"pattern\":{\"fillmode\":\"overlay\",\"size\":10,\"solidity\":0.2}},\"type\":\"bar\"}],\"scattergeo\":[{\"type\":\"scattergeo\",\"marker\":{\"colorbar\":{\"outlinewidth\":0,\"ticks\":\"\"}}}],\"scatterpolar\":[{\"type\":\"scatterpolar\",\"marker\":{\"colorbar\":{\"outlinewidth\":0,\"ticks\":\"\"}}}],\"histogram\":[{\"marker\":{\"pattern\":{\"fillmode\":\"overlay\",\"size\":10,\"solidity\":0.2}},\"type\":\"histogram\"}],\"scattergl\":[{\"type\":\"scattergl\",\"marker\":{\"colorbar\":{\"outlinewidth\":0,\"ticks\":\"\"}}}],\"scatter3d\":[{\"type\":\"scatter3d\",\"line\":{\"colorbar\":{\"outlinewidth\":0,\"ticks\":\"\"}},\"marker\":{\"colorbar\":{\"outlinewidth\":0,\"ticks\":\"\"}}}],\"scattermapbox\":[{\"type\":\"scattermapbox\",\"marker\":{\"colorbar\":{\"outlinewidth\":0,\"ticks\":\"\"}}}],\"scatterternary\":[{\"type\":\"scatterternary\",\"marker\":{\"colorbar\":{\"outlinewidth\":0,\"ticks\":\"\"}}}],\"scattercarpet\":[{\"type\":\"scattercarpet\",\"marker\":{\"colorbar\":{\"outlinewidth\":0,\"ticks\":\"\"}}}],\"carpet\":[{\"aaxis\":{\"endlinecolor\":\"#2a3f5f\",\"gridcolor\":\"white\",\"linecolor\":\"white\",\"minorgridcolor\":\"white\",\"startlinecolor\":\"#2a3f5f\"},\"baxis\":{\"endlinecolor\":\"#2a3f5f\",\"gridcolor\":\"white\",\"linecolor\":\"white\",\"minorgridcolor\":\"white\",\"startlinecolor\":\"#2a3f5f\"},\"type\":\"carpet\"}],\"table\":[{\"cells\":{\"fill\":{\"color\":\"#EBF0F8\"},\"line\":{\"color\":\"white\"}},\"header\":{\"fill\":{\"color\":\"#C8D4E3\"},\"line\":{\"color\":\"white\"}},\"type\":\"table\"}],\"barpolar\":[{\"marker\":{\"line\":{\"color\":\"#E5ECF6\",\"width\":0.5},\"pattern\":{\"fillmode\":\"overlay\",\"size\":10,\"solidity\":0.2}},\"type\":\"barpolar\"}],\"pie\":[{\"automargin\":true,\"type\":\"pie\"}]},\"layout\":{\"autotypenumbers\":\"strict\",\"colorway\":[\"#636efa\",\"#EF553B\",\"#00cc96\",\"#ab63fa\",\"#FFA15A\",\"#19d3f3\",\"#FF6692\",\"#B6E880\",\"#FF97FF\",\"#FECB52\"],\"font\":{\"color\":\"#2a3f5f\"},\"hovermode\":\"closest\",\"hoverlabel\":{\"align\":\"left\"},\"paper_bgcolor\":\"white\",\"plot_bgcolor\":\"#E5ECF6\",\"polar\":{\"bgcolor\":\"#E5ECF6\",\"angularaxis\":{\"gridcolor\":\"white\",\"linecolor\":\"white\",\"ticks\":\"\"},\"radialaxis\":{\"gridcolor\":\"white\",\"linecolor\":\"white\",\"ticks\":\"\"}},\"ternary\":{\"bgcolor\":\"#E5ECF6\",\"aaxis\":{\"gridcolor\":\"white\",\"linecolor\":\"white\",\"ticks\":\"\"},\"baxis\":{\"gridcolor\":\"white\",\"linecolor\":\"white\",\"ticks\":\"\"},\"caxis\":{\"gridcolor\":\"white\",\"linecolor\":\"white\",\"ticks\":\"\"}},\"coloraxis\":{\"colorbar\":{\"outlinewidth\":0,\"ticks\":\"\"}},\"colorscale\":{\"sequential\":[[0.0,\"#0d0887\"],[0.1111111111111111,\"#46039f\"],[0.2222222222222222,\"#7201a8\"],[0.3333333333333333,\"#9c179e\"],[0.4444444444444444,\"#bd3786\"],[0.5555555555555556,\"#d8576b\"],[0.6666666666666666,\"#ed7953\"],[0.7777777777777778,\"#fb9f3a\"],[0.8888888888888888,\"#fdca26\"],[1.0,\"#f0f921\"]],\"sequentialminus\":[[0.0,\"#0d0887\"],[0.1111111111111111,\"#46039f\"],[0.2222222222222222,\"#7201a8\"],[0.3333333333333333,\"#9c179e\"],[0.4444444444444444,\"#bd3786\"],[0.5555555555555556,\"#d8576b\"],[0.6666666666666666,\"#ed7953\"],[0.7777777777777778,\"#fb9f3a\"],[0.8888888888888888,\"#fdca26\"],[1.0,\"#f0f921\"]],\"diverging\":[[0,\"#8e0152\"],[0.1,\"#c51b7d\"],[0.2,\"#de77ae\"],[0.3,\"#f1b6da\"],[0.4,\"#fde0ef\"],[0.5,\"#f7f7f7\"],[0.6,\"#e6f5d0\"],[0.7,\"#b8e186\"],[0.8,\"#7fbc41\"],[0.9,\"#4d9221\"],[1,\"#276419\"]]},\"xaxis\":{\"gridcolor\":\"white\",\"linecolor\":\"white\",\"ticks\":\"\",\"title\":{\"standoff\":15},\"zerolinecolor\":\"white\",\"automargin\":true,\"zerolinewidth\":2},\"yaxis\":{\"gridcolor\":\"white\",\"linecolor\":\"white\",\"ticks\":\"\",\"title\":{\"standoff\":15},\"zerolinecolor\":\"white\",\"automargin\":true,\"zerolinewidth\":2},\"scene\":{\"xaxis\":{\"backgroundcolor\":\"#E5ECF6\",\"gridcolor\":\"white\",\"linecolor\":\"white\",\"showbackground\":true,\"ticks\":\"\",\"zerolinecolor\":\"white\",\"gridwidth\":2},\"yaxis\":{\"backgroundcolor\":\"#E5ECF6\",\"gridcolor\":\"white\",\"linecolor\":\"white\",\"showbackground\":true,\"ticks\":\"\",\"zerolinecolor\":\"white\",\"gridwidth\":2},\"zaxis\":{\"backgroundcolor\":\"#E5ECF6\",\"gridcolor\":\"white\",\"linecolor\":\"white\",\"showbackground\":true,\"ticks\":\"\",\"zerolinecolor\":\"white\",\"gridwidth\":2}},\"shapedefaults\":{\"line\":{\"color\":\"#2a3f5f\"}},\"annotationdefaults\":{\"arrowcolor\":\"#2a3f5f\",\"arrowhead\":0,\"arrowwidth\":1},\"geo\":{\"bgcolor\":\"white\",\"landcolor\":\"#E5ECF6\",\"subunitcolor\":\"white\",\"showland\":true,\"showlakes\":true,\"lakecolor\":\"white\"},\"title\":{\"x\":0.05},\"mapbox\":{\"style\":\"light\"}}},\"title\":{\"text\":\"Pokemon Primary Type Distribution Matrix\"},\"yaxis\":{\"showticklabels\":false,\"title\":{\"text\":\"Primary Type Count [-]\"}},\"legend\":{\"tracegroupgap\":3},\"barmode\":\"overlay\",\"xaxis\":{\"title\":{\"text\":\"Generation # [-]\"}},\"height\":800,\"width\":1000},                        {\"responsive\": true}                    ).then(function(){\n",
       "                            \n",
       "var gd = document.getElementById('9adb6b55-d8c4-4b5d-a59d-6ac60ff7c831');\n",
       "var x = new MutationObserver(function (mutations, observer) {{\n",
       "        var display = window.getComputedStyle(gd).display;\n",
       "        if (!display || display === 'none') {{\n",
       "            console.log([gd, 'removed!']);\n",
       "            Plotly.purge(gd);\n",
       "            observer.disconnect();\n",
       "        }}\n",
       "}});\n",
       "\n",
       "// Listen for the removal of the full notebook cells\n",
       "var notebookContainer = gd.closest('#notebook-container');\n",
       "if (notebookContainer) {{\n",
       "    x.observe(notebookContainer, {childList: true});\n",
       "}}\n",
       "\n",
       "// Listen for the clearing of the current output cell\n",
       "var outputEl = gd.closest('.output');\n",
       "if (outputEl) {{\n",
       "    x.observe(outputEl, {childList: true});\n",
       "}}\n",
       "\n",
       "                        })                };                });            </script>        </div>"
      ]
     },
     "metadata": {},
     "output_type": "display_data"
    }
   ],
   "source": [
    "matrix_stack_chart2 = go.Figure()\n",
    "\n",
    "for ptype in primary_type_count.columns: \n",
    "    matrix_stack_chart2.add_trace(go.Bar(\n",
    "        x=primary_type_count.index,  \n",
    "        y=primary_type_count[ptype],\n",
    "        name=ptype,\n",
    "        # Enable hover information\n",
    "        hoverinfo='text',\n",
    "        # Show counts on hover\n",
    "        hovertext=primary_type_count[ptype],\n",
    "        # Set the bar color\n",
    "        marker={'color': type_colors.get(ptype)},\n",
    "        base=base_positions[ptype],\n",
    "        opacity=0.8,\n",
    "        # Add total count per type inside each bar \n",
    "        text=primary_type_count[ptype].values,\n",
    "        # Place the text inside the bar\n",
    "        textposition='inside'\n",
    "        )\n",
    "    )\n",
    "\n",
    "# Add total count on negative y-axis\n",
    "matrix_stack_chart2.add_trace(go.Bar(\n",
    "    x=total_count.index,\n",
    "    # Negative values for total count\n",
    "    y=-total_count.values,  \n",
    "    name='total',\n",
    "    marker_color='black',\n",
    "    # Show info when hovering\n",
    "    hoverinfo='text',\n",
    "    # Show total counts on hover\n",
    "    text=total_count.values,\n",
    "    # Automatically place the text\n",
    "    textposition='auto'\n",
    "))\n",
    "\n",
    "matrix_stack_chart2.update_layout(\n",
    "    barmode='overlay',\n",
    "    title_text='Pokemon Primary Type Distribution Matrix',\n",
    "    xaxis_title='Generation # [-]',\n",
    "    # Hide y-axis labels\n",
    "    yaxis_showticklabels=False,\n",
    "    yaxis_title='Primary Type Count [-]',\n",
    "    legend=dict(tracegroupgap=3),\n",
    "    height=800, width=1000\n",
    ")\n",
    "\n",
    "# Show the figure\n",
    "matrix_stack_chart2.show()"
   ]
  },
  {
   "cell_type": "code",
   "execution_count": null,
   "id": "8e1f500a-c2cd-470f-a2df-044fcedb17aa",
   "metadata": {},
   "outputs": [],
   "source": []
  }
 ],
 "metadata": {
  "kernelspec": {
   "display_name": "Python 3 (ipykernel)",
   "language": "python",
   "name": "python3"
  },
  "language_info": {
   "codemirror_mode": {
    "name": "ipython",
    "version": 3
   },
   "file_extension": ".py",
   "mimetype": "text/x-python",
   "name": "python",
   "nbconvert_exporter": "python",
   "pygments_lexer": "ipython3",
   "version": "3.8.20"
  }
 },
 "nbformat": 4,
 "nbformat_minor": 5
}
