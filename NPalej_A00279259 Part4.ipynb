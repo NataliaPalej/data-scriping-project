{
 "cells": [
  {
   "cell_type": "code",
   "execution_count": null,
   "id": "e2895d2b-421c-4a24-b1df-81be7e9549a1",
   "metadata": {},
   "outputs": [],
   "source": []
  }
 ],
 "metadata": {
  "kernelspec": {
   "display_name": "",
   "name": ""
  },
  "language_info": {
   "name": ""
  }
 },
 "nbformat": 4,
 "nbformat_minor": 5
}
