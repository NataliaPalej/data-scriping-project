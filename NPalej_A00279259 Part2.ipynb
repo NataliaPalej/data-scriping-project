{
 "cells": [
  {
   "cell_type": "markdown",
   "id": "8569d31d-2082-4b10-89d3-e0c8fb2d137d",
   "metadata": {},
   "source": [
    "# Natalia Palej A00279259\n",
    "Software Design with Artificial Intelligence for Cloud Computing \n",
    "Year 4"
   ]
  },
  {
   "cell_type": "markdown",
   "id": "d118daf6-7e57-4235-8b42-016eb2dd896d",
   "metadata": {},
   "source": [
    "# Part 2: Data Loading and Preprocessing"
   ]
  },
  {
   "cell_type": "markdown",
   "id": "46c1317f-5b37-4d10-961c-3e8a84af7b93",
   "metadata": {},
   "source": [
    "## Make Necessary Imports"
   ]
  },
  {
   "cell_type": "code",
   "execution_count": 45,
   "id": "e2067985-dea7-4325-9d7b-20d9cb28cd4a",
   "metadata": {},
   "outputs": [],
   "source": [
    "import pandas as pd \n",
    "import numpy as np\n",
    "import re"
   ]
  },
  {
   "cell_type": "markdown",
   "id": "5e27eede-da0f-4d9f-ba6f-1d27c538a2e1",
   "metadata": {},
   "source": [
    "## Load the Pokemon JSON File"
   ]
  },
  {
   "cell_type": "code",
   "execution_count": 46,
   "id": "60f24295-b5c8-4343-8c1c-fc88deb54279",
   "metadata": {},
   "outputs": [],
   "source": [
    "df = pd.read_json(\"pokemon_data.json\")"
   ]
  },
  {
   "cell_type": "code",
   "execution_count": 47,
   "id": "7b7241e0-12fd-4591-a32b-6acd332bc62b",
   "metadata": {},
   "outputs": [
    {
     "data": {
      "text/html": [
       "<div>\n",
       "<style scoped>\n",
       "    .dataframe tbody tr th:only-of-type {\n",
       "        vertical-align: middle;\n",
       "    }\n",
       "\n",
       "    .dataframe tbody tr th {\n",
       "        vertical-align: top;\n",
       "    }\n",
       "\n",
       "    .dataframe thead th {\n",
       "        text-align: right;\n",
       "    }\n",
       "</style>\n",
       "<table border=\"1\" class=\"dataframe\">\n",
       "  <thead>\n",
       "    <tr style=\"text-align: right;\">\n",
       "      <th></th>\n",
       "      <th>bulbasaur</th>\n",
       "      <th>ivysaur</th>\n",
       "      <th>venusaur</th>\n",
       "      <th>charmander</th>\n",
       "      <th>charmeleon</th>\n",
       "      <th>charizard</th>\n",
       "      <th>squirtle</th>\n",
       "      <th>wartortle</th>\n",
       "      <th>blastoise</th>\n",
       "      <th>caterpie</th>\n",
       "      <th>...</th>\n",
       "      <th>starly</th>\n",
       "      <th>staravia</th>\n",
       "      <th>staraptor</th>\n",
       "      <th>bidoof</th>\n",
       "      <th>bibarel</th>\n",
       "      <th>kricketot</th>\n",
       "      <th>kricketune</th>\n",
       "      <th>shinx</th>\n",
       "      <th>luxio</th>\n",
       "      <th>luxray</th>\n",
       "    </tr>\n",
       "  </thead>\n",
       "  <tbody>\n",
       "    <tr>\n",
       "      <th>name</th>\n",
       "      <td>bulbasaur</td>\n",
       "      <td>ivysaur</td>\n",
       "      <td>venusaur</td>\n",
       "      <td>charmander</td>\n",
       "      <td>charmeleon</td>\n",
       "      <td>charizard</td>\n",
       "      <td>squirtle</td>\n",
       "      <td>wartortle</td>\n",
       "      <td>blastoise</td>\n",
       "      <td>caterpie</td>\n",
       "      <td>...</td>\n",
       "      <td>starly</td>\n",
       "      <td>staravia</td>\n",
       "      <td>staraptor</td>\n",
       "      <td>bidoof</td>\n",
       "      <td>bibarel</td>\n",
       "      <td>kricketot</td>\n",
       "      <td>kricketune</td>\n",
       "      <td>shinx</td>\n",
       "      <td>luxio</td>\n",
       "      <td>luxray</td>\n",
       "    </tr>\n",
       "    <tr>\n",
       "      <th>national_no</th>\n",
       "      <td>0001</td>\n",
       "      <td>0002</td>\n",
       "      <td>0003</td>\n",
       "      <td>0004</td>\n",
       "      <td>0005</td>\n",
       "      <td>0006</td>\n",
       "      <td>0007</td>\n",
       "      <td>0008</td>\n",
       "      <td>0009</td>\n",
       "      <td>0010</td>\n",
       "      <td>...</td>\n",
       "      <td>0396</td>\n",
       "      <td>0397</td>\n",
       "      <td>0398</td>\n",
       "      <td>0399</td>\n",
       "      <td>0400</td>\n",
       "      <td>0401</td>\n",
       "      <td>0402</td>\n",
       "      <td>0403</td>\n",
       "      <td>0404</td>\n",
       "      <td>0405</td>\n",
       "    </tr>\n",
       "    <tr>\n",
       "      <th>types</th>\n",
       "      <td>[grass, poison]</td>\n",
       "      <td>[grass, poison]</td>\n",
       "      <td>[grass, poison, grass, poison]</td>\n",
       "      <td>[fire]</td>\n",
       "      <td>[fire]</td>\n",
       "      <td>[fire, flying, fire, dragon, fire, flying]</td>\n",
       "      <td>[water]</td>\n",
       "      <td>[water]</td>\n",
       "      <td>[water, water]</td>\n",
       "      <td>[bug]</td>\n",
       "      <td>...</td>\n",
       "      <td>[normal, flying]</td>\n",
       "      <td>[normal, flying]</td>\n",
       "      <td>[normal, flying]</td>\n",
       "      <td>[normal]</td>\n",
       "      <td>[normal, water]</td>\n",
       "      <td>[bug]</td>\n",
       "      <td>[bug]</td>\n",
       "      <td>[electric]</td>\n",
       "      <td>[electric]</td>\n",
       "      <td>[electric]</td>\n",
       "    </tr>\n",
       "    <tr>\n",
       "      <th>species</th>\n",
       "      <td>Seed Pokémon</td>\n",
       "      <td>Seed Pokémon</td>\n",
       "      <td>Seed Pokémon</td>\n",
       "      <td>Lizard Pokémon</td>\n",
       "      <td>Flame Pokémon</td>\n",
       "      <td>Flame Pokémon</td>\n",
       "      <td>Tiny Turtle Pokémon</td>\n",
       "      <td>Turtle Pokémon</td>\n",
       "      <td>Shellfish Pokémon</td>\n",
       "      <td>Worm Pokémon</td>\n",
       "      <td>...</td>\n",
       "      <td>Starling Pokémon</td>\n",
       "      <td>Starling Pokémon</td>\n",
       "      <td>Predator Pokémon</td>\n",
       "      <td>Plump Mouse Pokémon</td>\n",
       "      <td>Beaver Pokémon</td>\n",
       "      <td>Cricket Pokémon</td>\n",
       "      <td>Cricket Pokémon</td>\n",
       "      <td>Flash Pokémon</td>\n",
       "      <td>Spark Pokémon</td>\n",
       "      <td>Gleam Eyes Pokémon</td>\n",
       "    </tr>\n",
       "    <tr>\n",
       "      <th>height</th>\n",
       "      <td>0.7 m (2′04″)</td>\n",
       "      <td>1.0 m (3′03″)</td>\n",
       "      <td>2.0 m (6′07″)</td>\n",
       "      <td>0.6 m (2′00″)</td>\n",
       "      <td>1.1 m (3′07″)</td>\n",
       "      <td>1.7 m (5′07″)</td>\n",
       "      <td>0.5 m (1′08″)</td>\n",
       "      <td>1.0 m (3′03″)</td>\n",
       "      <td>1.6 m (5′03″)</td>\n",
       "      <td>0.3 m (1′00″)</td>\n",
       "      <td>...</td>\n",
       "      <td>0.3 m (1′00″)</td>\n",
       "      <td>0.6 m (2′00″)</td>\n",
       "      <td>1.2 m (3′11″)</td>\n",
       "      <td>0.5 m (1′08″)</td>\n",
       "      <td>1.0 m (3′03″)</td>\n",
       "      <td>0.3 m (1′00″)</td>\n",
       "      <td>1.0 m (3′03″)</td>\n",
       "      <td>0.5 m (1′08″)</td>\n",
       "      <td>0.9 m (2′11″)</td>\n",
       "      <td>1.4 m (4′07″)</td>\n",
       "    </tr>\n",
       "  </tbody>\n",
       "</table>\n",
       "<p>5 rows × 405 columns</p>\n",
       "</div>"
      ],
      "text/plain": [
       "                   bulbasaur          ivysaur                        venusaur  \\\n",
       "name               bulbasaur          ivysaur                        venusaur   \n",
       "national_no             0001             0002                            0003   \n",
       "types        [grass, poison]  [grass, poison]  [grass, poison, grass, poison]   \n",
       "species         Seed Pokémon     Seed Pokémon                    Seed Pokémon   \n",
       "height         0.7 m (2′04″)    1.0 m (3′03″)                   2.0 m (6′07″)   \n",
       "\n",
       "                 charmander     charmeleon  \\\n",
       "name             charmander     charmeleon   \n",
       "national_no            0004           0005   \n",
       "types                [fire]         [fire]   \n",
       "species      Lizard Pokémon  Flame Pokémon   \n",
       "height        0.6 m (2′00″)  1.1 m (3′07″)   \n",
       "\n",
       "                                              charizard             squirtle  \\\n",
       "name                                          charizard             squirtle   \n",
       "national_no                                        0006                 0007   \n",
       "types        [fire, flying, fire, dragon, fire, flying]              [water]   \n",
       "species                                   Flame Pokémon  Tiny Turtle Pokémon   \n",
       "height                                    1.7 m (5′07″)        0.5 m (1′08″)   \n",
       "\n",
       "                  wartortle          blastoise       caterpie  ...  \\\n",
       "name              wartortle          blastoise       caterpie  ...   \n",
       "national_no            0008               0009           0010  ...   \n",
       "types               [water]     [water, water]          [bug]  ...   \n",
       "species      Turtle Pokémon  Shellfish Pokémon   Worm Pokémon  ...   \n",
       "height        1.0 m (3′03″)      1.6 m (5′03″)  0.3 m (1′00″)  ...   \n",
       "\n",
       "                       starly          staravia         staraptor  \\\n",
       "name                   starly          staravia         staraptor   \n",
       "national_no              0396              0397              0398   \n",
       "types        [normal, flying]  [normal, flying]  [normal, flying]   \n",
       "species      Starling Pokémon  Starling Pokémon  Predator Pokémon   \n",
       "height          0.3 m (1′00″)     0.6 m (2′00″)     1.2 m (3′11″)   \n",
       "\n",
       "                          bidoof          bibarel        kricketot  \\\n",
       "name                      bidoof          bibarel        kricketot   \n",
       "national_no                 0399             0400             0401   \n",
       "types                   [normal]  [normal, water]            [bug]   \n",
       "species      Plump Mouse Pokémon   Beaver Pokémon  Cricket Pokémon   \n",
       "height             0.5 m (1′08″)    1.0 m (3′03″)    0.3 m (1′00″)   \n",
       "\n",
       "                  kricketune          shinx          luxio              luxray  \n",
       "name              kricketune          shinx          luxio              luxray  \n",
       "national_no             0402           0403           0404                0405  \n",
       "types                  [bug]     [electric]     [electric]          [electric]  \n",
       "species      Cricket Pokémon  Flash Pokémon  Spark Pokémon  Gleam Eyes Pokémon  \n",
       "height         1.0 m (3′03″)  0.5 m (1′08″)  0.9 m (2′11″)       1.4 m (4′07″)  \n",
       "\n",
       "[5 rows x 405 columns]"
      ]
     },
     "execution_count": 47,
     "metadata": {},
     "output_type": "execute_result"
    }
   ],
   "source": [
    "df.head()"
   ]
  },
  {
   "cell_type": "markdown",
   "id": "a9bda943-de60-40ba-8ce2-12bc0933344f",
   "metadata": {},
   "source": [
    "## Dataframe Transposition"
   ]
  },
  {
   "cell_type": "code",
   "execution_count": 48,
   "id": "e78612e6-6e75-4cc3-9f16-8eefefdb84b8",
   "metadata": {},
   "outputs": [],
   "source": [
    "df = df.T"
   ]
  },
  {
   "cell_type": "code",
   "execution_count": 49,
   "id": "94fcebdc-3bf5-4b93-9c46-bfab640b4bba",
   "metadata": {},
   "outputs": [],
   "source": [
    "# Reset the Index after transposing the df \n",
    "df.reset_index(drop=True, inplace=True)"
   ]
  },
  {
   "cell_type": "code",
   "execution_count": 50,
   "id": "d4a8adeb-7078-4a22-9f08-3438ffcd8029",
   "metadata": {},
   "outputs": [
    {
     "data": {
      "text/html": [
       "<div>\n",
       "<style scoped>\n",
       "    .dataframe tbody tr th:only-of-type {\n",
       "        vertical-align: middle;\n",
       "    }\n",
       "\n",
       "    .dataframe tbody tr th {\n",
       "        vertical-align: top;\n",
       "    }\n",
       "\n",
       "    .dataframe thead th {\n",
       "        text-align: right;\n",
       "    }\n",
       "</style>\n",
       "<table border=\"1\" class=\"dataframe\">\n",
       "  <thead>\n",
       "    <tr style=\"text-align: right;\">\n",
       "      <th></th>\n",
       "      <th>name</th>\n",
       "      <th>national_no</th>\n",
       "      <th>types</th>\n",
       "      <th>species</th>\n",
       "      <th>height</th>\n",
       "      <th>weight</th>\n",
       "      <th>abilities</th>\n",
       "      <th>ev_yield</th>\n",
       "      <th>catch_rate</th>\n",
       "      <th>base_friendship</th>\n",
       "      <th>...</th>\n",
       "      <th>max_sp_atk</th>\n",
       "      <th>sp_def</th>\n",
       "      <th>min_sp_def</th>\n",
       "      <th>max_sp_def</th>\n",
       "      <th>speed</th>\n",
       "      <th>min_speed</th>\n",
       "      <th>max_speed</th>\n",
       "      <th>total</th>\n",
       "      <th>evo_path</th>\n",
       "      <th>pokemon_img_url</th>\n",
       "    </tr>\n",
       "  </thead>\n",
       "  <tbody>\n",
       "    <tr>\n",
       "      <th>0</th>\n",
       "      <td>bulbasaur</td>\n",
       "      <td>0001</td>\n",
       "      <td>[grass, poison]</td>\n",
       "      <td>Seed Pokémon</td>\n",
       "      <td>0.7 m (2′04″)</td>\n",
       "      <td>6.9 kg (15.2 lbs)</td>\n",
       "      <td>Overgrow, Chlorophyll</td>\n",
       "      <td>1 Sp. Atk</td>\n",
       "      <td>45 (5.9% with PokéBall, full HP)</td>\n",
       "      <td>50 (normal)</td>\n",
       "      <td>...</td>\n",
       "      <td>251</td>\n",
       "      <td>65</td>\n",
       "      <td>121</td>\n",
       "      <td>251</td>\n",
       "      <td>45</td>\n",
       "      <td>85</td>\n",
       "      <td>207</td>\n",
       "      <td>318</td>\n",
       "      <td>[Bulbasaur, Ivysaur, Venusaur]</td>\n",
       "      <td>https://img.pokemondb.net/artwork/bulbasaur.jpg</td>\n",
       "    </tr>\n",
       "    <tr>\n",
       "      <th>1</th>\n",
       "      <td>ivysaur</td>\n",
       "      <td>0002</td>\n",
       "      <td>[grass, poison]</td>\n",
       "      <td>Seed Pokémon</td>\n",
       "      <td>1.0 m (3′03″)</td>\n",
       "      <td>13.0 kg (28.7 lbs)</td>\n",
       "      <td>Overgrow, Chlorophyll</td>\n",
       "      <td>1 Sp. Atk, 1 Sp. Def</td>\n",
       "      <td>45 (5.9% with PokéBall, full HP)</td>\n",
       "      <td>50 (normal)</td>\n",
       "      <td>...</td>\n",
       "      <td>284</td>\n",
       "      <td>80</td>\n",
       "      <td>148</td>\n",
       "      <td>284</td>\n",
       "      <td>60</td>\n",
       "      <td>112</td>\n",
       "      <td>240</td>\n",
       "      <td>405</td>\n",
       "      <td>[Bulbasaur, Ivysaur, Venusaur]</td>\n",
       "      <td>https://img.pokemondb.net/artwork/ivysaur.jpg</td>\n",
       "    </tr>\n",
       "    <tr>\n",
       "      <th>2</th>\n",
       "      <td>venusaur</td>\n",
       "      <td>0003</td>\n",
       "      <td>[grass, poison, grass, poison]</td>\n",
       "      <td>Seed Pokémon</td>\n",
       "      <td>2.0 m (6′07″)</td>\n",
       "      <td>100.0 kg (220.5 lbs)</td>\n",
       "      <td>Overgrow, Chlorophyll</td>\n",
       "      <td>2 Sp. Atk, 1 Sp. Def</td>\n",
       "      <td>45 (5.9% with PokéBall, full HP)</td>\n",
       "      <td>50 (normal)</td>\n",
       "      <td>...</td>\n",
       "      <td>328</td>\n",
       "      <td>100</td>\n",
       "      <td>184</td>\n",
       "      <td>328</td>\n",
       "      <td>80</td>\n",
       "      <td>148</td>\n",
       "      <td>284</td>\n",
       "      <td>525</td>\n",
       "      <td>[Bulbasaur, Ivysaur, Venusaur]</td>\n",
       "      <td>https://img.pokemondb.net/artwork/venusaur.jpg</td>\n",
       "    </tr>\n",
       "    <tr>\n",
       "      <th>3</th>\n",
       "      <td>charmander</td>\n",
       "      <td>0004</td>\n",
       "      <td>[fire]</td>\n",
       "      <td>Lizard Pokémon</td>\n",
       "      <td>0.6 m (2′00″)</td>\n",
       "      <td>8.5 kg (18.7 lbs)</td>\n",
       "      <td>Blaze, Solar Power</td>\n",
       "      <td>1 Speed</td>\n",
       "      <td>45 (5.9% with PokéBall, full HP)</td>\n",
       "      <td>50 (normal)</td>\n",
       "      <td>...</td>\n",
       "      <td>240</td>\n",
       "      <td>50</td>\n",
       "      <td>94</td>\n",
       "      <td>218</td>\n",
       "      <td>65</td>\n",
       "      <td>121</td>\n",
       "      <td>251</td>\n",
       "      <td>309</td>\n",
       "      <td>[Charmander, Charmeleon, Charizard]</td>\n",
       "      <td>https://img.pokemondb.net/artwork/charmander.jpg</td>\n",
       "    </tr>\n",
       "    <tr>\n",
       "      <th>4</th>\n",
       "      <td>charmeleon</td>\n",
       "      <td>0005</td>\n",
       "      <td>[fire]</td>\n",
       "      <td>Flame Pokémon</td>\n",
       "      <td>1.1 m (3′07″)</td>\n",
       "      <td>19.0 kg (41.9 lbs)</td>\n",
       "      <td>Blaze, Solar Power</td>\n",
       "      <td>1 Sp. Atk, 1 Speed</td>\n",
       "      <td>45 (5.9% with PokéBall, full HP)</td>\n",
       "      <td>50 (normal)</td>\n",
       "      <td>...</td>\n",
       "      <td>284</td>\n",
       "      <td>65</td>\n",
       "      <td>121</td>\n",
       "      <td>251</td>\n",
       "      <td>80</td>\n",
       "      <td>148</td>\n",
       "      <td>284</td>\n",
       "      <td>405</td>\n",
       "      <td>[Charmander, Charmeleon, Charizard]</td>\n",
       "      <td>https://img.pokemondb.net/artwork/charmeleon.jpg</td>\n",
       "    </tr>\n",
       "  </tbody>\n",
       "</table>\n",
       "<p>5 rows × 36 columns</p>\n",
       "</div>"
      ],
      "text/plain": [
       "         name national_no                           types         species  \\\n",
       "0   bulbasaur        0001                 [grass, poison]    Seed Pokémon   \n",
       "1     ivysaur        0002                 [grass, poison]    Seed Pokémon   \n",
       "2    venusaur        0003  [grass, poison, grass, poison]    Seed Pokémon   \n",
       "3  charmander        0004                          [fire]  Lizard Pokémon   \n",
       "4  charmeleon        0005                          [fire]   Flame Pokémon   \n",
       "\n",
       "          height                weight              abilities  \\\n",
       "0  0.7 m (2′04″)     6.9 kg (15.2 lbs)  Overgrow, Chlorophyll   \n",
       "1  1.0 m (3′03″)    13.0 kg (28.7 lbs)  Overgrow, Chlorophyll   \n",
       "2  2.0 m (6′07″)  100.0 kg (220.5 lbs)  Overgrow, Chlorophyll   \n",
       "3  0.6 m (2′00″)     8.5 kg (18.7 lbs)     Blaze, Solar Power   \n",
       "4  1.1 m (3′07″)    19.0 kg (41.9 lbs)     Blaze, Solar Power   \n",
       "\n",
       "               ev_yield                        catch_rate base_friendship  \\\n",
       "0             1 Sp. Atk  45 (5.9% with PokéBall, full HP)     50 (normal)   \n",
       "1  1 Sp. Atk, 1 Sp. Def  45 (5.9% with PokéBall, full HP)     50 (normal)   \n",
       "2  2 Sp. Atk, 1 Sp. Def  45 (5.9% with PokéBall, full HP)     50 (normal)   \n",
       "3               1 Speed  45 (5.9% with PokéBall, full HP)     50 (normal)   \n",
       "4    1 Sp. Atk, 1 Speed  45 (5.9% with PokéBall, full HP)     50 (normal)   \n",
       "\n",
       "   ... max_sp_atk sp_def min_sp_def max_sp_def speed min_speed max_speed  \\\n",
       "0  ...        251     65        121        251    45        85       207   \n",
       "1  ...        284     80        148        284    60       112       240   \n",
       "2  ...        328    100        184        328    80       148       284   \n",
       "3  ...        240     50         94        218    65       121       251   \n",
       "4  ...        284     65        121        251    80       148       284   \n",
       "\n",
       "  total                             evo_path  \\\n",
       "0   318       [Bulbasaur, Ivysaur, Venusaur]   \n",
       "1   405       [Bulbasaur, Ivysaur, Venusaur]   \n",
       "2   525       [Bulbasaur, Ivysaur, Venusaur]   \n",
       "3   309  [Charmander, Charmeleon, Charizard]   \n",
       "4   405  [Charmander, Charmeleon, Charizard]   \n",
       "\n",
       "                                    pokemon_img_url  \n",
       "0   https://img.pokemondb.net/artwork/bulbasaur.jpg  \n",
       "1     https://img.pokemondb.net/artwork/ivysaur.jpg  \n",
       "2    https://img.pokemondb.net/artwork/venusaur.jpg  \n",
       "3  https://img.pokemondb.net/artwork/charmander.jpg  \n",
       "4  https://img.pokemondb.net/artwork/charmeleon.jpg  \n",
       "\n",
       "[5 rows x 36 columns]"
      ]
     },
     "execution_count": 50,
     "metadata": {},
     "output_type": "execute_result"
    }
   ],
   "source": [
    "df.head()"
   ]
  },
  {
   "cell_type": "code",
   "execution_count": 51,
   "id": "747f95f8-84e8-415a-a529-50bd6f140385",
   "metadata": {},
   "outputs": [
    {
     "name": "stdout",
     "output_type": "stream",
     "text": [
      "<class 'pandas.core.frame.DataFrame'>\n",
      "RangeIndex: 405 entries, 0 to 404\n",
      "Data columns (total 36 columns):\n",
      " #   Column           Non-Null Count  Dtype \n",
      "---  ------           --------------  ----- \n",
      " 0   name             405 non-null    object\n",
      " 1   national_no      405 non-null    object\n",
      " 2   types            405 non-null    object\n",
      " 3   species          405 non-null    object\n",
      " 4   height           405 non-null    object\n",
      " 5   weight           405 non-null    object\n",
      " 6   abilities        405 non-null    object\n",
      " 7   ev_yield         405 non-null    object\n",
      " 8   catch_rate       405 non-null    object\n",
      " 9   base_friendship  405 non-null    object\n",
      " 10  base_exp         405 non-null    object\n",
      " 11  growth_rate      405 non-null    object\n",
      " 12  egg_groups       405 non-null    object\n",
      " 13  gender           405 non-null    object\n",
      " 14  egg_cycles       405 non-null    object\n",
      " 15  hp               405 non-null    object\n",
      " 16  min_hp           405 non-null    object\n",
      " 17  max_hp           405 non-null    object\n",
      " 18  attack           405 non-null    object\n",
      " 19  min_attack       405 non-null    object\n",
      " 20  max_attack       405 non-null    object\n",
      " 21  defense          405 non-null    object\n",
      " 22  min_defense      405 non-null    object\n",
      " 23  max_defense      405 non-null    object\n",
      " 24  sp_atk           405 non-null    object\n",
      " 25  min_sp_atk       405 non-null    object\n",
      " 26  max_sp_atk       405 non-null    object\n",
      " 27  sp_def           405 non-null    object\n",
      " 28  min_sp_def       405 non-null    object\n",
      " 29  max_sp_def       405 non-null    object\n",
      " 30  speed            405 non-null    object\n",
      " 31  min_speed        405 non-null    object\n",
      " 32  max_speed        405 non-null    object\n",
      " 33  total            405 non-null    object\n",
      " 34  evo_path         405 non-null    object\n",
      " 35  pokemon_img_url  405 non-null    object\n",
      "dtypes: object(36)\n",
      "memory usage: 114.0+ KB\n"
     ]
    }
   ],
   "source": [
    "df.info()"
   ]
  },
  {
   "cell_type": "code",
   "execution_count": 52,
   "id": "044f953a-737a-4243-9632-f0645a91a7b7",
   "metadata": {},
   "outputs": [
    {
     "data": {
      "text/plain": [
       "<bound method NDFrame.describe of            name national_no                           types  \\\n",
       "0     bulbasaur        0001                 [grass, poison]   \n",
       "1       ivysaur        0002                 [grass, poison]   \n",
       "2      venusaur        0003  [grass, poison, grass, poison]   \n",
       "3    charmander        0004                          [fire]   \n",
       "4    charmeleon        0005                          [fire]   \n",
       "..          ...         ...                             ...   \n",
       "400   kricketot        0401                           [bug]   \n",
       "401  kricketune        0402                           [bug]   \n",
       "402       shinx        0403                      [electric]   \n",
       "403       luxio        0404                      [electric]   \n",
       "404      luxray        0405                      [electric]   \n",
       "\n",
       "                species         height                weight  \\\n",
       "0          Seed Pokémon  0.7 m (2′04″)     6.9 kg (15.2 lbs)   \n",
       "1          Seed Pokémon  1.0 m (3′03″)    13.0 kg (28.7 lbs)   \n",
       "2          Seed Pokémon  2.0 m (6′07″)  100.0 kg (220.5 lbs)   \n",
       "3        Lizard Pokémon  0.6 m (2′00″)     8.5 kg (18.7 lbs)   \n",
       "4         Flame Pokémon  1.1 m (3′07″)    19.0 kg (41.9 lbs)   \n",
       "..                  ...            ...                   ...   \n",
       "400     Cricket Pokémon  0.3 m (1′00″)      2.2 kg (4.9 lbs)   \n",
       "401     Cricket Pokémon  1.0 m (3′03″)    25.5 kg (56.2 lbs)   \n",
       "402       Flash Pokémon  0.5 m (1′08″)     9.5 kg (20.9 lbs)   \n",
       "403       Spark Pokémon  0.9 m (2′11″)    30.5 kg (67.2 lbs)   \n",
       "404  Gleam Eyes Pokémon  1.4 m (4′07″)    42.0 kg (92.6 lbs)   \n",
       "\n",
       "                     abilities              ev_yield  \\\n",
       "0        Overgrow, Chlorophyll             1 Sp. Atk   \n",
       "1        Overgrow, Chlorophyll  1 Sp. Atk, 1 Sp. Def   \n",
       "2        Overgrow, Chlorophyll  2 Sp. Atk, 1 Sp. Def   \n",
       "3           Blaze, Solar Power               1 Speed   \n",
       "4           Blaze, Solar Power    1 Sp. Atk, 1 Speed   \n",
       "..                         ...                   ...   \n",
       "400        Shed Skin, Run Away             1 Defense   \n",
       "401          Swarm, Technician              2 Attack   \n",
       "402  Rivalry, Intimidate, Guts              1 Attack   \n",
       "403  Rivalry, Intimidate, Guts              2 Attack   \n",
       "404  Rivalry, Intimidate, Guts              3 Attack   \n",
       "\n",
       "                             catch_rate           base_friendship  ...  \\\n",
       "0      45 (5.9% with PokéBall, full HP)               50 (normal)  ...   \n",
       "1      45 (5.9% with PokéBall, full HP)               50 (normal)  ...   \n",
       "2      45 (5.9% with PokéBall, full HP)               50 (normal)  ...   \n",
       "3      45 (5.9% with PokéBall, full HP)               50 (normal)  ...   \n",
       "4      45 (5.9% with PokéBall, full HP)               50 (normal)  ...   \n",
       "..                                  ...                       ...  ...   \n",
       "400  255 (33.3% with PokéBall, full HP)               50 (normal)  ...   \n",
       "401    45 (5.9% with PokéBall, full HP)               50 (normal)  ...   \n",
       "402  235 (30.7% with PokéBall, full HP)               50 (normal)  ...   \n",
       "403  120 (15.7% with PokéBall, full HP)  100 (higher than normal)  ...   \n",
       "404    45 (5.9% with PokéBall, full HP)               50 (normal)  ...   \n",
       "\n",
       "    max_sp_atk sp_def min_sp_def max_sp_def speed min_speed max_speed total  \\\n",
       "0          251     65        121        251    45        85       207   318   \n",
       "1          284     80        148        284    60       112       240   405   \n",
       "2          328    100        184        328    80       148       284   525   \n",
       "3          240     50         94        218    65       121       251   309   \n",
       "4          284     65        121        251    80       148       284   405   \n",
       "..         ...    ...        ...        ...   ...       ...       ...   ...   \n",
       "400        163     41         78        199    25        49       163   194   \n",
       "401        229     51         96        221    65       121       251   384   \n",
       "402        196     34         65        183    45        85       207   263   \n",
       "403        240     49         92        216    60       112       240   363   \n",
       "404        317     79        146        282    70       130       262   523   \n",
       "\n",
       "                                evo_path  \\\n",
       "0         [Bulbasaur, Ivysaur, Venusaur]   \n",
       "1         [Bulbasaur, Ivysaur, Venusaur]   \n",
       "2         [Bulbasaur, Ivysaur, Venusaur]   \n",
       "3    [Charmander, Charmeleon, Charizard]   \n",
       "4    [Charmander, Charmeleon, Charizard]   \n",
       "..                                   ...   \n",
       "400              [Kricketot, Kricketune]   \n",
       "401              [Kricketot, Kricketune]   \n",
       "402               [Shinx, Luxio, Luxray]   \n",
       "403               [Shinx, Luxio, Luxray]   \n",
       "404               [Shinx, Luxio, Luxray]   \n",
       "\n",
       "                                      pokemon_img_url  \n",
       "0     https://img.pokemondb.net/artwork/bulbasaur.jpg  \n",
       "1       https://img.pokemondb.net/artwork/ivysaur.jpg  \n",
       "2      https://img.pokemondb.net/artwork/venusaur.jpg  \n",
       "3    https://img.pokemondb.net/artwork/charmander.jpg  \n",
       "4    https://img.pokemondb.net/artwork/charmeleon.jpg  \n",
       "..                                                ...  \n",
       "400   https://img.pokemondb.net/artwork/kricketot.jpg  \n",
       "401  https://img.pokemondb.net/artwork/kricketune.jpg  \n",
       "402       https://img.pokemondb.net/artwork/shinx.jpg  \n",
       "403       https://img.pokemondb.net/artwork/luxio.jpg  \n",
       "404      https://img.pokemondb.net/artwork/luxray.jpg  \n",
       "\n",
       "[405 rows x 36 columns]>"
      ]
     },
     "execution_count": 52,
     "metadata": {},
     "output_type": "execute_result"
    }
   ],
   "source": [
    "df.describe"
   ]
  },
  {
   "cell_type": "code",
   "execution_count": 53,
   "id": "adc754c2-5b4e-4317-af89-18096a213f3e",
   "metadata": {},
   "outputs": [
    {
     "data": {
      "text/plain": [
       "14580"
      ]
     },
     "execution_count": 53,
     "metadata": {},
     "output_type": "execute_result"
    }
   ],
   "source": [
    "df.size"
   ]
  },
  {
   "cell_type": "code",
   "execution_count": 54,
   "id": "53ab047d-996c-4095-82ab-75a328aa37e5",
   "metadata": {},
   "outputs": [
    {
     "data": {
      "text/plain": [
       "Index(['name', 'national_no', 'types', 'species', 'height', 'weight',\n",
       "       'abilities', 'ev_yield', 'catch_rate', 'base_friendship', 'base_exp',\n",
       "       'growth_rate', 'egg_groups', 'gender', 'egg_cycles', 'hp', 'min_hp',\n",
       "       'max_hp', 'attack', 'min_attack', 'max_attack', 'defense',\n",
       "       'min_defense', 'max_defense', 'sp_atk', 'min_sp_atk', 'max_sp_atk',\n",
       "       'sp_def', 'min_sp_def', 'max_sp_def', 'speed', 'min_speed', 'max_speed',\n",
       "       'total', 'evo_path', 'pokemon_img_url'],\n",
       "      dtype='object')"
      ]
     },
     "execution_count": 54,
     "metadata": {},
     "output_type": "execute_result"
    }
   ],
   "source": [
    "df.columns"
   ]
  },
  {
   "cell_type": "markdown",
   "id": "c93e3714-f543-4c4e-92e9-5f821516dd7c",
   "metadata": {},
   "source": [
    "## Data Storage"
   ]
  },
  {
   "cell_type": "markdown",
   "id": "3742bc6e-8b4a-450a-b9a0-57547f3cfc59",
   "metadata": {},
   "source": [
    "### Save DataFrame as a .pkl file"
   ]
  },
  {
   "cell_type": "code",
   "execution_count": 58,
   "id": "54d42c05-5a0c-4431-b0d9-425a246d684f",
   "metadata": {},
   "outputs": [],
   "source": [
    "df.to_pickle('data/pokemon_data.pkl')"
   ]
  },
  {
   "cell_type": "markdown",
   "id": "e987aa5d-9a8c-4470-ae90-a29a87a7a40e",
   "metadata": {},
   "source": [
    "## Data Type Conversion Simple"
   ]
  },
  {
   "cell_type": "code",
   "execution_count": 59,
   "id": "aa4713c8-de0c-419d-997e-404862ab76f2",
   "metadata": {},
   "outputs": [],
   "source": [
    "transform_string_to_int = ['national_no', 'hp', 'min_hp', 'max_hp', 'attack', 'min_attack', 'max_attack', \n",
    "                           'defense', 'min_defense', 'max_defense', 'sp_atk', 'min_sp_atk', 'max_sp_atk', \n",
    "                           'sp_def', 'min_sp_def', 'max_sp_def', 'speed', 'min_speed', 'max_speed', 'total']\n",
    "df[transform_string_to_int] = df[transform_string_to_int].apply(pd.to_numeric, errors='coerce').astype('Int64')"
   ]
  },
  {
   "cell_type": "code",
   "execution_count": 60,
   "id": "e71699ac-7fbf-46ce-b581-7e030930d4e1",
   "metadata": {},
   "outputs": [
    {
     "name": "stdout",
     "output_type": "stream",
     "text": [
      "Index(['name', 'national_no', 'types', 'species', 'height', 'weight',\n",
      "       'abilities', 'ev_yield', 'catch_rate', 'base_friendship', 'base_exp',\n",
      "       'growth_rate', 'egg_groups', 'gender', 'egg_cycles', 'hp', 'min_hp',\n",
      "       'max_hp', 'attack', 'min_attack', 'max_attack', 'defense',\n",
      "       'min_defense', 'max_defense', 'sp_atk', 'min_sp_atk', 'max_sp_atk',\n",
      "       'sp_def', 'min_sp_def', 'max_sp_def', 'speed', 'min_speed', 'max_speed',\n",
      "       'total', 'evo_path', 'pokemon_img_url'],\n",
      "      dtype='object')\n"
     ]
    }
   ],
   "source": [
    "print(df.columns)"
   ]
  },
  {
   "cell_type": "markdown",
   "id": "d16e3424-460b-4588-be0c-fb0f2efc191f",
   "metadata": {},
   "source": [
    "## Data Type Conversion"
   ]
  },
  {
   "cell_type": "code",
   "execution_count": 61,
   "id": "23bdb3de-b99a-4ff7-b980-ed44d7efa7cc",
   "metadata": {},
   "outputs": [],
   "source": [
    "# Extract and convert numeric part for height and weight\n",
    "df['height_m'] = df['height'].str.extract(r'(\\d+\\.?\\d*)')[0]  \n",
    "df['weight_kg'] = df['weight'].str.extract(r'(\\d+\\.?\\d*)')[0]"
   ]
  },
  {
   "cell_type": "code",
   "execution_count": 62,
   "id": "1887ea6a-b280-4576-ad30-cc0b72aa4c0b",
   "metadata": {},
   "outputs": [
    {
     "name": "stdout",
     "output_type": "stream",
     "text": [
      "Extracted height values:\n",
      "0    0.7\n",
      "1    1.0\n",
      "2    2.0\n",
      "3    0.6\n",
      "4    1.1\n",
      "Name: height_m, dtype: object\n",
      "\n",
      "Extracted weight values:\n",
      "0      6.9\n",
      "1     13.0\n",
      "2    100.0\n",
      "3      8.5\n",
      "4     19.0\n",
      "Name: weight_kg, dtype: object\n"
     ]
    }
   ],
   "source": [
    "# Print extracted values to verify\n",
    "print(\"Extracted height values:\")\n",
    "print(df['height_m'].head())\n",
    "print(\"\\nExtracted weight values:\")\n",
    "print(df['weight_kg'].head())"
   ]
  },
  {
   "cell_type": "markdown",
   "id": "a456f483-690b-4662-bcd7-01a1bb9c6f19",
   "metadata": {},
   "source": [
    "### Convert to numeric and check for NaN values"
   ]
  },
  {
   "cell_type": "code",
   "execution_count": 63,
   "id": "9349c235-9025-457d-9619-f72e8245b9c0",
   "metadata": {},
   "outputs": [],
   "source": [
    "df['height_m'] = pd.to_numeric(df['height_m'], errors='coerce') \n",
    "df['weight_kg'] = pd.to_numeric(df['weight_kg'], errors='coerce')"
   ]
  },
  {
   "cell_type": "code",
   "execution_count": 64,
   "id": "ee795556-748c-4916-8870-35d0011706e9",
   "metadata": {},
   "outputs": [
    {
     "name": "stdout",
     "output_type": "stream",
     "text": [
      "Extracted height values:\n",
      "0    0.7\n",
      "1    1.0\n",
      "2    2.0\n",
      "3    0.6\n",
      "4    1.1\n",
      "Name: height_m, dtype: float64\n",
      "\n",
      "Extracted weight values:\n",
      "0      6.9\n",
      "1     13.0\n",
      "2    100.0\n",
      "3      8.5\n",
      "4     19.0\n",
      "Name: weight_kg, dtype: float64\n"
     ]
    }
   ],
   "source": [
    "# Print converted values to verify\n",
    "print(\"Extracted height values:\")\n",
    "print(df['height_m'].head())\n",
    "print(\"\\nExtracted weight values:\")\n",
    "print(df['weight_kg'].head())"
   ]
  },
  {
   "cell_type": "markdown",
   "id": "e1285338-7a5e-4d9f-a74f-c7d3b50bfb1b",
   "metadata": {},
   "source": [
    "### Convert attributes catch_rate, gender, egg_cycles into numbers and strip non numerical characters"
   ]
  },
  {
   "cell_type": "code",
   "execution_count": 65,
   "id": "870fcc32-7bb9-41e0-8e8d-f6176249aff2",
   "metadata": {},
   "outputs": [],
   "source": [
    "df['catch_rate'] = df['catch_rate'].str.extract(r'(\\d+)')[0].astype(float)\n",
    "df['egg_cycles'] = pd.to_numeric(df['egg_cycles'].str.extract(r'(\\d+)')[0], errors='coerce')"
   ]
  },
  {
   "cell_type": "markdown",
   "id": "651474d9-b62a-4db3-a49d-267d06ccee2b",
   "metadata": {},
   "source": [
    "### Distill base_friendship attribute to its essential numeric value "
   ]
  },
  {
   "cell_type": "code",
   "execution_count": 66,
   "id": "2defe098-ca16-45af-a596-34800ed46fb2",
   "metadata": {},
   "outputs": [],
   "source": [
    "df['base_friendship'] = df['base_friendship'].str.extract(r'(\\d+)').astype(float)\n",
    "df['base_exp'] = df['base_exp'].astype(int)"
   ]
  },
  {
   "cell_type": "markdown",
   "id": "d1cacdeb-c29e-4dcc-96dc-1f05299248b6",
   "metadata": {},
   "source": [
    "## Verify NaN values"
   ]
  },
  {
   "cell_type": "code",
   "execution_count": 67,
   "id": "bdab61c4-7f92-46e9-8e2c-f8c381c9b7dc",
   "metadata": {},
   "outputs": [
    {
     "name": "stdout",
     "output_type": "stream",
     "text": [
      "name               0\n",
      "national_no        0\n",
      "types              0\n",
      "species            0\n",
      "height             0\n",
      "weight             0\n",
      "abilities          0\n",
      "ev_yield           0\n",
      "catch_rate         0\n",
      "base_friendship    0\n",
      "base_exp           0\n",
      "growth_rate        0\n",
      "egg_groups         0\n",
      "gender             0\n",
      "egg_cycles         0\n",
      "hp                 0\n",
      "min_hp             0\n",
      "max_hp             0\n",
      "attack             0\n",
      "min_attack         0\n",
      "max_attack         0\n",
      "defense            0\n",
      "min_defense        0\n",
      "max_defense        0\n",
      "sp_atk             0\n",
      "min_sp_atk         0\n",
      "max_sp_atk         0\n",
      "sp_def             0\n",
      "min_sp_def         0\n",
      "max_sp_def         0\n",
      "speed              0\n",
      "min_speed          0\n",
      "max_speed          0\n",
      "total              0\n",
      "evo_path           0\n",
      "pokemon_img_url    0\n",
      "height_m           0\n",
      "weight_kg          0\n",
      "dtype: int64\n"
     ]
    }
   ],
   "source": [
    "print(df.isna().sum())"
   ]
  },
  {
   "cell_type": "code",
   "execution_count": 68,
   "id": "b06d6b7d-366d-4000-bbe5-4513e4032f12",
   "metadata": {},
   "outputs": [
    {
     "name": "stdout",
     "output_type": "stream",
     "text": [
      "<class 'pandas.core.frame.DataFrame'>\n",
      "RangeIndex: 405 entries, 0 to 404\n",
      "Data columns (total 38 columns):\n",
      " #   Column           Non-Null Count  Dtype  \n",
      "---  ------           --------------  -----  \n",
      " 0   name             405 non-null    object \n",
      " 1   national_no      405 non-null    Int64  \n",
      " 2   types            405 non-null    object \n",
      " 3   species          405 non-null    object \n",
      " 4   height           405 non-null    object \n",
      " 5   weight           405 non-null    object \n",
      " 6   abilities        405 non-null    object \n",
      " 7   ev_yield         405 non-null    object \n",
      " 8   catch_rate       405 non-null    float64\n",
      " 9   base_friendship  405 non-null    float64\n",
      " 10  base_exp         405 non-null    int32  \n",
      " 11  growth_rate      405 non-null    object \n",
      " 12  egg_groups       405 non-null    object \n",
      " 13  gender           405 non-null    object \n",
      " 14  egg_cycles       405 non-null    int64  \n",
      " 15  hp               405 non-null    Int64  \n",
      " 16  min_hp           405 non-null    Int64  \n",
      " 17  max_hp           405 non-null    Int64  \n",
      " 18  attack           405 non-null    Int64  \n",
      " 19  min_attack       405 non-null    Int64  \n",
      " 20  max_attack       405 non-null    Int64  \n",
      " 21  defense          405 non-null    Int64  \n",
      " 22  min_defense      405 non-null    Int64  \n",
      " 23  max_defense      405 non-null    Int64  \n",
      " 24  sp_atk           405 non-null    Int64  \n",
      " 25  min_sp_atk       405 non-null    Int64  \n",
      " 26  max_sp_atk       405 non-null    Int64  \n",
      " 27  sp_def           405 non-null    Int64  \n",
      " 28  min_sp_def       405 non-null    Int64  \n",
      " 29  max_sp_def       405 non-null    Int64  \n",
      " 30  speed            405 non-null    Int64  \n",
      " 31  min_speed        405 non-null    Int64  \n",
      " 32  max_speed        405 non-null    Int64  \n",
      " 33  total            405 non-null    Int64  \n",
      " 34  evo_path         405 non-null    object \n",
      " 35  pokemon_img_url  405 non-null    object \n",
      " 36  height_m         405 non-null    float64\n",
      " 37  weight_kg        405 non-null    float64\n",
      "dtypes: Int64(20), float64(4), int32(1), int64(1), object(12)\n",
      "memory usage: 126.7+ KB\n"
     ]
    }
   ],
   "source": [
    "df.info()"
   ]
  },
  {
   "cell_type": "markdown",
   "id": "9b81b952-30f3-4fe6-bc60-e976a99c0d6e",
   "metadata": {},
   "source": [
    "## Column Splitting - Types"
   ]
  },
  {
   "cell_type": "markdown",
   "id": "771c48ec-ee27-45f5-9bda-13e5b6a3ca9f",
   "metadata": {},
   "source": [
    "### Divide the types column into two separate columns: primary_type and secondary_type"
   ]
  },
  {
   "cell_type": "code",
   "execution_count": 69,
   "id": "ef38e989-50f1-458f-965d-c75807b97497",
   "metadata": {},
   "outputs": [],
   "source": [
    "def split_types(types):\n",
    "    primary = types[0]  # The first type\n",
    "    secondary = types[1] if len(types) > 1 else 'Pure'  # Assign 'Pure' if there's no second type\n",
    "    return pd.Series([primary, secondary])"
   ]
  },
  {
   "cell_type": "code",
   "execution_count": 70,
   "id": "7a4282c0-7fbb-4003-afbd-4487c92b6f76",
   "metadata": {},
   "outputs": [],
   "source": [
    "df[['primary_type', 'secondary_type']] = df['types'].apply(split_types)"
   ]
  },
  {
   "cell_type": "markdown",
   "id": "24cf1a17-c71c-47d8-b28c-c9d95034e8e9",
   "metadata": {},
   "source": [
    "### Drop types, height and weight  column post-split"
   ]
  },
  {
   "cell_type": "code",
   "execution_count": 71,
   "id": "fd47264d-6fee-4e67-835b-cc75c6e889ef",
   "metadata": {},
   "outputs": [],
   "source": [
    "df.drop(columns=['types', 'height', 'weight'], inplace=True)"
   ]
  },
  {
   "cell_type": "code",
   "execution_count": 72,
   "id": "62047154-01f3-4ddc-b81d-2dbbdbc38b57",
   "metadata": {},
   "outputs": [
    {
     "data": {
      "text/plain": [
       "Index(['name', 'national_no', 'species', 'abilities', 'ev_yield', 'catch_rate',\n",
       "       'base_friendship', 'base_exp', 'growth_rate', 'egg_groups', 'gender',\n",
       "       'egg_cycles', 'hp', 'min_hp', 'max_hp', 'attack', 'min_attack',\n",
       "       'max_attack', 'defense', 'min_defense', 'max_defense', 'sp_atk',\n",
       "       'min_sp_atk', 'max_sp_atk', 'sp_def', 'min_sp_def', 'max_sp_def',\n",
       "       'speed', 'min_speed', 'max_speed', 'total', 'evo_path',\n",
       "       'pokemon_img_url', 'height_m', 'weight_kg', 'primary_type',\n",
       "       'secondary_type'],\n",
       "      dtype='object')"
      ]
     },
     "execution_count": 72,
     "metadata": {},
     "output_type": "execute_result"
    }
   ],
   "source": [
    "df.columns"
   ]
  },
  {
   "cell_type": "markdown",
   "id": "bb47e77d-71aa-4d6d-b6db-21442e34fed4",
   "metadata": {},
   "source": [
    "### Split gender field into male_percentage and female_percentage and convert to numeric values"
   ]
  },
  {
   "cell_type": "code",
   "execution_count": 73,
   "id": "728824fc-6eee-4af7-8589-812d07fe2ca4",
   "metadata": {},
   "outputs": [],
   "source": [
    "# Extract gender distribution\n",
    "df['male_percentage'] = df['gender'].str.extract(r'(\\d+\\.\\d+)% male')[0].astype(float)\n",
    "df['female_percentage'] = df['gender'].str.extract(r'(\\d+\\.\\d+)% female')[0].astype(float)"
   ]
  },
  {
   "cell_type": "code",
   "execution_count": 74,
   "id": "019a48c1-fcd6-4cad-bf83-cd1ca6a31a99",
   "metadata": {},
   "outputs": [
    {
     "name": "stdout",
     "output_type": "stream",
     "text": [
      "                     gender  male_percentage  female_percentage\n",
      "0  87.5% male, 12.5% female             87.5               12.5\n",
      "1  87.5% male, 12.5% female             87.5               12.5\n",
      "2  87.5% male, 12.5% female             87.5               12.5\n",
      "3  87.5% male, 12.5% female             87.5               12.5\n",
      "4  87.5% male, 12.5% female             87.5               12.5\n"
     ]
    }
   ],
   "source": [
    "df['male_percentage'].fillna(0, inplace=True)\n",
    "df['female_percentage'].fillna(0, inplace=True)\n",
    "print(df[['gender', 'male_percentage', 'female_percentage']].head())"
   ]
  },
  {
   "cell_type": "code",
   "execution_count": 75,
   "id": "3f6bd3ad-0288-4538-9aeb-9a47d67c1a77",
   "metadata": {},
   "outputs": [
    {
     "data": {
      "text/plain": [
       "Index(['name', 'national_no', 'species', 'abilities', 'ev_yield', 'catch_rate',\n",
       "       'base_friendship', 'base_exp', 'growth_rate', 'egg_groups', 'gender',\n",
       "       'egg_cycles', 'hp', 'min_hp', 'max_hp', 'attack', 'min_attack',\n",
       "       'max_attack', 'defense', 'min_defense', 'max_defense', 'sp_atk',\n",
       "       'min_sp_atk', 'max_sp_atk', 'sp_def', 'min_sp_def', 'max_sp_def',\n",
       "       'speed', 'min_speed', 'max_speed', 'total', 'evo_path',\n",
       "       'pokemon_img_url', 'height_m', 'weight_kg', 'primary_type',\n",
       "       'secondary_type', 'male_percentage', 'female_percentage'],\n",
       "      dtype='object')"
      ]
     },
     "execution_count": 75,
     "metadata": {},
     "output_type": "execute_result"
    }
   ],
   "source": [
    "df.columns"
   ]
  },
  {
   "cell_type": "markdown",
   "id": "145c6af1-29cd-4762-86c4-bbd719438064",
   "metadata": {},
   "source": [
    "### Drop gender column as it was replaced with male_percentage and female_percentage"
   ]
  },
  {
   "cell_type": "code",
   "execution_count": 76,
   "id": "2f626da4-9193-423c-9070-36380f9f10c0",
   "metadata": {},
   "outputs": [],
   "source": [
    "df.drop(columns=['gender'], inplace=True)"
   ]
  },
  {
   "cell_type": "markdown",
   "id": "4c4c9f39-437d-4bfe-9dc1-9949612949ce",
   "metadata": {},
   "source": [
    "## Generation Identification"
   ]
  },
  {
   "cell_type": "code",
   "execution_count": 77,
   "id": "ce464305-dfa6-4f31-882a-869949dc55c8",
   "metadata": {},
   "outputs": [],
   "source": [
    "df = df.sort_values(by='national_no')"
   ]
  },
  {
   "cell_type": "markdown",
   "id": "4ea63a39-9d6b-4a81-85a8-4d890057cb14",
   "metadata": {},
   "source": [
    "### Add a new column called gen to the DataFrame, indicating the generation in which the Pokémon first appeared"
   ]
  },
  {
   "cell_type": "code",
   "execution_count": 78,
   "id": "e35c4940-9948-4fbb-b914-d050232a0f29",
   "metadata": {},
   "outputs": [
    {
     "name": "stdout",
     "output_type": "stream",
     "text": [
      "           name  national_no gen\n",
      "0     bulbasaur            1   1\n",
      "1       ivysaur            2   1\n",
      "2      venusaur            3   1\n",
      "3    charmander            4   1\n",
      "4    charmeleon            5   1\n",
      "..          ...          ...  ..\n",
      "400   kricketot          401   4\n",
      "401  kricketune          402   4\n",
      "402       shinx          403   4\n",
      "403       luxio          404   4\n",
      "404      luxray          405   4\n",
      "\n",
      "[405 rows x 3 columns]\n"
     ]
    }
   ],
   "source": [
    "# Define generation boundaries\n",
    "bins = [0, 151, 251, 386, 493, 649, 721, 809, 898]\n",
    "labels = [1, 2, 3, 4, 5, 6, 7, 8]\n",
    "\n",
    "# Create the generation column\n",
    "df['gen'] = pd.cut(df['national_no'], bins=bins, labels=labels, right=True)\n",
    "print(df[['name', 'national_no', 'gen']])"
   ]
  },
  {
   "cell_type": "markdown",
   "id": "b0202533-b672-49a2-86f5-007db5511957",
   "metadata": {},
   "source": [
    "## Column Splitting - Abilities"
   ]
  },
  {
   "cell_type": "markdown",
   "id": "d85f66b6-ed21-484d-af5f-7f8e3fda1c5d",
   "metadata": {},
   "source": [
    "## Separate the abilities column into primary_ability and secondary_ability"
   ]
  },
  {
   "cell_type": "code",
   "execution_count": 79,
   "id": "5e3e085e-fab1-4257-b630-6a8b0aeb3e79",
   "metadata": {},
   "outputs": [
    {
     "data": {
      "text/plain": [
       "Index(['name', 'national_no', 'species', 'abilities', 'ev_yield', 'catch_rate',\n",
       "       'base_friendship', 'base_exp', 'growth_rate', 'egg_groups',\n",
       "       'egg_cycles', 'hp', 'min_hp', 'max_hp', 'attack', 'min_attack',\n",
       "       'max_attack', 'defense', 'min_defense', 'max_defense', 'sp_atk',\n",
       "       'min_sp_atk', 'max_sp_atk', 'sp_def', 'min_sp_def', 'max_sp_def',\n",
       "       'speed', 'min_speed', 'max_speed', 'total', 'evo_path',\n",
       "       'pokemon_img_url', 'height_m', 'weight_kg', 'primary_type',\n",
       "       'secondary_type', 'male_percentage', 'female_percentage', 'gen'],\n",
       "      dtype='object')"
      ]
     },
     "execution_count": 79,
     "metadata": {},
     "output_type": "execute_result"
    }
   ],
   "source": [
    "df.columns"
   ]
  },
  {
   "cell_type": "code",
   "execution_count": 80,
   "id": "858ce046-de41-4c33-bfda-7a31cb0fb21c",
   "metadata": {},
   "outputs": [],
   "source": [
    "abilities_split = df['abilities'].str.split(', ', expand=True)\n",
    "df['primary_ability'] = abilities_split[0]\n",
    "df['secondary_ability'] = abilities_split[1]"
   ]
  },
  {
   "cell_type": "markdown",
   "id": "c8adca71-fe57-42d0-986c-9fab572c4d81",
   "metadata": {},
   "source": [
    "## Handle secondary slot if only one ability is present "
   ]
  },
  {
   "cell_type": "code",
   "execution_count": 81,
   "id": "2f1a4b72-7179-40f7-8cc9-f1c410fea79c",
   "metadata": {},
   "outputs": [],
   "source": [
    "df['secondary_ability'].fillna('None', inplace=True)"
   ]
  },
  {
   "cell_type": "code",
   "execution_count": 82,
   "id": "094a0daf-e9a8-4da8-8c2e-e43d1994e544",
   "metadata": {},
   "outputs": [
    {
     "name": "stdout",
     "output_type": "stream",
     "text": [
      "           name  national_no primary_ability secondary_ability\n",
      "0     bulbasaur            1        Overgrow       Chlorophyll\n",
      "1       ivysaur            2        Overgrow       Chlorophyll\n",
      "2      venusaur            3        Overgrow       Chlorophyll\n",
      "3    charmander            4           Blaze       Solar Power\n",
      "4    charmeleon            5           Blaze       Solar Power\n",
      "..          ...          ...             ...               ...\n",
      "400   kricketot          401       Shed Skin          Run Away\n",
      "401  kricketune          402           Swarm        Technician\n",
      "402       shinx          403         Rivalry        Intimidate\n",
      "403       luxio          404         Rivalry        Intimidate\n",
      "404      luxray          405         Rivalry        Intimidate\n",
      "\n",
      "[405 rows x 4 columns]\n"
     ]
    }
   ],
   "source": [
    "print(df[['name', 'national_no', 'primary_ability', 'secondary_ability']])"
   ]
  },
  {
   "cell_type": "markdown",
   "id": "ad3cd7c2-c549-4243-aae8-f82fbffecb95",
   "metadata": {},
   "source": [
    "### Drop abilities column after replacting it with primary_ability and secondary_ability"
   ]
  },
  {
   "cell_type": "code",
   "execution_count": 83,
   "id": "29bd1566-a027-4442-bf8c-3e35f413ba63",
   "metadata": {},
   "outputs": [],
   "source": [
    "df.drop(columns=['abilities'], inplace=True)"
   ]
  },
  {
   "cell_type": "code",
   "execution_count": 84,
   "id": "2cd41c1b-5dec-4fd5-a8c2-220592e8fedf",
   "metadata": {},
   "outputs": [
    {
     "data": {
      "text/plain": [
       "Index(['name', 'national_no', 'species', 'ev_yield', 'catch_rate',\n",
       "       'base_friendship', 'base_exp', 'growth_rate', 'egg_groups',\n",
       "       'egg_cycles', 'hp', 'min_hp', 'max_hp', 'attack', 'min_attack',\n",
       "       'max_attack', 'defense', 'min_defense', 'max_defense', 'sp_atk',\n",
       "       'min_sp_atk', 'max_sp_atk', 'sp_def', 'min_sp_def', 'max_sp_def',\n",
       "       'speed', 'min_speed', 'max_speed', 'total', 'evo_path',\n",
       "       'pokemon_img_url', 'height_m', 'weight_kg', 'primary_type',\n",
       "       'secondary_type', 'male_percentage', 'female_percentage', 'gen',\n",
       "       'primary_ability', 'secondary_ability'],\n",
       "      dtype='object')"
      ]
     },
     "execution_count": 84,
     "metadata": {},
     "output_type": "execute_result"
    }
   ],
   "source": [
    "df.columns"
   ]
  },
  {
   "cell_type": "markdown",
   "id": "7f094b25-6967-4f35-be8e-23934bdea74e",
   "metadata": {},
   "source": [
    "## Data Cleansing"
   ]
  },
  {
   "cell_type": "markdown",
   "id": "e0bf503f-c2e4-40d9-a43a-31137f250b9b",
   "metadata": {},
   "source": [
    "### Store the cleaned DataFrame to a new pickle file for persistent storage"
   ]
  },
  {
   "cell_type": "code",
   "execution_count": 85,
   "id": "378ae012-8495-4b7d-a847-dcd0df66999d",
   "metadata": {},
   "outputs": [],
   "source": [
    "df.to_pickle('data/cleaned_pokemon_data.pkl')"
   ]
  },
  {
   "cell_type": "markdown",
   "id": "efb8924e-5b42-48fb-8cdd-d5131be838a5",
   "metadata": {},
   "source": [
    "## Evaluation"
   ]
  },
  {
   "cell_type": "markdown",
   "id": "47abcb57-7778-4716-b167-5d6a2add726a",
   "metadata": {},
   "source": [
    "### Use .info() method to check the datatype for different attribute columns."
   ]
  },
  {
   "cell_type": "code",
   "execution_count": 86,
   "id": "66ab04d0-e6ab-4458-a1f1-113fea0952dd",
   "metadata": {},
   "outputs": [
    {
     "name": "stdout",
     "output_type": "stream",
     "text": [
      "<class 'pandas.core.frame.DataFrame'>\n",
      "RangeIndex: 405 entries, 0 to 404\n",
      "Data columns (total 40 columns):\n",
      " #   Column             Non-Null Count  Dtype   \n",
      "---  ------             --------------  -----   \n",
      " 0   name               405 non-null    object  \n",
      " 1   national_no        405 non-null    Int64   \n",
      " 2   species            405 non-null    object  \n",
      " 3   ev_yield           405 non-null    object  \n",
      " 4   catch_rate         405 non-null    float64 \n",
      " 5   base_friendship    405 non-null    float64 \n",
      " 6   base_exp           405 non-null    int32   \n",
      " 7   growth_rate        405 non-null    object  \n",
      " 8   egg_groups         405 non-null    object  \n",
      " 9   egg_cycles         405 non-null    int64   \n",
      " 10  hp                 405 non-null    Int64   \n",
      " 11  min_hp             405 non-null    Int64   \n",
      " 12  max_hp             405 non-null    Int64   \n",
      " 13  attack             405 non-null    Int64   \n",
      " 14  min_attack         405 non-null    Int64   \n",
      " 15  max_attack         405 non-null    Int64   \n",
      " 16  defense            405 non-null    Int64   \n",
      " 17  min_defense        405 non-null    Int64   \n",
      " 18  max_defense        405 non-null    Int64   \n",
      " 19  sp_atk             405 non-null    Int64   \n",
      " 20  min_sp_atk         405 non-null    Int64   \n",
      " 21  max_sp_atk         405 non-null    Int64   \n",
      " 22  sp_def             405 non-null    Int64   \n",
      " 23  min_sp_def         405 non-null    Int64   \n",
      " 24  max_sp_def         405 non-null    Int64   \n",
      " 25  speed              405 non-null    Int64   \n",
      " 26  min_speed          405 non-null    Int64   \n",
      " 27  max_speed          405 non-null    Int64   \n",
      " 28  total              405 non-null    Int64   \n",
      " 29  evo_path           405 non-null    object  \n",
      " 30  pokemon_img_url    405 non-null    object  \n",
      " 31  height_m           405 non-null    float64 \n",
      " 32  weight_kg          405 non-null    float64 \n",
      " 33  primary_type       405 non-null    object  \n",
      " 34  secondary_type     405 non-null    object  \n",
      " 35  male_percentage    405 non-null    float64 \n",
      " 36  female_percentage  405 non-null    float64 \n",
      " 37  gen                405 non-null    category\n",
      " 38  primary_ability    405 non-null    object  \n",
      " 39  secondary_ability  405 non-null    object  \n",
      "dtypes: Int64(20), category(1), float64(6), int32(1), int64(1), object(11)\n",
      "memory usage: 130.6+ KB\n"
     ]
    }
   ],
   "source": [
    "df.info()"
   ]
  },
  {
   "cell_type": "markdown",
   "id": "fa15cec9-6a79-47f2-8699-3286286e9d2f",
   "metadata": {},
   "source": [
    "### Use the .unique() method on categorical columns to identify and rectify any typographical errors within the attributes"
   ]
  },
  {
   "cell_type": "code",
   "execution_count": 87,
   "id": "60a21e0b-dde5-4a33-99ce-47948ae66657",
   "metadata": {},
   "outputs": [],
   "source": [
    "# Define all categorical columns\n",
    "categorical_columns = ['species', 'growth_rate', 'egg_groups', 'evo_path', 'primary_ability', 'secondary_ability']\n",
    "# categorical_columns += ['moves']"
   ]
  },
  {
   "cell_type": "code",
   "execution_count": 88,
   "id": "e2261bfd-59ec-410e-b86f-88752802bf08",
   "metadata": {},
   "outputs": [],
   "source": [
    "# Handle colums that cause \"TypeError: unhashable type: 'list'\" error\n",
    "df['egg_groups'] = df['egg_groups'].apply(lambda x: ', '.join(x) if isinstance(x, list) else x)\n",
    "df['evo_path'] = df['evo_path'].apply(lambda x: ', '.join(x) if isinstance(x, list) else x)\n",
    "#df['moves'] = df['moves'].apply(lambda x: ', '.join(x) if isinstance(x, list) else x)"
   ]
  },
  {
   "cell_type": "code",
   "execution_count": 89,
   "id": "49dd16c0-a334-4968-999f-5239a4f7c998",
   "metadata": {},
   "outputs": [
    {
     "name": "stdout",
     "output_type": "stream",
     "text": [
      "Unique Values\n",
      "'species': ['Seed Pokémon' 'Lizard Pokémon' 'Flame Pokémon' 'Tiny Turtle Pokémon'\n",
      " 'Turtle Pokémon' 'Shellfish Pokémon' 'Worm Pokémon' 'Cocoon Pokémon'\n",
      " 'Butterfly Pokémon' 'Hairy Bug Pokémon' 'Poison Bee Pokémon'\n",
      " 'Tiny Bird Pokémon' 'Bird Pokémon' 'Mouse Pokémon' 'Beak Pokémon'\n",
      " 'Snake Pokémon' 'Cobra Pokémon' 'Poison Pin Pokémon' 'Drill Pokémon'\n",
      " 'Fairy Pokémon' 'Fox Pokémon' 'Balloon Pokémon' 'Bat Pokémon'\n",
      " 'Weed Pokémon' 'Flower Pokémon' 'Mushroom Pokémon' 'Insect Pokémon'\n",
      " 'Poison Moth Pokémon' 'Mole Pokémon' 'Scratch Cat Pokémon'\n",
      " 'Classy Cat Pokémon' 'Duck Pokémon' 'Pig Monkey Pokémon' 'Puppy Pokémon'\n",
      " 'Legendary Pokémon' 'Tadpole Pokémon' 'Psi Pokémon' 'Superpower Pokémon'\n",
      " 'Flycatcher Pokémon' 'Jellyfish Pokémon' 'Rock Pokémon' 'Megaton Pokémon'\n",
      " 'Fire Horse Pokémon' 'Dopey Pokémon' 'Hermit Crab Pokémon'\n",
      " 'Magnet Pokémon' 'Wild Duck Pokémon' 'Twin Bird Pokémon'\n",
      " 'Triple Bird Pokémon' 'Sea Lion Pokémon' 'Sludge Pokémon'\n",
      " 'Bivalve Pokémon' 'Gas Pokémon' 'Shadow Pokémon' 'Rock Snake Pokémon'\n",
      " 'Hypnosis Pokémon' 'River Crab Pokémon' 'Pincer Pokémon' 'Ball Pokémon'\n",
      " 'Egg Pokémon' 'Coconut Pokémon' 'Lonely Pokémon' 'Bone Keeper Pokémon'\n",
      " 'Kicking Pokémon' 'Punching Pokémon' 'Licking Pokémon'\n",
      " 'Poison Gas Pokémon' 'Spikes Pokémon' 'Vine Pokémon' 'Parent Pokémon'\n",
      " 'Dragon Pokémon' 'Goldfish Pokémon' 'Star Shape Pokémon'\n",
      " 'Mysterious Pokémon' 'Barrier Pokémon' 'Mantis Pokémon'\n",
      " 'Human Shape Pokémon' 'Electric Pokémon' 'Spitfire Pokémon'\n",
      " 'Stag Beetle Pokémon' 'Wild Bull Pokémon' 'Fish Pokémon'\n",
      " 'Atrocious Pokémon' 'Transport Pokémon' 'Transform Pokémon'\n",
      " 'Evolution Pokémon' 'Bubble Jet Pokémon' 'Lightning Pokémon'\n",
      " 'Virtual Pokémon' 'Spiral Pokémon' 'Fossil Pokémon' 'Sleeping Pokémon'\n",
      " 'Freeze Pokémon' 'Genetic Pokémon' 'New Species Pokémon' 'Leaf Pokémon'\n",
      " 'Herb Pokémon' 'Fire Mouse Pokémon' 'Volcano Pokémon' 'Big Jaw Pokémon'\n",
      " 'Scout Pokémon' 'Long Body Pokémon' 'Owl Pokémon' 'Five Star Pokémon'\n",
      " 'String Spit Pokémon' 'Long Leg Pokémon' 'Angler Pokémon' 'Light Pokémon'\n",
      " 'Tiny Mouse Pokémon' 'Spike Ball Pokémon' 'Happiness Pokémon'\n",
      " 'Mystic Pokémon' 'Wool Pokémon' 'Aqua Mouse Pokémon'\n",
      " 'Aqua Rabbit Pokémon' 'Imitation Pokémon' 'Frog Pokémon'\n",
      " 'Cottonweed Pokémon' 'Long Tail Pokémon' 'Sun Pokémon'\n",
      " 'Clear Wing Pokémon' 'Water Fish Pokémon' 'Moonlight Pokémon'\n",
      " 'Darkness Pokémon' 'Royal Pokémon' 'Screech Pokémon' 'Symbol Pokémon'\n",
      " 'Patient Pokémon' 'Long Neck Pokémon' 'Bagworm Pokémon'\n",
      " 'Land Snake Pokémon' 'FlyScorpion Pokémon' 'Iron Snake Pokémon'\n",
      " 'Mold Pokémon' 'Single Horn Pokémon' 'Sharp Claw Pokémon'\n",
      " 'Little Bear Pokémon' 'Hibernator Pokémon' 'Lava Pokémon' 'Pig Pokémon'\n",
      " 'Swine Pokémon' 'Coral Pokémon' 'Jet Pokémon' 'Delivery Pokémon'\n",
      " 'Kite Pokémon' 'Armor Bird Pokémon' 'Dark Pokémon' 'Long Nose Pokémon'\n",
      " 'Armor Pokémon' 'Big Horn Pokémon' 'Painter Pokémon' 'Scuffle Pokémon'\n",
      " 'Handstand Pokémon' 'Kiss Pokémon' 'Live Coal Pokémon' 'Milk Cow Pokémon'\n",
      " 'Thunder Pokémon' 'Aurora Pokémon' 'Rock Skin Pokémon'\n",
      " 'Hard Shell Pokémon' 'Diving Pokémon' 'Rainbow Pokémon'\n",
      " 'Time Travel Pokémon' 'Wood Gecko Pokémon' 'Forest Pokémon'\n",
      " 'Chick Pokémon' 'Young Fowl Pokémon' 'Blaze Pokémon' 'Mud Fish Pokémon'\n",
      " 'Bite Pokémon' 'TinyRaccoon Pokémon' 'Rushing Pokémon'\n",
      " 'Water Weed Pokémon' 'Jolly Pokémon' 'Carefree Pokémon' 'Acorn Pokémon'\n",
      " 'Wily Pokémon' 'Wicked Pokémon' 'TinySwallow Pokémon' 'Swallow Pokémon'\n",
      " 'Seagull Pokémon' 'Water Bird Pokémon' 'Feeling Pokémon'\n",
      " 'Emotion Pokémon' 'Embrace Pokémon' 'Pond Skater Pokémon'\n",
      " 'Eyeball Pokémon' 'Slacker Pokémon' 'Wild Monkey Pokémon' 'Lazy Pokémon'\n",
      " 'Trainee Pokémon' 'Ninja Pokémon' 'Shed Pokémon' 'Whisper Pokémon'\n",
      " 'Big Voice Pokémon' 'Loud Noise Pokémon' 'Guts Pokémon'\n",
      " 'Arm Thrust Pokémon' 'Polka Dot Pokémon' 'Compass Pokémon'\n",
      " 'Kitten Pokémon' 'Prim Pokémon' 'Deceiver Pokémon' 'Iron Armor Pokémon'\n",
      " 'Meditate Pokémon' 'Discharge Pokémon' 'Cheering Pokémon'\n",
      " 'Firefly Pokémon' 'Thorn Pokémon' 'Stomach Pokémon' 'Poison Bag Pokémon'\n",
      " 'Savage Pokémon' 'Brutal Pokémon' 'Ball Whale Pokémon'\n",
      " 'Float Whale Pokémon' 'Numb Pokémon' 'Eruption Pokémon' 'Coal Pokémon'\n",
      " 'Bounce Pokémon' 'Manipulate Pokémon' 'Spot Panda Pokémon'\n",
      " 'Ant Pit Pokémon' 'Vibration Pokémon' 'Cactus Pokémon'\n",
      " 'Scarecrow Pokémon' 'Cotton Bird Pokémon' 'Humming Pokémon'\n",
      " 'Cat Ferret Pokémon' 'Fang Snake Pokémon' 'Meteorite Pokémon'\n",
      " 'Whiskers Pokémon' 'Ruffian Pokémon' 'Rogue Pokémon' 'Clay Doll Pokémon'\n",
      " 'Sea Lily Pokémon' 'Barnacle Pokémon' 'Old Shrimp Pokémon'\n",
      " 'Plate Pokémon' 'Tender Pokémon' 'Weather Pokémon' 'Color Swap Pokémon'\n",
      " 'Puppet Pokémon' 'Marionette Pokémon' 'Requiem Pokémon' 'Beckon Pokémon'\n",
      " 'Fruit Pokémon' 'Wind Chime Pokémon' 'Disaster Pokémon' 'Bright Pokémon'\n",
      " 'Snow Hat Pokémon' 'Face Pokémon' 'Clap Pokémon' 'Ball Roll Pokémon'\n",
      " 'Ice Break Pokémon' 'Deep Sea Pokémon' 'South Sea Pokémon'\n",
      " 'Longevity Pokémon' 'Rendezvous Pokémon' 'Rock Head Pokémon'\n",
      " 'Endurance Pokémon' 'Iron Ball Pokémon' 'Iron Claw Pokémon'\n",
      " 'Iron Leg Pokémon' 'Rock Peak Pokémon' 'Iceberg Pokémon' 'Iron Pokémon'\n",
      " 'Eon Pokémon' 'Sea Basin Pokémon' 'Continent Pokémon' 'Sky High Pokémon'\n",
      " 'Wish Pokémon' 'DNA Pokémon' 'Tiny Leaf Pokémon' 'Grove Pokémon'\n",
      " 'Chimp Pokémon' 'Playful Pokémon' 'Penguin Pokémon' 'Emperor Pokémon'\n",
      " 'Starling Pokémon' 'Predator Pokémon' 'Plump Mouse Pokémon'\n",
      " 'Beaver Pokémon' 'Cricket Pokémon' 'Flash Pokémon' 'Spark Pokémon'\n",
      " 'Gleam Eyes Pokémon']\n",
      "\n",
      "'growth_rate': ['Medium Slow' 'Medium Fast' 'Fast' 'Slow' 'Fluctuating' 'Erratic']\n",
      "\n",
      "'egg_groups': ['Grass, Monster' 'Dragon, Monster' 'Monster, Water 1' 'Bug' 'Flying'\n",
      " 'Field' 'Dragon, Field' 'Fairy, Field' 'Field, Monster' 'Undiscovered'\n",
      " 'Fairy' 'Grass' 'Bug, Grass' 'Field, Water 1' 'Water 1' 'Human-Like'\n",
      " 'Water 3' 'Mineral' 'Field, Flying' 'Amorphous' 'Monster'\n",
      " 'Dragon, Water 1' 'Water 2' 'Dragon, Water 2' 'Ditto' 'Water 1, Water 3'\n",
      " 'Fairy, Flying' 'Fairy, Water 1' 'Fairy, Grass' 'Water 1, Water 2'\n",
      " 'Grass, Water 1' 'Field, Grass' 'Flying, Water 1' 'Amorphous, Human-Like'\n",
      " 'Bug, Water 1' 'Bug, Human-Like' 'Field, Water 2' 'Field, Human-Like'\n",
      " 'Bug, Dragon' 'Grass, Human-Like' 'Dragon, Flying' 'Amorphous, Fairy'\n",
      " 'Fairy, Mineral' 'Dragon']\n",
      "\n",
      "'evo_path': ['Bulbasaur, Ivysaur, Venusaur' 'Charmander, Charmeleon, Charizard'\n",
      " 'Squirtle, Wartortle, Blastoise' 'Caterpie, Metapod, Butterfree'\n",
      " 'Weedle, Kakuna, Beedrill' 'Pidgey, Pidgeotto, Pidgeot'\n",
      " 'Rattata, Raticate, Rattata, Raticate' 'Spearow, Fearow' 'Ekans, Arbok'\n",
      " 'Pichu, Pikachu, Raichu, Raichu'\n",
      " 'Sandshrew, Sandslash, Sandshrew, Sandslash'\n",
      " 'Nidoran♀, Nidorina, Nidoqueen' 'Nidoran♂, Nidorino, Nidoking'\n",
      " 'Cleffa, Clefairy, Clefable' 'Vulpix, Ninetales, Vulpix, Ninetales'\n",
      " 'Igglybuff, Jigglypuff, Wigglytuff' 'Zubat, Golbat, Crobat'\n",
      " 'Oddish, Gloom, Vileplume, Bellossom' 'Paras, Parasect'\n",
      " 'Venonat, Venomoth' 'Diglett, Dugtrio, Diglett, Dugtrio'\n",
      " 'Meowth, Persian, Meowth, Persian, Meowth, Perrserker' 'Psyduck, Golduck'\n",
      " 'Mankey, Primeape, Annihilape' 'Growlithe, Arcanine, Growlithe, Arcanine'\n",
      " 'Poliwag, Poliwhirl, Poliwrath, Politoed' 'Abra, Kadabra, Alakazam'\n",
      " 'Machop, Machoke, Machamp' 'Bellsprout, Weepinbell, Victreebel'\n",
      " 'Tentacool, Tentacruel'\n",
      " 'Geodude, Graveler, Golem, Geodude, Graveler, Golem'\n",
      " 'Ponyta, Rapidash, Ponyta, Rapidash'\n",
      " 'Slowpoke, Slowbro, Slowking, Slowpoke, Slowbro, Slowking'\n",
      " 'Magnemite, Magneton, Magnezone' \"Farfetch'd, Sirfetch'd\" 'Doduo, Dodrio'\n",
      " 'Seel, Dewgong' 'Grimer, Muk, Grimer, Muk' 'Shellder, Cloyster'\n",
      " 'Gastly, Haunter, Gengar' 'Onix, Steelix' 'Drowzee, Hypno'\n",
      " 'Krabby, Kingler' 'Voltorb, Electrode, Voltorb, Electrode'\n",
      " 'Exeggcute, Exeggutor, Exeggutor' 'Cubone, Marowak, Marowak'\n",
      " 'Tyrogue, Hitmonlee, Hitmonchan, Hitmontop' 'Lickitung, Lickilicky'\n",
      " 'Koffing, Weezing, Weezing' 'Rhyhorn, Rhydon, Rhyperior'\n",
      " 'Happiny, Chansey, Blissey' 'Tangela, Tangrowth' ''\n",
      " 'Horsea, Seadra, Kingdra' 'Goldeen, Seaking' 'Staryu, Starmie'\n",
      " 'Mime Jr., Mr. Mime, Mr. Mime, Mr. Rime' 'Scyther, Scizor, Kleavor'\n",
      " 'Smoochum, Jynx' 'Elekid, Electabuzz, Electivire'\n",
      " 'Magby, Magmar, Magmortar' 'Magikarp, Gyarados'\n",
      " 'Eevee, Vaporeon, Jolteon, Flareon, Eevee, Espeon, Umbreon, Eevee, Leafeon, Glaceon, Eevee, Sylveon'\n",
      " 'Porygon, Porygon2, Porygon-Z' 'Omanyte, Omastar' 'Kabuto, Kabutops'\n",
      " 'Munchlax, Snorlax' 'Dratini, Dragonair, Dragonite'\n",
      " 'Chikorita, Bayleef, Meganium'\n",
      " 'Cyndaquil, Quilava, Typhlosion, Typhlosion'\n",
      " 'Totodile, Croconaw, Feraligatr' 'Sentret, Furret' 'Hoothoot, Noctowl'\n",
      " 'Ledyba, Ledian' 'Spinarak, Ariados' 'Chinchou, Lanturn'\n",
      " 'Togepi, Togetic, Togekiss' 'Natu, Xatu' 'Mareep, Flaaffy, Ampharos'\n",
      " 'Azurill, Marill, Azumarill' 'Bonsly, Sudowoodo'\n",
      " 'Hoppip, Skiploom, Jumpluff' 'Aipom, Ambipom' 'Sunkern, Sunflora'\n",
      " 'Yanma, Yanmega' 'Wooper, Quagsire, Wooper, Clodsire'\n",
      " 'Murkrow, Honchkrow' 'Misdreavus, Mismagius' 'Wynaut, Wobbuffet'\n",
      " 'Girafarig, Farigiraf' 'Pineco, Forretress'\n",
      " 'Dunsparce, Dudunsparce, Dudunsparce' 'Gligar, Gliscor'\n",
      " 'Snubbull, Granbull' 'Qwilfish, Overqwil'\n",
      " 'Sneasel, Weavile, Sneasel, Sneasler' 'Teddiursa, Ursaring, Ursaluna'\n",
      " 'Slugma, Magcargo' 'Swinub, Piloswine, Mamoswine' 'Corsola, Cursola'\n",
      " 'Remoraid, Octillery' 'Mantyke, Mantine' 'Houndour, Houndoom'\n",
      " 'Phanpy, Donphan' 'Stantler, Wyrdeer' 'Larvitar, Pupitar, Tyranitar'\n",
      " 'Treecko, Grovyle, Sceptile' 'Torchic, Combusken, Blaziken'\n",
      " 'Mudkip, Marshtomp, Swampert' 'Poochyena, Mightyena'\n",
      " 'Zigzagoon, Linoone, Zigzagoon, Linoone, Obstagoon'\n",
      " 'Wurmple, Silcoon, Beautifly, Cascoon, Dustox' 'Lotad, Lombre, Ludicolo'\n",
      " 'Seedot, Nuzleaf, Shiftry' 'Taillow, Swellow' 'Wingull, Pelipper'\n",
      " 'Ralts, Kirlia, Gardevoir, Gallade' 'Surskit, Masquerain'\n",
      " 'Shroomish, Breloom' 'Slakoth, Vigoroth, Slaking'\n",
      " 'Nincada, Ninjask, Ninjask, Shedinja' 'Whismur, Loudred, Exploud'\n",
      " 'Makuhita, Hariyama' 'Nosepass, Probopass' 'Skitty, Delcatty'\n",
      " 'Aron, Lairon, Aggron' 'Meditite, Medicham' 'Electrike, Manectric'\n",
      " 'Budew, Roselia, Roserade' 'Gulpin, Swalot' 'Carvanha, Sharpedo'\n",
      " 'Wailmer, Wailord' 'Numel, Camerupt' 'Spoink, Grumpig'\n",
      " 'Trapinch, Vibrava, Flygon' 'Cacnea, Cacturne' 'Swablu, Altaria'\n",
      " 'Barboach, Whiscash' 'Corphish, Crawdaunt' 'Baltoy, Claydol'\n",
      " 'Lileep, Cradily' 'Anorith, Armaldo' 'Feebas, Milotic' 'Shuppet, Banette'\n",
      " 'Duskull, Dusclops, Dusknoir' 'Chingling, Chimecho'\n",
      " 'Snorunt, Glalie, Froslass' 'Spheal, Sealeo, Walrein'\n",
      " 'Clamperl, Huntail, Gorebyss' 'Bagon, Shelgon, Salamence'\n",
      " 'Beldum, Metang, Metagross' 'Turtwig, Grotle, Torterra'\n",
      " 'Chimchar, Monferno, Infernape' 'Piplup, Prinplup, Empoleon'\n",
      " 'Starly, Staravia, Staraptor' 'Bidoof, Bibarel' 'Kricketot, Kricketune'\n",
      " 'Shinx, Luxio, Luxray']\n",
      "\n",
      "'primary_ability': ['Overgrow' 'Blaze' 'Torrent' 'Shield Dust' 'Shed Skin' 'Compound Eyes'\n",
      " 'Swarm' 'Keen Eye' 'Run Away' 'Intimidate' 'Static' 'Sand Veil'\n",
      " 'Poison Point' 'Cute Charm' 'Flash Fire' 'Inner Focus' 'Chlorophyll'\n",
      " 'Effect Spore' 'Pickup' 'Limber' 'Damp' 'Vital Spirit' 'Water Absorb'\n",
      " 'Synchronize' 'Guts' 'Clear Body' 'Rock Head' 'Oblivious' 'Magnet Pull'\n",
      " 'Thick Fat' 'Stench' 'Shell Armor' 'Levitate' 'Cursed Body' 'Insomnia'\n",
      " 'Hyper Cutter' 'Soundproof' 'Own Tempo' 'Lightning Rod' 'Natural Cure'\n",
      " 'Early Bird' 'Swift Swim' 'Illuminate' 'Flame Body' 'Volt Absorb' 'Trace'\n",
      " 'Immunity' 'Pressure' 'Hustle' 'Sturdy' 'Speed Boost' 'Shadow Tag'\n",
      " 'Serene Grace' 'Magma Armor' 'Suction Cups' 'Sand Stream' 'Truant'\n",
      " 'Wonder Guard' 'Pure Power' 'Plus' 'Minus' 'Liquid Ooze' 'Rough Skin'\n",
      " 'Water Veil' 'White Smoke' 'Battle Armor' 'Marvel Scale' 'Forecast'\n",
      " 'Color Change' 'Drizzle' 'Drought' 'Air Lock' 'Simple' 'Rivalry']\n",
      "\n",
      "'secondary_ability': ['Chlorophyll' 'Solar Power' 'Rain Dish' 'Run Away' 'None' 'Tinted Lens'\n",
      " 'Sniper' 'Tangled Feet' 'Guts' 'Shed Skin' 'Lightning Rod' 'Sand Rush'\n",
      " 'Rivalry' 'Magic Guard' 'Drought' 'Competitive' 'Infiltrator' 'Stench'\n",
      " 'Effect Spore' 'Dry Skin' 'Arena Trap' 'Technician' 'Cloud Nine'\n",
      " 'Anger Point' 'Flash Fire' 'Damp' 'Inner Focus' 'No Guard' 'Gluttony'\n",
      " 'Liquid Ooze' 'Sturdy' 'Own Tempo' 'Early Bird' 'Hydration' 'Sticky Hold'\n",
      " 'Skill Link' 'Forewarn' 'Shell Armor' 'Static' 'Harvest' 'Reckless'\n",
      " 'Iron Fist' 'Oblivious' 'Neutralizing Gas' 'Rock Head' 'Serene Grace'\n",
      " 'Leaf Guard' 'Scrappy' 'Water Veil' 'Natural Cure' 'Filter'\n",
      " 'Vital Spirit' 'Mold Breaker' 'Rattled' 'Moxie' 'Imposter' 'Adaptability'\n",
      " 'Quick Feet' 'Download' 'Battle Armor' 'Pressure' 'Thick Fat'\n",
      " 'Snow Cloak' 'Flame Body' 'Marvel Scale' 'Multiscale' 'Unnerve'\n",
      " 'Sheer Force' 'Keen Eye' 'Insomnia' 'Illuminate' 'Plus' 'Healer'\n",
      " 'Huge Power' 'Pickup' 'Compound Eyes' 'Water Absorb' 'Magic Bounce'\n",
      " 'Super Luck' 'Telepathy' 'Overcoat' 'Sand Veil' 'Swift Swim' 'Hustle'\n",
      " 'Frisk' 'Steadfast' 'Regenerator' 'Unburden' 'Speed Boost' 'Wind Rider'\n",
      " 'Drizzle' 'Trace' 'Poison Heal' 'Magnet Pull' 'Normalize' 'Stall'\n",
      " 'Intimidate' 'Volt Absorb' 'Swarm' 'Poison Point' 'Simple' 'Solid Rock'\n",
      " 'Toxic Boost' 'Anticipation' 'Storm Drain' 'Protean' 'Ice Body'\n",
      " 'Light Metal' 'Unaware']\n",
      "\n"
     ]
    }
   ],
   "source": [
    "print(\"Unique Values\")\n",
    "for column in categorical_columns:\n",
    "    unique_value = df[column].unique()\n",
    "    print(f\"'{column}': {unique_value}\\n\")"
   ]
  },
  {
   "cell_type": "code",
   "execution_count": 91,
   "id": "15c90e15-bd74-4531-8d19-6ff1536e43d4",
   "metadata": {},
   "outputs": [
    {
     "name": "stdout",
     "output_type": "stream",
     "text": [
      "0         grass\n",
      "1         grass\n",
      "2         grass\n",
      "3          fire\n",
      "4          fire\n",
      "         ...   \n",
      "400         bug\n",
      "401         bug\n",
      "402    electric\n",
      "403    electric\n",
      "404    electric\n",
      "Name: primary_type, Length: 405, dtype: object\n"
     ]
    }
   ],
   "source": [
    "print(df['primary_type'])"
   ]
  }
 ],
 "metadata": {
  "kernelspec": {
   "display_name": "Python 3 (ipykernel)",
   "language": "python",
   "name": "python3"
  },
  "language_info": {
   "codemirror_mode": {
    "name": "ipython",
    "version": 3
   },
   "file_extension": ".py",
   "mimetype": "text/x-python",
   "name": "python",
   "nbconvert_exporter": "python",
   "pygments_lexer": "ipython3",
   "version": "3.8.20"
  }
 },
 "nbformat": 4,
 "nbformat_minor": 5
}
