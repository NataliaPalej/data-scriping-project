{
 "cells": [
  {
   "cell_type": "markdown",
   "id": "8569d31d-2082-4b10-89d3-e0c8fb2d137d",
   "metadata": {},
   "source": [
    "# Natalia Palej A00279259\n",
    "Software Design with Artificial Intelligence for Cloud Computing \n",
    "Year 4"
   ]
  },
  {
   "cell_type": "markdown",
   "id": "d118daf6-7e57-4235-8b42-016eb2dd896d",
   "metadata": {},
   "source": [
    "# Part 2: Data Loading and Preprocessing"
   ]
  },
  {
   "cell_type": "markdown",
   "id": "46c1317f-5b37-4d10-961c-3e8a84af7b93",
   "metadata": {},
   "source": [
    "## Make Necessary Imports"
   ]
  },
  {
   "cell_type": "code",
   "execution_count": 621,
   "id": "e2067985-dea7-4325-9d7b-20d9cb28cd4a",
   "metadata": {},
   "outputs": [],
   "source": [
    "import pandas as pd \n",
    "import numpy as np\n",
    "import re"
   ]
  },
  {
   "cell_type": "markdown",
   "id": "5e27eede-da0f-4d9f-ba6f-1d27c538a2e1",
   "metadata": {},
   "source": [
    "## Load the Pokemon JSON File"
   ]
  },
  {
   "cell_type": "code",
   "execution_count": 622,
   "id": "60f24295-b5c8-4343-8c1c-fc88deb54279",
   "metadata": {},
   "outputs": [],
   "source": [
    "df = pd.read_json(\"pokemon_data.json\")"
   ]
  },
  {
   "cell_type": "code",
   "execution_count": 623,
   "id": "7b7241e0-12fd-4591-a32b-6acd332bc62b",
   "metadata": {},
   "outputs": [
    {
     "data": {
      "text/html": [
       "<div>\n",
       "<style scoped>\n",
       "    .dataframe tbody tr th:only-of-type {\n",
       "        vertical-align: middle;\n",
       "    }\n",
       "\n",
       "    .dataframe tbody tr th {\n",
       "        vertical-align: top;\n",
       "    }\n",
       "\n",
       "    .dataframe thead th {\n",
       "        text-align: right;\n",
       "    }\n",
       "</style>\n",
       "<table border=\"1\" class=\"dataframe\">\n",
       "  <thead>\n",
       "    <tr style=\"text-align: right;\">\n",
       "      <th></th>\n",
       "      <th>bulbasaur</th>\n",
       "      <th>ivysaur</th>\n",
       "      <th>venusaur</th>\n",
       "      <th>charmander</th>\n",
       "      <th>charmeleon</th>\n",
       "      <th>charizard</th>\n",
       "      <th>squirtle</th>\n",
       "      <th>wartortle</th>\n",
       "      <th>blastoise</th>\n",
       "      <th>caterpie</th>\n",
       "      <th>...</th>\n",
       "      <th>machoke</th>\n",
       "      <th>machamp</th>\n",
       "      <th>bellsprout</th>\n",
       "      <th>weepinbell</th>\n",
       "      <th>victreebel</th>\n",
       "      <th>tentacool</th>\n",
       "      <th>tentacruel</th>\n",
       "      <th>geodude</th>\n",
       "      <th>graveler</th>\n",
       "      <th>golem</th>\n",
       "    </tr>\n",
       "  </thead>\n",
       "  <tbody>\n",
       "    <tr>\n",
       "      <th>name</th>\n",
       "      <td>bulbasaur</td>\n",
       "      <td>ivysaur</td>\n",
       "      <td>venusaur</td>\n",
       "      <td>charmander</td>\n",
       "      <td>charmeleon</td>\n",
       "      <td>charizard</td>\n",
       "      <td>squirtle</td>\n",
       "      <td>wartortle</td>\n",
       "      <td>blastoise</td>\n",
       "      <td>caterpie</td>\n",
       "      <td>...</td>\n",
       "      <td>machoke</td>\n",
       "      <td>machamp</td>\n",
       "      <td>bellsprout</td>\n",
       "      <td>weepinbell</td>\n",
       "      <td>victreebel</td>\n",
       "      <td>tentacool</td>\n",
       "      <td>tentacruel</td>\n",
       "      <td>geodude</td>\n",
       "      <td>graveler</td>\n",
       "      <td>golem</td>\n",
       "    </tr>\n",
       "    <tr>\n",
       "      <th>national_no</th>\n",
       "      <td>0001</td>\n",
       "      <td>0002</td>\n",
       "      <td>0003</td>\n",
       "      <td>0004</td>\n",
       "      <td>0005</td>\n",
       "      <td>0006</td>\n",
       "      <td>0007</td>\n",
       "      <td>0008</td>\n",
       "      <td>0009</td>\n",
       "      <td>0010</td>\n",
       "      <td>...</td>\n",
       "      <td>0067</td>\n",
       "      <td>0068</td>\n",
       "      <td>0069</td>\n",
       "      <td>0070</td>\n",
       "      <td>0071</td>\n",
       "      <td>0072</td>\n",
       "      <td>0073</td>\n",
       "      <td>0074</td>\n",
       "      <td>0075</td>\n",
       "      <td>0076</td>\n",
       "    </tr>\n",
       "    <tr>\n",
       "      <th>types</th>\n",
       "      <td>[grass, poison]</td>\n",
       "      <td>[grass, poison]</td>\n",
       "      <td>[grass, poison, grass, poison]</td>\n",
       "      <td>[fire]</td>\n",
       "      <td>[fire]</td>\n",
       "      <td>[fire, flying, fire, dragon, fire, flying]</td>\n",
       "      <td>[water]</td>\n",
       "      <td>[water]</td>\n",
       "      <td>[water, water]</td>\n",
       "      <td>[bug]</td>\n",
       "      <td>...</td>\n",
       "      <td>[fighting]</td>\n",
       "      <td>[fighting]</td>\n",
       "      <td>[grass, poison]</td>\n",
       "      <td>[grass, poison]</td>\n",
       "      <td>[grass, poison]</td>\n",
       "      <td>[water, poison]</td>\n",
       "      <td>[water, poison]</td>\n",
       "      <td>[rock, ground, rock, electric]</td>\n",
       "      <td>[rock, ground, rock, electric]</td>\n",
       "      <td>[rock, ground, rock, electric]</td>\n",
       "    </tr>\n",
       "    <tr>\n",
       "      <th>species</th>\n",
       "      <td>Seed Pokémon</td>\n",
       "      <td>Seed Pokémon</td>\n",
       "      <td>Seed Pokémon</td>\n",
       "      <td>Lizard Pokémon</td>\n",
       "      <td>Flame Pokémon</td>\n",
       "      <td>Flame Pokémon</td>\n",
       "      <td>Tiny Turtle Pokémon</td>\n",
       "      <td>Turtle Pokémon</td>\n",
       "      <td>Shellfish Pokémon</td>\n",
       "      <td>Worm Pokémon</td>\n",
       "      <td>...</td>\n",
       "      <td>Superpower Pokémon</td>\n",
       "      <td>Superpower Pokémon</td>\n",
       "      <td>Flower Pokémon</td>\n",
       "      <td>Flycatcher Pokémon</td>\n",
       "      <td>Flycatcher Pokémon</td>\n",
       "      <td>Jellyfish Pokémon</td>\n",
       "      <td>Jellyfish Pokémon</td>\n",
       "      <td>Rock Pokémon</td>\n",
       "      <td>Rock Pokémon</td>\n",
       "      <td>Megaton Pokémon</td>\n",
       "    </tr>\n",
       "    <tr>\n",
       "      <th>height</th>\n",
       "      <td>0.7 m (2′04″)</td>\n",
       "      <td>1.0 m (3′03″)</td>\n",
       "      <td>2.0 m (6′07″)</td>\n",
       "      <td>0.6 m (2′00″)</td>\n",
       "      <td>1.1 m (3′07″)</td>\n",
       "      <td>1.7 m (5′07″)</td>\n",
       "      <td>0.5 m (1′08″)</td>\n",
       "      <td>1.0 m (3′03″)</td>\n",
       "      <td>1.6 m (5′03″)</td>\n",
       "      <td>0.3 m (1′00″)</td>\n",
       "      <td>...</td>\n",
       "      <td>1.5 m (4′11″)</td>\n",
       "      <td>1.6 m (5′03″)</td>\n",
       "      <td>0.7 m (2′04″)</td>\n",
       "      <td>1.0 m (3′03″)</td>\n",
       "      <td>1.7 m (5′07″)</td>\n",
       "      <td>0.9 m (2′11″)</td>\n",
       "      <td>1.6 m (5′03″)</td>\n",
       "      <td>0.4 m (1′04″)</td>\n",
       "      <td>1.0 m (3′03″)</td>\n",
       "      <td>1.4 m (4′07″)</td>\n",
       "    </tr>\n",
       "  </tbody>\n",
       "</table>\n",
       "<p>5 rows × 76 columns</p>\n",
       "</div>"
      ],
      "text/plain": [
       "                   bulbasaur          ivysaur                        venusaur  \\\n",
       "name               bulbasaur          ivysaur                        venusaur   \n",
       "national_no             0001             0002                            0003   \n",
       "types        [grass, poison]  [grass, poison]  [grass, poison, grass, poison]   \n",
       "species         Seed Pokémon     Seed Pokémon                    Seed Pokémon   \n",
       "height         0.7 m (2′04″)    1.0 m (3′03″)                   2.0 m (6′07″)   \n",
       "\n",
       "                 charmander     charmeleon  \\\n",
       "name             charmander     charmeleon   \n",
       "national_no            0004           0005   \n",
       "types                [fire]         [fire]   \n",
       "species      Lizard Pokémon  Flame Pokémon   \n",
       "height        0.6 m (2′00″)  1.1 m (3′07″)   \n",
       "\n",
       "                                              charizard             squirtle  \\\n",
       "name                                          charizard             squirtle   \n",
       "national_no                                        0006                 0007   \n",
       "types        [fire, flying, fire, dragon, fire, flying]              [water]   \n",
       "species                                   Flame Pokémon  Tiny Turtle Pokémon   \n",
       "height                                    1.7 m (5′07″)        0.5 m (1′08″)   \n",
       "\n",
       "                  wartortle          blastoise       caterpie  ...  \\\n",
       "name              wartortle          blastoise       caterpie  ...   \n",
       "national_no            0008               0009           0010  ...   \n",
       "types               [water]     [water, water]          [bug]  ...   \n",
       "species      Turtle Pokémon  Shellfish Pokémon   Worm Pokémon  ...   \n",
       "height        1.0 m (3′03″)      1.6 m (5′03″)  0.3 m (1′00″)  ...   \n",
       "\n",
       "                        machoke             machamp       bellsprout  \\\n",
       "name                    machoke             machamp       bellsprout   \n",
       "national_no                0067                0068             0069   \n",
       "types                [fighting]          [fighting]  [grass, poison]   \n",
       "species      Superpower Pokémon  Superpower Pokémon   Flower Pokémon   \n",
       "height            1.5 m (4′11″)       1.6 m (5′03″)    0.7 m (2′04″)   \n",
       "\n",
       "                     weepinbell          victreebel          tentacool  \\\n",
       "name                 weepinbell          victreebel          tentacool   \n",
       "national_no                0070                0071               0072   \n",
       "types           [grass, poison]     [grass, poison]    [water, poison]   \n",
       "species      Flycatcher Pokémon  Flycatcher Pokémon  Jellyfish Pokémon   \n",
       "height            1.0 m (3′03″)       1.7 m (5′07″)      0.9 m (2′11″)   \n",
       "\n",
       "                    tentacruel                         geodude  \\\n",
       "name                tentacruel                         geodude   \n",
       "national_no               0073                            0074   \n",
       "types          [water, poison]  [rock, ground, rock, electric]   \n",
       "species      Jellyfish Pokémon                    Rock Pokémon   \n",
       "height           1.6 m (5′03″)                   0.4 m (1′04″)   \n",
       "\n",
       "                                   graveler                           golem  \n",
       "name                               graveler                           golem  \n",
       "national_no                            0075                            0076  \n",
       "types        [rock, ground, rock, electric]  [rock, ground, rock, electric]  \n",
       "species                        Rock Pokémon                 Megaton Pokémon  \n",
       "height                        1.0 m (3′03″)                   1.4 m (4′07″)  \n",
       "\n",
       "[5 rows x 76 columns]"
      ]
     },
     "execution_count": 623,
     "metadata": {},
     "output_type": "execute_result"
    }
   ],
   "source": [
    "df.head()"
   ]
  },
  {
   "cell_type": "markdown",
   "id": "a9bda943-de60-40ba-8ce2-12bc0933344f",
   "metadata": {},
   "source": [
    "## Dataframe Transposition"
   ]
  },
  {
   "cell_type": "code",
   "execution_count": 624,
   "id": "e78612e6-6e75-4cc3-9f16-8eefefdb84b8",
   "metadata": {},
   "outputs": [],
   "source": [
    "df = df.T"
   ]
  },
  {
   "cell_type": "code",
   "execution_count": 625,
   "id": "94fcebdc-3bf5-4b93-9c46-bfab640b4bba",
   "metadata": {},
   "outputs": [],
   "source": [
    "# Reset the Index after transposing the df \n",
    "df.reset_index(drop=True, inplace=True)"
   ]
  },
  {
   "cell_type": "code",
   "execution_count": 626,
   "id": "d4a8adeb-7078-4a22-9f08-3438ffcd8029",
   "metadata": {},
   "outputs": [
    {
     "data": {
      "text/html": [
       "<div>\n",
       "<style scoped>\n",
       "    .dataframe tbody tr th:only-of-type {\n",
       "        vertical-align: middle;\n",
       "    }\n",
       "\n",
       "    .dataframe tbody tr th {\n",
       "        vertical-align: top;\n",
       "    }\n",
       "\n",
       "    .dataframe thead th {\n",
       "        text-align: right;\n",
       "    }\n",
       "</style>\n",
       "<table border=\"1\" class=\"dataframe\">\n",
       "  <thead>\n",
       "    <tr style=\"text-align: right;\">\n",
       "      <th></th>\n",
       "      <th>name</th>\n",
       "      <th>national_no</th>\n",
       "      <th>types</th>\n",
       "      <th>species</th>\n",
       "      <th>height</th>\n",
       "      <th>weight</th>\n",
       "      <th>abilities</th>\n",
       "      <th>ev_yield</th>\n",
       "      <th>catch_rate</th>\n",
       "      <th>base_friendship</th>\n",
       "      <th>...</th>\n",
       "      <th>egg_cycles</th>\n",
       "      <th>hp</th>\n",
       "      <th>attack</th>\n",
       "      <th>defense</th>\n",
       "      <th>sp_atk</th>\n",
       "      <th>sp_def</th>\n",
       "      <th>speed</th>\n",
       "      <th>total</th>\n",
       "      <th>evo_path</th>\n",
       "      <th>pokemon_img_url</th>\n",
       "    </tr>\n",
       "  </thead>\n",
       "  <tbody>\n",
       "    <tr>\n",
       "      <th>0</th>\n",
       "      <td>bulbasaur</td>\n",
       "      <td>0001</td>\n",
       "      <td>[grass, poison]</td>\n",
       "      <td>Seed Pokémon</td>\n",
       "      <td>0.7 m (2′04″)</td>\n",
       "      <td>6.9 kg (15.2 lbs)</td>\n",
       "      <td>Overgrow, Chlorophyll</td>\n",
       "      <td>1 Sp. Atk</td>\n",
       "      <td>45 (5.9% with PokéBall, full HP)</td>\n",
       "      <td>50 (normal)</td>\n",
       "      <td>...</td>\n",
       "      <td>20(4,884–5,140 steps)</td>\n",
       "      <td>45</td>\n",
       "      <td>49</td>\n",
       "      <td>49</td>\n",
       "      <td>65</td>\n",
       "      <td>65</td>\n",
       "      <td>45</td>\n",
       "      <td>318</td>\n",
       "      <td>[Bulbasaur, Ivysaur, Venusaur]</td>\n",
       "      <td>https://img.pokemondb.net/artwork/bulbasaur.jpg</td>\n",
       "    </tr>\n",
       "    <tr>\n",
       "      <th>1</th>\n",
       "      <td>ivysaur</td>\n",
       "      <td>0002</td>\n",
       "      <td>[grass, poison]</td>\n",
       "      <td>Seed Pokémon</td>\n",
       "      <td>1.0 m (3′03″)</td>\n",
       "      <td>13.0 kg (28.7 lbs)</td>\n",
       "      <td>Overgrow, Chlorophyll</td>\n",
       "      <td>1 Sp. Atk, 1 Sp. Def</td>\n",
       "      <td>45 (5.9% with PokéBall, full HP)</td>\n",
       "      <td>50 (normal)</td>\n",
       "      <td>...</td>\n",
       "      <td>20(4,884–5,140 steps)</td>\n",
       "      <td>60</td>\n",
       "      <td>62</td>\n",
       "      <td>63</td>\n",
       "      <td>80</td>\n",
       "      <td>80</td>\n",
       "      <td>60</td>\n",
       "      <td>405</td>\n",
       "      <td>[Bulbasaur, Ivysaur, Venusaur]</td>\n",
       "      <td>https://img.pokemondb.net/artwork/ivysaur.jpg</td>\n",
       "    </tr>\n",
       "    <tr>\n",
       "      <th>2</th>\n",
       "      <td>venusaur</td>\n",
       "      <td>0003</td>\n",
       "      <td>[grass, poison, grass, poison]</td>\n",
       "      <td>Seed Pokémon</td>\n",
       "      <td>2.0 m (6′07″)</td>\n",
       "      <td>100.0 kg (220.5 lbs)</td>\n",
       "      <td>Overgrow, Chlorophyll</td>\n",
       "      <td>2 Sp. Atk, 1 Sp. Def</td>\n",
       "      <td>45 (5.9% with PokéBall, full HP)</td>\n",
       "      <td>50 (normal)</td>\n",
       "      <td>...</td>\n",
       "      <td>20(4,884–5,140 steps)</td>\n",
       "      <td>80</td>\n",
       "      <td>82</td>\n",
       "      <td>83</td>\n",
       "      <td>100</td>\n",
       "      <td>100</td>\n",
       "      <td>80</td>\n",
       "      <td>525</td>\n",
       "      <td>[Bulbasaur, Ivysaur, Venusaur]</td>\n",
       "      <td>https://img.pokemondb.net/artwork/venusaur.jpg</td>\n",
       "    </tr>\n",
       "    <tr>\n",
       "      <th>3</th>\n",
       "      <td>charmander</td>\n",
       "      <td>0004</td>\n",
       "      <td>[fire]</td>\n",
       "      <td>Lizard Pokémon</td>\n",
       "      <td>0.6 m (2′00″)</td>\n",
       "      <td>8.5 kg (18.7 lbs)</td>\n",
       "      <td>Blaze, Solar Power</td>\n",
       "      <td>1 Speed</td>\n",
       "      <td>45 (5.9% with PokéBall, full HP)</td>\n",
       "      <td>50 (normal)</td>\n",
       "      <td>...</td>\n",
       "      <td>20(4,884–5,140 steps)</td>\n",
       "      <td>39</td>\n",
       "      <td>52</td>\n",
       "      <td>43</td>\n",
       "      <td>60</td>\n",
       "      <td>50</td>\n",
       "      <td>65</td>\n",
       "      <td>309</td>\n",
       "      <td>[Charmander, Charmeleon, Charizard]</td>\n",
       "      <td>https://img.pokemondb.net/artwork/charmander.jpg</td>\n",
       "    </tr>\n",
       "    <tr>\n",
       "      <th>4</th>\n",
       "      <td>charmeleon</td>\n",
       "      <td>0005</td>\n",
       "      <td>[fire]</td>\n",
       "      <td>Flame Pokémon</td>\n",
       "      <td>1.1 m (3′07″)</td>\n",
       "      <td>19.0 kg (41.9 lbs)</td>\n",
       "      <td>Blaze, Solar Power</td>\n",
       "      <td>1 Sp. Atk, 1 Speed</td>\n",
       "      <td>45 (5.9% with PokéBall, full HP)</td>\n",
       "      <td>50 (normal)</td>\n",
       "      <td>...</td>\n",
       "      <td>20(4,884–5,140 steps)</td>\n",
       "      <td>58</td>\n",
       "      <td>64</td>\n",
       "      <td>58</td>\n",
       "      <td>80</td>\n",
       "      <td>65</td>\n",
       "      <td>80</td>\n",
       "      <td>405</td>\n",
       "      <td>[Charmander, Charmeleon, Charizard]</td>\n",
       "      <td>https://img.pokemondb.net/artwork/charmeleon.jpg</td>\n",
       "    </tr>\n",
       "  </tbody>\n",
       "</table>\n",
       "<p>5 rows × 24 columns</p>\n",
       "</div>"
      ],
      "text/plain": [
       "         name national_no                           types         species  \\\n",
       "0   bulbasaur        0001                 [grass, poison]    Seed Pokémon   \n",
       "1     ivysaur        0002                 [grass, poison]    Seed Pokémon   \n",
       "2    venusaur        0003  [grass, poison, grass, poison]    Seed Pokémon   \n",
       "3  charmander        0004                          [fire]  Lizard Pokémon   \n",
       "4  charmeleon        0005                          [fire]   Flame Pokémon   \n",
       "\n",
       "          height                weight              abilities  \\\n",
       "0  0.7 m (2′04″)     6.9 kg (15.2 lbs)  Overgrow, Chlorophyll   \n",
       "1  1.0 m (3′03″)    13.0 kg (28.7 lbs)  Overgrow, Chlorophyll   \n",
       "2  2.0 m (6′07″)  100.0 kg (220.5 lbs)  Overgrow, Chlorophyll   \n",
       "3  0.6 m (2′00″)     8.5 kg (18.7 lbs)     Blaze, Solar Power   \n",
       "4  1.1 m (3′07″)    19.0 kg (41.9 lbs)     Blaze, Solar Power   \n",
       "\n",
       "               ev_yield                        catch_rate base_friendship  \\\n",
       "0             1 Sp. Atk  45 (5.9% with PokéBall, full HP)     50 (normal)   \n",
       "1  1 Sp. Atk, 1 Sp. Def  45 (5.9% with PokéBall, full HP)     50 (normal)   \n",
       "2  2 Sp. Atk, 1 Sp. Def  45 (5.9% with PokéBall, full HP)     50 (normal)   \n",
       "3               1 Speed  45 (5.9% with PokéBall, full HP)     50 (normal)   \n",
       "4    1 Sp. Atk, 1 Speed  45 (5.9% with PokéBall, full HP)     50 (normal)   \n",
       "\n",
       "   ...             egg_cycles  hp attack defense sp_atk sp_def speed total  \\\n",
       "0  ...  20(4,884–5,140 steps)  45     49      49     65     65    45   318   \n",
       "1  ...  20(4,884–5,140 steps)  60     62      63     80     80    60   405   \n",
       "2  ...  20(4,884–5,140 steps)  80     82      83    100    100    80   525   \n",
       "3  ...  20(4,884–5,140 steps)  39     52      43     60     50    65   309   \n",
       "4  ...  20(4,884–5,140 steps)  58     64      58     80     65    80   405   \n",
       "\n",
       "                              evo_path  \\\n",
       "0       [Bulbasaur, Ivysaur, Venusaur]   \n",
       "1       [Bulbasaur, Ivysaur, Venusaur]   \n",
       "2       [Bulbasaur, Ivysaur, Venusaur]   \n",
       "3  [Charmander, Charmeleon, Charizard]   \n",
       "4  [Charmander, Charmeleon, Charizard]   \n",
       "\n",
       "                                    pokemon_img_url  \n",
       "0   https://img.pokemondb.net/artwork/bulbasaur.jpg  \n",
       "1     https://img.pokemondb.net/artwork/ivysaur.jpg  \n",
       "2    https://img.pokemondb.net/artwork/venusaur.jpg  \n",
       "3  https://img.pokemondb.net/artwork/charmander.jpg  \n",
       "4  https://img.pokemondb.net/artwork/charmeleon.jpg  \n",
       "\n",
       "[5 rows x 24 columns]"
      ]
     },
     "execution_count": 626,
     "metadata": {},
     "output_type": "execute_result"
    }
   ],
   "source": [
    "df.head()"
   ]
  },
  {
   "cell_type": "code",
   "execution_count": 627,
   "id": "747f95f8-84e8-415a-a529-50bd6f140385",
   "metadata": {},
   "outputs": [
    {
     "name": "stdout",
     "output_type": "stream",
     "text": [
      "<class 'pandas.core.frame.DataFrame'>\n",
      "RangeIndex: 76 entries, 0 to 75\n",
      "Data columns (total 24 columns):\n",
      " #   Column           Non-Null Count  Dtype \n",
      "---  ------           --------------  ----- \n",
      " 0   name             76 non-null     object\n",
      " 1   national_no      76 non-null     object\n",
      " 2   types            76 non-null     object\n",
      " 3   species          76 non-null     object\n",
      " 4   height           76 non-null     object\n",
      " 5   weight           76 non-null     object\n",
      " 6   abilities        76 non-null     object\n",
      " 7   ev_yield         76 non-null     object\n",
      " 8   catch_rate       76 non-null     object\n",
      " 9   base_friendship  76 non-null     object\n",
      " 10  base_exp         76 non-null     object\n",
      " 11  growth_rate      76 non-null     object\n",
      " 12  egg_groups       76 non-null     object\n",
      " 13  gender           76 non-null     object\n",
      " 14  egg_cycles       76 non-null     object\n",
      " 15  hp               76 non-null     object\n",
      " 16  attack           76 non-null     object\n",
      " 17  defense          76 non-null     object\n",
      " 18  sp_atk           76 non-null     object\n",
      " 19  sp_def           76 non-null     object\n",
      " 20  speed            76 non-null     object\n",
      " 21  total            76 non-null     object\n",
      " 22  evo_path         76 non-null     object\n",
      " 23  pokemon_img_url  76 non-null     object\n",
      "dtypes: object(24)\n",
      "memory usage: 14.4+ KB\n"
     ]
    }
   ],
   "source": [
    "df.info()"
   ]
  },
  {
   "cell_type": "code",
   "execution_count": 628,
   "id": "044f953a-737a-4243-9632-f0645a91a7b7",
   "metadata": {},
   "outputs": [
    {
     "data": {
      "text/plain": [
       "<bound method NDFrame.describe of           name national_no                           types            species  \\\n",
       "0    bulbasaur        0001                 [grass, poison]       Seed Pokémon   \n",
       "1      ivysaur        0002                 [grass, poison]       Seed Pokémon   \n",
       "2     venusaur        0003  [grass, poison, grass, poison]       Seed Pokémon   \n",
       "3   charmander        0004                          [fire]     Lizard Pokémon   \n",
       "4   charmeleon        0005                          [fire]      Flame Pokémon   \n",
       "..         ...         ...                             ...                ...   \n",
       "71   tentacool        0072                 [water, poison]  Jellyfish Pokémon   \n",
       "72  tentacruel        0073                 [water, poison]  Jellyfish Pokémon   \n",
       "73     geodude        0074  [rock, ground, rock, electric]       Rock Pokémon   \n",
       "74    graveler        0075  [rock, ground, rock, electric]       Rock Pokémon   \n",
       "75       golem        0076  [rock, ground, rock, electric]    Megaton Pokémon   \n",
       "\n",
       "           height                weight                           abilities  \\\n",
       "0   0.7 m (2′04″)     6.9 kg (15.2 lbs)               Overgrow, Chlorophyll   \n",
       "1   1.0 m (3′03″)    13.0 kg (28.7 lbs)               Overgrow, Chlorophyll   \n",
       "2   2.0 m (6′07″)  100.0 kg (220.5 lbs)               Overgrow, Chlorophyll   \n",
       "3   0.6 m (2′00″)     8.5 kg (18.7 lbs)                  Blaze, Solar Power   \n",
       "4   1.1 m (3′07″)    19.0 kg (41.9 lbs)                  Blaze, Solar Power   \n",
       "..            ...                   ...                                 ...   \n",
       "71  0.9 m (2′11″)   45.5 kg (100.3 lbs)  Clear Body, Liquid Ooze, Rain Dish   \n",
       "72  1.6 m (5′03″)   55.0 kg (121.3 lbs)  Clear Body, Liquid Ooze, Rain Dish   \n",
       "73  0.4 m (1′04″)    20.0 kg (44.1 lbs)        Rock Head, Sturdy, Sand Veil   \n",
       "74  1.0 m (3′03″)  105.0 kg (231.5 lbs)        Rock Head, Sturdy, Sand Veil   \n",
       "75  1.4 m (4′07″)  300.0 kg (661.4 lbs)        Rock Head, Sturdy, Sand Veil   \n",
       "\n",
       "                ev_yield                          catch_rate base_friendship  \\\n",
       "0              1 Sp. Atk    45 (5.9% with PokéBall, full HP)     50 (normal)   \n",
       "1   1 Sp. Atk, 1 Sp. Def    45 (5.9% with PokéBall, full HP)     50 (normal)   \n",
       "2   2 Sp. Atk, 1 Sp. Def    45 (5.9% with PokéBall, full HP)     50 (normal)   \n",
       "3                1 Speed    45 (5.9% with PokéBall, full HP)     50 (normal)   \n",
       "4     1 Sp. Atk, 1 Speed    45 (5.9% with PokéBall, full HP)     50 (normal)   \n",
       "..                   ...                                 ...             ...   \n",
       "71             1 Sp. Def  190 (24.8% with PokéBall, full HP)     50 (normal)   \n",
       "72             2 Sp. Def    60 (7.8% with PokéBall, full HP)     50 (normal)   \n",
       "73             1 Defense  255 (33.3% with PokéBall, full HP)     50 (normal)   \n",
       "74             2 Defense  120 (15.7% with PokéBall, full HP)     50 (normal)   \n",
       "75             3 Defense    45 (5.9% with PokéBall, full HP)     50 (normal)   \n",
       "\n",
       "    ...             egg_cycles  hp attack defense sp_atk sp_def speed total  \\\n",
       "0   ...  20(4,884–5,140 steps)  45     49      49     65     65    45   318   \n",
       "1   ...  20(4,884–5,140 steps)  60     62      63     80     80    60   405   \n",
       "2   ...  20(4,884–5,140 steps)  80     82      83    100    100    80   525   \n",
       "3   ...  20(4,884–5,140 steps)  39     52      43     60     50    65   309   \n",
       "4   ...  20(4,884–5,140 steps)  58     64      58     80     65    80   405   \n",
       "..  ...                    ...  ..    ...     ...    ...    ...   ...   ...   \n",
       "71  ...  20(4,884–5,140 steps)  40     40      35     50    100    70   335   \n",
       "72  ...  20(4,884–5,140 steps)  80     70      65     80    120   100   515   \n",
       "73  ...  15(3,599–3,855 steps)  40     80     100     30     30    20   300   \n",
       "74  ...  15(3,599–3,855 steps)  55     95     115     45     45    35   390   \n",
       "75  ...  15(3,599–3,855 steps)  80    120     130     55     65    45   495   \n",
       "\n",
       "                                             evo_path  \\\n",
       "0                      [Bulbasaur, Ivysaur, Venusaur]   \n",
       "1                      [Bulbasaur, Ivysaur, Venusaur]   \n",
       "2                      [Bulbasaur, Ivysaur, Venusaur]   \n",
       "3                 [Charmander, Charmeleon, Charizard]   \n",
       "4                 [Charmander, Charmeleon, Charizard]   \n",
       "..                                                ...   \n",
       "71                            [Tentacool, Tentacruel]   \n",
       "72                            [Tentacool, Tentacruel]   \n",
       "73  [Geodude, Graveler, Golem, Geodude, Graveler, ...   \n",
       "74  [Geodude, Graveler, Golem, Geodude, Graveler, ...   \n",
       "75  [Geodude, Graveler, Golem, Geodude, Graveler, ...   \n",
       "\n",
       "                                     pokemon_img_url  \n",
       "0    https://img.pokemondb.net/artwork/bulbasaur.jpg  \n",
       "1      https://img.pokemondb.net/artwork/ivysaur.jpg  \n",
       "2     https://img.pokemondb.net/artwork/venusaur.jpg  \n",
       "3   https://img.pokemondb.net/artwork/charmander.jpg  \n",
       "4   https://img.pokemondb.net/artwork/charmeleon.jpg  \n",
       "..                                               ...  \n",
       "71   https://img.pokemondb.net/artwork/tentacool.jpg  \n",
       "72  https://img.pokemondb.net/artwork/tentacruel.jpg  \n",
       "73     https://img.pokemondb.net/artwork/geodude.jpg  \n",
       "74    https://img.pokemondb.net/artwork/graveler.jpg  \n",
       "75       https://img.pokemondb.net/artwork/golem.jpg  \n",
       "\n",
       "[76 rows x 24 columns]>"
      ]
     },
     "execution_count": 628,
     "metadata": {},
     "output_type": "execute_result"
    }
   ],
   "source": [
    "df.describe"
   ]
  },
  {
   "cell_type": "code",
   "execution_count": 629,
   "id": "adc754c2-5b4e-4317-af89-18096a213f3e",
   "metadata": {},
   "outputs": [
    {
     "data": {
      "text/plain": [
       "1824"
      ]
     },
     "execution_count": 629,
     "metadata": {},
     "output_type": "execute_result"
    }
   ],
   "source": [
    "df.size"
   ]
  },
  {
   "cell_type": "code",
   "execution_count": 630,
   "id": "53ab047d-996c-4095-82ab-75a328aa37e5",
   "metadata": {},
   "outputs": [
    {
     "data": {
      "text/plain": [
       "Index(['name', 'national_no', 'types', 'species', 'height', 'weight',\n",
       "       'abilities', 'ev_yield', 'catch_rate', 'base_friendship', 'base_exp',\n",
       "       'growth_rate', 'egg_groups', 'gender', 'egg_cycles', 'hp', 'attack',\n",
       "       'defense', 'sp_atk', 'sp_def', 'speed', 'total', 'evo_path',\n",
       "       'pokemon_img_url'],\n",
       "      dtype='object')"
      ]
     },
     "execution_count": 630,
     "metadata": {},
     "output_type": "execute_result"
    }
   ],
   "source": [
    "df.columns"
   ]
  },
  {
   "cell_type": "markdown",
   "id": "c93e3714-f543-4c4e-92e9-5f821516dd7c",
   "metadata": {},
   "source": [
    "## Data Storage"
   ]
  },
  {
   "cell_type": "markdown",
   "id": "3742bc6e-8b4a-450a-b9a0-57547f3cfc59",
   "metadata": {},
   "source": [
    "### Save DataFrame as a .pkl file"
   ]
  },
  {
   "cell_type": "code",
   "execution_count": 631,
   "id": "54d42c05-5a0c-4431-b0d9-425a246d684f",
   "metadata": {},
   "outputs": [],
   "source": [
    "df.to_pickle('data/pokemon_data.pkl')"
   ]
  },
  {
   "cell_type": "markdown",
   "id": "e987aa5d-9a8c-4470-ae90-a29a87a7a40e",
   "metadata": {},
   "source": [
    "## Data Type Conversion Simple"
   ]
  },
  {
   "cell_type": "code",
   "execution_count": 632,
   "id": "aa4713c8-de0c-419d-997e-404862ab76f2",
   "metadata": {},
   "outputs": [],
   "source": [
    "transform_string_to_int = ['national_no', 'hp', 'attack', 'defense', 'sp_atk', 'sp_def', 'speed', 'total']\n",
    "df[transform_string_to_int] = df[transform_string_to_int].apply(pd.to_numeric, errors='coerce').astype('Int64')"
   ]
  },
  {
   "cell_type": "code",
   "execution_count": 633,
   "id": "e71699ac-7fbf-46ce-b581-7e030930d4e1",
   "metadata": {},
   "outputs": [
    {
     "name": "stdout",
     "output_type": "stream",
     "text": [
      "Index(['name', 'national_no', 'types', 'species', 'height', 'weight',\n",
      "       'abilities', 'ev_yield', 'catch_rate', 'base_friendship', 'base_exp',\n",
      "       'growth_rate', 'egg_groups', 'gender', 'egg_cycles', 'hp', 'attack',\n",
      "       'defense', 'sp_atk', 'sp_def', 'speed', 'total', 'evo_path',\n",
      "       'pokemon_img_url'],\n",
      "      dtype='object')\n"
     ]
    }
   ],
   "source": [
    "print(df.columns)"
   ]
  },
  {
   "cell_type": "markdown",
   "id": "d16e3424-460b-4588-be0c-fb0f2efc191f",
   "metadata": {},
   "source": [
    "## Data Type Conversion"
   ]
  },
  {
   "cell_type": "code",
   "execution_count": 634,
   "id": "23bdb3de-b99a-4ff7-b980-ed44d7efa7cc",
   "metadata": {},
   "outputs": [],
   "source": [
    "# Extract and convert numeric part for height and weight\n",
    "df['height_m'] = df['height'].str.extract(r'(\\d+\\.?\\d*)')[0]  \n",
    "df['weight_kg'] = df['weight'].str.extract(r'(\\d+\\.?\\d*)')[0]"
   ]
  },
  {
   "cell_type": "code",
   "execution_count": 635,
   "id": "1887ea6a-b280-4576-ad30-cc0b72aa4c0b",
   "metadata": {},
   "outputs": [
    {
     "name": "stdout",
     "output_type": "stream",
     "text": [
      "Extracted height values:\n",
      "0    0.7\n",
      "1    1.0\n",
      "2    2.0\n",
      "3    0.6\n",
      "4    1.1\n",
      "Name: height_m, dtype: object\n",
      "\n",
      "Extracted weight values:\n",
      "0      6.9\n",
      "1     13.0\n",
      "2    100.0\n",
      "3      8.5\n",
      "4     19.0\n",
      "Name: weight_kg, dtype: object\n"
     ]
    }
   ],
   "source": [
    "# Print extracted values to verify\n",
    "print(\"Extracted height values:\")\n",
    "print(df['height_m'].head())\n",
    "print(\"\\nExtracted weight values:\")\n",
    "print(df['weight_kg'].head())"
   ]
  },
  {
   "cell_type": "markdown",
   "id": "a456f483-690b-4662-bcd7-01a1bb9c6f19",
   "metadata": {},
   "source": [
    "### Convert to numeric and check for NaN values"
   ]
  },
  {
   "cell_type": "code",
   "execution_count": 636,
   "id": "9349c235-9025-457d-9619-f72e8245b9c0",
   "metadata": {},
   "outputs": [],
   "source": [
    "df['height_m'] = pd.to_numeric(df['height_m'], errors='coerce') \n",
    "df['weight_kg'] = pd.to_numeric(df['weight_kg'], errors='coerce')"
   ]
  },
  {
   "cell_type": "code",
   "execution_count": 637,
   "id": "ee795556-748c-4916-8870-35d0011706e9",
   "metadata": {},
   "outputs": [
    {
     "name": "stdout",
     "output_type": "stream",
     "text": [
      "Extracted height values:\n",
      "0    0.7\n",
      "1    1.0\n",
      "2    2.0\n",
      "3    0.6\n",
      "4    1.1\n",
      "Name: height_m, dtype: float64\n",
      "\n",
      "Extracted weight values:\n",
      "0      6.9\n",
      "1     13.0\n",
      "2    100.0\n",
      "3      8.5\n",
      "4     19.0\n",
      "Name: weight_kg, dtype: float64\n"
     ]
    }
   ],
   "source": [
    "# Print converted values to verify\n",
    "print(\"Extracted height values:\")\n",
    "print(df['height_m'].head())\n",
    "print(\"\\nExtracted weight values:\")\n",
    "print(df['weight_kg'].head())"
   ]
  },
  {
   "cell_type": "markdown",
   "id": "e1285338-7a5e-4d9f-a74f-c7d3b50bfb1b",
   "metadata": {},
   "source": [
    "### Convert attributes catch_rate, gender, egg_cycles into numbers and strip non numerical characters"
   ]
  },
  {
   "cell_type": "code",
   "execution_count": 638,
   "id": "870fcc32-7bb9-41e0-8e8d-f6176249aff2",
   "metadata": {},
   "outputs": [],
   "source": [
    "df['catch_rate'] = df['catch_rate'].str.extract(r'(\\d+)')[0].astype(float)\n",
    "df['egg_cycles'] = pd.to_numeric(df['egg_cycles'].str.extract(r'(\\d+)')[0], errors='coerce')"
   ]
  },
  {
   "cell_type": "markdown",
   "id": "651474d9-b62a-4db3-a49d-267d06ccee2b",
   "metadata": {},
   "source": [
    "### Distill base_friendship attribute to its essential numeric value "
   ]
  },
  {
   "cell_type": "code",
   "execution_count": 639,
   "id": "2defe098-ca16-45af-a596-34800ed46fb2",
   "metadata": {},
   "outputs": [],
   "source": [
    "df['base_friendship'] = df['base_friendship'].str.extract(r'(\\d+)').astype(float)\n",
    "df['base_exp'] = df['base_exp'].astype(int)"
   ]
  },
  {
   "cell_type": "markdown",
   "id": "d1cacdeb-c29e-4dcc-96dc-1f05299248b6",
   "metadata": {},
   "source": [
    "## Verify NaN values"
   ]
  },
  {
   "cell_type": "code",
   "execution_count": 640,
   "id": "bdab61c4-7f92-46e9-8e2c-f8c381c9b7dc",
   "metadata": {},
   "outputs": [
    {
     "name": "stdout",
     "output_type": "stream",
     "text": [
      "name               0\n",
      "national_no        0\n",
      "types              0\n",
      "species            0\n",
      "height             0\n",
      "weight             0\n",
      "abilities          0\n",
      "ev_yield           0\n",
      "catch_rate         0\n",
      "base_friendship    0\n",
      "base_exp           0\n",
      "growth_rate        0\n",
      "egg_groups         0\n",
      "gender             0\n",
      "egg_cycles         0\n",
      "hp                 0\n",
      "attack             0\n",
      "defense            0\n",
      "sp_atk             0\n",
      "sp_def             0\n",
      "speed              0\n",
      "total              0\n",
      "evo_path           0\n",
      "pokemon_img_url    0\n",
      "height_m           0\n",
      "weight_kg          0\n",
      "dtype: int64\n"
     ]
    }
   ],
   "source": [
    "print(df.isna().sum())"
   ]
  },
  {
   "cell_type": "code",
   "execution_count": 641,
   "id": "b06d6b7d-366d-4000-bbe5-4513e4032f12",
   "metadata": {},
   "outputs": [
    {
     "name": "stdout",
     "output_type": "stream",
     "text": [
      "<class 'pandas.core.frame.DataFrame'>\n",
      "RangeIndex: 76 entries, 0 to 75\n",
      "Data columns (total 26 columns):\n",
      " #   Column           Non-Null Count  Dtype  \n",
      "---  ------           --------------  -----  \n",
      " 0   name             76 non-null     object \n",
      " 1   national_no      76 non-null     Int64  \n",
      " 2   types            76 non-null     object \n",
      " 3   species          76 non-null     object \n",
      " 4   height           76 non-null     object \n",
      " 5   weight           76 non-null     object \n",
      " 6   abilities        76 non-null     object \n",
      " 7   ev_yield         76 non-null     object \n",
      " 8   catch_rate       76 non-null     float64\n",
      " 9   base_friendship  76 non-null     float64\n",
      " 10  base_exp         76 non-null     int32  \n",
      " 11  growth_rate      76 non-null     object \n",
      " 12  egg_groups       76 non-null     object \n",
      " 13  gender           76 non-null     object \n",
      " 14  egg_cycles       76 non-null     int64  \n",
      " 15  hp               76 non-null     Int64  \n",
      " 16  attack           76 non-null     Int64  \n",
      " 17  defense          76 non-null     Int64  \n",
      " 18  sp_atk           76 non-null     Int64  \n",
      " 19  sp_def           76 non-null     Int64  \n",
      " 20  speed            76 non-null     Int64  \n",
      " 21  total            76 non-null     Int64  \n",
      " 22  evo_path         76 non-null     object \n",
      " 23  pokemon_img_url  76 non-null     object \n",
      " 24  height_m         76 non-null     float64\n",
      " 25  weight_kg        76 non-null     float64\n",
      "dtypes: Int64(8), float64(4), int32(1), int64(1), object(12)\n",
      "memory usage: 15.9+ KB\n"
     ]
    }
   ],
   "source": [
    "df.info()"
   ]
  },
  {
   "cell_type": "markdown",
   "id": "9b81b952-30f3-4fe6-bc60-e976a99c0d6e",
   "metadata": {},
   "source": [
    "## Column Splitting - Types"
   ]
  },
  {
   "cell_type": "markdown",
   "id": "24cf1a17-c71c-47d8-b28c-c9d95034e8e9",
   "metadata": {},
   "source": [
    "### Drop types, height and weight  column post-split"
   ]
  },
  {
   "cell_type": "code",
   "execution_count": 642,
   "id": "fd47264d-6fee-4e67-835b-cc75c6e889ef",
   "metadata": {},
   "outputs": [],
   "source": [
    "df.drop(columns=['types', 'height', 'weight'], inplace=True)"
   ]
  },
  {
   "cell_type": "code",
   "execution_count": 643,
   "id": "62047154-01f3-4ddc-b81d-2dbbdbc38b57",
   "metadata": {},
   "outputs": [
    {
     "data": {
      "text/plain": [
       "Index(['name', 'national_no', 'species', 'abilities', 'ev_yield', 'catch_rate',\n",
       "       'base_friendship', 'base_exp', 'growth_rate', 'egg_groups', 'gender',\n",
       "       'egg_cycles', 'hp', 'attack', 'defense', 'sp_atk', 'sp_def', 'speed',\n",
       "       'total', 'evo_path', 'pokemon_img_url', 'height_m', 'weight_kg'],\n",
       "      dtype='object')"
      ]
     },
     "execution_count": 643,
     "metadata": {},
     "output_type": "execute_result"
    }
   ],
   "source": [
    "df.columns"
   ]
  },
  {
   "cell_type": "markdown",
   "id": "bb47e77d-71aa-4d6d-b6db-21442e34fed4",
   "metadata": {},
   "source": [
    "### Split gender field into male_percentage and female_percentage and convert to numeric values"
   ]
  },
  {
   "cell_type": "code",
   "execution_count": 644,
   "id": "728824fc-6eee-4af7-8589-812d07fe2ca4",
   "metadata": {},
   "outputs": [],
   "source": [
    "# Extract gender distribution\n",
    "df['male_percentage'] = df['gender'].str.extract(r'(\\d+\\.\\d+)% male')[0].astype(float)\n",
    "df['female_percentage'] = df['gender'].str.extract(r'(\\d+\\.\\d+)% female')[0].astype(float)"
   ]
  },
  {
   "cell_type": "code",
   "execution_count": 645,
   "id": "019a48c1-fcd6-4cad-bf83-cd1ca6a31a99",
   "metadata": {},
   "outputs": [
    {
     "name": "stdout",
     "output_type": "stream",
     "text": [
      "                     gender  male_percentage  female_percentage\n",
      "0  87.5% male, 12.5% female             87.5               12.5\n",
      "1  87.5% male, 12.5% female             87.5               12.5\n",
      "2  87.5% male, 12.5% female             87.5               12.5\n",
      "3  87.5% male, 12.5% female             87.5               12.5\n",
      "4  87.5% male, 12.5% female             87.5               12.5\n"
     ]
    }
   ],
   "source": [
    "df['male_percentage'].fillna(0, inplace=True)\n",
    "df['female_percentage'].fillna(0, inplace=True)\n",
    "print(df[['gender', 'male_percentage', 'female_percentage']].head())"
   ]
  },
  {
   "cell_type": "code",
   "execution_count": 646,
   "id": "3f6bd3ad-0288-4538-9aeb-9a47d67c1a77",
   "metadata": {},
   "outputs": [
    {
     "data": {
      "text/plain": [
       "Index(['name', 'national_no', 'species', 'abilities', 'ev_yield', 'catch_rate',\n",
       "       'base_friendship', 'base_exp', 'growth_rate', 'egg_groups', 'gender',\n",
       "       'egg_cycles', 'hp', 'attack', 'defense', 'sp_atk', 'sp_def', 'speed',\n",
       "       'total', 'evo_path', 'pokemon_img_url', 'height_m', 'weight_kg',\n",
       "       'male_percentage', 'female_percentage'],\n",
       "      dtype='object')"
      ]
     },
     "execution_count": 646,
     "metadata": {},
     "output_type": "execute_result"
    }
   ],
   "source": [
    "df.columns"
   ]
  },
  {
   "cell_type": "markdown",
   "id": "145c6af1-29cd-4762-86c4-bbd719438064",
   "metadata": {},
   "source": [
    "### Drop gender column as it was replaced with male_percentage and female_percentage"
   ]
  },
  {
   "cell_type": "code",
   "execution_count": 647,
   "id": "2f626da4-9193-423c-9070-36380f9f10c0",
   "metadata": {},
   "outputs": [],
   "source": [
    "df.drop(columns=['gender'], inplace=True)"
   ]
  },
  {
   "cell_type": "markdown",
   "id": "4c4c9f39-437d-4bfe-9dc1-9949612949ce",
   "metadata": {},
   "source": [
    "## Generation Identification"
   ]
  },
  {
   "cell_type": "code",
   "execution_count": 648,
   "id": "ce464305-dfa6-4f31-882a-869949dc55c8",
   "metadata": {},
   "outputs": [],
   "source": [
    "df = df.sort_values(by='national_no')"
   ]
  },
  {
   "cell_type": "markdown",
   "id": "4ea63a39-9d6b-4a81-85a8-4d890057cb14",
   "metadata": {},
   "source": [
    "### Add a new column called gen to the DataFrame, indicating the generation in which the Pokémon first appeared"
   ]
  },
  {
   "cell_type": "code",
   "execution_count": 649,
   "id": "e35c4940-9948-4fbb-b914-d050232a0f29",
   "metadata": {},
   "outputs": [
    {
     "name": "stdout",
     "output_type": "stream",
     "text": [
      "          name  national_no gen\n",
      "0    bulbasaur            1   1\n",
      "1      ivysaur            2   1\n",
      "2     venusaur            3   1\n",
      "3   charmander            4   1\n",
      "4   charmeleon            5   1\n",
      "..         ...          ...  ..\n",
      "71   tentacool           72   1\n",
      "72  tentacruel           73   1\n",
      "73     geodude           74   1\n",
      "74    graveler           75   1\n",
      "75       golem           76   1\n",
      "\n",
      "[76 rows x 3 columns]\n"
     ]
    }
   ],
   "source": [
    "# Define generation boundaries\n",
    "bins = [0, 151, 251, 386, 493, 649, 721, 809, 898]\n",
    "labels = [1, 2, 3, 4, 5, 6, 7, 8]\n",
    "\n",
    "# Create the generation column\n",
    "df['gen'] = pd.cut(df['national_no'], bins=bins, labels=labels, right=True)\n",
    "print(df[['name', 'national_no', 'gen']])"
   ]
  },
  {
   "cell_type": "markdown",
   "id": "b0202533-b672-49a2-86f5-007db5511957",
   "metadata": {},
   "source": [
    "## Column Splitting - Abilities"
   ]
  },
  {
   "cell_type": "markdown",
   "id": "d85f66b6-ed21-484d-af5f-7f8e3fda1c5d",
   "metadata": {},
   "source": [
    "## Separate the abilities column into primary_ability and secondary_ability"
   ]
  },
  {
   "cell_type": "code",
   "execution_count": 650,
   "id": "5e3e085e-fab1-4257-b630-6a8b0aeb3e79",
   "metadata": {},
   "outputs": [
    {
     "data": {
      "text/plain": [
       "Index(['name', 'national_no', 'species', 'abilities', 'ev_yield', 'catch_rate',\n",
       "       'base_friendship', 'base_exp', 'growth_rate', 'egg_groups',\n",
       "       'egg_cycles', 'hp', 'attack', 'defense', 'sp_atk', 'sp_def', 'speed',\n",
       "       'total', 'evo_path', 'pokemon_img_url', 'height_m', 'weight_kg',\n",
       "       'male_percentage', 'female_percentage', 'gen'],\n",
       "      dtype='object')"
      ]
     },
     "execution_count": 650,
     "metadata": {},
     "output_type": "execute_result"
    }
   ],
   "source": [
    "df.columns"
   ]
  },
  {
   "cell_type": "code",
   "execution_count": 651,
   "id": "858ce046-de41-4c33-bfda-7a31cb0fb21c",
   "metadata": {},
   "outputs": [],
   "source": [
    "abilities_split = df['abilities'].str.split(', ', expand=True)\n",
    "df['primary_ability'] = abilities_split[0]\n",
    "df['secondary_ability'] = abilities_split[1]"
   ]
  },
  {
   "cell_type": "markdown",
   "id": "c8adca71-fe57-42d0-986c-9fab572c4d81",
   "metadata": {},
   "source": [
    "## Handle secondary slot if only one ability is present "
   ]
  },
  {
   "cell_type": "code",
   "execution_count": 652,
   "id": "2f1a4b72-7179-40f7-8cc9-f1c410fea79c",
   "metadata": {},
   "outputs": [],
   "source": [
    "df['secondary_ability'].fillna('None', inplace=True)"
   ]
  },
  {
   "cell_type": "code",
   "execution_count": 653,
   "id": "094a0daf-e9a8-4da8-8c2e-e43d1994e544",
   "metadata": {},
   "outputs": [
    {
     "name": "stdout",
     "output_type": "stream",
     "text": [
      "          name  national_no primary_ability secondary_ability\n",
      "0    bulbasaur            1        Overgrow       Chlorophyll\n",
      "1      ivysaur            2        Overgrow       Chlorophyll\n",
      "2     venusaur            3        Overgrow       Chlorophyll\n",
      "3   charmander            4           Blaze       Solar Power\n",
      "4   charmeleon            5           Blaze       Solar Power\n",
      "..         ...          ...             ...               ...\n",
      "71   tentacool           72      Clear Body       Liquid Ooze\n",
      "72  tentacruel           73      Clear Body       Liquid Ooze\n",
      "73     geodude           74       Rock Head            Sturdy\n",
      "74    graveler           75       Rock Head            Sturdy\n",
      "75       golem           76       Rock Head            Sturdy\n",
      "\n",
      "[76 rows x 4 columns]\n"
     ]
    }
   ],
   "source": [
    "print(df[['name', 'national_no', 'primary_ability', 'secondary_ability']])"
   ]
  },
  {
   "cell_type": "markdown",
   "id": "ad3cd7c2-c549-4243-aae8-f82fbffecb95",
   "metadata": {},
   "source": [
    "### Drop abilities column after replacting it with primary_ability and secondary_ability"
   ]
  },
  {
   "cell_type": "code",
   "execution_count": 654,
   "id": "29bd1566-a027-4442-bf8c-3e35f413ba63",
   "metadata": {},
   "outputs": [],
   "source": [
    "df.drop(columns=['abilities'], inplace=True)"
   ]
  },
  {
   "cell_type": "code",
   "execution_count": 655,
   "id": "2cd41c1b-5dec-4fd5-a8c2-220592e8fedf",
   "metadata": {},
   "outputs": [
    {
     "data": {
      "text/plain": [
       "Index(['name', 'national_no', 'species', 'ev_yield', 'catch_rate',\n",
       "       'base_friendship', 'base_exp', 'growth_rate', 'egg_groups',\n",
       "       'egg_cycles', 'hp', 'attack', 'defense', 'sp_atk', 'sp_def', 'speed',\n",
       "       'total', 'evo_path', 'pokemon_img_url', 'height_m', 'weight_kg',\n",
       "       'male_percentage', 'female_percentage', 'gen', 'primary_ability',\n",
       "       'secondary_ability'],\n",
       "      dtype='object')"
      ]
     },
     "execution_count": 655,
     "metadata": {},
     "output_type": "execute_result"
    }
   ],
   "source": [
    "df.columns"
   ]
  },
  {
   "cell_type": "markdown",
   "id": "7f094b25-6967-4f35-be8e-23934bdea74e",
   "metadata": {},
   "source": [
    "## Data Cleansing"
   ]
  },
  {
   "cell_type": "markdown",
   "id": "e0bf503f-c2e4-40d9-a43a-31137f250b9b",
   "metadata": {},
   "source": [
    "### Store the cleaned DataFrame to a new pickle file for persistent storage"
   ]
  },
  {
   "cell_type": "code",
   "execution_count": 656,
   "id": "378ae012-8495-4b7d-a847-dcd0df66999d",
   "metadata": {},
   "outputs": [],
   "source": [
    "df.to_pickle('data/final_cleaned_pokemon_data.pkl')"
   ]
  },
  {
   "cell_type": "markdown",
   "id": "efb8924e-5b42-48fb-8cdd-d5131be838a5",
   "metadata": {},
   "source": [
    "## Evaluation"
   ]
  },
  {
   "cell_type": "markdown",
   "id": "47abcb57-7778-4716-b167-5d6a2add726a",
   "metadata": {},
   "source": [
    "### Use .info() method to check the datatype for different attribute columns."
   ]
  },
  {
   "cell_type": "code",
   "execution_count": 657,
   "id": "66ab04d0-e6ab-4458-a1f1-113fea0952dd",
   "metadata": {},
   "outputs": [
    {
     "name": "stdout",
     "output_type": "stream",
     "text": [
      "<class 'pandas.core.frame.DataFrame'>\n",
      "RangeIndex: 76 entries, 0 to 75\n",
      "Data columns (total 26 columns):\n",
      " #   Column             Non-Null Count  Dtype   \n",
      "---  ------             --------------  -----   \n",
      " 0   name               76 non-null     object  \n",
      " 1   national_no        76 non-null     Int64   \n",
      " 2   species            76 non-null     object  \n",
      " 3   ev_yield           76 non-null     object  \n",
      " 4   catch_rate         76 non-null     float64 \n",
      " 5   base_friendship    76 non-null     float64 \n",
      " 6   base_exp           76 non-null     int32   \n",
      " 7   growth_rate        76 non-null     object  \n",
      " 8   egg_groups         76 non-null     object  \n",
      " 9   egg_cycles         76 non-null     int64   \n",
      " 10  hp                 76 non-null     Int64   \n",
      " 11  attack             76 non-null     Int64   \n",
      " 12  defense            76 non-null     Int64   \n",
      " 13  sp_atk             76 non-null     Int64   \n",
      " 14  sp_def             76 non-null     Int64   \n",
      " 15  speed              76 non-null     Int64   \n",
      " 16  total              76 non-null     Int64   \n",
      " 17  evo_path           76 non-null     object  \n",
      " 18  pokemon_img_url    76 non-null     object  \n",
      " 19  height_m           76 non-null     float64 \n",
      " 20  weight_kg          76 non-null     float64 \n",
      " 21  male_percentage    76 non-null     float64 \n",
      " 22  female_percentage  76 non-null     float64 \n",
      " 23  gen                76 non-null     category\n",
      " 24  primary_ability    76 non-null     object  \n",
      " 25  secondary_ability  76 non-null     object  \n",
      "dtypes: Int64(8), category(1), float64(6), int32(1), int64(1), object(9)\n",
      "memory usage: 15.7+ KB\n"
     ]
    }
   ],
   "source": [
    "df.info()"
   ]
  },
  {
   "cell_type": "markdown",
   "id": "fa15cec9-6a79-47f2-8699-3286286e9d2f",
   "metadata": {},
   "source": [
    "### Use the .unique() method on categorical columns to identify and rectify any typographical errors within the attributes"
   ]
  },
  {
   "cell_type": "code",
   "execution_count": 658,
   "id": "60a21e0b-dde5-4a33-99ce-47948ae66657",
   "metadata": {},
   "outputs": [],
   "source": [
    "# Define all categorical columns\n",
    "categorical_columns = ['species', 'growth_rate', 'egg_groups', 'evo_path', 'primary_ability', 'secondary_ability']\n",
    "# categorical_columns += ['moves']"
   ]
  },
  {
   "cell_type": "code",
   "execution_count": 659,
   "id": "e2261bfd-59ec-410e-b86f-88752802bf08",
   "metadata": {},
   "outputs": [],
   "source": [
    "# Handle colums that cause \"TypeError: unhashable type: 'list'\" error\n",
    "df['egg_groups'] = df['egg_groups'].apply(lambda x: ', '.join(x) if isinstance(x, list) else x)\n",
    "df['evo_path'] = df['evo_path'].apply(lambda x: ', '.join(x) if isinstance(x, list) else x)\n",
    "#df['moves'] = df['moves'].apply(lambda x: ', '.join(x) if isinstance(x, list) else x)"
   ]
  },
  {
   "cell_type": "code",
   "execution_count": 660,
   "id": "49dd16c0-a334-4968-999f-5239a4f7c998",
   "metadata": {},
   "outputs": [
    {
     "name": "stdout",
     "output_type": "stream",
     "text": [
      "Unique Values\n",
      "'species': ['Seed Pokémon' 'Lizard Pokémon' 'Flame Pokémon' 'Tiny Turtle Pokémon'\n",
      " 'Turtle Pokémon' 'Shellfish Pokémon' 'Worm Pokémon' 'Cocoon Pokémon'\n",
      " 'Butterfly Pokémon' 'Hairy Bug Pokémon' 'Poison Bee Pokémon'\n",
      " 'Tiny Bird Pokémon' 'Bird Pokémon' 'Mouse Pokémon' 'Beak Pokémon'\n",
      " 'Snake Pokémon' 'Cobra Pokémon' 'Poison Pin Pokémon' 'Drill Pokémon'\n",
      " 'Fairy Pokémon' 'Fox Pokémon' 'Balloon Pokémon' 'Bat Pokémon'\n",
      " 'Weed Pokémon' 'Flower Pokémon' 'Mushroom Pokémon' 'Insect Pokémon'\n",
      " 'Poison Moth Pokémon' 'Mole Pokémon' 'Scratch Cat Pokémon'\n",
      " 'Classy Cat Pokémon' 'Duck Pokémon' 'Pig Monkey Pokémon' 'Puppy Pokémon'\n",
      " 'Legendary Pokémon' 'Tadpole Pokémon' 'Psi Pokémon' 'Superpower Pokémon'\n",
      " 'Flycatcher Pokémon' 'Jellyfish Pokémon' 'Rock Pokémon' 'Megaton Pokémon']\n",
      "\n",
      "'growth_rate': ['Medium Slow' 'Medium Fast' 'Fast' 'Slow']\n",
      "\n",
      "'egg_groups': ['Grass, Monster' 'Dragon, Monster' 'Monster, Water 1' 'Bug' 'Flying'\n",
      " 'Field' 'Dragon, Field' 'Fairy, Field' 'Field, Monster' 'Undiscovered'\n",
      " 'Fairy' 'Grass' 'Bug, Grass' 'Field, Water 1' 'Water 1' 'Human-Like'\n",
      " 'Water 3' 'Mineral']\n",
      "\n",
      "'evo_path': ['Bulbasaur, Ivysaur, Venusaur' 'Charmander, Charmeleon, Charizard'\n",
      " 'Squirtle, Wartortle, Blastoise' 'Caterpie, Metapod, Butterfree'\n",
      " 'Weedle, Kakuna, Beedrill' 'Pidgey, Pidgeotto, Pidgeot'\n",
      " 'Rattata, Raticate, Rattata, Raticate' 'Spearow, Fearow' 'Ekans, Arbok'\n",
      " 'Pichu, Pikachu, Raichu, Raichu'\n",
      " 'Sandshrew, Sandslash, Sandshrew, Sandslash'\n",
      " 'Nidoran♀, Nidorina, Nidoqueen' 'Nidoran♂, Nidorino, Nidoking'\n",
      " 'Cleffa, Clefairy, Clefable' 'Vulpix, Ninetales, Vulpix, Ninetales'\n",
      " 'Igglybuff, Jigglypuff, Wigglytuff' 'Zubat, Golbat, Crobat'\n",
      " 'Oddish, Gloom, Vileplume, Bellossom' 'Paras, Parasect'\n",
      " 'Venonat, Venomoth' 'Diglett, Dugtrio, Diglett, Dugtrio'\n",
      " 'Meowth, Persian, Meowth, Persian, Meowth, Perrserker' 'Psyduck, Golduck'\n",
      " 'Mankey, Primeape, Annihilape' 'Growlithe, Arcanine, Growlithe, Arcanine'\n",
      " 'Poliwag, Poliwhirl, Poliwrath, Politoed' 'Abra, Kadabra, Alakazam'\n",
      " 'Machop, Machoke, Machamp' 'Bellsprout, Weepinbell, Victreebel'\n",
      " 'Tentacool, Tentacruel'\n",
      " 'Geodude, Graveler, Golem, Geodude, Graveler, Golem']\n",
      "\n",
      "'primary_ability': ['Overgrow' 'Blaze' 'Torrent' 'Shield Dust' 'Shed Skin' 'Compound Eyes'\n",
      " 'Swarm' 'Keen Eye' 'Run Away' 'Intimidate' 'Static' 'Sand Veil'\n",
      " 'Poison Point' 'Cute Charm' 'Flash Fire' 'Inner Focus' 'Chlorophyll'\n",
      " 'Effect Spore' 'Pickup' 'Limber' 'Damp' 'Vital Spirit' 'Water Absorb'\n",
      " 'Synchronize' 'Guts' 'Clear Body' 'Rock Head']\n",
      "\n",
      "'secondary_ability': ['Chlorophyll' 'Solar Power' 'Rain Dish' 'Run Away' 'None' 'Tinted Lens'\n",
      " 'Sniper' 'Tangled Feet' 'Guts' 'Shed Skin' 'Lightning Rod' 'Sand Rush'\n",
      " 'Rivalry' 'Magic Guard' 'Drought' 'Competitive' 'Infiltrator' 'Stench'\n",
      " 'Effect Spore' 'Dry Skin' 'Arena Trap' 'Technician' 'Cloud Nine'\n",
      " 'Anger Point' 'Flash Fire' 'Damp' 'Inner Focus' 'No Guard' 'Gluttony'\n",
      " 'Liquid Ooze' 'Sturdy']\n",
      "\n"
     ]
    }
   ],
   "source": [
    "print(\"Unique Values\")\n",
    "for column in categorical_columns:\n",
    "    unique_value = df[column].unique()\n",
    "    print(f\"'{column}': {unique_value}\\n\")"
   ]
  },
  {
   "cell_type": "code",
   "execution_count": null,
   "id": "15c90e15-bd74-4531-8d19-6ff1536e43d4",
   "metadata": {},
   "outputs": [],
   "source": []
  }
 ],
 "metadata": {
  "kernelspec": {
   "display_name": "Python 3 (ipykernel)",
   "language": "python",
   "name": "python3"
  },
  "language_info": {
   "codemirror_mode": {
    "name": "ipython",
    "version": 3
   },
   "file_extension": ".py",
   "mimetype": "text/x-python",
   "name": "python",
   "nbconvert_exporter": "python",
   "pygments_lexer": "ipython3",
   "version": "3.8.19"
  }
 },
 "nbformat": 4,
 "nbformat_minor": 5
}
