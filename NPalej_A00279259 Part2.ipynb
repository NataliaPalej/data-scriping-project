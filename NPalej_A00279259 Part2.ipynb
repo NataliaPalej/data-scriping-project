{
 "cells": [
  {
   "cell_type": "markdown",
   "id": "d118daf6-7e57-4235-8b42-016eb2dd896d",
   "metadata": {},
   "source": [
    "# Part 2: Data Loading and Preprocessing"
   ]
  },
  {
   "cell_type": "markdown",
   "id": "46c1317f-5b37-4d10-961c-3e8a84af7b93",
   "metadata": {},
   "source": [
    "## Make Necessary Imports"
   ]
  },
  {
   "cell_type": "code",
   "execution_count": 575,
   "id": "e2067985-dea7-4325-9d7b-20d9cb28cd4a",
   "metadata": {},
   "outputs": [],
   "source": [
    "import pandas as pd \n",
    "import numpy as np\n",
    "import re"
   ]
  },
  {
   "cell_type": "markdown",
   "id": "5e27eede-da0f-4d9f-ba6f-1d27c538a2e1",
   "metadata": {},
   "source": [
    "## Load the Pokemon JSON File"
   ]
  },
  {
   "cell_type": "code",
   "execution_count": 576,
   "id": "60f24295-b5c8-4343-8c1c-fc88deb54279",
   "metadata": {},
   "outputs": [],
   "source": [
    "df = pd.read_json(\"pokemon_data.json\")"
   ]
  },
  {
   "cell_type": "code",
   "execution_count": 577,
   "id": "7b7241e0-12fd-4591-a32b-6acd332bc62b",
   "metadata": {},
   "outputs": [
    {
     "data": {
      "text/html": [
       "<div>\n",
       "<style scoped>\n",
       "    .dataframe tbody tr th:only-of-type {\n",
       "        vertical-align: middle;\n",
       "    }\n",
       "\n",
       "    .dataframe tbody tr th {\n",
       "        vertical-align: top;\n",
       "    }\n",
       "\n",
       "    .dataframe thead th {\n",
       "        text-align: right;\n",
       "    }\n",
       "</style>\n",
       "<table border=\"1\" class=\"dataframe\">\n",
       "  <thead>\n",
       "    <tr style=\"text-align: right;\">\n",
       "      <th></th>\n",
       "      <th>bulbasaur</th>\n",
       "      <th>ivysaur</th>\n",
       "      <th>venusaur</th>\n",
       "      <th>charmander</th>\n",
       "      <th>charmeleon</th>\n",
       "      <th>charizard</th>\n",
       "      <th>squirtle</th>\n",
       "    </tr>\n",
       "  </thead>\n",
       "  <tbody>\n",
       "    <tr>\n",
       "      <th>name</th>\n",
       "      <td>bulbasaur</td>\n",
       "      <td>ivysaur</td>\n",
       "      <td>venusaur</td>\n",
       "      <td>charmander</td>\n",
       "      <td>charmeleon</td>\n",
       "      <td>charizard</td>\n",
       "      <td>squirtle</td>\n",
       "    </tr>\n",
       "    <tr>\n",
       "      <th>national_no</th>\n",
       "      <td>0001</td>\n",
       "      <td>0002</td>\n",
       "      <td>0003</td>\n",
       "      <td>0004</td>\n",
       "      <td>0005</td>\n",
       "      <td>0006</td>\n",
       "      <td>0007</td>\n",
       "    </tr>\n",
       "    <tr>\n",
       "      <th>types</th>\n",
       "      <td>[grass, poison]</td>\n",
       "      <td>[grass, poison]</td>\n",
       "      <td>[grass, poison, grass, poison]</td>\n",
       "      <td>[fire]</td>\n",
       "      <td>[fire]</td>\n",
       "      <td>[fire, flying, fire, dragon, fire, flying]</td>\n",
       "      <td>[water]</td>\n",
       "    </tr>\n",
       "    <tr>\n",
       "      <th>species</th>\n",
       "      <td>Seed Pokémon</td>\n",
       "      <td>Seed Pokémon</td>\n",
       "      <td>Seed Pokémon</td>\n",
       "      <td>Lizard Pokémon</td>\n",
       "      <td>Flame Pokémon</td>\n",
       "      <td>Flame Pokémon</td>\n",
       "      <td>Tiny Turtle Pokémon</td>\n",
       "    </tr>\n",
       "    <tr>\n",
       "      <th>height</th>\n",
       "      <td>0.7 m (2′04″)</td>\n",
       "      <td>1.0 m (3′03″)</td>\n",
       "      <td>2.0 m (6′07″)</td>\n",
       "      <td>0.6 m (2′00″)</td>\n",
       "      <td>1.1 m (3′07″)</td>\n",
       "      <td>1.7 m (5′07″)</td>\n",
       "      <td>0.5 m (1′08″)</td>\n",
       "    </tr>\n",
       "  </tbody>\n",
       "</table>\n",
       "</div>"
      ],
      "text/plain": [
       "                   bulbasaur          ivysaur                        venusaur  \\\n",
       "name               bulbasaur          ivysaur                        venusaur   \n",
       "national_no             0001             0002                            0003   \n",
       "types        [grass, poison]  [grass, poison]  [grass, poison, grass, poison]   \n",
       "species         Seed Pokémon     Seed Pokémon                    Seed Pokémon   \n",
       "height         0.7 m (2′04″)    1.0 m (3′03″)                   2.0 m (6′07″)   \n",
       "\n",
       "                 charmander     charmeleon  \\\n",
       "name             charmander     charmeleon   \n",
       "national_no            0004           0005   \n",
       "types                [fire]         [fire]   \n",
       "species      Lizard Pokémon  Flame Pokémon   \n",
       "height        0.6 m (2′00″)  1.1 m (3′07″)   \n",
       "\n",
       "                                              charizard             squirtle  \n",
       "name                                          charizard             squirtle  \n",
       "national_no                                        0006                 0007  \n",
       "types        [fire, flying, fire, dragon, fire, flying]              [water]  \n",
       "species                                   Flame Pokémon  Tiny Turtle Pokémon  \n",
       "height                                    1.7 m (5′07″)        0.5 m (1′08″)  "
      ]
     },
     "execution_count": 577,
     "metadata": {},
     "output_type": "execute_result"
    }
   ],
   "source": [
    "df.head()"
   ]
  },
  {
   "cell_type": "markdown",
   "id": "a9bda943-de60-40ba-8ce2-12bc0933344f",
   "metadata": {},
   "source": [
    "## Dataframe Transposition"
   ]
  },
  {
   "cell_type": "code",
   "execution_count": 578,
   "id": "e78612e6-6e75-4cc3-9f16-8eefefdb84b8",
   "metadata": {},
   "outputs": [],
   "source": [
    "df = df.T"
   ]
  },
  {
   "cell_type": "code",
   "execution_count": 579,
   "id": "94fcebdc-3bf5-4b93-9c46-bfab640b4bba",
   "metadata": {},
   "outputs": [],
   "source": [
    "# Reset the Index after transposing the df \n",
    "df.reset_index(drop=True, inplace=True)"
   ]
  },
  {
   "cell_type": "code",
   "execution_count": 580,
   "id": "d4a8adeb-7078-4a22-9f08-3438ffcd8029",
   "metadata": {},
   "outputs": [
    {
     "data": {
      "text/html": [
       "<div>\n",
       "<style scoped>\n",
       "    .dataframe tbody tr th:only-of-type {\n",
       "        vertical-align: middle;\n",
       "    }\n",
       "\n",
       "    .dataframe tbody tr th {\n",
       "        vertical-align: top;\n",
       "    }\n",
       "\n",
       "    .dataframe thead th {\n",
       "        text-align: right;\n",
       "    }\n",
       "</style>\n",
       "<table border=\"1\" class=\"dataframe\">\n",
       "  <thead>\n",
       "    <tr style=\"text-align: right;\">\n",
       "      <th></th>\n",
       "      <th>name</th>\n",
       "      <th>national_no</th>\n",
       "      <th>types</th>\n",
       "      <th>species</th>\n",
       "      <th>height</th>\n",
       "      <th>weight</th>\n",
       "      <th>abilities</th>\n",
       "      <th>ev_yield</th>\n",
       "      <th>catch_rate</th>\n",
       "      <th>base_friendship</th>\n",
       "      <th>...</th>\n",
       "      <th>egg_cycles</th>\n",
       "      <th>hp</th>\n",
       "      <th>attack</th>\n",
       "      <th>defense</th>\n",
       "      <th>sp_atk</th>\n",
       "      <th>sp_def</th>\n",
       "      <th>speed</th>\n",
       "      <th>total</th>\n",
       "      <th>evo_path</th>\n",
       "      <th>pokemon_img_url</th>\n",
       "    </tr>\n",
       "  </thead>\n",
       "  <tbody>\n",
       "    <tr>\n",
       "      <th>0</th>\n",
       "      <td>bulbasaur</td>\n",
       "      <td>0001</td>\n",
       "      <td>[grass, poison]</td>\n",
       "      <td>Seed Pokémon</td>\n",
       "      <td>0.7 m (2′04″)</td>\n",
       "      <td>6.9 kg (15.2 lbs)</td>\n",
       "      <td>Overgrow, Chlorophyll</td>\n",
       "      <td>1 Sp. Atk</td>\n",
       "      <td>45 (5.9% with PokéBall, full HP)</td>\n",
       "      <td>50 (normal)</td>\n",
       "      <td>...</td>\n",
       "      <td>20(4,884–5,140 steps)</td>\n",
       "      <td>45</td>\n",
       "      <td>49</td>\n",
       "      <td>49</td>\n",
       "      <td>65</td>\n",
       "      <td>65</td>\n",
       "      <td>45</td>\n",
       "      <td>318</td>\n",
       "      <td>[Bulbasaur, Ivysaur, Venusaur]</td>\n",
       "      <td>https://img.pokemondb.net/artwork/bulbasaur.jpg</td>\n",
       "    </tr>\n",
       "    <tr>\n",
       "      <th>1</th>\n",
       "      <td>ivysaur</td>\n",
       "      <td>0002</td>\n",
       "      <td>[grass, poison]</td>\n",
       "      <td>Seed Pokémon</td>\n",
       "      <td>1.0 m (3′03″)</td>\n",
       "      <td>13.0 kg (28.7 lbs)</td>\n",
       "      <td>Overgrow, Chlorophyll</td>\n",
       "      <td>1 Sp. Atk, 1 Sp. Def</td>\n",
       "      <td>45 (5.9% with PokéBall, full HP)</td>\n",
       "      <td>50 (normal)</td>\n",
       "      <td>...</td>\n",
       "      <td>20(4,884–5,140 steps)</td>\n",
       "      <td>60</td>\n",
       "      <td>62</td>\n",
       "      <td>63</td>\n",
       "      <td>80</td>\n",
       "      <td>80</td>\n",
       "      <td>60</td>\n",
       "      <td>405</td>\n",
       "      <td>[Bulbasaur, Ivysaur, Venusaur]</td>\n",
       "      <td>https://img.pokemondb.net/artwork/ivysaur.jpg</td>\n",
       "    </tr>\n",
       "    <tr>\n",
       "      <th>2</th>\n",
       "      <td>venusaur</td>\n",
       "      <td>0003</td>\n",
       "      <td>[grass, poison, grass, poison]</td>\n",
       "      <td>Seed Pokémon</td>\n",
       "      <td>2.0 m (6′07″)</td>\n",
       "      <td>100.0 kg (220.5 lbs)</td>\n",
       "      <td>Overgrow, Chlorophyll</td>\n",
       "      <td>2 Sp. Atk, 1 Sp. Def</td>\n",
       "      <td>45 (5.9% with PokéBall, full HP)</td>\n",
       "      <td>50 (normal)</td>\n",
       "      <td>...</td>\n",
       "      <td>20(4,884–5,140 steps)</td>\n",
       "      <td>80</td>\n",
       "      <td>82</td>\n",
       "      <td>83</td>\n",
       "      <td>100</td>\n",
       "      <td>100</td>\n",
       "      <td>80</td>\n",
       "      <td>525</td>\n",
       "      <td>[Bulbasaur, Ivysaur, Venusaur]</td>\n",
       "      <td>https://img.pokemondb.net/artwork/venusaur.jpg</td>\n",
       "    </tr>\n",
       "    <tr>\n",
       "      <th>3</th>\n",
       "      <td>charmander</td>\n",
       "      <td>0004</td>\n",
       "      <td>[fire]</td>\n",
       "      <td>Lizard Pokémon</td>\n",
       "      <td>0.6 m (2′00″)</td>\n",
       "      <td>8.5 kg (18.7 lbs)</td>\n",
       "      <td>Blaze, Solar Power</td>\n",
       "      <td>1 Speed</td>\n",
       "      <td>45 (5.9% with PokéBall, full HP)</td>\n",
       "      <td>50 (normal)</td>\n",
       "      <td>...</td>\n",
       "      <td>20(4,884–5,140 steps)</td>\n",
       "      <td>39</td>\n",
       "      <td>52</td>\n",
       "      <td>43</td>\n",
       "      <td>60</td>\n",
       "      <td>50</td>\n",
       "      <td>65</td>\n",
       "      <td>309</td>\n",
       "      <td>[Charmander, Charmeleon, Charizard]</td>\n",
       "      <td>https://img.pokemondb.net/artwork/charmander.jpg</td>\n",
       "    </tr>\n",
       "    <tr>\n",
       "      <th>4</th>\n",
       "      <td>charmeleon</td>\n",
       "      <td>0005</td>\n",
       "      <td>[fire]</td>\n",
       "      <td>Flame Pokémon</td>\n",
       "      <td>1.1 m (3′07″)</td>\n",
       "      <td>19.0 kg (41.9 lbs)</td>\n",
       "      <td>Blaze, Solar Power</td>\n",
       "      <td>1 Sp. Atk, 1 Speed</td>\n",
       "      <td>45 (5.9% with PokéBall, full HP)</td>\n",
       "      <td>50 (normal)</td>\n",
       "      <td>...</td>\n",
       "      <td>20(4,884–5,140 steps)</td>\n",
       "      <td>58</td>\n",
       "      <td>64</td>\n",
       "      <td>58</td>\n",
       "      <td>80</td>\n",
       "      <td>65</td>\n",
       "      <td>80</td>\n",
       "      <td>405</td>\n",
       "      <td>[Charmander, Charmeleon, Charizard]</td>\n",
       "      <td>https://img.pokemondb.net/artwork/charmeleon.jpg</td>\n",
       "    </tr>\n",
       "  </tbody>\n",
       "</table>\n",
       "<p>5 rows × 24 columns</p>\n",
       "</div>"
      ],
      "text/plain": [
       "         name national_no                           types         species  \\\n",
       "0   bulbasaur        0001                 [grass, poison]    Seed Pokémon   \n",
       "1     ivysaur        0002                 [grass, poison]    Seed Pokémon   \n",
       "2    venusaur        0003  [grass, poison, grass, poison]    Seed Pokémon   \n",
       "3  charmander        0004                          [fire]  Lizard Pokémon   \n",
       "4  charmeleon        0005                          [fire]   Flame Pokémon   \n",
       "\n",
       "          height                weight              abilities  \\\n",
       "0  0.7 m (2′04″)     6.9 kg (15.2 lbs)  Overgrow, Chlorophyll   \n",
       "1  1.0 m (3′03″)    13.0 kg (28.7 lbs)  Overgrow, Chlorophyll   \n",
       "2  2.0 m (6′07″)  100.0 kg (220.5 lbs)  Overgrow, Chlorophyll   \n",
       "3  0.6 m (2′00″)     8.5 kg (18.7 lbs)     Blaze, Solar Power   \n",
       "4  1.1 m (3′07″)    19.0 kg (41.9 lbs)     Blaze, Solar Power   \n",
       "\n",
       "               ev_yield                        catch_rate base_friendship  \\\n",
       "0             1 Sp. Atk  45 (5.9% with PokéBall, full HP)     50 (normal)   \n",
       "1  1 Sp. Atk, 1 Sp. Def  45 (5.9% with PokéBall, full HP)     50 (normal)   \n",
       "2  2 Sp. Atk, 1 Sp. Def  45 (5.9% with PokéBall, full HP)     50 (normal)   \n",
       "3               1 Speed  45 (5.9% with PokéBall, full HP)     50 (normal)   \n",
       "4    1 Sp. Atk, 1 Speed  45 (5.9% with PokéBall, full HP)     50 (normal)   \n",
       "\n",
       "   ...             egg_cycles  hp attack defense sp_atk sp_def speed total  \\\n",
       "0  ...  20(4,884–5,140 steps)  45     49      49     65     65    45   318   \n",
       "1  ...  20(4,884–5,140 steps)  60     62      63     80     80    60   405   \n",
       "2  ...  20(4,884–5,140 steps)  80     82      83    100    100    80   525   \n",
       "3  ...  20(4,884–5,140 steps)  39     52      43     60     50    65   309   \n",
       "4  ...  20(4,884–5,140 steps)  58     64      58     80     65    80   405   \n",
       "\n",
       "                              evo_path  \\\n",
       "0       [Bulbasaur, Ivysaur, Venusaur]   \n",
       "1       [Bulbasaur, Ivysaur, Venusaur]   \n",
       "2       [Bulbasaur, Ivysaur, Venusaur]   \n",
       "3  [Charmander, Charmeleon, Charizard]   \n",
       "4  [Charmander, Charmeleon, Charizard]   \n",
       "\n",
       "                                    pokemon_img_url  \n",
       "0   https://img.pokemondb.net/artwork/bulbasaur.jpg  \n",
       "1     https://img.pokemondb.net/artwork/ivysaur.jpg  \n",
       "2    https://img.pokemondb.net/artwork/venusaur.jpg  \n",
       "3  https://img.pokemondb.net/artwork/charmander.jpg  \n",
       "4  https://img.pokemondb.net/artwork/charmeleon.jpg  \n",
       "\n",
       "[5 rows x 24 columns]"
      ]
     },
     "execution_count": 580,
     "metadata": {},
     "output_type": "execute_result"
    }
   ],
   "source": [
    "df.head()"
   ]
  },
  {
   "cell_type": "code",
   "execution_count": 581,
   "id": "747f95f8-84e8-415a-a529-50bd6f140385",
   "metadata": {},
   "outputs": [
    {
     "name": "stdout",
     "output_type": "stream",
     "text": [
      "<class 'pandas.core.frame.DataFrame'>\n",
      "RangeIndex: 7 entries, 0 to 6\n",
      "Data columns (total 24 columns):\n",
      " #   Column           Non-Null Count  Dtype \n",
      "---  ------           --------------  ----- \n",
      " 0   name             7 non-null      object\n",
      " 1   national_no      7 non-null      object\n",
      " 2   types            7 non-null      object\n",
      " 3   species          7 non-null      object\n",
      " 4   height           7 non-null      object\n",
      " 5   weight           7 non-null      object\n",
      " 6   abilities        7 non-null      object\n",
      " 7   ev_yield         7 non-null      object\n",
      " 8   catch_rate       7 non-null      object\n",
      " 9   base_friendship  7 non-null      object\n",
      " 10  base_exp         7 non-null      object\n",
      " 11  growth_rate      7 non-null      object\n",
      " 12  egg_groups       7 non-null      object\n",
      " 13  gender           7 non-null      object\n",
      " 14  egg_cycles       7 non-null      object\n",
      " 15  hp               7 non-null      object\n",
      " 16  attack           7 non-null      object\n",
      " 17  defense          7 non-null      object\n",
      " 18  sp_atk           7 non-null      object\n",
      " 19  sp_def           7 non-null      object\n",
      " 20  speed            7 non-null      object\n",
      " 21  total            7 non-null      object\n",
      " 22  evo_path         7 non-null      object\n",
      " 23  pokemon_img_url  7 non-null      object\n",
      "dtypes: object(24)\n",
      "memory usage: 1.4+ KB\n"
     ]
    }
   ],
   "source": [
    "df.info()"
   ]
  },
  {
   "cell_type": "code",
   "execution_count": 582,
   "id": "044f953a-737a-4243-9632-f0645a91a7b7",
   "metadata": {},
   "outputs": [
    {
     "data": {
      "text/plain": [
       "<bound method NDFrame.describe of          name national_no                                       types  \\\n",
       "0   bulbasaur        0001                             [grass, poison]   \n",
       "1     ivysaur        0002                             [grass, poison]   \n",
       "2    venusaur        0003              [grass, poison, grass, poison]   \n",
       "3  charmander        0004                                      [fire]   \n",
       "4  charmeleon        0005                                      [fire]   \n",
       "5   charizard        0006  [fire, flying, fire, dragon, fire, flying]   \n",
       "6    squirtle        0007                                     [water]   \n",
       "\n",
       "               species         height                weight  \\\n",
       "0         Seed Pokémon  0.7 m (2′04″)     6.9 kg (15.2 lbs)   \n",
       "1         Seed Pokémon  1.0 m (3′03″)    13.0 kg (28.7 lbs)   \n",
       "2         Seed Pokémon  2.0 m (6′07″)  100.0 kg (220.5 lbs)   \n",
       "3       Lizard Pokémon  0.6 m (2′00″)     8.5 kg (18.7 lbs)   \n",
       "4        Flame Pokémon  1.1 m (3′07″)    19.0 kg (41.9 lbs)   \n",
       "5        Flame Pokémon  1.7 m (5′07″)   90.5 kg (199.5 lbs)   \n",
       "6  Tiny Turtle Pokémon  0.5 m (1′08″)     9.0 kg (19.8 lbs)   \n",
       "\n",
       "               abilities              ev_yield  \\\n",
       "0  Overgrow, Chlorophyll             1 Sp. Atk   \n",
       "1  Overgrow, Chlorophyll  1 Sp. Atk, 1 Sp. Def   \n",
       "2  Overgrow, Chlorophyll  2 Sp. Atk, 1 Sp. Def   \n",
       "3     Blaze, Solar Power               1 Speed   \n",
       "4     Blaze, Solar Power    1 Sp. Atk, 1 Speed   \n",
       "5     Blaze, Solar Power             3 Sp. Atk   \n",
       "6     Torrent, Rain Dish             1 Defense   \n",
       "\n",
       "                         catch_rate base_friendship  ...  \\\n",
       "0  45 (5.9% with PokéBall, full HP)     50 (normal)  ...   \n",
       "1  45 (5.9% with PokéBall, full HP)     50 (normal)  ...   \n",
       "2  45 (5.9% with PokéBall, full HP)     50 (normal)  ...   \n",
       "3  45 (5.9% with PokéBall, full HP)     50 (normal)  ...   \n",
       "4  45 (5.9% with PokéBall, full HP)     50 (normal)  ...   \n",
       "5  45 (5.9% with PokéBall, full HP)     50 (normal)  ...   \n",
       "6  45 (5.9% with PokéBall, full HP)     50 (normal)  ...   \n",
       "\n",
       "              egg_cycles  hp attack defense sp_atk sp_def speed total  \\\n",
       "0  20(4,884–5,140 steps)  45     49      49     65     65    45   318   \n",
       "1  20(4,884–5,140 steps)  60     62      63     80     80    60   405   \n",
       "2  20(4,884–5,140 steps)  80     82      83    100    100    80   525   \n",
       "3  20(4,884–5,140 steps)  39     52      43     60     50    65   309   \n",
       "4  20(4,884–5,140 steps)  58     64      58     80     65    80   405   \n",
       "5  20(4,884–5,140 steps)  78     84      78    109     85   100   534   \n",
       "6  20(4,884–5,140 steps)  44     48      65     50     64    43   314   \n",
       "\n",
       "                              evo_path  \\\n",
       "0       [Bulbasaur, Ivysaur, Venusaur]   \n",
       "1       [Bulbasaur, Ivysaur, Venusaur]   \n",
       "2       [Bulbasaur, Ivysaur, Venusaur]   \n",
       "3  [Charmander, Charmeleon, Charizard]   \n",
       "4  [Charmander, Charmeleon, Charizard]   \n",
       "5  [Charmander, Charmeleon, Charizard]   \n",
       "6     [Squirtle, Wartortle, Blastoise]   \n",
       "\n",
       "                                    pokemon_img_url  \n",
       "0   https://img.pokemondb.net/artwork/bulbasaur.jpg  \n",
       "1     https://img.pokemondb.net/artwork/ivysaur.jpg  \n",
       "2    https://img.pokemondb.net/artwork/venusaur.jpg  \n",
       "3  https://img.pokemondb.net/artwork/charmander.jpg  \n",
       "4  https://img.pokemondb.net/artwork/charmeleon.jpg  \n",
       "5   https://img.pokemondb.net/artwork/charizard.jpg  \n",
       "6    https://img.pokemondb.net/artwork/squirtle.jpg  \n",
       "\n",
       "[7 rows x 24 columns]>"
      ]
     },
     "execution_count": 582,
     "metadata": {},
     "output_type": "execute_result"
    }
   ],
   "source": [
    "df.describe"
   ]
  },
  {
   "cell_type": "code",
   "execution_count": 583,
   "id": "adc754c2-5b4e-4317-af89-18096a213f3e",
   "metadata": {},
   "outputs": [
    {
     "data": {
      "text/plain": [
       "168"
      ]
     },
     "execution_count": 583,
     "metadata": {},
     "output_type": "execute_result"
    }
   ],
   "source": [
    "df.size"
   ]
  },
  {
   "cell_type": "code",
   "execution_count": 584,
   "id": "53ab047d-996c-4095-82ab-75a328aa37e5",
   "metadata": {},
   "outputs": [
    {
     "data": {
      "text/plain": [
       "Index(['name', 'national_no', 'types', 'species', 'height', 'weight',\n",
       "       'abilities', 'ev_yield', 'catch_rate', 'base_friendship', 'base_exp',\n",
       "       'growth_rate', 'egg_groups', 'gender', 'egg_cycles', 'hp', 'attack',\n",
       "       'defense', 'sp_atk', 'sp_def', 'speed', 'total', 'evo_path',\n",
       "       'pokemon_img_url'],\n",
       "      dtype='object')"
      ]
     },
     "execution_count": 584,
     "metadata": {},
     "output_type": "execute_result"
    }
   ],
   "source": [
    "df.columns"
   ]
  },
  {
   "cell_type": "markdown",
   "id": "c93e3714-f543-4c4e-92e9-5f821516dd7c",
   "metadata": {},
   "source": [
    "## Data Storage"
   ]
  },
  {
   "cell_type": "markdown",
   "id": "3742bc6e-8b4a-450a-b9a0-57547f3cfc59",
   "metadata": {},
   "source": [
    "### Save DataFrame as a .pkl file"
   ]
  },
  {
   "cell_type": "code",
   "execution_count": 585,
   "id": "54d42c05-5a0c-4431-b0d9-425a246d684f",
   "metadata": {},
   "outputs": [],
   "source": [
    "df.to_pickle('data/pokemon_data.pkl')"
   ]
  },
  {
   "cell_type": "markdown",
   "id": "e987aa5d-9a8c-4470-ae90-a29a87a7a40e",
   "metadata": {},
   "source": [
    "## Data Type Conversion Simple"
   ]
  },
  {
   "cell_type": "code",
   "execution_count": 586,
   "id": "aa4713c8-de0c-419d-997e-404862ab76f2",
   "metadata": {},
   "outputs": [],
   "source": [
    "transform_string_to_int = ['national_no', 'hp', 'attack', 'defense', 'sp_atk', 'sp_def', 'speed', 'total']\n",
    "df[transform_string_to_int] = df[transform_string_to_int].apply(pd.to_numeric, errors='coerce').astype('Int64')"
   ]
  },
  {
   "cell_type": "code",
   "execution_count": 587,
   "id": "e71699ac-7fbf-46ce-b581-7e030930d4e1",
   "metadata": {},
   "outputs": [
    {
     "name": "stdout",
     "output_type": "stream",
     "text": [
      "Index(['name', 'national_no', 'types', 'species', 'height', 'weight',\n",
      "       'abilities', 'ev_yield', 'catch_rate', 'base_friendship', 'base_exp',\n",
      "       'growth_rate', 'egg_groups', 'gender', 'egg_cycles', 'hp', 'attack',\n",
      "       'defense', 'sp_atk', 'sp_def', 'speed', 'total', 'evo_path',\n",
      "       'pokemon_img_url'],\n",
      "      dtype='object')\n"
     ]
    }
   ],
   "source": [
    "print(df.columns)"
   ]
  },
  {
   "cell_type": "markdown",
   "id": "d16e3424-460b-4588-be0c-fb0f2efc191f",
   "metadata": {},
   "source": [
    "## Data Type Conversion"
   ]
  },
  {
   "cell_type": "code",
   "execution_count": 588,
   "id": "23bdb3de-b99a-4ff7-b980-ed44d7efa7cc",
   "metadata": {},
   "outputs": [],
   "source": [
    "# Extract and convert numeric part for height and weight\n",
    "df['height_m'] = df['height'].str.extract(r'(\\d+\\.?\\d*)')[0]  \n",
    "df['weight_kg'] = df['weight'].str.extract(r'(\\d+\\.?\\d*)')[0]"
   ]
  },
  {
   "cell_type": "code",
   "execution_count": 589,
   "id": "1887ea6a-b280-4576-ad30-cc0b72aa4c0b",
   "metadata": {},
   "outputs": [
    {
     "name": "stdout",
     "output_type": "stream",
     "text": [
      "Extracted height values:\n",
      "0    0.7\n",
      "1    1.0\n",
      "2    2.0\n",
      "3    0.6\n",
      "4    1.1\n",
      "Name: height_m, dtype: object\n",
      "\n",
      "Extracted weight values:\n",
      "0      6.9\n",
      "1     13.0\n",
      "2    100.0\n",
      "3      8.5\n",
      "4     19.0\n",
      "Name: weight_kg, dtype: object\n"
     ]
    }
   ],
   "source": [
    "# Print extracted values to verify\n",
    "print(\"Extracted height values:\")\n",
    "print(df['height_m'].head())\n",
    "print(\"\\nExtracted weight values:\")\n",
    "print(df['weight_kg'].head())"
   ]
  },
  {
   "cell_type": "markdown",
   "id": "a456f483-690b-4662-bcd7-01a1bb9c6f19",
   "metadata": {},
   "source": [
    "### Convert to numeric and check for NaN values"
   ]
  },
  {
   "cell_type": "code",
   "execution_count": 590,
   "id": "9349c235-9025-457d-9619-f72e8245b9c0",
   "metadata": {},
   "outputs": [],
   "source": [
    "df['height_m'] = pd.to_numeric(df['height_m'], errors='coerce') \n",
    "df['weight_kg'] = pd.to_numeric(df['weight_kg'], errors='coerce')"
   ]
  },
  {
   "cell_type": "code",
   "execution_count": 591,
   "id": "ee795556-748c-4916-8870-35d0011706e9",
   "metadata": {},
   "outputs": [
    {
     "name": "stdout",
     "output_type": "stream",
     "text": [
      "Extracted height values:\n",
      "0    0.7\n",
      "1    1.0\n",
      "2    2.0\n",
      "3    0.6\n",
      "4    1.1\n",
      "Name: height_m, dtype: float64\n",
      "\n",
      "Extracted weight values:\n",
      "0      6.9\n",
      "1     13.0\n",
      "2    100.0\n",
      "3      8.5\n",
      "4     19.0\n",
      "Name: weight_kg, dtype: float64\n"
     ]
    }
   ],
   "source": [
    "# Print converted values to verify\n",
    "print(\"Extracted height values:\")\n",
    "print(df['height_m'].head())\n",
    "print(\"\\nExtracted weight values:\")\n",
    "print(df['weight_kg'].head())"
   ]
  },
  {
   "cell_type": "markdown",
   "id": "e1285338-7a5e-4d9f-a74f-c7d3b50bfb1b",
   "metadata": {},
   "source": [
    "### Convert attributes catch_rate, gender, egg_cycles into numbers and strip non numerical characters"
   ]
  },
  {
   "cell_type": "code",
   "execution_count": 592,
   "id": "870fcc32-7bb9-41e0-8e8d-f6176249aff2",
   "metadata": {},
   "outputs": [],
   "source": [
    "df['catch_rate'] = df['catch_rate'].str.extract(r'(\\d+)')[0].astype(float)\n",
    "df['egg_cycles'] = pd.to_numeric(df['egg_cycles'].str.extract(r'(\\d+)')[0], errors='coerce')"
   ]
  },
  {
   "cell_type": "markdown",
   "id": "651474d9-b62a-4db3-a49d-267d06ccee2b",
   "metadata": {},
   "source": [
    "### Distill base_friendship attribute to its essential numeric value "
   ]
  },
  {
   "cell_type": "code",
   "execution_count": 593,
   "id": "2defe098-ca16-45af-a596-34800ed46fb2",
   "metadata": {},
   "outputs": [],
   "source": [
    "df['base_friendship'] = df['base_friendship'].str.extract(r'(\\d+)').astype(float)\n",
    "df['base_exp'] = df['base_exp'].astype(int)"
   ]
  },
  {
   "cell_type": "markdown",
   "id": "d1cacdeb-c29e-4dcc-96dc-1f05299248b6",
   "metadata": {},
   "source": [
    "## Verify NaN values"
   ]
  },
  {
   "cell_type": "code",
   "execution_count": 594,
   "id": "bdab61c4-7f92-46e9-8e2c-f8c381c9b7dc",
   "metadata": {},
   "outputs": [
    {
     "name": "stdout",
     "output_type": "stream",
     "text": [
      "name               0\n",
      "national_no        0\n",
      "types              0\n",
      "species            0\n",
      "height             0\n",
      "weight             0\n",
      "abilities          0\n",
      "ev_yield           0\n",
      "catch_rate         0\n",
      "base_friendship    0\n",
      "base_exp           0\n",
      "growth_rate        0\n",
      "egg_groups         0\n",
      "gender             0\n",
      "egg_cycles         0\n",
      "hp                 0\n",
      "attack             0\n",
      "defense            0\n",
      "sp_atk             0\n",
      "sp_def             0\n",
      "speed              0\n",
      "total              0\n",
      "evo_path           0\n",
      "pokemon_img_url    0\n",
      "height_m           0\n",
      "weight_kg          0\n",
      "dtype: int64\n"
     ]
    }
   ],
   "source": [
    "print(df.isna().sum())"
   ]
  },
  {
   "cell_type": "code",
   "execution_count": 595,
   "id": "b06d6b7d-366d-4000-bbe5-4513e4032f12",
   "metadata": {},
   "outputs": [
    {
     "name": "stdout",
     "output_type": "stream",
     "text": [
      "<class 'pandas.core.frame.DataFrame'>\n",
      "RangeIndex: 7 entries, 0 to 6\n",
      "Data columns (total 26 columns):\n",
      " #   Column           Non-Null Count  Dtype  \n",
      "---  ------           --------------  -----  \n",
      " 0   name             7 non-null      object \n",
      " 1   national_no      7 non-null      Int64  \n",
      " 2   types            7 non-null      object \n",
      " 3   species          7 non-null      object \n",
      " 4   height           7 non-null      object \n",
      " 5   weight           7 non-null      object \n",
      " 6   abilities        7 non-null      object \n",
      " 7   ev_yield         7 non-null      object \n",
      " 8   catch_rate       7 non-null      float64\n",
      " 9   base_friendship  7 non-null      float64\n",
      " 10  base_exp         7 non-null      int32  \n",
      " 11  growth_rate      7 non-null      object \n",
      " 12  egg_groups       7 non-null      object \n",
      " 13  gender           7 non-null      object \n",
      " 14  egg_cycles       7 non-null      int64  \n",
      " 15  hp               7 non-null      Int64  \n",
      " 16  attack           7 non-null      Int64  \n",
      " 17  defense          7 non-null      Int64  \n",
      " 18  sp_atk           7 non-null      Int64  \n",
      " 19  sp_def           7 non-null      Int64  \n",
      " 20  speed            7 non-null      Int64  \n",
      " 21  total            7 non-null      Int64  \n",
      " 22  evo_path         7 non-null      object \n",
      " 23  pokemon_img_url  7 non-null      object \n",
      " 24  height_m         7 non-null      float64\n",
      " 25  weight_kg        7 non-null      float64\n",
      "dtypes: Int64(8), float64(4), int32(1), int64(1), object(12)\n",
      "memory usage: 1.6+ KB\n"
     ]
    }
   ],
   "source": [
    "df.info()"
   ]
  },
  {
   "cell_type": "markdown",
   "id": "9b81b952-30f3-4fe6-bc60-e976a99c0d6e",
   "metadata": {},
   "source": [
    "## Column Splitting - Types"
   ]
  },
  {
   "cell_type": "markdown",
   "id": "24cf1a17-c71c-47d8-b28c-c9d95034e8e9",
   "metadata": {},
   "source": [
    "### Drop types, height and weight  column post-split"
   ]
  },
  {
   "cell_type": "code",
   "execution_count": 596,
   "id": "fd47264d-6fee-4e67-835b-cc75c6e889ef",
   "metadata": {},
   "outputs": [],
   "source": [
    "df.drop(columns=['types', 'height', 'weight'], inplace=True)"
   ]
  },
  {
   "cell_type": "code",
   "execution_count": 597,
   "id": "62047154-01f3-4ddc-b81d-2dbbdbc38b57",
   "metadata": {},
   "outputs": [
    {
     "data": {
      "text/plain": [
       "Index(['name', 'national_no', 'species', 'abilities', 'ev_yield', 'catch_rate',\n",
       "       'base_friendship', 'base_exp', 'growth_rate', 'egg_groups', 'gender',\n",
       "       'egg_cycles', 'hp', 'attack', 'defense', 'sp_atk', 'sp_def', 'speed',\n",
       "       'total', 'evo_path', 'pokemon_img_url', 'height_m', 'weight_kg'],\n",
       "      dtype='object')"
      ]
     },
     "execution_count": 597,
     "metadata": {},
     "output_type": "execute_result"
    }
   ],
   "source": [
    "df.columns"
   ]
  },
  {
   "cell_type": "markdown",
   "id": "bb47e77d-71aa-4d6d-b6db-21442e34fed4",
   "metadata": {},
   "source": [
    "### Split gender field into male_percentage and female_percentage and convert to numeric values"
   ]
  },
  {
   "cell_type": "code",
   "execution_count": 598,
   "id": "728824fc-6eee-4af7-8589-812d07fe2ca4",
   "metadata": {},
   "outputs": [],
   "source": [
    "# Extract gender distribution\n",
    "df['male_percentage'] = df['gender'].str.extract(r'(\\d+\\.\\d+)% male')[0].astype(float)\n",
    "df['female_percentage'] = df['gender'].str.extract(r'(\\d+\\.\\d+)% female')[0].astype(float)"
   ]
  },
  {
   "cell_type": "code",
   "execution_count": 599,
   "id": "019a48c1-fcd6-4cad-bf83-cd1ca6a31a99",
   "metadata": {},
   "outputs": [
    {
     "name": "stdout",
     "output_type": "stream",
     "text": [
      "                     gender  male_percentage  female_percentage\n",
      "0  87.5% male, 12.5% female             87.5               12.5\n",
      "1  87.5% male, 12.5% female             87.5               12.5\n",
      "2  87.5% male, 12.5% female             87.5               12.5\n",
      "3  87.5% male, 12.5% female             87.5               12.5\n",
      "4  87.5% male, 12.5% female             87.5               12.5\n"
     ]
    }
   ],
   "source": [
    "df['male_percentage'].fillna(0, inplace=True)\n",
    "df['female_percentage'].fillna(0, inplace=True)\n",
    "print(df[['gender', 'male_percentage', 'female_percentage']].head())"
   ]
  },
  {
   "cell_type": "code",
   "execution_count": 600,
   "id": "3f6bd3ad-0288-4538-9aeb-9a47d67c1a77",
   "metadata": {},
   "outputs": [
    {
     "data": {
      "text/plain": [
       "Index(['name', 'national_no', 'species', 'abilities', 'ev_yield', 'catch_rate',\n",
       "       'base_friendship', 'base_exp', 'growth_rate', 'egg_groups', 'gender',\n",
       "       'egg_cycles', 'hp', 'attack', 'defense', 'sp_atk', 'sp_def', 'speed',\n",
       "       'total', 'evo_path', 'pokemon_img_url', 'height_m', 'weight_kg',\n",
       "       'male_percentage', 'female_percentage'],\n",
       "      dtype='object')"
      ]
     },
     "execution_count": 600,
     "metadata": {},
     "output_type": "execute_result"
    }
   ],
   "source": [
    "df.columns"
   ]
  },
  {
   "cell_type": "markdown",
   "id": "145c6af1-29cd-4762-86c4-bbd719438064",
   "metadata": {},
   "source": [
    "### Drop gender column as it was replaced with male_percentage and female_percentage"
   ]
  },
  {
   "cell_type": "code",
   "execution_count": 603,
   "id": "2f626da4-9193-423c-9070-36380f9f10c0",
   "metadata": {},
   "outputs": [
    {
     "ename": "KeyError",
     "evalue": "\"['gender'] not found in axis\"",
     "output_type": "error",
     "traceback": [
      "\u001b[1;31m---------------------------------------------------------------------------\u001b[0m",
      "\u001b[1;31mKeyError\u001b[0m                                  Traceback (most recent call last)",
      "Cell \u001b[1;32mIn[603], line 1\u001b[0m\n\u001b[1;32m----> 1\u001b[0m \u001b[43mdf\u001b[49m\u001b[38;5;241;43m.\u001b[39;49m\u001b[43mdrop\u001b[49m\u001b[43m(\u001b[49m\u001b[43mcolumns\u001b[49m\u001b[38;5;241;43m=\u001b[39;49m\u001b[43m[\u001b[49m\u001b[38;5;124;43m'\u001b[39;49m\u001b[38;5;124;43mgender\u001b[39;49m\u001b[38;5;124;43m'\u001b[39;49m\u001b[43m]\u001b[49m\u001b[43m,\u001b[49m\u001b[43m \u001b[49m\u001b[43minplace\u001b[49m\u001b[38;5;241;43m=\u001b[39;49m\u001b[38;5;28;43;01mTrue\u001b[39;49;00m\u001b[43m)\u001b[49m\n",
      "File \u001b[1;32m~\\anaconda3\\envs\\dmml\\lib\\site-packages\\pandas\\core\\frame.py:5258\u001b[0m, in \u001b[0;36mDataFrame.drop\u001b[1;34m(self, labels, axis, index, columns, level, inplace, errors)\u001b[0m\n\u001b[0;32m   5110\u001b[0m \u001b[38;5;28;01mdef\u001b[39;00m \u001b[38;5;21mdrop\u001b[39m(\n\u001b[0;32m   5111\u001b[0m     \u001b[38;5;28mself\u001b[39m,\n\u001b[0;32m   5112\u001b[0m     labels: IndexLabel \u001b[38;5;241m=\u001b[39m \u001b[38;5;28;01mNone\u001b[39;00m,\n\u001b[1;32m   (...)\u001b[0m\n\u001b[0;32m   5119\u001b[0m     errors: IgnoreRaise \u001b[38;5;241m=\u001b[39m \u001b[38;5;124m\"\u001b[39m\u001b[38;5;124mraise\u001b[39m\u001b[38;5;124m\"\u001b[39m,\n\u001b[0;32m   5120\u001b[0m ) \u001b[38;5;241m-\u001b[39m\u001b[38;5;241m>\u001b[39m DataFrame \u001b[38;5;241m|\u001b[39m \u001b[38;5;28;01mNone\u001b[39;00m:\n\u001b[0;32m   5121\u001b[0m \u001b[38;5;250m    \u001b[39m\u001b[38;5;124;03m\"\"\"\u001b[39;00m\n\u001b[0;32m   5122\u001b[0m \u001b[38;5;124;03m    Drop specified labels from rows or columns.\u001b[39;00m\n\u001b[0;32m   5123\u001b[0m \n\u001b[1;32m   (...)\u001b[0m\n\u001b[0;32m   5256\u001b[0m \u001b[38;5;124;03m            weight  1.0     0.8\u001b[39;00m\n\u001b[0;32m   5257\u001b[0m \u001b[38;5;124;03m    \"\"\"\u001b[39;00m\n\u001b[1;32m-> 5258\u001b[0m     \u001b[38;5;28;01mreturn\u001b[39;00m \u001b[38;5;28;43msuper\u001b[39;49m\u001b[43m(\u001b[49m\u001b[43m)\u001b[49m\u001b[38;5;241;43m.\u001b[39;49m\u001b[43mdrop\u001b[49m\u001b[43m(\u001b[49m\n\u001b[0;32m   5259\u001b[0m \u001b[43m        \u001b[49m\u001b[43mlabels\u001b[49m\u001b[38;5;241;43m=\u001b[39;49m\u001b[43mlabels\u001b[49m\u001b[43m,\u001b[49m\n\u001b[0;32m   5260\u001b[0m \u001b[43m        \u001b[49m\u001b[43maxis\u001b[49m\u001b[38;5;241;43m=\u001b[39;49m\u001b[43maxis\u001b[49m\u001b[43m,\u001b[49m\n\u001b[0;32m   5261\u001b[0m \u001b[43m        \u001b[49m\u001b[43mindex\u001b[49m\u001b[38;5;241;43m=\u001b[39;49m\u001b[43mindex\u001b[49m\u001b[43m,\u001b[49m\n\u001b[0;32m   5262\u001b[0m \u001b[43m        \u001b[49m\u001b[43mcolumns\u001b[49m\u001b[38;5;241;43m=\u001b[39;49m\u001b[43mcolumns\u001b[49m\u001b[43m,\u001b[49m\n\u001b[0;32m   5263\u001b[0m \u001b[43m        \u001b[49m\u001b[43mlevel\u001b[49m\u001b[38;5;241;43m=\u001b[39;49m\u001b[43mlevel\u001b[49m\u001b[43m,\u001b[49m\n\u001b[0;32m   5264\u001b[0m \u001b[43m        \u001b[49m\u001b[43minplace\u001b[49m\u001b[38;5;241;43m=\u001b[39;49m\u001b[43minplace\u001b[49m\u001b[43m,\u001b[49m\n\u001b[0;32m   5265\u001b[0m \u001b[43m        \u001b[49m\u001b[43merrors\u001b[49m\u001b[38;5;241;43m=\u001b[39;49m\u001b[43merrors\u001b[49m\u001b[43m,\u001b[49m\n\u001b[0;32m   5266\u001b[0m \u001b[43m    \u001b[49m\u001b[43m)\u001b[49m\n",
      "File \u001b[1;32m~\\anaconda3\\envs\\dmml\\lib\\site-packages\\pandas\\core\\generic.py:4549\u001b[0m, in \u001b[0;36mNDFrame.drop\u001b[1;34m(self, labels, axis, index, columns, level, inplace, errors)\u001b[0m\n\u001b[0;32m   4547\u001b[0m \u001b[38;5;28;01mfor\u001b[39;00m axis, labels \u001b[38;5;129;01min\u001b[39;00m axes\u001b[38;5;241m.\u001b[39mitems():\n\u001b[0;32m   4548\u001b[0m     \u001b[38;5;28;01mif\u001b[39;00m labels \u001b[38;5;129;01mis\u001b[39;00m \u001b[38;5;129;01mnot\u001b[39;00m \u001b[38;5;28;01mNone\u001b[39;00m:\n\u001b[1;32m-> 4549\u001b[0m         obj \u001b[38;5;241m=\u001b[39m \u001b[43mobj\u001b[49m\u001b[38;5;241;43m.\u001b[39;49m\u001b[43m_drop_axis\u001b[49m\u001b[43m(\u001b[49m\u001b[43mlabels\u001b[49m\u001b[43m,\u001b[49m\u001b[43m \u001b[49m\u001b[43maxis\u001b[49m\u001b[43m,\u001b[49m\u001b[43m \u001b[49m\u001b[43mlevel\u001b[49m\u001b[38;5;241;43m=\u001b[39;49m\u001b[43mlevel\u001b[49m\u001b[43m,\u001b[49m\u001b[43m \u001b[49m\u001b[43merrors\u001b[49m\u001b[38;5;241;43m=\u001b[39;49m\u001b[43merrors\u001b[49m\u001b[43m)\u001b[49m\n\u001b[0;32m   4551\u001b[0m \u001b[38;5;28;01mif\u001b[39;00m inplace:\n\u001b[0;32m   4552\u001b[0m     \u001b[38;5;28mself\u001b[39m\u001b[38;5;241m.\u001b[39m_update_inplace(obj)\n",
      "File \u001b[1;32m~\\anaconda3\\envs\\dmml\\lib\\site-packages\\pandas\\core\\generic.py:4591\u001b[0m, in \u001b[0;36mNDFrame._drop_axis\u001b[1;34m(self, labels, axis, level, errors, only_slice)\u001b[0m\n\u001b[0;32m   4589\u001b[0m         new_axis \u001b[38;5;241m=\u001b[39m axis\u001b[38;5;241m.\u001b[39mdrop(labels, level\u001b[38;5;241m=\u001b[39mlevel, errors\u001b[38;5;241m=\u001b[39merrors)\n\u001b[0;32m   4590\u001b[0m     \u001b[38;5;28;01melse\u001b[39;00m:\n\u001b[1;32m-> 4591\u001b[0m         new_axis \u001b[38;5;241m=\u001b[39m \u001b[43maxis\u001b[49m\u001b[38;5;241;43m.\u001b[39;49m\u001b[43mdrop\u001b[49m\u001b[43m(\u001b[49m\u001b[43mlabels\u001b[49m\u001b[43m,\u001b[49m\u001b[43m \u001b[49m\u001b[43merrors\u001b[49m\u001b[38;5;241;43m=\u001b[39;49m\u001b[43merrors\u001b[49m\u001b[43m)\u001b[49m\n\u001b[0;32m   4592\u001b[0m     indexer \u001b[38;5;241m=\u001b[39m axis\u001b[38;5;241m.\u001b[39mget_indexer(new_axis)\n\u001b[0;32m   4594\u001b[0m \u001b[38;5;66;03m# Case for non-unique axis\u001b[39;00m\n\u001b[0;32m   4595\u001b[0m \u001b[38;5;28;01melse\u001b[39;00m:\n",
      "File \u001b[1;32m~\\anaconda3\\envs\\dmml\\lib\\site-packages\\pandas\\core\\indexes\\base.py:6699\u001b[0m, in \u001b[0;36mIndex.drop\u001b[1;34m(self, labels, errors)\u001b[0m\n\u001b[0;32m   6697\u001b[0m \u001b[38;5;28;01mif\u001b[39;00m mask\u001b[38;5;241m.\u001b[39many():\n\u001b[0;32m   6698\u001b[0m     \u001b[38;5;28;01mif\u001b[39;00m errors \u001b[38;5;241m!=\u001b[39m \u001b[38;5;124m\"\u001b[39m\u001b[38;5;124mignore\u001b[39m\u001b[38;5;124m\"\u001b[39m:\n\u001b[1;32m-> 6699\u001b[0m         \u001b[38;5;28;01mraise\u001b[39;00m \u001b[38;5;167;01mKeyError\u001b[39;00m(\u001b[38;5;124mf\u001b[39m\u001b[38;5;124m\"\u001b[39m\u001b[38;5;132;01m{\u001b[39;00m\u001b[38;5;28mlist\u001b[39m(labels[mask])\u001b[38;5;132;01m}\u001b[39;00m\u001b[38;5;124m not found in axis\u001b[39m\u001b[38;5;124m\"\u001b[39m)\n\u001b[0;32m   6700\u001b[0m     indexer \u001b[38;5;241m=\u001b[39m indexer[\u001b[38;5;241m~\u001b[39mmask]\n\u001b[0;32m   6701\u001b[0m \u001b[38;5;28;01mreturn\u001b[39;00m \u001b[38;5;28mself\u001b[39m\u001b[38;5;241m.\u001b[39mdelete(indexer)\n",
      "\u001b[1;31mKeyError\u001b[0m: \"['gender'] not found in axis\""
     ]
    }
   ],
   "source": [
    "df.drop(columns=['gender'], inplace=True)"
   ]
  },
  {
   "cell_type": "markdown",
   "id": "4c4c9f39-437d-4bfe-9dc1-9949612949ce",
   "metadata": {},
   "source": [
    "## Generation Identification"
   ]
  },
  {
   "cell_type": "code",
   "execution_count": 604,
   "id": "ce464305-dfa6-4f31-882a-869949dc55c8",
   "metadata": {},
   "outputs": [],
   "source": [
    "df = df.sort_values(by='national_no')"
   ]
  },
  {
   "cell_type": "markdown",
   "id": "4ea63a39-9d6b-4a81-85a8-4d890057cb14",
   "metadata": {},
   "source": [
    "### Add a new column called gen to the DataFrame, indicating the generation in which the Pokémon first appeared"
   ]
  },
  {
   "cell_type": "code",
   "execution_count": 605,
   "id": "e35c4940-9948-4fbb-b914-d050232a0f29",
   "metadata": {},
   "outputs": [
    {
     "name": "stdout",
     "output_type": "stream",
     "text": [
      "         name  national_no gen\n",
      "0   bulbasaur            1   1\n",
      "1     ivysaur            2   1\n",
      "2    venusaur            3   1\n",
      "3  charmander            4   1\n",
      "4  charmeleon            5   1\n",
      "5   charizard            6   1\n",
      "6    squirtle            7   1\n"
     ]
    }
   ],
   "source": [
    "# Define generation boundaries\n",
    "bins = [0, 151, 251, 386, 493, 649, 721, 809, 898]\n",
    "labels = [1, 2, 3, 4, 5, 6, 7, 8]\n",
    "\n",
    "# Create the generation column\n",
    "df['gen'] = pd.cut(df['national_no'], bins=bins, labels=labels, right=True)\n",
    "print(df[['name', 'national_no', 'gen']])"
   ]
  },
  {
   "cell_type": "markdown",
   "id": "b0202533-b672-49a2-86f5-007db5511957",
   "metadata": {},
   "source": [
    "## Column Splitting - Abilities"
   ]
  },
  {
   "cell_type": "markdown",
   "id": "d85f66b6-ed21-484d-af5f-7f8e3fda1c5d",
   "metadata": {},
   "source": [
    "## Separate the abilities column into primary_ability and secondary_ability"
   ]
  },
  {
   "cell_type": "code",
   "execution_count": 609,
   "id": "5e3e085e-fab1-4257-b630-6a8b0aeb3e79",
   "metadata": {},
   "outputs": [
    {
     "data": {
      "text/plain": [
       "Index(['name', 'national_no', 'species', 'abilities', 'ev_yield', 'catch_rate',\n",
       "       'base_friendship', 'base_exp', 'growth_rate', 'egg_groups',\n",
       "       'egg_cycles', 'hp', 'attack', 'defense', 'sp_atk', 'sp_def', 'speed',\n",
       "       'total', 'evo_path', 'pokemon_img_url', 'height_m', 'weight_kg',\n",
       "       'male_percentage', 'female_percentage', 'gen'],\n",
       "      dtype='object')"
      ]
     },
     "execution_count": 609,
     "metadata": {},
     "output_type": "execute_result"
    }
   ],
   "source": [
    "df.columns"
   ]
  },
  {
   "cell_type": "code",
   "execution_count": 610,
   "id": "858ce046-de41-4c33-bfda-7a31cb0fb21c",
   "metadata": {},
   "outputs": [],
   "source": [
    "abilities_split = df['abilities'].str.split(', ', expand=True)\n",
    "df['primary_ability'] = abilities_split[0]\n",
    "df['secondary_ability'] = abilities_split[1]"
   ]
  },
  {
   "cell_type": "markdown",
   "id": "c8adca71-fe57-42d0-986c-9fab572c4d81",
   "metadata": {},
   "source": [
    "## Handle secondary slot if only one ability is present "
   ]
  },
  {
   "cell_type": "code",
   "execution_count": 611,
   "id": "2f1a4b72-7179-40f7-8cc9-f1c410fea79c",
   "metadata": {},
   "outputs": [],
   "source": [
    "df['secondary_ability'].fillna('None', inplace=True)"
   ]
  },
  {
   "cell_type": "code",
   "execution_count": 612,
   "id": "094a0daf-e9a8-4da8-8c2e-e43d1994e544",
   "metadata": {},
   "outputs": [
    {
     "name": "stdout",
     "output_type": "stream",
     "text": [
      "         name  national_no primary_ability secondary_ability\n",
      "0   bulbasaur            1        Overgrow       Chlorophyll\n",
      "1     ivysaur            2        Overgrow       Chlorophyll\n",
      "2    venusaur            3        Overgrow       Chlorophyll\n",
      "3  charmander            4           Blaze       Solar Power\n",
      "4  charmeleon            5           Blaze       Solar Power\n",
      "5   charizard            6           Blaze       Solar Power\n",
      "6    squirtle            7         Torrent         Rain Dish\n"
     ]
    }
   ],
   "source": [
    "print(df[['name', 'national_no', 'primary_ability', 'secondary_ability']])"
   ]
  },
  {
   "cell_type": "markdown",
   "id": "ad3cd7c2-c549-4243-aae8-f82fbffecb95",
   "metadata": {},
   "source": [
    "### Drop abilities column after replacting it with primary_ability and secondary_ability"
   ]
  },
  {
   "cell_type": "code",
   "execution_count": 613,
   "id": "29bd1566-a027-4442-bf8c-3e35f413ba63",
   "metadata": {},
   "outputs": [],
   "source": [
    "df.drop(columns=['abilities'], inplace=True)"
   ]
  },
  {
   "cell_type": "code",
   "execution_count": 614,
   "id": "2cd41c1b-5dec-4fd5-a8c2-220592e8fedf",
   "metadata": {},
   "outputs": [
    {
     "data": {
      "text/plain": [
       "Index(['name', 'national_no', 'species', 'ev_yield', 'catch_rate',\n",
       "       'base_friendship', 'base_exp', 'growth_rate', 'egg_groups',\n",
       "       'egg_cycles', 'hp', 'attack', 'defense', 'sp_atk', 'sp_def', 'speed',\n",
       "       'total', 'evo_path', 'pokemon_img_url', 'height_m', 'weight_kg',\n",
       "       'male_percentage', 'female_percentage', 'gen', 'primary_ability',\n",
       "       'secondary_ability'],\n",
       "      dtype='object')"
      ]
     },
     "execution_count": 614,
     "metadata": {},
     "output_type": "execute_result"
    }
   ],
   "source": [
    "df.columns"
   ]
  },
  {
   "cell_type": "markdown",
   "id": "7f094b25-6967-4f35-be8e-23934bdea74e",
   "metadata": {},
   "source": [
    "## Data Cleansing"
   ]
  },
  {
   "cell_type": "markdown",
   "id": "e0bf503f-c2e4-40d9-a43a-31137f250b9b",
   "metadata": {},
   "source": [
    "### Store the cleaned DataFrame to a new pickle file for persistent storage"
   ]
  },
  {
   "cell_type": "code",
   "execution_count": 615,
   "id": "378ae012-8495-4b7d-a847-dcd0df66999d",
   "metadata": {},
   "outputs": [],
   "source": [
    "df.to_pickle('data/final_cleaned_pokemon_data.pkl')"
   ]
  },
  {
   "cell_type": "markdown",
   "id": "efb8924e-5b42-48fb-8cdd-d5131be838a5",
   "metadata": {},
   "source": [
    "## Evaluation"
   ]
  },
  {
   "cell_type": "markdown",
   "id": "47abcb57-7778-4716-b167-5d6a2add726a",
   "metadata": {},
   "source": [
    "### Use .info() method to check the datatype for different attribute columns."
   ]
  },
  {
   "cell_type": "code",
   "execution_count": 616,
   "id": "66ab04d0-e6ab-4458-a1f1-113fea0952dd",
   "metadata": {},
   "outputs": [
    {
     "name": "stdout",
     "output_type": "stream",
     "text": [
      "<class 'pandas.core.frame.DataFrame'>\n",
      "RangeIndex: 7 entries, 0 to 6\n",
      "Data columns (total 26 columns):\n",
      " #   Column             Non-Null Count  Dtype   \n",
      "---  ------             --------------  -----   \n",
      " 0   name               7 non-null      object  \n",
      " 1   national_no        7 non-null      Int64   \n",
      " 2   species            7 non-null      object  \n",
      " 3   ev_yield           7 non-null      object  \n",
      " 4   catch_rate         7 non-null      float64 \n",
      " 5   base_friendship    7 non-null      float64 \n",
      " 6   base_exp           7 non-null      int32   \n",
      " 7   growth_rate        7 non-null      object  \n",
      " 8   egg_groups         7 non-null      object  \n",
      " 9   egg_cycles         7 non-null      int64   \n",
      " 10  hp                 7 non-null      Int64   \n",
      " 11  attack             7 non-null      Int64   \n",
      " 12  defense            7 non-null      Int64   \n",
      " 13  sp_atk             7 non-null      Int64   \n",
      " 14  sp_def             7 non-null      Int64   \n",
      " 15  speed              7 non-null      Int64   \n",
      " 16  total              7 non-null      Int64   \n",
      " 17  evo_path           7 non-null      object  \n",
      " 18  pokemon_img_url    7 non-null      object  \n",
      " 19  height_m           7 non-null      float64 \n",
      " 20  weight_kg          7 non-null      float64 \n",
      " 21  male_percentage    7 non-null      float64 \n",
      " 22  female_percentage  7 non-null      float64 \n",
      " 23  gen                7 non-null      category\n",
      " 24  primary_ability    7 non-null      object  \n",
      " 25  secondary_ability  7 non-null      object  \n",
      "dtypes: Int64(8), category(1), float64(6), int32(1), int64(1), object(9)\n",
      "memory usage: 1.9+ KB\n"
     ]
    }
   ],
   "source": [
    "df.info()"
   ]
  },
  {
   "cell_type": "markdown",
   "id": "fa15cec9-6a79-47f2-8699-3286286e9d2f",
   "metadata": {},
   "source": [
    "### Use the .unique() method on categorical columns to identify and rectify any typographical errors within the attributes"
   ]
  },
  {
   "cell_type": "code",
   "execution_count": 619,
   "id": "60a21e0b-dde5-4a33-99ce-47948ae66657",
   "metadata": {},
   "outputs": [],
   "source": [
    "# Define all categorical columns\n",
    "categorical_columns = ['species', 'growth_rate', 'egg_groups', 'evo_path', 'primary_ability', 'secondary_ability']\n",
    "# categorical_columns += ['moves']"
   ]
  },
  {
   "cell_type": "code",
   "execution_count": 620,
   "id": "e2261bfd-59ec-410e-b86f-88752802bf08",
   "metadata": {},
   "outputs": [],
   "source": [
    "# Handle colums that cause \"TypeError: unhashable type: 'list'\" error\n",
    "df['egg_groups'] = df['egg_groups'].apply(lambda x: ', '.join(x) if isinstance(x, list) else x)\n",
    "df['evo_path'] = df['evo_path'].apply(lambda x: ', '.join(x) if isinstance(x, list) else x)\n",
    "#df['moves'] = df['moves'].apply(lambda x: ', '.join(x) if isinstance(x, list) else x)"
   ]
  },
  {
   "cell_type": "code",
   "execution_count": 574,
   "id": "49dd16c0-a334-4968-999f-5239a4f7c998",
   "metadata": {},
   "outputs": [
    {
     "name": "stdout",
     "output_type": "stream",
     "text": [
      "Unique Values\n",
      "'species': ['Seed Pokémon' 'Lizard Pokémon' 'Flame Pokémon' 'Tiny Turtle Pokémon'\n",
      " 'Turtle Pokémon' 'Shellfish Pokémon' 'Worm Pokémon' 'Cocoon Pokémon'\n",
      " 'Butterfly Pokémon' 'Hairy Bug Pokémon' 'Poison Bee Pokémon'\n",
      " 'Tiny Bird Pokémon' 'Bird Pokémon' 'Mouse Pokémon' 'Beak Pokémon'\n",
      " 'Snake Pokémon' 'Cobra Pokémon' 'Poison Pin Pokémon' 'Drill Pokémon'\n",
      " 'Fairy Pokémon' 'Fox Pokémon']\n",
      "\n",
      "'growth_rate': ['Medium Slow' 'Medium Fast' 'Fast']\n",
      "\n",
      "'egg_groups': ['Grass, Monster' 'Dragon, Monster' 'Monster, Water 1' 'Bug' 'Flying'\n",
      " 'Field' 'Dragon, Field' 'Fairy, Field' 'Field, Monster' 'Undiscovered'\n",
      " 'Fairy']\n",
      "\n",
      "'evo_path': ['Bulbasaur, Ivysaur, Venusaur' 'Charmander, Charmeleon, Charizard'\n",
      " 'Squirtle, Wartortle, Blastoise' 'Caterpie, Metapod, Butterfree'\n",
      " 'Weedle, Kakuna, Beedrill' 'Pidgey, Pidgeotto, Pidgeot'\n",
      " 'Rattata, Raticate, Rattata, Raticate' 'Spearow, Fearow' 'Ekans, Arbok'\n",
      " 'Pichu, Pikachu, Raichu, Raichu'\n",
      " 'Sandshrew, Sandslash, Sandshrew, Sandslash'\n",
      " 'Nidoran♀, Nidorina, Nidoqueen' 'Nidoran♂, Nidorino, Nidoking'\n",
      " 'Cleffa, Clefairy, Clefable' 'Vulpix, Ninetales, Vulpix, Ninetales']\n",
      "\n",
      "'moves': ['Growl, Tackle, Vine Whip, Growth, Leech Seed, Razor Leaf, Poison Powder, Sleep Powder, Seed Bomb, Take Down, Sweet Scent, Synthesis, Worry Seed, Power Whip, Solar Beam, Curse, Ingrain, Petal Dance, Toxic, Take Down, Charm, Protect, Acid Spray, Trailblaze, Facade, Magical Leaf, Venoshock, Endure, Sunny Day, Bullet Seed, False Swipe, Body Slam, Sleep Talk, Seed Bomb, Grass Knot, Rest, Swords Dance, Substitute, Giga Drain, Energy Ball, Helping Hand, Grassy Terrain, Grass Pledge, Sludge Bomb, Leaf Storm, Solar Beam, Tera Blast, Toxic, Knock Off, Weather Ball, Grassy Glide, Double-Edge, Curse, Growl, Tackle, Vine Whip, Growth, Leech Seed, Razor Leaf, Poison Powder, Sleep Powder, Seed Bomb, Take Down, Sweet Scent, Synthesis, Worry Seed, Double-Edge, Solar Beam, Amnesia, Charm, Curse, Grassy Terrain, Ingrain, Leaf Storm, Magical Leaf, Nature Power, Petal Dance, Power Whip, Skull Bash, Sludge, Toxic, Bullet Seed, Work Up, Sunny Day, Light Screen, Protect, Giga Drain, Safeguard, Solar Beam, Double Team, Sludge Bomb, Facade, Rest, Attract, Energy Ball, False Swipe, Endure, Flash, Swords Dance, Sleep Talk, Grass Knot, Swagger, Substitute, Cut, Strength, Rock Smash'\n",
      " 'Growl, Growth, Tackle, Vine Whip, Leech Seed, Razor Leaf, Poison Powder, Sleep Powder, Seed Bomb, Take Down, Sweet Scent, Synthesis, Worry Seed, Power Whip, Solar Beam, Take Down, Charm, Protect, Acid Spray, Trailblaze, Facade, Magical Leaf, Venoshock, Endure, Sunny Day, Bullet Seed, False Swipe, Body Slam, Sleep Talk, Seed Bomb, Grass Knot, Rest, Swords Dance, Substitute, Giga Drain, Energy Ball, Helping Hand, Grassy Terrain, Grass Pledge, Sludge Bomb, Leaf Storm, Solar Beam, Tera Blast, Roar, Toxic, Knock Off, Weather Ball, Grassy Glide, Double-Edge, Curse, Growl, Growth, Tackle, Vine Whip, Leech Seed, Razor Leaf, Poison Powder, Sleep Powder, Seed Bomb, Take Down, Sweet Scent, Synthesis, Worry Seed, Double-Edge, Solar Beam, Amnesia, Charm, Curse, Grassy Terrain, Ingrain, Leaf Storm, Magical Leaf, Nature Power, Petal Dance, Power Whip, Skull Bash, Sludge, Toxic, Bullet Seed, Work Up, Sunny Day, Light Screen, Protect, Giga Drain, Safeguard, Solar Beam, Double Team, Sludge Bomb, Facade, Rest, Attract, Energy Ball, False Swipe, Endure, Flash, Swords Dance, Sleep Talk, Grass Knot, Swagger, Substitute, Cut, Strength, Rock Smash'\n",
      " 'Growl, Growth, Petal Dance, Tackle, Vine Whip, Leech Seed, Razor Leaf, Poison Powder, Sleep Powder, Seed Bomb, Take Down, Sweet Scent, Synthesis, Worry Seed, Power Whip, Solar Beam, Petal Blizzard, Take Down, Charm, Scary Face, Protect, Acid Spray, Trailblaze, Facade, Bulldoze, Magical Leaf, Venoshock, Endure, Sunny Day, Bullet Seed, False Swipe, Body Slam, Sleep Talk, Seed Bomb, Grass Knot, Poison Jab, Stomping Tantrum, Rest, Swords Dance, Substitute, Giga Drain, Energy Ball, Amnesia, Helping Hand, Earth Power, Grassy Terrain, Grass Pledge, Sludge Bomb, Earthquake, Giga Impact, Frenzy Plant, Leaf Storm, Hyper Beam, Solar Beam, Tera Blast, Roar, Toxic, Knock Off, Weather Ball, Grassy Glide, Double-Edge, Petal Blizzard, Curse, Growl, Growth, Petal Blizzard, Petal Dance, Tackle, Vine Whip, Leech Seed, Razor Leaf, Poison Powder, Sleep Powder, Seed Bomb, Take Down, Sweet Scent, Synthesis, Worry Seed, Double-Edge, Solar Beam, Petal Blizzard, Amnesia, Charm, Curse, Grassy Terrain, Ingrain, Leaf Storm, Magical Leaf, Nature Power, Petal Dance, Power Whip, Skull Bash, Sludge, Frenzy Plant, Roar, Toxic, Bullet Seed, Work Up, Sunny Day, Hyper Beam, Light Screen, Protect, Giga Drain, Safeguard, Solar Beam, Earthquake, Double Team, Sludge Bomb, Facade, Rest, Attract, Energy Ball, False Swipe, Endure, Giga Impact, Flash, Swords Dance, Sleep Talk, Bulldoze, Grass Knot, Swagger, Substitute, Cut, Strength, Rock Smash, Rock Climb'\n",
      " 'Growl, Scratch, Ember, Smokescreen, Dragon Breath, Fire Fang, Slash, Flamethrower, Scary Face, Fire Spin, Inferno, Flare Blitz, Ancient Power, Belly Drum, Bite, Counter, Dragon Rush, Dragon Tail, Iron Tail, Metal Claw, Take Down, Scary Face, Protect, Fire Fang, Fire Spin, Facade, Metal Claw, Swift, Rock Tomb, Flame Charge, Fling, Dragon Tail, Endure, Sunny Day, Dig, False Swipe, Brick Break, Shadow Claw, Body Slam, Fire Punch, Thunder Punch, Sleep Talk, Dragon Claw, Rest, Rock Slide, Swords Dance, Dragon Dance, Substitute, Will-O-Wisp, Crunch, Dragon Pulse, Heat Wave, Flamethrower, Helping Hand, Fire Blast, Fire Pledge, Outrage, Overheat, Focus Blast, Flare Blitz, Tera Blast, Roar, Focus Punch, Weather Ball, Temper Flare, Breaking Swipe, Growl, Scratch, Ember, Smokescreen, Dragon Breath, Fire Fang, Slash, Flamethrower, Scary Face, Fire Spin, Inferno, Flare Blitz, Air Cutter, Ancient Power, Beat Up, Belly Drum, Bite, Counter, Crunch, Dragon Dance, Dragon Rush, Dragon Tail, Flare Blitz, Metal Claw, Outrage, Wing Attack, Focus Punch, Dragon Claw, Work Up, Sunny Day, Protect, Iron Tail, Dig, Brick Break, Double Team, Flamethrower, Fire Blast, Rock Tomb, Aerial Ace, Facade, Rest, Attract, Overheat, False Swipe, Fling, Endure, Dragon Pulse, Will-O-Wisp, Shadow Claw, Swords Dance, Rock Slide, Sleep Talk, Swagger, Substitute, Cut, Strength, Rock Smash'\n",
      " 'Ember, Growl, Scratch, Smokescreen, Dragon Breath, Fire Fang, Slash, Flamethrower, Scary Face, Inferno, Flare Blitz, Ancient Power, Belly Drum, Bite, Counter, Dragon Rush, Dragon Tail, Iron Tail, Metal Claw, Take Down, Scary Face, Protect, Fire Fang, Fire Spin, Facade, Swift, Rock Tomb, Flame Charge, Fling, Dragon Tail, Endure, Sunny Day, Dig, False Swipe, Brick Break, Shadow Claw, Body Slam, Fire Punch, Thunder Punch, Sleep Talk, Dragon Claw, Rest, Rock Slide, Swords Dance, Dragon Dance, Substitute, Will-O-Wisp, Crunch, Dragon Pulse, Heat Wave, Flamethrower, Helping Hand, Fire Blast, Fire Pledge, Outrage, Overheat, Focus Blast, Flare Blitz, Tera Blast, Roar, Focus Punch, Weather Ball, Temper Flare, Breaking Swipe, Ember, Growl, Scratch, Smokescreen, Dragon Breath, Fire Fang, Slash, Flamethrower, Scary Face, Fire Spin, Inferno, Flare Blitz, Air Cutter, Ancient Power, Beat Up, Belly Drum, Bite, Counter, Crunch, Dragon Dance, Dragon Rush, Dragon Tail, Flare Blitz, Metal Claw, Outrage, Wing Attack, Focus Punch, Dragon Claw, Work Up, Sunny Day, Protect, Iron Tail, Dig, Brick Break, Double Team, Flamethrower, Fire Blast, Rock Tomb, Aerial Ace, Facade, Rest, Attract, Overheat, False Swipe, Fling, Endure, Dragon Pulse, Will-O-Wisp, Shadow Claw, Swords Dance, Rock Slide, Sleep Talk, Swagger, Substitute, Cut, Strength, Rock Smash'\n",
      " 'Dragon Claw, Ember, Growl, Heat Wave, Scratch, Smokescreen, Dragon Breath, Fire Fang, Slash, Flamethrower, Scary Face, Fire Spin, Inferno, Flare Blitz, Air Slash, Ancient Power, Belly Drum, Bite, Counter, Dragon Rush, Dragon Tail, Iron Tail, Metal Claw, Take Down, Scary Face, Protect, Fire Fang, Acrobatics, Fire Spin, Facade, Aerial Ace, Bulldoze, Swift, Rock Tomb, Flame Charge, Air Cutter, Fling, Dragon Tail, Endure, Sunny Day, Sandstorm, Dig, Brick Break, Shadow Claw, Air Slash, Body Slam, Fire Punch, Thunder Punch, Sleep Talk, Dragon Claw, Rest, Rock Slide, Swords Dance, Fly, Dragon Dance, Substitute, Will-O-Wisp, Crunch, Dragon Pulse, Heat Wave, Flamethrower, Helping Hand, Fire Blast, Fire Pledge, Earthquake, Giga Impact, Blast Burn, Outrage, Overheat, Focus Blast, Hurricane, Hyper Beam, Flare Blitz, Solar Beam, Tera Blast, Roar, Heat Crash, Focus Punch, Weather Ball, Double-Edge, Temper Flare, Scorching Sands, Breaking Swipe, Dragon Cheer, Air Slash, Dragon Claw, Ember, Growl, Heat Wave, Scratch, Smokescreen, Dragon Breath, Fire Fang, Slash, Flamethrower, Scary Face, Fire Spin, Inferno, Flare Blitz, Air Slash, Air Cutter, Ancient Power, Beat Up, Belly Drum, Bite, Counter, Crunch, Dragon Dance, Dragon Rush, Dragon Tail, Flare Blitz, Metal Claw, Outrage, Wing Attack, Blast Burn, Focus Punch, Dragon Claw, Roar, Work Up, Sunny Day, Hyper Beam, Protect, Solar Beam, Iron Tail, Earthquake, Dig, Brick Break, Double Team, Flamethrower, Fire Blast, Rock Tomb, Aerial Ace, Facade, Rest, Attract, Steel Wing, Overheat, Roost, Focus Blast, False Swipe, Fling, Endure, Dragon Pulse, Will-O-Wisp, Shadow Claw, Giga Impact, Swords Dance, Rock Slide, Sleep Talk, Bulldoze, Swagger, Substitute, Cut, Fly, Strength, Rock Smash'\n",
      " 'Tackle, Tail Whip, Water Gun, Withdraw, Rapid Spin, Bite, Water Pulse, Protect, Rain Dance, Aqua Tail, Shell Smash, Iron Defense, Hydro Pump, Wave Crash, Aqua Jet, Aqua Ring, Fake Out, Flail, Life Dew, Mirror Coat, Mist, Water Spout, Yawn, Take Down, Protect, Water Pulse, Chilling Water, Facade, Icy Wind, Mud Shot, Fling, Endure, Rain Dance, Dig, Brick Break, Zen Headbutt, Body Slam, Ice Punch, Sleep Talk, Rest, Substitute, Iron Defense, Liquidation, Surf, Ice Spinner, Helping Hand, Ice Beam, Hydro Pump, Blizzard, Water Pledge, Tera Blast, Haze, Gyro Ball, Focus Punch, Weather Ball, Flip Turn, Double-Edge, Whirlpool, Muddy Water, Tackle, Tail Whip, Water Gun, Withdraw, Rapid Spin, Bite, Water Pulse, Protect, Rain Dance, Aqua Tail, Shell Smash, Iron Defense, Hydro Pump, Skull Bash, Aqua Jet, Aqua Ring, Aura Sphere, Fake Out, Flail, Haze, Life Dew, Mirror Coat, Mist, Muddy Water, Water Spout, Yawn, Focus Punch, Water Pulse, Hail, Work Up, Ice Beam, Blizzard, Protect, Rain Dance, Iron Tail, Dig, Brick Break, Double Team, Rock Tomb, Facade, Rest, Attract, Scald, False Swipe, Brine, Fling, Endure, Dragon Pulse, Gyro Ball, Sleep Talk, Swagger, Substitute, Surf, Strength, Rock Smash, Waterfall'\n",
      " 'Tackle, Tail Whip, Water Gun, Withdraw, Rapid Spin, Bite, Water Pulse, Protect, Rain Dance, Aqua Tail, Shell Smash, Iron Defense, Hydro Pump, Wave Crash, Take Down, Protect, Water Pulse, Chilling Water, Facade, Icy Wind, Mud Shot, Fling, Endure, Rain Dance, Dig, Brick Break, Zen Headbutt, Body Slam, Ice Punch, Sleep Talk, Rest, Substitute, Iron Defense, Liquidation, Surf, Ice Spinner, Helping Hand, Ice Beam, Hydro Pump, Blizzard, Water Pledge, Tera Blast, Haze, Gyro Ball, Focus Punch, Weather Ball, Flip Turn, Double-Edge, Whirlpool, Muddy Water, Tackle, Tail Whip, Water Gun, Withdraw, Rapid Spin, Bite, Water Pulse, Protect, Rain Dance, Aqua Tail, Shell Smash, Iron Defense, Hydro Pump, Skull Bash, Aqua Jet, Aqua Ring, Aura Sphere, Fake Out, Flail, Haze, Life Dew, Mirror Coat, Mist, Muddy Water, Water Spout, Yawn, Focus Punch, Water Pulse, Hail, Work Up, Ice Beam, Blizzard, Protect, Rain Dance, Iron Tail, Dig, Brick Break, Double Team, Rock Tomb, Facade, Rest, Attract, Scald, False Swipe, Brine, Fling, Endure, Dragon Pulse, Gyro Ball, Sleep Talk, Swagger, Substitute, Surf, Strength, Rock Smash, Waterfall'\n",
      " 'Tackle, Tail Whip, Water Gun, Withdraw, Rapid Spin, Bite, Water Pulse, Protect, Rain Dance, Aqua Tail, Shell Smash, Iron Defense, Hydro Pump, Wave Crash, Flash Cannon, Take Down, Scary Face, Protect, Water Pulse, Chilling Water, Facade, Icy Wind, Mud Shot, Rock Tomb, Fling, Avalanche, Endure, Rain Dance, Dig, Brick Break, Zen Headbutt, Body Slam, Ice Punch, Sleep Talk, Rest, Rock Slide, Body Press, Flash Cannon, Dark Pulse, Substitute, Iron Defense, Crunch, Liquidation, Aura Sphere, Dragon Pulse, Surf, Ice Spinner, Helping Hand, Ice Beam, Hydro Pump, Blizzard, Water Pledge, Earthquake, Giga Impact, Hydro Cannon, Focus Blast, Hyper Beam, Tera Blast, Roar, Haze, Smack Down, Gyro Ball, Focus Punch, Weather Ball, Flip Turn, Double-Edge, Whirlpool, Muddy Water, Flash Cannon, Tackle, Tail Whip, Water Gun, Withdraw, Rapid Spin, Bite, Water Pulse, Protect, Rain Dance, Aqua Tail, Shell Smash, Iron Defense, Hydro Pump, Skull Bash, Flash Cannon, Aqua Jet, Aqua Ring, Aura Sphere, Fake Out, Flail, Haze, Life Dew, Mirror Coat, Mist, Muddy Water, Water Spout, Yawn, Hydro Cannon, Focus Punch, Water Pulse, Roar, Hail, Work Up, Ice Beam, Blizzard, Hyper Beam, Protect, Rain Dance, Iron Tail, Earthquake, Dig, Brick Break, Double Team, Rock Tomb, Facade, Rest, Attract, Scald, Focus Blast, False Swipe, Brine, Fling, Endure, Dragon Pulse, Giga Impact, Avalanche, Gyro Ball, Dark Pulse, Rock Slide, Sleep Talk, Bulldoze, Swagger, Substitute, Flash Cannon, Surf, Strength, Rock Smash, Waterfall, Rock Climb'\n",
      " 'String Shot, Tackle, Bug Bite, String Shot, Tackle, Bug Bite, Electroweb'\n",
      " 'Harden, Harden, Harden, Harden, Electroweb, Iron Defense'\n",
      " 'Bug Bite, Gust, Harden, String Shot, Tackle, Supersonic, Confusion, Poison Powder, Sleep Powder, Stun Spore, Psybeam, Whirlwind, Air Slash, Safeguard, Bug Buzz, Tailwind, Rage Powder, Quiver Dance, Gust, Sunny Day, Hyper Beam, Protect, Rain Dance, Giga Drain, Safeguard, Solar Beam, Psychic, Shadow Ball, Double Team, Aerial Ace, Facade, Rest, Attract, Thief, Skill Swap, Roost, Energy Ball, Endure, Bug Buzz, Giga Impact, Flash, Psych Up, Sleep Talk, Dream Eater, Swagger, U-turn, Substitute, Defog, Bug Bite, Gust, Harden, String Shot, Tackle, Supersonic, Confusion, Poison Powder, Sleep Powder, Stun Spore, Psybeam, Whirlwind, Air Slash, Safeguard, Bug Buzz, Tailwind, Rage Powder, Quiver Dance, Gust, Dual Wingbeat, Hyper Beam, Giga Impact, Solar Beam, Safeguard, Rest, Thief, Snore, Protect, Giga Drain, Attract, Rain Dance, Sunny Day, Facade, Swift, U-turn, Venoshock, Round, Acrobatics, Electroweb, Draining Kiss, Air Slash, Psychic, Substitute, Endure, Sleep Talk, Baton Pass, Shadow Ball, Skill Swap, Iron Defense, Bug Buzz, Energy Ball, Hurricane, Pollen Puff'\n",
      " 'Poison Sting, String Shot, Bug Bite, Poison Sting, String Shot'\n",
      " 'Harden, Harden, Harden, Harden'\n",
      " 'Bug Bite, Fury Attack, Harden, Poison Sting, String Shot, Fury Cutter, Laser Focus, Poison Sting, Focus Energy, Venoshock, Assurance, Toxic Spikes, Pin Missile, Poison Jab, Agility, Endeavor, Fell Stinger, Fury Attack, Sunny Day, Hyper Beam, Protect, Giga Drain, Solar Beam, Brick Break, Double Team, Sludge Bomb, Aerial Ace, Facade, Rest, Attract, Thief, Roost, False Swipe, Endure, Payback, Giga Impact, Flash, Swords Dance, X-Scissor, Sleep Talk, Poison Jab, Swagger, U-turn, Substitute, Cut, Defog, Rock Smash, Peck, Twineedle, Rage, Fury Attack, Focus Energy, Poison Jab, Agility, Pin Missile, Outrage, Twineedle, Headbutt, Rest, Protect, Substitute, Reflect, Facade, Brick Break, U-turn, X-Scissor, Poison Jab, Toxic, Outrage, Solar Beam, Hyper Beam, Roost, Sludge Bomb, Mega Drain, Drill Run'\n",
      " 'Tackle, Sand Attack, Gust, Quick Attack, Whirlwind, Twister, Feather Dance, Agility, Wing Attack, Roost, Tailwind, Aerial Ace, Air Slash, Hurricane, Air Cutter, Air Slash, Brave Bird, Uproar, Work Up, Sunny Day, Protect, Rain Dance, Double Team, Aerial Ace, Facade, Rest, Attract, Thief, Steel Wing, Roost, Endure, Sleep Talk, Swagger, Pluck, U-turn, Substitute, Fly, Defog, Tackle, Sand Attack, Gust, Mirror Move, Quick Attack, Wing Attack, Roost, Whirlwind, Agility, Air Slash, Razor Wind, Headbutt, Rest, Protect, Substitute, Reflect, Facade, Fly, U-turn, Toxic, Roost'\n",
      " 'Gust, Sand Attack, Tackle, Sand Attack, Gust, Quick Attack, Whirlwind, Twister, Feather Dance, Agility, Wing Attack, Roost, Tailwind, Aerial Ace, Air Slash, Hurricane, Air Cutter, Air Slash, Brave Bird, Uproar, Work Up, Sunny Day, Protect, Rain Dance, Double Team, Aerial Ace, Facade, Rest, Attract, Thief, Steel Wing, Roost, Endure, Sleep Talk, Swagger, Pluck, U-turn, Substitute, Fly, Defog, Gust, Quick Attack, Sand Attack, Tackle, Sand Attack, Gust, Quick Attack, Mirror Move, Wing Attack, Roost, Whirlwind, Agility, Air Slash, Razor Wind, Headbutt, Rest, Protect, Substitute, Reflect, Facade, Fly, U-turn, Toxic, Roost'\n",
      " 'Gust, Hurricane, Quick Attack, Sand Attack, Tackle, Sand Attack, Gust, Quick Attack, Whirlwind, Twister, Feather Dance, Agility, Wing Attack, Roost, Tailwind, Aerial Ace, Air Slash, Hurricane, Air Cutter, Air Slash, Brave Bird, Uproar, Work Up, Sunny Day, Hyper Beam, Protect, Rain Dance, Double Team, Aerial Ace, Facade, Rest, Attract, Thief, Steel Wing, Roost, Endure, Giga Impact, Sleep Talk, Swagger, Pluck, U-turn, Substitute, Fly, Defog, Gust, Heat Wave, Quick Attack, Sand Attack, Sky Attack, Tackle, Sand Attack, Gust, Quick Attack, Mirror Move, Wing Attack, Roost, Whirlwind, Agility, Air Slash, Razor Wind, Headbutt, Rest, Protect, Substitute, Reflect, Facade, Fly, U-turn, Toxic, Hyper Beam, Roost'\n",
      " 'Tackle, Tail Whip, Quick Attack, Focus Energy, Bite, Laser Focus, Take Down, Assurance, Crunch, Sucker Punch, Super Fang, Double-Edge, Endeavor, Bite, Counter, Final Gambit, Flame Wheel, Fury Swipes, Last Resort, Revenge, Reversal, Screech, Uproar, Work Up, Sunny Day, Taunt, Ice Beam, Blizzard, Protect, Rain Dance, Iron Tail, Thunderbolt, Thunder, Dig, Shadow Ball, Double Team, Shock Wave, Sludge Bomb, Facade, Rest, Attract, Thief, Charge Beam, Endure, Thunder Wave, Sleep Talk, Grass Knot, Swagger, Pluck, Substitute, Cut, Rock Smash, Tackle, Tail Whip, Quick Attack, Focus Energy, Bite, Super Fang, Crunch, Hyper Fang, Sucker Punch, Double-Edge, Headbutt, Taunt, Rest, Protect, Substitute, Dig, Facade, Thunder Wave, U-turn, Iron Tail, Toxic, Thunderbolt, Thunder, Shadow Ball, Blizzard, Ice Beam, Headbutt, Taunt, Rest, Protect, Substitute, Dig, Facade, U-turn, Iron Tail, Dark Pulse, Toxic, Shadow Ball, Blizzard, Sludge Bomb, Ice Beam'\n",
      " 'Focus Energy, Quick Attack, Scary Face, Swords Dance, Tackle, Tail Whip, Quick Attack, Focus Energy, Bite, Laser Focus, Take Down, Assurance, Crunch, Sucker Punch, Super Fang, Double-Edge, Endeavor, Scary Face, Bite, Counter, Final Gambit, Flame Wheel, Fury Swipes, Last Resort, Revenge, Reversal, Screech, Uproar, Roar, Work Up, Sunny Day, Taunt, Ice Beam, Blizzard, Hyper Beam, Protect, Rain Dance, Iron Tail, Thunderbolt, Thunder, Dig, Shadow Ball, Double Team, Shock Wave, Sludge Bomb, Facade, Rest, Attract, Thief, Charge Beam, Endure, Giga Impact, Thunder Wave, Swords Dance, Sleep Talk, Grass Knot, Swagger, Pluck, Substitute, Cut, Strength, Rock Smash, Counter, Focus Energy, Fury Swipes, Quick Attack, Swords Dance, Tackle, Tail Whip, Tail Whip, Quick Attack, Focus Energy, Bite, Super Fang, Crunch, Hyper Fang, Sucker Punch, Double-Edge, Headbutt, Taunt, Rest, Protect, Substitute, Dig, Facade, Thunder Wave, U-turn, Iron Tail, Toxic, Thunderbolt, Thunder, Shadow Ball, Hyper Beam, Blizzard, Ice Beam, Headbutt, Taunt, Rest, Protect, Substitute, Dig, Facade, U-turn, Iron Tail, Dark Pulse, Toxic, Bulk Up, Shadow Ball, Hyper Beam, Blizzard, Sludge Bomb, Ice Beam'\n",
      " 'Growl, Peck, Leer, Assurance, Fury Attack, Aerial Ace, Wing Attack, Take Down, Agility, Focus Energy, Roost, Drill Peck, Astonish, Feather Dance, Quick Attack, Scary Face, Sky Attack, Tri Attack, Uproar, Whirlwind, Work Up, Sunny Day, Protect, Rain Dance, Double Team, Aerial Ace, Facade, Rest, Attract, Thief, Steel Wing, Roost, False Swipe, Endure, Sleep Talk, Swagger, Pluck, U-turn, Substitute, Fly, Defog, Peck, Growl, Leer, Focus Energy, Fury Attack, Mirror Move, Roost, Agility, Drill Peck, Headbutt, Rest, Protect, Substitute, Facade, Fly, U-turn, Toxic, Tri Attack, Roost, Drill Run'\n",
      " 'Drill Run, Growl, Leer, Peck, Pluck, Leer, Assurance, Fury Attack, Aerial Ace, Wing Attack, Take Down, Agility, Focus Energy, Roost, Drill Peck, Drill Run, Astonish, Feather Dance, Quick Attack, Scary Face, Sky Attack, Tri Attack, Uproar, Whirlwind, Work Up, Sunny Day, Hyper Beam, Protect, Rain Dance, Double Team, Aerial Ace, Facade, Rest, Attract, Thief, Steel Wing, Roost, False Swipe, Endure, Giga Impact, Sleep Talk, Swagger, Pluck, U-turn, Substitute, Fly, Defog, Drill Run, Focus Energy, Growl, Leer, Peck, Quick Attack, Sky Attack, Growl, Leer, Focus Energy, Fury Attack, Mirror Move, Roost, Agility, Drill Peck, Headbutt, Rest, Protect, Substitute, Facade, Fly, U-turn, Toxic, Tri Attack, Hyper Beam, Roost, Drill Run'\n",
      " 'Leer, Wrap, Poison Sting, Bite, Glare, Screech, Acid, Spit Up, Stockpile, Swallow, Acid Spray, Sludge Bomb, Gastro Acid, Belch, Haze, Coil, Gunk Shot, Poison Fang, Poison Tail, Scary Face, Spite, Sucker Punch, Switcheroo, Take Down, Mud-Slap, Scary Face, Protect, Fire Fang, Acid Spray, Thief, Trailblaze, Facade, Poison Tail, Snarl, Mud Shot, Rock Tomb, Venoshock, Endure, Sunny Day, Rain Dance, Dig, Psychic Fangs, Sleep Talk, Seed Bomb, Poison Jab, Rest, Rock Slide, Toxic Spikes, Dark Pulse, Leech Life, Gunk Shot, Substitute, Crunch, Giga Drain, Sludge Bomb, Earthquake, Tera Blast, Haze, Toxic, Spite, Knock Off, Lash Out, Scale Shot, Double-Edge, Sludge Wave, Skitter Smack, Leer, Wrap, Poison Sting, Bite, Glare, Screech, Acid, Spit Up, Stockpile, Swallow, Acid Spray, Sludge Bomb, Gastro Acid, Belch, Haze, Coil, Gunk Shot, Beat Up, Disable, Poison Fang, Poison Tail, Scary Face, Slam, Spite, Sucker Punch, Switcheroo, Sunny Day, Protect, Rain Dance, Giga Drain, Iron Tail, Earthquake, Dig, Double Team, Sludge Bomb, Rock Tomb, Torment, Facade, Rest, Attract, Thief, Endure, Payback, Dark Pulse, Rock Slide, Sleep Talk, Bulldoze, Poison Jab, Swagger, Substitute, Strength'\n",
      " 'Bite, Fire Fang, Ice Fang, Leer, Poison Sting, Thunder Fang, Wrap, Glare, Screech, Acid, Spit Up, Stockpile, Swallow, Acid Spray, Sludge Bomb, Gastro Acid, Belch, Haze, Coil, Gunk Shot, Crunch, Take Down, Mud-Slap, Scary Face, Protect, Fire Fang, Thunder Fang, Ice Fang, Acid Spray, Thief, Trailblaze, Facade, Poison Tail, Bulldoze, Snarl, Mud Shot, Rock Tomb, Dragon Tail, Venoshock, Endure, Sunny Day, Rain Dance, Dig, Psychic Fangs, Body Slam, Sleep Talk, Seed Bomb, Poison Jab, Stomping Tantrum, Rest, Rock Slide, Toxic Spikes, Dark Pulse, Leech Life, Gunk Shot, Substitute, Crunch, Giga Drain, Sludge Bomb, Earthquake, Giga Impact, Hyper Beam, Tera Blast, Haze, Toxic, Spite, Knock Off, Lash Out, Scale Shot, Pain Split, Double-Edge, Sludge Wave, Skitter Smack, Throat Chop, Breaking Swipe, Bite, Crunch, Fire Fang, Ice Fang, Leer, Poison Sting, Thunder Fang, Wrap, Poison Sting, Bite, Glare, Screech, Acid, Spit Up, Stockpile, Swallow, Acid Spray, Sludge Bomb, Gastro Acid, Belch, Haze, Coil, Gunk Shot, Crunch, Beat Up, Disable, Poison Fang, Poison Tail, Scary Face, Slam, Spite, Sucker Punch, Switcheroo, Sunny Day, Hyper Beam, Protect, Rain Dance, Giga Drain, Iron Tail, Earthquake, Dig, Double Team, Sludge Bomb, Rock Tomb, Torment, Facade, Rest, Attract, Thief, Endure, Payback, Giga Impact, Dark Pulse, Rock Slide, Sleep Talk, Bulldoze, Poison Jab, Swagger, Substitute, Strength'\n",
      " 'Charm, Growl, Nasty Plot, Nuzzle, Play Nice, Quick Attack, Sweet Kiss, Tail Whip, Thunder Shock, Thunder Wave, Double Team, Electro Ball, Feint, Spark, Agility, Iron Tail, Discharge, Thunderbolt, Light Screen, Thunder, Charge, Disarming Voice, Fake Out, Flail, Present, Tickle, Wish, Take Down, Charm, Fake Tears, Agility, Protect, Thief, Disarming Voice, Trailblaze, Charge Beam, Facade, Swift, Draining Kiss, Fling, Endure, Volt Switch, Rain Dance, Dig, Brick Break, Body Slam, Thunder Punch, Sleep Talk, Electro Ball, Reflect, Light Screen, Grass Knot, Thunder Wave, Rest, Eerie Impulse, Substitute, Encore, Surf, Thunderbolt, Play Rough, Helping Hand, Reversal, Electric Terrain, Nasty Plot, Wild Charge, Thunder, Tera Blast, Charge, Knock Off, Focus Punch, Endeavor, Electroweb, Alluring Voice, Upper Hand, Thunder Shock, Quick Attack, Thunder Wave, Swift, Spark, Thunderbolt, Iron Tail, Thunder, Baby-Doll Eyes, Calm Mind, Charge Beam, Iron Tail, Play Rough, Rest, Rock Smash, Swift, Thunder Punch, Thunderbolt, Volt Tackle, Wild Charge'\n",
      " 'Agility, Charm, Discharge, Double Team, Electro Ball, Feint, Growl, Iron Tail, Light Screen, Nasty Plot, Nuzzle, Play Nice, Quick Attack, Spark, Sweet Kiss, Tail Whip, Thunder, Thunder Shock, Thunder Wave, Thunderbolt, Thunder Punch, Psychic, Charge, Disarming Voice, Fake Out, Flail, Present, Tickle, Wish, Take Down, Charm, Fake Tears, Agility, Protect, Thief, Disarming Voice, Trailblaze, Charge Beam, Facade, Swift, Draining Kiss, Fling, Endure, Volt Switch, Rain Dance, Dig, Brick Break, Body Slam, Thunder Punch, Sleep Talk, Electro Ball, Reflect, Light Screen, Grass Knot, Thunder Wave, Rest, Eerie Impulse, Substitute, Encore, Surf, Thunderbolt, Play Rough, Helping Hand, Reversal, Electric Terrain, Nasty Plot, Wild Charge, Giga Impact, Focus Blast, Hyper Beam, Thunder, Tera Blast, Charge, Knock Off, Focus Punch, Endeavor, Electroweb, Alluring Voice, Upper Hand, Take Down, Charm, Fake Tears, Agility, Protect, Thief, Trailblaze, Charge Beam, Facade, Swift, Draining Kiss, Stored Power, Fling, Endure, Volt Switch, Rain Dance, Psyshock, Dig, Brick Break, Body Slam, Thunder Punch, Sleep Talk, Electro Ball, Reflect, Light Screen, Grass Knot, Thunder Wave, Rest, Eerie Impulse, Skill Swap, Substitute, Psychic, Encore, Surf, Thunderbolt, Play Rough, Calm Mind, Helping Hand, Reversal, Electric Terrain, Psychic Terrain, Nasty Plot, Wild Charge, Giga Impact, Focus Blast, Hyper Beam, Thunder, Tera Blast, Charge, Knock Off, Focus Punch, Endeavor, Electroweb, Expanding Force, Alluring Voice, Psychic Noise, Upper Hand, Thunder Shock, Quick Attack, Thunder Wave, Swift, Spark, Thunderbolt, Iron Tail, Thunder, Baby-Doll Eyes, Calm Mind, Charge Beam, Giga Impact, Hyper Beam, Iron Tail, Play Rough, Rest, Rock Smash, Swift, Thunder Punch, Thunderbolt, Volt Tackle, Wild Charge'\n",
      " 'Defense Curl, Scratch, Poison Sting, Sand Attack, Rollout, Fury Cutter, Rapid Spin, Bulldoze, Swift, Fury Swipes, Agility, Slash, Dig, Gyro Ball, Swords Dance, Sandstorm, Earthquake, Defense Curl, Scratch, Mist, Powder Snow, Rollout, Fury Cutter, Rapid Spin, Metal Claw, Swift, Fury Swipes, Iron Defense, Slash, Iron Head, Gyro Ball, Swords Dance, Snowscape, Blizzard, Counter, Flail, Hone Claws, Metal Claw, Mud-Slap, Night Slash, Counter, Crush Claw, Curse, Flail, Hone Claws, Ice Shard, Mirror Coat, Night Slash, Take Down, Agility, Mud-Slap, Protect, Low Kick, Thief, Facade, Aerial Ace, Bulldoze, Metal Claw, Swift, Mud Shot, Rock Tomb, Fling, Endure, Sunny Day, Sandstorm, Dig, False Swipe, Brick Break, Shadow Claw, Body Slam, Sleep Talk, Poison Jab, Stomping Tantrum, Rest, Rock Slide, Swords Dance, Spikes, Leech Life, Substitute, X-Scissor, Stealth Rock, Amnesia, Earth Power, Earthquake, Stone Edge, Tera Blast, Sand Tomb, Smack Down, Gyro Ball, Knock Off, Super Fang, High Horsepower, Focus Punch, Double-Edge, Endeavor, Scorching Sands, Throat Chop, Curse, Take Down, Protect, Low Kick, Thief, Facade, Aerial Ace, Bulldoze, Metal Claw, Swift, Icy Wind, Rock Tomb, Fling, Avalanche, Endure, Snowscape, Dig, Brick Break, Shadow Claw, Body Slam, Ice Punch, Sleep Talk, Poison Jab, Rest, Rock Slide, Swords Dance, Flash Cannon, Leech Life, Iron Head, Substitute, Iron Defense, X-Scissor, Stealth Rock, Ice Spinner, Amnesia, Ice Beam, Blizzard, Earthquake, Steel Beam, Tera Blast, Gyro Ball, Knock Off, Super Fang, Icicle Spear, Focus Punch, Double-Edge, Endeavor, Triple Axel, Throat Chop, Curse, Defense Curl, Scratch, Poison Sting, Sand Attack, Rollout, Fury Cutter, Rapid Spin, Bulldoze, Swift, Fury Swipes, Agility, Slash, Dig, Gyro Ball, Swords Dance, Sandstorm, Earthquake, Counter, Crush Claw, Flail, Hone Claws, Metal Claw, Mud Shot, Mud-Slap, Night Slash, Rapid Spin, Focus Punch, Work Up, Sunny Day, Protect, Safeguard, Iron Tail, Earthquake, Dig, Brick Break, Double Team, Sandstorm, Rock Tomb, Aerial Ace, Facade, Rest, Attract, Thief, Fling, Endure, Shadow Claw, Gyro Ball, Swords Dance, Stealth Rock, Rock Slide, X-Scissor, Sleep Talk, Bulldoze, Poison Jab, Swagger, Substitute, Cut, Strength, Rock Smash, Rock Climb'\n",
      " 'Crush Claw, Defense Curl, Poison Sting, Sand Attack, Scratch, Rollout, Fury Cutter, Rapid Spin, Bulldoze, Swift, Fury Swipes, Sand Tomb, Slash, Dig, Gyro Ball, Swords Dance, Sandstorm, Earthquake, Icicle Crash, Metal Claw, Slash, Swords Dance, Icicle Spear, Blizzard, Defense Curl, Fury Cutter, Fury Swipes, Gyro Ball, Iron Defense, Iron Head, Metal Burst, Mist, Powder Snow, Rapid Spin, Rollout, Scratch, Snowscape, Swift, Take Down, Agility, Mud-Slap, Protect, Low Kick, Thief, Facade, Aerial Ace, Bulldoze, Metal Claw, Swift, Mud Shot, Rock Tomb, Fling, Endure, Sunny Day, Sandstorm, Dig, False Swipe, Brick Break, Shadow Claw, Body Slam, Sleep Talk, Poison Jab, Stomping Tantrum, Rest, Rock Slide, Swords Dance, Spikes, Leech Life, Gunk Shot, Substitute, X-Scissor, Drill Run, Stealth Rock, Amnesia, Earth Power, Earthquake, Stone Edge, Giga Impact, Focus Blast, Hyper Beam, Tera Blast, Sand Tomb, Smack Down, Gyro Ball, Knock Off, Super Fang, High Horsepower, Focus Punch, Double-Edge, Endeavor, Scorching Sands, Throat Chop, Curse, Take Down, Agility, Protect, Low Kick, Thief, Facade, Aerial Ace, Bulldoze, Metal Claw, Swift, Icy Wind, Rock Tomb, Fling, Avalanche, Endure, Snowscape, Dig, False Swipe, Brick Break, Shadow Claw, Body Slam, Ice Punch, Sleep Talk, Poison Jab, Rest, Rock Slide, Swords Dance, Spikes, Flash Cannon, Leech Life, Iron Head, Substitute, Iron Defense, X-Scissor, Drill Run, Stealth Rock, Ice Spinner, Amnesia, Ice Beam, Blizzard, Earthquake, Giga Impact, Focus Blast, Hyper Beam, Steel Beam, Tera Blast, Gyro Ball, Knock Off, Super Fang, Icicle Spear, Focus Punch, Double-Edge, Endeavor, Triple Axel, Throat Chop, Curse, Agility, Crush Claw, Defense Curl, Poison Sting, Sand Attack, Scratch, Rollout, Fury Cutter, Rapid Spin, Bulldoze, Swift, Fury Swipes, Sand Tomb, Slash, Dig, Gyro Ball, Swords Dance, Sandstorm, Earthquake, Counter, Crush Claw, Flail, Hone Claws, Metal Claw, Mud Shot, Mud-Slap, Night Slash, Rapid Spin, Focus Punch, Work Up, Sunny Day, Hyper Beam, Protect, Safeguard, Iron Tail, Earthquake, Dig, Brick Break, Double Team, Sandstorm, Rock Tomb, Aerial Ace, Facade, Rest, Attract, Thief, Focus Blast, Fling, Endure, Shadow Claw, Giga Impact, Stone Edge, Gyro Ball, Swords Dance, Stealth Rock, Rock Slide, X-Scissor, Sleep Talk, Bulldoze, Poison Jab, Swagger, Substitute, Cut, Strength, Rock Smash, Rock Climb'\n",
      " 'Growl, Poison Sting, Scratch, Tail Whip, Fury Swipes, Toxic Spikes, Double Kick, Bite, Helping Hand, Toxic, Flatter, Crunch, Earth Power, Beat Up, Charm, Counter, Disable, Focus Energy, Poison Fang, Poison Tail, Skull Bash, Supersonic, Take Down, Venom Drench, Water Pulse, Toxic, Sunny Day, Ice Beam, Blizzard, Protect, Rain Dance, Iron Tail, Thunderbolt, Thunder, Dig, Double Team, Shock Wave, Sludge Bomb, Aerial Ace, Facade, Rest, Attract, Thief, Endure, Shadow Claw, Sleep Talk, Poison Jab, Swagger, Substitute, Cut, Strength, Rock Smash, Growl, Poison Sting, Scratch, Tail Whip, Fury Swipes, Toxic Spikes, Double Kick, Bite, Helping Hand, Toxic, Flatter, Crunch, Earth Power, Counter, Disable, Poison Fang, Poison Tail, Skull Bash, Supersonic, Take Down, Dig, Rest, Thief, Snore, Protect, Charm, Attract, Rain Dance, Sunny Day, Beat Up, Facade, Helping Hand, Shadow Claw, Venoshock, Round, Body Slam, Ice Beam, Blizzard, Thunderbolt, Thunder, Focus Energy, Substitute, Sludge Bomb, Endure, Sleep Talk, Iron Tail, Crunch, Toxic Spikes, Poison Jab, Earth Power, Venom Drench'\n",
      " 'Growl, Poison Sting, Scratch, Tail Whip, Fury Swipes, Toxic Spikes, Double Kick, Bite, Helping Hand, Toxic, Flatter, Crunch, Earth Power, Beat Up, Charm, Counter, Disable, Focus Energy, Poison Fang, Poison Tail, Skull Bash, Supersonic, Take Down, Venom Drench, Water Pulse, Toxic, Sunny Day, Ice Beam, Blizzard, Protect, Rain Dance, Iron Tail, Thunderbolt, Thunder, Dig, Double Team, Shock Wave, Sludge Bomb, Aerial Ace, Facade, Rest, Attract, Thief, Endure, Shadow Claw, Sleep Talk, Poison Jab, Swagger, Substitute, Cut, Strength, Rock Smash, Growl, Poison Sting, Scratch, Tail Whip, Fury Swipes, Toxic Spikes, Double Kick, Bite, Helping Hand, Toxic, Flatter, Crunch, Earth Power, Dig, Rest, Thief, Snore, Protect, Charm, Attract, Rain Dance, Sunny Day, Beat Up, Facade, Helping Hand, Shadow Claw, Venoshock, Round, Stomping Tantrum, Body Slam, Ice Beam, Blizzard, Thunderbolt, Thunder, Focus Energy, Substitute, Sludge Bomb, Endure, Sleep Talk, Iron Tail, Crunch, Toxic Spikes, Poison Jab, Earth Power, Venom Drench'\n",
      " 'Bite, Crunch, Double Kick, Earth Power, Flatter, Fury Swipes, Growl, Helping Hand, Poison Sting, Scratch, Sludge Wave, Superpower, Tail Whip, Toxic, Toxic Spikes, Superpower, Beat Up, Charm, Counter, Disable, Focus Energy, Poison Fang, Poison Tail, Skull Bash, Supersonic, Take Down, Venom Drench, Focus Punch, Water Pulse, Roar, Toxic, Sunny Day, Taunt, Ice Beam, Blizzard, Hyper Beam, Protect, Rain Dance, Iron Tail, Thunderbolt, Thunder, Earthquake, Dig, Shadow Ball, Brick Break, Double Team, Shock Wave, Flamethrower, Sludge Bomb, Sandstorm, Fire Blast, Rock Tomb, Aerial Ace, Torment, Facade, Rest, Attract, Thief, Focus Blast, Fling, Endure, Dragon Pulse, Shadow Claw, Giga Impact, Stone Edge, Avalanche, Stealth Rock, Rock Slide, Sleep Talk, Bulldoze, Poison Jab, Swagger, Substitute, Cut, Surf, Strength, Rock Smash, Rock Climb, Bite, Crunch, Double Kick, Earth Power, Flatter, Fury Swipes, Growl, Helping Hand, Poison Sting, Scratch, Superpower, Tail Whip, Toxic, Toxic Spikes, Superpower, Scorching Sands, Mega Punch, Mega Kick, Pay Day, Fire Punch, Ice Punch, Thunder Punch, Hyper Beam, Giga Impact, Dig, Rest, Rock Slide, Thief, Snore, Protect, Icy Wind, Charm, Attract, Sandstorm, Rain Dance, Sunny Day, Whirlpool, Beat Up, Facade, Helping Hand, Brick Break, Rock Tomb, Sand Tomb, Mud Shot, Rock Blast, Fling, Avalanche, Shadow Claw, Venoshock, Round, Hex, Bulldoze, Stomping Tantrum, Body Slam, Flamethrower, Surf, Ice Beam, Blizzard, Thunderbolt, Thunder, Earthquake, Focus Energy, Fire Blast, Substitute, Sludge Bomb, Outrage, Endure, Sleep Talk, Iron Tail, Crunch, Shadow Ball, Uproar, Taunt, Superpower, Toxic Spikes, Poison Jab, Dragon Pulse, Focus Blast, Earth Power, Stone Edge, Stealth Rock, Sludge Wave, Drill Run, Venom Drench, High Horsepower, Throat Chop, Body Press'\n",
      " 'Leer, Poison Sting, Peck, Focus Energy, Fury Attack, Toxic Spikes, Double Kick, Horn Attack, Helping Hand, Toxic, Flatter, Poison Jab, Earth Power, Amnesia, Beat Up, Confusion, Counter, Disable, Head Smash, Horn Drill, Poison Tail, Sucker Punch, Supersonic, Take Down, Thrash, Venom Drench, Water Pulse, Toxic, Sunny Day, Ice Beam, Blizzard, Protect, Rain Dance, Iron Tail, Thunderbolt, Thunder, Dig, Double Team, Shock Wave, Sludge Bomb, Facade, Rest, Attract, Thief, Endure, Shadow Claw, Sleep Talk, Poison Jab, Swagger, Substitute, Cut, Strength, Rock Smash, Leer, Poison Sting, Peck, Focus Energy, Fury Attack, Toxic Spikes, Double Kick, Horn Attack, Helping Hand, Toxic, Flatter, Poison Jab, Earth Power, Confusion, Counter, Disable, Head Smash, Horn Drill, Poison Tail, Sucker Punch, Supersonic, Take Down, Thrash, Dig, Rest, Thief, Snore, Protect, Attract, Rain Dance, Sunny Day, Beat Up, Facade, Helping Hand, Shadow Claw, Venoshock, Round, Smart Strike, Body Slam, Ice Beam, Blizzard, Thunderbolt, Thunder, Focus Energy, Amnesia, Substitute, Sludge Bomb, Endure, Sleep Talk, Iron Tail, Toxic Spikes, Poison Jab, Earth Power, Drill Run, Venom Drench'\n",
      " 'Focus Energy, Leer, Peck, Poison Sting, Fury Attack, Toxic Spikes, Double Kick, Horn Attack, Helping Hand, Toxic, Flatter, Poison Jab, Earth Power, Amnesia, Beat Up, Confusion, Counter, Disable, Head Smash, Horn Drill, Poison Tail, Sucker Punch, Supersonic, Take Down, Thrash, Venom Drench, Water Pulse, Toxic, Sunny Day, Ice Beam, Blizzard, Protect, Rain Dance, Iron Tail, Thunderbolt, Thunder, Dig, Double Team, Shock Wave, Sludge Bomb, Facade, Rest, Attract, Thief, Endure, Shadow Claw, Sleep Talk, Poison Jab, Swagger, Substitute, Cut, Strength, Rock Smash, Focus Energy, Leer, Peck, Poison Sting, Fury Attack, Toxic Spikes, Double Kick, Horn Attack, Helping Hand, Toxic, Flatter, Poison Jab, Earth Power, Dig, Rest, Thief, Snore, Protect, Attract, Rain Dance, Sunny Day, Beat Up, Facade, Helping Hand, Shadow Claw, Venoshock, Round, Smart Strike, Stomping Tantrum, Body Slam, Ice Beam, Blizzard, Thunderbolt, Thunder, Focus Energy, Amnesia, Substitute, Sludge Bomb, Endure, Sleep Talk, Iron Tail, Toxic Spikes, Poison Jab, Earth Power, Drill Run, Venom Drench'\n",
      " 'Double Kick, Earth Power, Flatter, Focus Energy, Fury Attack, Helping Hand, Horn Attack, Leer, Megahorn, Peck, Poison Jab, Poison Sting, Sludge Wave, Toxic, Toxic Spikes, Megahorn, Amnesia, Beat Up, Confusion, Counter, Disable, Head Smash, Horn Drill, Poison Tail, Sucker Punch, Supersonic, Take Down, Thrash, Venom Drench, Focus Punch, Water Pulse, Roar, Toxic, Sunny Day, Taunt, Ice Beam, Blizzard, Hyper Beam, Protect, Rain Dance, Iron Tail, Thunderbolt, Thunder, Earthquake, Dig, Shadow Ball, Brick Break, Double Team, Shock Wave, Flamethrower, Sludge Bomb, Sandstorm, Fire Blast, Rock Tomb, Torment, Facade, Rest, Attract, Thief, Focus Blast, Fling, Endure, Dragon Pulse, Shadow Claw, Giga Impact, Stone Edge, Avalanche, Stealth Rock, Rock Slide, Sleep Talk, Bulldoze, Poison Jab, Swagger, Substitute, Cut, Surf, Strength, Rock Smash, Rock Climb, Double Kick, Earth Power, Flatter, Focus Energy, Fury Attack, Helping Hand, Horn Attack, Leer, Megahorn, Peck, Poison Jab, Poison Sting, Toxic, Toxic Spikes, Megahorn, Scorching Sands, Mega Punch, Mega Kick, Pay Day, Fire Punch, Ice Punch, Thunder Punch, Hyper Beam, Giga Impact, Dig, Rest, Rock Slide, Thief, Snore, Protect, Icy Wind, Attract, Sandstorm, Rain Dance, Sunny Day, Whirlpool, Beat Up, Facade, Helping Hand, Brick Break, Rock Tomb, Sand Tomb, Mud Shot, Rock Blast, Fling, Avalanche, Shadow Claw, Venoshock, Round, Hex, Bulldoze, Smart Strike, Stomping Tantrum, Body Slam, Flamethrower, Surf, Ice Beam, Blizzard, Thunderbolt, Thunder, Earthquake, Focus Energy, Fire Blast, Amnesia, Substitute, Sludge Bomb, Outrage, Endure, Sleep Talk, Megahorn, Iron Tail, Shadow Ball, Uproar, Taunt, Superpower, Toxic Spikes, Poison Jab, Dragon Pulse, Focus Blast, Earth Power, Stone Edge, Stealth Rock, Sludge Wave, Drill Run, Venom Drench, High Horsepower, Throat Chop, Body Press'\n",
      " 'Charm, Copycat, Defense Curl, Disarming Voice, Growl, Pound, Sing, Splash, Sweet Kiss, Stored Power, Encore, After You, Life Dew, Metronome, Moonlight, Gravity, Meteor Mash, Follow Me, Cosmic Power, Moonblast, Healing Wish, Take Down, Charm, Fake Tears, Protect, Water Pulse, Psybeam, Thief, Disarming Voice, Chilling Water, Charge Beam, Facade, Swift, Magical Leaf, Icy Wind, Draining Kiss, Stored Power, Night Shade, Fling, Endure, Sunny Day, Rain Dance, Psyshock, Dig, Brick Break, Zen Headbutt, Body Slam, Fire Punch, Thunder Punch, Ice Punch, Sleep Talk, Drain Punch, Reflect, Light Screen, Dazzling Gleam, Metronome, Grass Knot, Thunder Wave, Rest, Imprison, Skill Swap, Substitute, Trick, Shadow Ball, Stealth Rock, Hyper Voice, Psychic, Encore, Flamethrower, Thunderbolt, Play Rough, Amnesia, Calm Mind, Helping Hand, Baton Pass, Ice Beam, Misty Terrain, Fire Blast, Blizzard, Thunder, Solar Beam, Tera Blast, Gravity, Knock Off, Uproar, Focus Punch, Dual Wingbeat, Misty Explosion, Psych Up, Double-Edge, Endeavor, Meteor Beam, Alluring Voice, Tackle, Fairy Wind, Baby-Doll Eyes, Draining Kiss, Calm Mind, Psychic, Moonblast, Double-Edge, Baby-Doll Eyes, Calm Mind, Charge Beam, Dazzling Gleam, Drain Punch, Fire Punch, Flamethrower, Ice Beam, Ice Punch, Icy Wind, Iron Tail, Magical Leaf, Mystical Fire, Play Rough, Psychic, Rest, Rock Smash, Shadow Ball, Stealth Rock, Swift, Thunder Punch, Thunderbolt, Tri Attack, Water Pulse, Zen Headbutt'\n",
      " 'Life Dew, Meteor Mash, Metronome, Moonblast, After You, Charm, Copycat, Cosmic Power, Defense Curl, Disarming Voice, Encore, Follow Me, Gravity, Growl, Healing Wish, Moonlight, Pound, Sing, Splash, Stored Power, Sweet Kiss, Take Down, Charm, Fake Tears, Protect, Water Pulse, Psybeam, Thief, Disarming Voice, Chilling Water, Charge Beam, Facade, Swift, Magical Leaf, Icy Wind, Draining Kiss, Stored Power, Night Shade, Fling, Endure, Sunny Day, Rain Dance, Psyshock, Dig, Brick Break, Zen Headbutt, Body Slam, Fire Punch, Thunder Punch, Ice Punch, Sleep Talk, Drain Punch, Reflect, Light Screen, Dazzling Gleam, Metronome, Grass Knot, Thunder Wave, Rest, Imprison, Skill Swap, Substitute, Trick, Shadow Ball, Stealth Rock, Hyper Voice, Psychic, Encore, Flamethrower, Thunderbolt, Play Rough, Amnesia, Calm Mind, Helping Hand, Baton Pass, Ice Beam, Misty Terrain, Fire Blast, Blizzard, Giga Impact, Focus Blast, Hyper Beam, Thunder, Solar Beam, Tera Blast, Gravity, Knock Off, Uproar, Focus Punch, Dual Wingbeat, Misty Explosion, Psych Up, Double-Edge, Endeavor, Future Sight, Meteor Beam, Alluring Voice, Tackle, Fairy Wind, Baby-Doll Eyes, Draining Kiss, Calm Mind, Psychic, Moonblast, Double-Edge, Baby-Doll Eyes, Calm Mind, Charge Beam, Dazzling Gleam, Drain Punch, Fire Punch, Flamethrower, Giga Impact, Hyper Beam, Ice Beam, Ice Punch, Icy Wind, Iron Tail, Magical Leaf, Mystical Fire, Play Rough, Psychic, Rest, Rock Smash, Shadow Ball, Stealth Rock, Swift, Thunder Punch, Thunderbolt, Tri Attack, Water Pulse, Zen Headbutt'\n",
      " 'Ember, Tail Whip, Disable, Quick Attack, Spite, Incinerate, Confuse Ray, Will-O-Wisp, Extrasensory, Flamethrower, Imprison, Fire Spin, Safeguard, Inferno, Fire Blast, Powder Snow, Tail Whip, Disable, Ice Shard, Spite, Icy Wind, Confuse Ray, Aurora Beam, Extrasensory, Ice Beam, Imprison, Mist, Aurora Veil, Freeze-Dry, Blizzard, Baby-Doll Eyes, Flail, Flame Charge, Healing Wish, Howl, Hypnosis, Memento, Roar, Baby-Doll Eyes, Flail, Howl, Hypnosis, Moonblast, Roar, Take Down, Charm, Agility, Protect, Confuse Ray, Fire Spin, Facade, Hex, Snarl, Swift, Flame Charge, Endure, Sunny Day, Dig, Zen Headbutt, Foul Play, Body Slam, Sleep Talk, Rest, Imprison, Dark Pulse, Substitute, Will-O-Wisp, Heat Wave, Energy Ball, Encore, Flamethrower, Helping Hand, Baton Pass, Nasty Plot, Fire Blast, Overheat, Flare Blitz, Tera Blast, Roar, Spite, Weather Ball, Burning Jealousy, Pain Split, Psych Up, Double-Edge, Take Down, Charm, Fake Tears, Agility, Protect, Confuse Ray, Disarming Voice, Chilling Water, Facade, Hex, Swift, Icy Wind, Draining Kiss, Stored Power, Endure, Rain Dance, Snowscape, Dig, Zen Headbutt, Foul Play, Body Slam, Sleep Talk, Dazzling Gleam, Rest, Imprison, Dark Pulse, Substitute, Encore, Play Rough, Helping Hand, Baton Pass, Ice Beam, Misty Terrain, Nasty Plot, Blizzard, Tera Blast, Roar, Spite, Icicle Spear, Weather Ball, Pain Split, Psych Up, Double-Edge, Ember, Quick Attack, Nasty Plot, Flame Wheel, Hex, Extrasensory, Flamethrower, Fire Blast, Powder Snow, Quick Attack, Nasty Plot, Draining Kiss, Ice Fang, Dazzling Gleam, Ice Beam, Blizzard, Baby-Doll Eyes, Dark Pulse, Energy Ball, Flamethrower, Iron Tail, Mystical Fire, Ominous Wind, Rest, Swift, Zen Headbutt, Baby-Doll Eyes, Dark Pulse, Dazzling Gleam, Energy Ball, Ice Beam, Ice Fang, Icy Wind, Iron Tail, Rest, Swift, Zen Headbutt']\n",
      "\n",
      "'primary_ability': ['Overgrow' 'Blaze' 'Torrent' 'Shield Dust' 'Shed Skin' 'Compound Eyes'\n",
      " 'Swarm' 'Keen Eye' 'Run Away' 'Intimidate' 'Static' 'Sand Veil'\n",
      " 'Poison Point' 'Cute Charm' 'Flash Fire']\n",
      "\n",
      "'secondary_ability': ['Chlorophyll' 'Solar Power' 'Rain Dish' 'Run Away' 'None' 'Tinted Lens'\n",
      " 'Sniper' 'Tangled Feet' 'Guts' 'Shed Skin' 'Lightning Rod' 'Sand Rush'\n",
      " 'Rivalry' 'Magic Guard' 'Drought']\n",
      "\n"
     ]
    }
   ],
   "source": [
    "print(\"Unique Values\")\n",
    "for column in categorical_columns:\n",
    "    unique_value = df[column].unique()\n",
    "    print(f\"'{column}': {unique_value}\\n\")"
   ]
  },
  {
   "cell_type": "code",
   "execution_count": null,
   "id": "15c90e15-bd74-4531-8d19-6ff1536e43d4",
   "metadata": {},
   "outputs": [],
   "source": []
  }
 ],
 "metadata": {
  "kernelspec": {
   "display_name": "Python 3 (ipykernel)",
   "language": "python",
   "name": "python3"
  },
  "language_info": {
   "codemirror_mode": {
    "name": "ipython",
    "version": 3
   },
   "file_extension": ".py",
   "mimetype": "text/x-python",
   "name": "python",
   "nbconvert_exporter": "python",
   "pygments_lexer": "ipython3",
   "version": "3.8.19"
  }
 },
 "nbformat": 4,
 "nbformat_minor": 5
}
