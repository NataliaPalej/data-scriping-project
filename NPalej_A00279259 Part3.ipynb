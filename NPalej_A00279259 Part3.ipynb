{
 "cells": [
  {
   "cell_type": "markdown",
   "id": "b7dc6a8e-667f-4a09-91bd-0199f4a6b82f",
   "metadata": {},
   "source": [
    "# Natalia Palej A00279259\n",
    "Software Design with Artificial Intelligence for Cloud Computing \n",
    "Year 4"
   ]
  },
  {
   "cell_type": "markdown",
   "id": "4fdb0fcb-68a1-4c51-991c-989981222112",
   "metadata": {},
   "source": [
    "# Part 3: Analysis of Pokémon Distribution by Primary Type"
   ]
  },
  {
   "cell_type": "markdown",
   "id": "a718d543-808b-4b16-a7ea-2f5cfeb46c40",
   "metadata": {},
   "source": [
    "## Make Necessary Imports"
   ]
  },
  {
   "cell_type": "code",
   "execution_count": 11,
   "id": "d4fa7afa-2e40-4d3f-9577-3daf236987fb",
   "metadata": {},
   "outputs": [],
   "source": [
    "import pandas as pd \n",
    "import numpy as np\n",
    "import plotly.graph_objects as go"
   ]
  },
  {
   "cell_type": "markdown",
   "id": "d92eee3d-3b19-41bc-a318-c0049a4c1a3c",
   "metadata": {},
   "source": [
    "## Load Cleaned Pokemon Dataset "
   ]
  },
  {
   "cell_type": "code",
   "execution_count": 12,
   "id": "ed9c2269-db5c-4e42-a8cd-10306f708efe",
   "metadata": {},
   "outputs": [],
   "source": [
    "df = pd.read_pickle('data/final_cleaned_pokemon_data.pkl')"
   ]
  },
  {
   "cell_type": "code",
   "execution_count": 13,
   "id": "864181df-78fd-423e-bce5-40edb16d87f5",
   "metadata": {},
   "outputs": [
    {
     "data": {
      "text/html": [
       "<div>\n",
       "<style scoped>\n",
       "    .dataframe tbody tr th:only-of-type {\n",
       "        vertical-align: middle;\n",
       "    }\n",
       "\n",
       "    .dataframe tbody tr th {\n",
       "        vertical-align: top;\n",
       "    }\n",
       "\n",
       "    .dataframe thead th {\n",
       "        text-align: right;\n",
       "    }\n",
       "</style>\n",
       "<table border=\"1\" class=\"dataframe\">\n",
       "  <thead>\n",
       "    <tr style=\"text-align: right;\">\n",
       "      <th></th>\n",
       "      <th>name</th>\n",
       "      <th>national_no</th>\n",
       "      <th>species</th>\n",
       "      <th>ev_yield</th>\n",
       "      <th>catch_rate</th>\n",
       "      <th>base_friendship</th>\n",
       "      <th>base_exp</th>\n",
       "      <th>growth_rate</th>\n",
       "      <th>egg_groups</th>\n",
       "      <th>egg_cycles</th>\n",
       "      <th>...</th>\n",
       "      <th>pokemon_img_url</th>\n",
       "      <th>height_m</th>\n",
       "      <th>weight_kg</th>\n",
       "      <th>primary_type</th>\n",
       "      <th>secondary_type</th>\n",
       "      <th>male_percentage</th>\n",
       "      <th>female_percentage</th>\n",
       "      <th>gen</th>\n",
       "      <th>primary_ability</th>\n",
       "      <th>secondary_ability</th>\n",
       "    </tr>\n",
       "  </thead>\n",
       "  <tbody>\n",
       "    <tr>\n",
       "      <th>0</th>\n",
       "      <td>bulbasaur</td>\n",
       "      <td>1</td>\n",
       "      <td>Seed Pokémon</td>\n",
       "      <td>1 Sp. Atk</td>\n",
       "      <td>45.0</td>\n",
       "      <td>50.0</td>\n",
       "      <td>64</td>\n",
       "      <td>Medium Slow</td>\n",
       "      <td>Grass, Monster</td>\n",
       "      <td>20</td>\n",
       "      <td>...</td>\n",
       "      <td>https://img.pokemondb.net/artwork/bulbasaur.jpg</td>\n",
       "      <td>0.7</td>\n",
       "      <td>6.9</td>\n",
       "      <td>grass</td>\n",
       "      <td>poison</td>\n",
       "      <td>87.5</td>\n",
       "      <td>12.5</td>\n",
       "      <td>1</td>\n",
       "      <td>Overgrow</td>\n",
       "      <td>Chlorophyll</td>\n",
       "    </tr>\n",
       "    <tr>\n",
       "      <th>1</th>\n",
       "      <td>ivysaur</td>\n",
       "      <td>2</td>\n",
       "      <td>Seed Pokémon</td>\n",
       "      <td>1 Sp. Atk, 1 Sp. Def</td>\n",
       "      <td>45.0</td>\n",
       "      <td>50.0</td>\n",
       "      <td>142</td>\n",
       "      <td>Medium Slow</td>\n",
       "      <td>Grass, Monster</td>\n",
       "      <td>20</td>\n",
       "      <td>...</td>\n",
       "      <td>https://img.pokemondb.net/artwork/ivysaur.jpg</td>\n",
       "      <td>1.0</td>\n",
       "      <td>13.0</td>\n",
       "      <td>grass</td>\n",
       "      <td>poison</td>\n",
       "      <td>87.5</td>\n",
       "      <td>12.5</td>\n",
       "      <td>1</td>\n",
       "      <td>Overgrow</td>\n",
       "      <td>Chlorophyll</td>\n",
       "    </tr>\n",
       "    <tr>\n",
       "      <th>2</th>\n",
       "      <td>venusaur</td>\n",
       "      <td>3</td>\n",
       "      <td>Seed Pokémon</td>\n",
       "      <td>2 Sp. Atk, 1 Sp. Def</td>\n",
       "      <td>45.0</td>\n",
       "      <td>50.0</td>\n",
       "      <td>236</td>\n",
       "      <td>Medium Slow</td>\n",
       "      <td>Grass, Monster</td>\n",
       "      <td>20</td>\n",
       "      <td>...</td>\n",
       "      <td>https://img.pokemondb.net/artwork/venusaur.jpg</td>\n",
       "      <td>2.0</td>\n",
       "      <td>100.0</td>\n",
       "      <td>grass</td>\n",
       "      <td>poison</td>\n",
       "      <td>87.5</td>\n",
       "      <td>12.5</td>\n",
       "      <td>1</td>\n",
       "      <td>Overgrow</td>\n",
       "      <td>Chlorophyll</td>\n",
       "    </tr>\n",
       "    <tr>\n",
       "      <th>3</th>\n",
       "      <td>charmander</td>\n",
       "      <td>4</td>\n",
       "      <td>Lizard Pokémon</td>\n",
       "      <td>1 Speed</td>\n",
       "      <td>45.0</td>\n",
       "      <td>50.0</td>\n",
       "      <td>62</td>\n",
       "      <td>Medium Slow</td>\n",
       "      <td>Dragon, Monster</td>\n",
       "      <td>20</td>\n",
       "      <td>...</td>\n",
       "      <td>https://img.pokemondb.net/artwork/charmander.jpg</td>\n",
       "      <td>0.6</td>\n",
       "      <td>8.5</td>\n",
       "      <td>fire</td>\n",
       "      <td>Pure</td>\n",
       "      <td>87.5</td>\n",
       "      <td>12.5</td>\n",
       "      <td>1</td>\n",
       "      <td>Blaze</td>\n",
       "      <td>Solar Power</td>\n",
       "    </tr>\n",
       "    <tr>\n",
       "      <th>4</th>\n",
       "      <td>charmeleon</td>\n",
       "      <td>5</td>\n",
       "      <td>Flame Pokémon</td>\n",
       "      <td>1 Sp. Atk, 1 Speed</td>\n",
       "      <td>45.0</td>\n",
       "      <td>50.0</td>\n",
       "      <td>142</td>\n",
       "      <td>Medium Slow</td>\n",
       "      <td>Dragon, Monster</td>\n",
       "      <td>20</td>\n",
       "      <td>...</td>\n",
       "      <td>https://img.pokemondb.net/artwork/charmeleon.jpg</td>\n",
       "      <td>1.1</td>\n",
       "      <td>19.0</td>\n",
       "      <td>fire</td>\n",
       "      <td>Pure</td>\n",
       "      <td>87.5</td>\n",
       "      <td>12.5</td>\n",
       "      <td>1</td>\n",
       "      <td>Blaze</td>\n",
       "      <td>Solar Power</td>\n",
       "    </tr>\n",
       "  </tbody>\n",
       "</table>\n",
       "<p>5 rows × 28 columns</p>\n",
       "</div>"
      ],
      "text/plain": [
       "         name  national_no         species              ev_yield  catch_rate  \\\n",
       "0   bulbasaur            1    Seed Pokémon             1 Sp. Atk        45.0   \n",
       "1     ivysaur            2    Seed Pokémon  1 Sp. Atk, 1 Sp. Def        45.0   \n",
       "2    venusaur            3    Seed Pokémon  2 Sp. Atk, 1 Sp. Def        45.0   \n",
       "3  charmander            4  Lizard Pokémon               1 Speed        45.0   \n",
       "4  charmeleon            5   Flame Pokémon    1 Sp. Atk, 1 Speed        45.0   \n",
       "\n",
       "   base_friendship  base_exp  growth_rate       egg_groups  egg_cycles  ...  \\\n",
       "0             50.0        64  Medium Slow   Grass, Monster          20  ...   \n",
       "1             50.0       142  Medium Slow   Grass, Monster          20  ...   \n",
       "2             50.0       236  Medium Slow   Grass, Monster          20  ...   \n",
       "3             50.0        62  Medium Slow  Dragon, Monster          20  ...   \n",
       "4             50.0       142  Medium Slow  Dragon, Monster          20  ...   \n",
       "\n",
       "                                    pokemon_img_url  height_m  weight_kg  \\\n",
       "0   https://img.pokemondb.net/artwork/bulbasaur.jpg       0.7        6.9   \n",
       "1     https://img.pokemondb.net/artwork/ivysaur.jpg       1.0       13.0   \n",
       "2    https://img.pokemondb.net/artwork/venusaur.jpg       2.0      100.0   \n",
       "3  https://img.pokemondb.net/artwork/charmander.jpg       0.6        8.5   \n",
       "4  https://img.pokemondb.net/artwork/charmeleon.jpg       1.1       19.0   \n",
       "\n",
       "   primary_type  secondary_type  male_percentage  female_percentage gen  \\\n",
       "0         grass          poison             87.5               12.5   1   \n",
       "1         grass          poison             87.5               12.5   1   \n",
       "2         grass          poison             87.5               12.5   1   \n",
       "3          fire            Pure             87.5               12.5   1   \n",
       "4          fire            Pure             87.5               12.5   1   \n",
       "\n",
       "  primary_ability  secondary_ability  \n",
       "0        Overgrow        Chlorophyll  \n",
       "1        Overgrow        Chlorophyll  \n",
       "2        Overgrow        Chlorophyll  \n",
       "3           Blaze        Solar Power  \n",
       "4           Blaze        Solar Power  \n",
       "\n",
       "[5 rows x 28 columns]"
      ]
     },
     "execution_count": 13,
     "metadata": {},
     "output_type": "execute_result"
    }
   ],
   "source": [
    "df.head()"
   ]
  },
  {
   "cell_type": "code",
   "execution_count": 14,
   "id": "e32403b1-0ab1-4357-88da-431945844ea2",
   "metadata": {},
   "outputs": [
    {
     "data": {
      "text/plain": [
       "(76, 28)"
      ]
     },
     "execution_count": 14,
     "metadata": {},
     "output_type": "execute_result"
    }
   ],
   "source": [
    "df.shape"
   ]
  },
  {
   "cell_type": "code",
   "execution_count": 15,
   "id": "05b28155-2000-4c84-b5de-4d7ccbc8d2ac",
   "metadata": {},
   "outputs": [
    {
     "data": {
      "text/plain": [
       "Index(['name', 'national_no', 'species', 'ev_yield', 'catch_rate',\n",
       "       'base_friendship', 'base_exp', 'growth_rate', 'egg_groups',\n",
       "       'egg_cycles', 'hp', 'attack', 'defense', 'sp_atk', 'sp_def', 'speed',\n",
       "       'total', 'evo_path', 'pokemon_img_url', 'height_m', 'weight_kg',\n",
       "       'primary_type', 'secondary_type', 'male_percentage',\n",
       "       'female_percentage', 'gen', 'primary_ability', 'secondary_ability'],\n",
       "      dtype='object')"
      ]
     },
     "execution_count": 15,
     "metadata": {},
     "output_type": "execute_result"
    }
   ],
   "source": [
    "df.columns"
   ]
  },
  {
   "cell_type": "code",
   "execution_count": 16,
   "id": "29a98088-133c-4708-a25b-94b08603a332",
   "metadata": {},
   "outputs": [
    {
     "name": "stdout",
     "output_type": "stream",
     "text": [
      "<class 'pandas.core.frame.DataFrame'>\n",
      "RangeIndex: 76 entries, 0 to 75\n",
      "Data columns (total 28 columns):\n",
      " #   Column             Non-Null Count  Dtype   \n",
      "---  ------             --------------  -----   \n",
      " 0   name               76 non-null     object  \n",
      " 1   national_no        76 non-null     Int64   \n",
      " 2   species            76 non-null     object  \n",
      " 3   ev_yield           76 non-null     object  \n",
      " 4   catch_rate         76 non-null     float64 \n",
      " 5   base_friendship    76 non-null     float64 \n",
      " 6   base_exp           76 non-null     int32   \n",
      " 7   growth_rate        76 non-null     object  \n",
      " 8   egg_groups         76 non-null     object  \n",
      " 9   egg_cycles         76 non-null     int64   \n",
      " 10  hp                 76 non-null     Int64   \n",
      " 11  attack             76 non-null     Int64   \n",
      " 12  defense            76 non-null     Int64   \n",
      " 13  sp_atk             76 non-null     Int64   \n",
      " 14  sp_def             76 non-null     Int64   \n",
      " 15  speed              76 non-null     Int64   \n",
      " 16  total              76 non-null     Int64   \n",
      " 17  evo_path           76 non-null     object  \n",
      " 18  pokemon_img_url    76 non-null     object  \n",
      " 19  height_m           76 non-null     float64 \n",
      " 20  weight_kg          76 non-null     float64 \n",
      " 21  primary_type       76 non-null     object  \n",
      " 22  secondary_type     76 non-null     object  \n",
      " 23  male_percentage    76 non-null     float64 \n",
      " 24  female_percentage  76 non-null     float64 \n",
      " 25  gen                76 non-null     category\n",
      " 26  primary_ability    76 non-null     object  \n",
      " 27  secondary_ability  76 non-null     object  \n",
      "dtypes: Int64(8), category(1), float64(6), int32(1), int64(1), object(11)\n",
      "memory usage: 16.6+ KB\n"
     ]
    }
   ],
   "source": [
    "df.info()"
   ]
  },
  {
   "cell_type": "markdown",
   "id": "6b596f20-8907-4ecf-806e-bc92d9fa0fba",
   "metadata": {},
   "source": [
    "## Data Aggregation"
   ]
  },
  {
   "cell_type": "markdown",
   "id": "8e78c7b5-bd54-4181-8520-8cc6b5e641c9",
   "metadata": {},
   "source": [
    "### Utilize the value_counts() method on the primary_type column to tally the number of Pokémon for each type"
   ]
  },
  {
   "cell_type": "code",
   "execution_count": 21,
   "id": "6cf62718-17a9-4110-8e03-4730061632a3",
   "metadata": {},
   "outputs": [
    {
     "name": "stdout",
     "output_type": "stream",
     "text": [
      "primary_type\n",
      "normal      11\n",
      "water       10\n",
      "bug         10\n",
      "poison      10\n",
      "grass        9\n",
      "fire         7\n",
      "fighting     5\n",
      "ground       4\n",
      "psychic      3\n",
      "rock         3\n",
      "electric     2\n",
      "fairy        2\n",
      "Name: count, dtype: int64\n"
     ]
    }
   ],
   "source": [
    "primary_type_count = df.primary_type.value_counts()\n",
    "print(primary_type_count)"
   ]
  },
  {
   "cell_type": "markdown",
   "id": "0e8279b8-c50e-40dd-9086-da16513763b6",
   "metadata": {},
   "source": [
    "## Color Scheme Mapping"
   ]
  },
  {
   "cell_type": "markdown",
   "id": "7203295f-b9e4-433d-a619-e6a517976401",
   "metadata": {},
   "source": [
    "### Create a dictionary mapping each Pokémon type to a specific hexadecimal color value, reflecting the colors provided in the initial setup"
   ]
  },
  {
   "cell_type": "code",
   "execution_count": 26,
   "id": "a2a476af-10a1-4ffd-a997-ed77b346d2a2",
   "metadata": {},
   "outputs": [],
   "source": [
    "type_colors = {\n",
    "    'grass': '#78C850', 'fire': '#F08030', 'water': '#6890F0',\n",
    "    'bug': '#A8B820', 'normal': '#A8A878', 'poison': '#A040A0',\n",
    "    'electric': '#F8D030', 'ground': '#E0C068', 'fairy': '#EE99AC',\n",
    "    'fighting': '#C03028', 'flying': '#A890F0', 'psychic': '#F85888',\n",
    "    'rock': '#B8A038', 'ghost': '#705898', 'ice': '#98D8D8',\n",
    "    'dragon': '#7038F8', 'dark': '#705848', 'steel': '#B8B8D0',\n",
    "}"
   ]
  },
  {
   "cell_type": "markdown",
   "id": "5903b6c0-c27a-44e4-b5af-3916f85c899e",
   "metadata": {},
   "source": [
    "## Bar Chart Visualization"
   ]
  },
  {
   "cell_type": "markdown",
   "id": "c4522261-147b-49a9-b87f-e34f355681b4",
   "metadata": {},
   "source": [
    "### Employ a Plotly bar chart to display the count of Pokémon for each type"
   ]
  },
  {
   "cell_type": "code",
   "execution_count": null,
   "id": "7a1e216a-17a7-4591-81da-861f2a63da13",
   "metadata": {},
   "outputs": [],
   "source": [
    "# Create the Plotly figure\n",
    "fig = go.Figure()\n",
    "fig.add_trace(\n",
    "    go.Bar(\n",
    "        # Assign the types to the x-axis and counts to y-axis\n",
    "        x=primary_type_count.index,\n",
    "        y=primary_type_count.values,\n",
    "        marker={'color':[type_colors[k] for k in primary_type_count.index]},\n",
    "        hoverinfo='all',\n",
    "        name='All Bars in a Figure',\n",
    "        showlegend=True,\n",
    "    )\n",
    ")\n",
    "\n",
    "fig.update_layout(\n",
    "    title_text='Pokemon Primary Ability Distribution',\n",
    "    height=300,\n",
    "    width=800\n",
    ")\n",
    "\n",
    "# Save the plot \n",
    "fig.write_image(\"plots/pokemon_primary_ability_distribution.png\")\n",
    "\n",
    "fig.show()"
   ]
  },
  {
   "cell_type": "code",
   "execution_count": null,
   "id": "7039ac6c-d337-453b-8f59-5ec5fe8426d8",
   "metadata": {},
   "outputs": [],
   "source": [
    "# Create the Plotly figure\n",
    "fig = go.Figure()\n",
    "# Employ the for loop to meticulously construct the bar chart by adding bars one at a time\n",
    "for ptype in primary_type_count:\n",
    "\tfig.add_trace(\n",
    "\t\tgo.Bar(\n",
    "\t\t\t# Assign the types to the x-axis and counts to y-axis\n",
    "\t\t\tx=primary_type_count.index,\n",
    "\t\t\ty=primary_type_count.values,\n",
    "\t\t\tmarker={'color':[type_colors[k] for k in primary_type_count.index]},\n",
    "\t\t\thoverinfo='all',\n",
    "\t\t\tname='All Bars in a Figure',\n",
    "\t\t\tshowlegend=True,\n",
    "\t\t)\n",
    "\t)\n",
    "# Save the plot \n",
    "fig.show()"
   ]
  },
  {
   "cell_type": "markdown",
   "id": "58d1b2b1-d0e4-4940-bdc5-5554a17710c9",
   "metadata": {},
   "source": [
    "## Bar Chart Configuration"
   ]
  },
  {
   "cell_type": "code",
   "execution_count": null,
   "id": "daa186a5-6b6e-449c-9719-186246b6902c",
   "metadata": {},
   "outputs": [],
   "source": [
    "fig.update_layout(\n",
    "    title_text='Pokemon Primary Ability Distribution - Overall',\n",
    "    height=300,\n",
    "    width=800\n",
    ")\n",
    "fig.write_image(\"plots/pokemon_primary_ability_distribution.png\")\n",
    "fig.show()"
   ]
  },
  {
   "cell_type": "code",
   "execution_count": null,
   "id": "0c01db8e-46a4-44c1-9198-08ccb3b08896",
   "metadata": {},
   "outputs": [],
   "source": []
  },
  {
   "cell_type": "code",
   "execution_count": null,
   "id": "5fae6c6a-35be-4a20-b7e4-9028ad5b1180",
   "metadata": {},
   "outputs": [],
   "source": []
  }
 ],
 "metadata": {
  "kernelspec": {
   "display_name": "Python 3 (ipykernel)",
   "language": "python",
   "name": "python3"
  },
  "language_info": {
   "codemirror_mode": {
    "name": "ipython",
    "version": 3
   },
   "file_extension": ".py",
   "mimetype": "text/x-python",
   "name": "python",
   "nbconvert_exporter": "python",
   "pygments_lexer": "ipython3",
   "version": "3.8.20"
  }
 },
 "nbformat": 4,
 "nbformat_minor": 5
}
