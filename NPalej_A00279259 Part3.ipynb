{
 "cells": [
  {
   "cell_type": "markdown",
   "id": "b7dc6a8e-667f-4a09-91bd-0199f4a6b82f",
   "metadata": {},
   "source": [
    "# Natalia Palej A00279259\n",
    "Software Design with Artificial Intelligence for Cloud Computing \n",
    "Year 4"
   ]
  },
  {
   "cell_type": "markdown",
   "id": "4fdb0fcb-68a1-4c51-991c-989981222112",
   "metadata": {},
   "source": [
    "# Part 3: Analysis of Pokémon Distribution by Primary Type"
   ]
  },
  {
   "cell_type": "markdown",
   "id": "a718d543-808b-4b16-a7ea-2f5cfeb46c40",
   "metadata": {},
   "source": [
    "## Make Necessary Imports"
   ]
  },
  {
   "cell_type": "code",
   "execution_count": 39,
   "id": "d4fa7afa-2e40-4d3f-9577-3daf236987fb",
   "metadata": {},
   "outputs": [],
   "source": [
    "import pandas as pd \n",
    "import numpy as np\n",
    "import plotly.graph_objects as go"
   ]
  },
  {
   "cell_type": "markdown",
   "id": "d92eee3d-3b19-41bc-a318-c0049a4c1a3c",
   "metadata": {},
   "source": [
    "## Load Cleaned Pokemon Dataset "
   ]
  },
  {
   "cell_type": "code",
   "execution_count": 40,
   "id": "ed9c2269-db5c-4e42-a8cd-10306f708efe",
   "metadata": {},
   "outputs": [],
   "source": [
    "df = pd.read_pickle('data/cleaned_pokemon_data.pkl')"
   ]
  },
  {
   "cell_type": "code",
   "execution_count": 41,
   "id": "864181df-78fd-423e-bce5-40edb16d87f5",
   "metadata": {},
   "outputs": [
    {
     "data": {
      "text/html": [
       "<div>\n",
       "<style scoped>\n",
       "    .dataframe tbody tr th:only-of-type {\n",
       "        vertical-align: middle;\n",
       "    }\n",
       "\n",
       "    .dataframe tbody tr th {\n",
       "        vertical-align: top;\n",
       "    }\n",
       "\n",
       "    .dataframe thead th {\n",
       "        text-align: right;\n",
       "    }\n",
       "</style>\n",
       "<table border=\"1\" class=\"dataframe\">\n",
       "  <thead>\n",
       "    <tr style=\"text-align: right;\">\n",
       "      <th></th>\n",
       "      <th>name</th>\n",
       "      <th>national_no</th>\n",
       "      <th>species</th>\n",
       "      <th>ev_yield</th>\n",
       "      <th>catch_rate</th>\n",
       "      <th>base_friendship</th>\n",
       "      <th>base_exp</th>\n",
       "      <th>growth_rate</th>\n",
       "      <th>egg_groups</th>\n",
       "      <th>egg_cycles</th>\n",
       "      <th>...</th>\n",
       "      <th>pokemon_img_url</th>\n",
       "      <th>height_m</th>\n",
       "      <th>weight_kg</th>\n",
       "      <th>primary_type</th>\n",
       "      <th>secondary_type</th>\n",
       "      <th>male_percentage</th>\n",
       "      <th>female_percentage</th>\n",
       "      <th>gen</th>\n",
       "      <th>primary_ability</th>\n",
       "      <th>secondary_ability</th>\n",
       "    </tr>\n",
       "  </thead>\n",
       "  <tbody>\n",
       "    <tr>\n",
       "      <th>0</th>\n",
       "      <td>bulbasaur</td>\n",
       "      <td>1</td>\n",
       "      <td>Seed Pokémon</td>\n",
       "      <td>1 Sp. Atk</td>\n",
       "      <td>45.0</td>\n",
       "      <td>50.0</td>\n",
       "      <td>64</td>\n",
       "      <td>Medium Slow</td>\n",
       "      <td>Grass, Monster</td>\n",
       "      <td>20</td>\n",
       "      <td>...</td>\n",
       "      <td>https://img.pokemondb.net/artwork/bulbasaur.jpg</td>\n",
       "      <td>0.7</td>\n",
       "      <td>6.9</td>\n",
       "      <td>grass</td>\n",
       "      <td>poison</td>\n",
       "      <td>87.5</td>\n",
       "      <td>12.5</td>\n",
       "      <td>1</td>\n",
       "      <td>Overgrow</td>\n",
       "      <td>Chlorophyll</td>\n",
       "    </tr>\n",
       "    <tr>\n",
       "      <th>1</th>\n",
       "      <td>ivysaur</td>\n",
       "      <td>2</td>\n",
       "      <td>Seed Pokémon</td>\n",
       "      <td>1 Sp. Atk, 1 Sp. Def</td>\n",
       "      <td>45.0</td>\n",
       "      <td>50.0</td>\n",
       "      <td>142</td>\n",
       "      <td>Medium Slow</td>\n",
       "      <td>Grass, Monster</td>\n",
       "      <td>20</td>\n",
       "      <td>...</td>\n",
       "      <td>https://img.pokemondb.net/artwork/ivysaur.jpg</td>\n",
       "      <td>1.0</td>\n",
       "      <td>13.0</td>\n",
       "      <td>grass</td>\n",
       "      <td>poison</td>\n",
       "      <td>87.5</td>\n",
       "      <td>12.5</td>\n",
       "      <td>1</td>\n",
       "      <td>Overgrow</td>\n",
       "      <td>Chlorophyll</td>\n",
       "    </tr>\n",
       "    <tr>\n",
       "      <th>2</th>\n",
       "      <td>venusaur</td>\n",
       "      <td>3</td>\n",
       "      <td>Seed Pokémon</td>\n",
       "      <td>2 Sp. Atk, 1 Sp. Def</td>\n",
       "      <td>45.0</td>\n",
       "      <td>50.0</td>\n",
       "      <td>236</td>\n",
       "      <td>Medium Slow</td>\n",
       "      <td>Grass, Monster</td>\n",
       "      <td>20</td>\n",
       "      <td>...</td>\n",
       "      <td>https://img.pokemondb.net/artwork/venusaur.jpg</td>\n",
       "      <td>2.0</td>\n",
       "      <td>100.0</td>\n",
       "      <td>grass</td>\n",
       "      <td>poison</td>\n",
       "      <td>87.5</td>\n",
       "      <td>12.5</td>\n",
       "      <td>1</td>\n",
       "      <td>Overgrow</td>\n",
       "      <td>Chlorophyll</td>\n",
       "    </tr>\n",
       "    <tr>\n",
       "      <th>3</th>\n",
       "      <td>charmander</td>\n",
       "      <td>4</td>\n",
       "      <td>Lizard Pokémon</td>\n",
       "      <td>1 Speed</td>\n",
       "      <td>45.0</td>\n",
       "      <td>50.0</td>\n",
       "      <td>62</td>\n",
       "      <td>Medium Slow</td>\n",
       "      <td>Dragon, Monster</td>\n",
       "      <td>20</td>\n",
       "      <td>...</td>\n",
       "      <td>https://img.pokemondb.net/artwork/charmander.jpg</td>\n",
       "      <td>0.6</td>\n",
       "      <td>8.5</td>\n",
       "      <td>fire</td>\n",
       "      <td>Pure</td>\n",
       "      <td>87.5</td>\n",
       "      <td>12.5</td>\n",
       "      <td>1</td>\n",
       "      <td>Blaze</td>\n",
       "      <td>Solar Power</td>\n",
       "    </tr>\n",
       "    <tr>\n",
       "      <th>4</th>\n",
       "      <td>charmeleon</td>\n",
       "      <td>5</td>\n",
       "      <td>Flame Pokémon</td>\n",
       "      <td>1 Sp. Atk, 1 Speed</td>\n",
       "      <td>45.0</td>\n",
       "      <td>50.0</td>\n",
       "      <td>142</td>\n",
       "      <td>Medium Slow</td>\n",
       "      <td>Dragon, Monster</td>\n",
       "      <td>20</td>\n",
       "      <td>...</td>\n",
       "      <td>https://img.pokemondb.net/artwork/charmeleon.jpg</td>\n",
       "      <td>1.1</td>\n",
       "      <td>19.0</td>\n",
       "      <td>fire</td>\n",
       "      <td>Pure</td>\n",
       "      <td>87.5</td>\n",
       "      <td>12.5</td>\n",
       "      <td>1</td>\n",
       "      <td>Blaze</td>\n",
       "      <td>Solar Power</td>\n",
       "    </tr>\n",
       "  </tbody>\n",
       "</table>\n",
       "<p>5 rows × 40 columns</p>\n",
       "</div>"
      ],
      "text/plain": [
       "         name  national_no         species              ev_yield  catch_rate  \\\n",
       "0   bulbasaur            1    Seed Pokémon             1 Sp. Atk        45.0   \n",
       "1     ivysaur            2    Seed Pokémon  1 Sp. Atk, 1 Sp. Def        45.0   \n",
       "2    venusaur            3    Seed Pokémon  2 Sp. Atk, 1 Sp. Def        45.0   \n",
       "3  charmander            4  Lizard Pokémon               1 Speed        45.0   \n",
       "4  charmeleon            5   Flame Pokémon    1 Sp. Atk, 1 Speed        45.0   \n",
       "\n",
       "   base_friendship  base_exp  growth_rate       egg_groups  egg_cycles  ...  \\\n",
       "0             50.0        64  Medium Slow   Grass, Monster          20  ...   \n",
       "1             50.0       142  Medium Slow   Grass, Monster          20  ...   \n",
       "2             50.0       236  Medium Slow   Grass, Monster          20  ...   \n",
       "3             50.0        62  Medium Slow  Dragon, Monster          20  ...   \n",
       "4             50.0       142  Medium Slow  Dragon, Monster          20  ...   \n",
       "\n",
       "                                    pokemon_img_url  height_m  weight_kg  \\\n",
       "0   https://img.pokemondb.net/artwork/bulbasaur.jpg       0.7        6.9   \n",
       "1     https://img.pokemondb.net/artwork/ivysaur.jpg       1.0       13.0   \n",
       "2    https://img.pokemondb.net/artwork/venusaur.jpg       2.0      100.0   \n",
       "3  https://img.pokemondb.net/artwork/charmander.jpg       0.6        8.5   \n",
       "4  https://img.pokemondb.net/artwork/charmeleon.jpg       1.1       19.0   \n",
       "\n",
       "   primary_type  secondary_type  male_percentage  female_percentage  gen  \\\n",
       "0         grass          poison             87.5               12.5    1   \n",
       "1         grass          poison             87.5               12.5    1   \n",
       "2         grass          poison             87.5               12.5    1   \n",
       "3          fire            Pure             87.5               12.5    1   \n",
       "4          fire            Pure             87.5               12.5    1   \n",
       "\n",
       "   primary_ability  secondary_ability  \n",
       "0         Overgrow        Chlorophyll  \n",
       "1         Overgrow        Chlorophyll  \n",
       "2         Overgrow        Chlorophyll  \n",
       "3            Blaze        Solar Power  \n",
       "4            Blaze        Solar Power  \n",
       "\n",
       "[5 rows x 40 columns]"
      ]
     },
     "execution_count": 41,
     "metadata": {},
     "output_type": "execute_result"
    }
   ],
   "source": [
    "df.head()"
   ]
  },
  {
   "cell_type": "code",
   "execution_count": 42,
   "id": "e32403b1-0ab1-4357-88da-431945844ea2",
   "metadata": {},
   "outputs": [
    {
     "data": {
      "text/plain": [
       "(405, 40)"
      ]
     },
     "execution_count": 42,
     "metadata": {},
     "output_type": "execute_result"
    }
   ],
   "source": [
    "df.shape"
   ]
  },
  {
   "cell_type": "code",
   "execution_count": 43,
   "id": "05b28155-2000-4c84-b5de-4d7ccbc8d2ac",
   "metadata": {},
   "outputs": [
    {
     "data": {
      "text/plain": [
       "Index(['name', 'national_no', 'species', 'ev_yield', 'catch_rate',\n",
       "       'base_friendship', 'base_exp', 'growth_rate', 'egg_groups',\n",
       "       'egg_cycles', 'hp', 'min_hp', 'max_hp', 'attack', 'min_attack',\n",
       "       'max_attack', 'defense', 'min_defense', 'max_defense', 'sp_atk',\n",
       "       'min_sp_atk', 'max_sp_atk', 'sp_def', 'min_sp_def', 'max_sp_def',\n",
       "       'speed', 'min_speed', 'max_speed', 'total', 'evo_path',\n",
       "       'pokemon_img_url', 'height_m', 'weight_kg', 'primary_type',\n",
       "       'secondary_type', 'male_percentage', 'female_percentage', 'gen',\n",
       "       'primary_ability', 'secondary_ability'],\n",
       "      dtype='object')"
      ]
     },
     "execution_count": 43,
     "metadata": {},
     "output_type": "execute_result"
    }
   ],
   "source": [
    "df.columns"
   ]
  },
  {
   "cell_type": "code",
   "execution_count": 44,
   "id": "29a98088-133c-4708-a25b-94b08603a332",
   "metadata": {},
   "outputs": [
    {
     "name": "stdout",
     "output_type": "stream",
     "text": [
      "<class 'pandas.core.frame.DataFrame'>\n",
      "RangeIndex: 405 entries, 0 to 404\n",
      "Data columns (total 40 columns):\n",
      " #   Column             Non-Null Count  Dtype   \n",
      "---  ------             --------------  -----   \n",
      " 0   name               405 non-null    object  \n",
      " 1   national_no        405 non-null    Int64   \n",
      " 2   species            405 non-null    object  \n",
      " 3   ev_yield           405 non-null    object  \n",
      " 4   catch_rate         405 non-null    float64 \n",
      " 5   base_friendship    405 non-null    float64 \n",
      " 6   base_exp           405 non-null    int32   \n",
      " 7   growth_rate        405 non-null    object  \n",
      " 8   egg_groups         405 non-null    object  \n",
      " 9   egg_cycles         405 non-null    int64   \n",
      " 10  hp                 405 non-null    Int64   \n",
      " 11  min_hp             405 non-null    Int64   \n",
      " 12  max_hp             405 non-null    Int64   \n",
      " 13  attack             405 non-null    Int64   \n",
      " 14  min_attack         405 non-null    Int64   \n",
      " 15  max_attack         405 non-null    Int64   \n",
      " 16  defense            405 non-null    Int64   \n",
      " 17  min_defense        405 non-null    Int64   \n",
      " 18  max_defense        405 non-null    Int64   \n",
      " 19  sp_atk             405 non-null    Int64   \n",
      " 20  min_sp_atk         405 non-null    Int64   \n",
      " 21  max_sp_atk         405 non-null    Int64   \n",
      " 22  sp_def             405 non-null    Int64   \n",
      " 23  min_sp_def         405 non-null    Int64   \n",
      " 24  max_sp_def         405 non-null    Int64   \n",
      " 25  speed              405 non-null    Int64   \n",
      " 26  min_speed          405 non-null    Int64   \n",
      " 27  max_speed          405 non-null    Int64   \n",
      " 28  total              405 non-null    Int64   \n",
      " 29  evo_path           405 non-null    object  \n",
      " 30  pokemon_img_url    405 non-null    object  \n",
      " 31  height_m           405 non-null    float64 \n",
      " 32  weight_kg          405 non-null    float64 \n",
      " 33  primary_type       405 non-null    object  \n",
      " 34  secondary_type     405 non-null    object  \n",
      " 35  male_percentage    405 non-null    float64 \n",
      " 36  female_percentage  405 non-null    float64 \n",
      " 37  gen                405 non-null    category\n",
      " 38  primary_ability    405 non-null    object  \n",
      " 39  secondary_ability  405 non-null    object  \n",
      "dtypes: Int64(20), category(1), float64(6), int32(1), int64(1), object(11)\n",
      "memory usage: 130.3+ KB\n"
     ]
    }
   ],
   "source": [
    "df.info()"
   ]
  },
  {
   "cell_type": "markdown",
   "id": "6b596f20-8907-4ecf-806e-bc92d9fa0fba",
   "metadata": {},
   "source": [
    "## Data Aggregation"
   ]
  },
  {
   "cell_type": "markdown",
   "id": "8e78c7b5-bd54-4181-8520-8cc6b5e641c9",
   "metadata": {},
   "source": [
    "### Utilize the value_counts() method on the primary_type column to tally the number of Pokémon for each type"
   ]
  },
  {
   "cell_type": "code",
   "execution_count": 45,
   "id": "6cf62718-17a9-4110-8e03-4730061632a3",
   "metadata": {},
   "outputs": [
    {
     "name": "stdout",
     "output_type": "stream",
     "text": [
      "primary_type\n",
      "water       73\n",
      "normal      60\n",
      "grass       36\n",
      "bug         36\n",
      "fire        29\n",
      "psychic     23\n",
      "electric    22\n",
      "rock        21\n",
      "poison      18\n",
      "ground      17\n",
      "fighting    13\n",
      "ice         12\n",
      "steel       11\n",
      "dragon      10\n",
      "dark         9\n",
      "ghost        8\n",
      "fairy        7\n",
      "Name: count, dtype: int64\n"
     ]
    }
   ],
   "source": [
    "primary_type_count = df.primary_type.value_counts()\n",
    "print(primary_type_count)"
   ]
  },
  {
   "cell_type": "markdown",
   "id": "0e8279b8-c50e-40dd-9086-da16513763b6",
   "metadata": {},
   "source": [
    "## Color Scheme Mapping"
   ]
  },
  {
   "cell_type": "markdown",
   "id": "7203295f-b9e4-433d-a619-e6a517976401",
   "metadata": {},
   "source": [
    "### Create a dictionary mapping each Pokémon type to a specific hexadecimal color value, reflecting the colors provided in the initial setup"
   ]
  },
  {
   "cell_type": "code",
   "execution_count": 46,
   "id": "a2a476af-10a1-4ffd-a997-ed77b346d2a2",
   "metadata": {},
   "outputs": [],
   "source": [
    "type_colors = {\n",
    "    'grass': '#78C850', 'fire': '#F08030', 'water': '#6890F0',\n",
    "    'bug': '#A8B820', 'normal': '#A8A878', 'poison': '#A040A0',\n",
    "    'electric': '#F8D030', 'ground': '#E0C068', 'fairy': '#EE99AC',\n",
    "    'fighting': '#C03028', 'flying': '#A890F0', 'psychic': '#F85888',\n",
    "    'rock': '#B8A038', 'ghost': '#705898', 'ice': '#98D8D8',\n",
    "    'dragon': '#7038F8', 'dark': '#705848', 'steel': '#B8B8D0',\n",
    "}"
   ]
  },
  {
   "cell_type": "markdown",
   "id": "5903b6c0-c27a-44e4-b5af-3916f85c899e",
   "metadata": {},
   "source": [
    "## Bar Chart Visualization"
   ]
  },
  {
   "cell_type": "markdown",
   "id": "c4522261-147b-49a9-b87f-e34f355681b4",
   "metadata": {},
   "source": [
    "### Employ a Plotly bar chart to display the count of Pokémon for each type"
   ]
  },
  {
   "cell_type": "code",
   "execution_count": 47,
   "id": "7039ac6c-d337-453b-8f59-5ec5fe8426d8",
   "metadata": {},
   "outputs": [
    {
     "data": {
      "application/vnd.plotly.v1+json": {
       "config": {
        "plotlyServerURL": "https://plot.ly"
       },
       "data": [
        {
         "hoverinfo": "all",
         "marker": {
          "color": "#6890F0"
         },
         "name": "water",
         "type": "bar",
         "x": [
          "water"
         ],
         "y": [
          73
         ]
        },
        {
         "hoverinfo": "all",
         "marker": {
          "color": "#A8A878"
         },
         "name": "normal",
         "type": "bar",
         "x": [
          "normal"
         ],
         "y": [
          60
         ]
        },
        {
         "hoverinfo": "all",
         "marker": {
          "color": "#78C850"
         },
         "name": "grass",
         "type": "bar",
         "x": [
          "grass"
         ],
         "y": [
          36
         ]
        },
        {
         "hoverinfo": "all",
         "marker": {
          "color": "#A8B820"
         },
         "name": "bug",
         "type": "bar",
         "x": [
          "bug"
         ],
         "y": [
          36
         ]
        },
        {
         "hoverinfo": "all",
         "marker": {
          "color": "#F08030"
         },
         "name": "fire",
         "type": "bar",
         "x": [
          "fire"
         ],
         "y": [
          29
         ]
        },
        {
         "hoverinfo": "all",
         "marker": {
          "color": "#F85888"
         },
         "name": "psychic",
         "type": "bar",
         "x": [
          "psychic"
         ],
         "y": [
          23
         ]
        },
        {
         "hoverinfo": "all",
         "marker": {
          "color": "#F8D030"
         },
         "name": "electric",
         "type": "bar",
         "x": [
          "electric"
         ],
         "y": [
          22
         ]
        },
        {
         "hoverinfo": "all",
         "marker": {
          "color": "#B8A038"
         },
         "name": "rock",
         "type": "bar",
         "x": [
          "rock"
         ],
         "y": [
          21
         ]
        },
        {
         "hoverinfo": "all",
         "marker": {
          "color": "#A040A0"
         },
         "name": "poison",
         "type": "bar",
         "x": [
          "poison"
         ],
         "y": [
          18
         ]
        },
        {
         "hoverinfo": "all",
         "marker": {
          "color": "#E0C068"
         },
         "name": "ground",
         "type": "bar",
         "x": [
          "ground"
         ],
         "y": [
          17
         ]
        },
        {
         "hoverinfo": "all",
         "marker": {
          "color": "#C03028"
         },
         "name": "fighting",
         "type": "bar",
         "x": [
          "fighting"
         ],
         "y": [
          13
         ]
        },
        {
         "hoverinfo": "all",
         "marker": {
          "color": "#98D8D8"
         },
         "name": "ice",
         "type": "bar",
         "x": [
          "ice"
         ],
         "y": [
          12
         ]
        },
        {
         "hoverinfo": "all",
         "marker": {
          "color": "#B8B8D0"
         },
         "name": "steel",
         "type": "bar",
         "x": [
          "steel"
         ],
         "y": [
          11
         ]
        },
        {
         "hoverinfo": "all",
         "marker": {
          "color": "#7038F8"
         },
         "name": "dragon",
         "type": "bar",
         "x": [
          "dragon"
         ],
         "y": [
          10
         ]
        },
        {
         "hoverinfo": "all",
         "marker": {
          "color": "#705848"
         },
         "name": "dark",
         "type": "bar",
         "x": [
          "dark"
         ],
         "y": [
          9
         ]
        },
        {
         "hoverinfo": "all",
         "marker": {
          "color": "#705898"
         },
         "name": "ghost",
         "type": "bar",
         "x": [
          "ghost"
         ],
         "y": [
          8
         ]
        },
        {
         "hoverinfo": "all",
         "marker": {
          "color": "#EE99AC"
         },
         "name": "fairy",
         "type": "bar",
         "x": [
          "fairy"
         ],
         "y": [
          7
         ]
        }
       ],
       "layout": {
        "autosize": true,
        "template": {
         "data": {
          "bar": [
           {
            "error_x": {
             "color": "#2a3f5f"
            },
            "error_y": {
             "color": "#2a3f5f"
            },
            "marker": {
             "line": {
              "color": "#E5ECF6",
              "width": 0.5
             },
             "pattern": {
              "fillmode": "overlay",
              "size": 10,
              "solidity": 0.2
             }
            },
            "type": "bar"
           }
          ],
          "barpolar": [
           {
            "marker": {
             "line": {
              "color": "#E5ECF6",
              "width": 0.5
             },
             "pattern": {
              "fillmode": "overlay",
              "size": 10,
              "solidity": 0.2
             }
            },
            "type": "barpolar"
           }
          ],
          "carpet": [
           {
            "aaxis": {
             "endlinecolor": "#2a3f5f",
             "gridcolor": "white",
             "linecolor": "white",
             "minorgridcolor": "white",
             "startlinecolor": "#2a3f5f"
            },
            "baxis": {
             "endlinecolor": "#2a3f5f",
             "gridcolor": "white",
             "linecolor": "white",
             "minorgridcolor": "white",
             "startlinecolor": "#2a3f5f"
            },
            "type": "carpet"
           }
          ],
          "choropleth": [
           {
            "colorbar": {
             "outlinewidth": 0,
             "ticks": ""
            },
            "type": "choropleth"
           }
          ],
          "contour": [
           {
            "colorbar": {
             "outlinewidth": 0,
             "ticks": ""
            },
            "colorscale": [
             [
              0,
              "#0d0887"
             ],
             [
              0.1111111111111111,
              "#46039f"
             ],
             [
              0.2222222222222222,
              "#7201a8"
             ],
             [
              0.3333333333333333,
              "#9c179e"
             ],
             [
              0.4444444444444444,
              "#bd3786"
             ],
             [
              0.5555555555555556,
              "#d8576b"
             ],
             [
              0.6666666666666666,
              "#ed7953"
             ],
             [
              0.7777777777777778,
              "#fb9f3a"
             ],
             [
              0.8888888888888888,
              "#fdca26"
             ],
             [
              1,
              "#f0f921"
             ]
            ],
            "type": "contour"
           }
          ],
          "contourcarpet": [
           {
            "colorbar": {
             "outlinewidth": 0,
             "ticks": ""
            },
            "type": "contourcarpet"
           }
          ],
          "heatmap": [
           {
            "colorbar": {
             "outlinewidth": 0,
             "ticks": ""
            },
            "colorscale": [
             [
              0,
              "#0d0887"
             ],
             [
              0.1111111111111111,
              "#46039f"
             ],
             [
              0.2222222222222222,
              "#7201a8"
             ],
             [
              0.3333333333333333,
              "#9c179e"
             ],
             [
              0.4444444444444444,
              "#bd3786"
             ],
             [
              0.5555555555555556,
              "#d8576b"
             ],
             [
              0.6666666666666666,
              "#ed7953"
             ],
             [
              0.7777777777777778,
              "#fb9f3a"
             ],
             [
              0.8888888888888888,
              "#fdca26"
             ],
             [
              1,
              "#f0f921"
             ]
            ],
            "type": "heatmap"
           }
          ],
          "heatmapgl": [
           {
            "colorbar": {
             "outlinewidth": 0,
             "ticks": ""
            },
            "colorscale": [
             [
              0,
              "#0d0887"
             ],
             [
              0.1111111111111111,
              "#46039f"
             ],
             [
              0.2222222222222222,
              "#7201a8"
             ],
             [
              0.3333333333333333,
              "#9c179e"
             ],
             [
              0.4444444444444444,
              "#bd3786"
             ],
             [
              0.5555555555555556,
              "#d8576b"
             ],
             [
              0.6666666666666666,
              "#ed7953"
             ],
             [
              0.7777777777777778,
              "#fb9f3a"
             ],
             [
              0.8888888888888888,
              "#fdca26"
             ],
             [
              1,
              "#f0f921"
             ]
            ],
            "type": "heatmapgl"
           }
          ],
          "histogram": [
           {
            "marker": {
             "pattern": {
              "fillmode": "overlay",
              "size": 10,
              "solidity": 0.2
             }
            },
            "type": "histogram"
           }
          ],
          "histogram2d": [
           {
            "colorbar": {
             "outlinewidth": 0,
             "ticks": ""
            },
            "colorscale": [
             [
              0,
              "#0d0887"
             ],
             [
              0.1111111111111111,
              "#46039f"
             ],
             [
              0.2222222222222222,
              "#7201a8"
             ],
             [
              0.3333333333333333,
              "#9c179e"
             ],
             [
              0.4444444444444444,
              "#bd3786"
             ],
             [
              0.5555555555555556,
              "#d8576b"
             ],
             [
              0.6666666666666666,
              "#ed7953"
             ],
             [
              0.7777777777777778,
              "#fb9f3a"
             ],
             [
              0.8888888888888888,
              "#fdca26"
             ],
             [
              1,
              "#f0f921"
             ]
            ],
            "type": "histogram2d"
           }
          ],
          "histogram2dcontour": [
           {
            "colorbar": {
             "outlinewidth": 0,
             "ticks": ""
            },
            "colorscale": [
             [
              0,
              "#0d0887"
             ],
             [
              0.1111111111111111,
              "#46039f"
             ],
             [
              0.2222222222222222,
              "#7201a8"
             ],
             [
              0.3333333333333333,
              "#9c179e"
             ],
             [
              0.4444444444444444,
              "#bd3786"
             ],
             [
              0.5555555555555556,
              "#d8576b"
             ],
             [
              0.6666666666666666,
              "#ed7953"
             ],
             [
              0.7777777777777778,
              "#fb9f3a"
             ],
             [
              0.8888888888888888,
              "#fdca26"
             ],
             [
              1,
              "#f0f921"
             ]
            ],
            "type": "histogram2dcontour"
           }
          ],
          "mesh3d": [
           {
            "colorbar": {
             "outlinewidth": 0,
             "ticks": ""
            },
            "type": "mesh3d"
           }
          ],
          "parcoords": [
           {
            "line": {
             "colorbar": {
              "outlinewidth": 0,
              "ticks": ""
             }
            },
            "type": "parcoords"
           }
          ],
          "pie": [
           {
            "automargin": true,
            "type": "pie"
           }
          ],
          "scatter": [
           {
            "fillpattern": {
             "fillmode": "overlay",
             "size": 10,
             "solidity": 0.2
            },
            "type": "scatter"
           }
          ],
          "scatter3d": [
           {
            "line": {
             "colorbar": {
              "outlinewidth": 0,
              "ticks": ""
             }
            },
            "marker": {
             "colorbar": {
              "outlinewidth": 0,
              "ticks": ""
             }
            },
            "type": "scatter3d"
           }
          ],
          "scattercarpet": [
           {
            "marker": {
             "colorbar": {
              "outlinewidth": 0,
              "ticks": ""
             }
            },
            "type": "scattercarpet"
           }
          ],
          "scattergeo": [
           {
            "marker": {
             "colorbar": {
              "outlinewidth": 0,
              "ticks": ""
             }
            },
            "type": "scattergeo"
           }
          ],
          "scattergl": [
           {
            "marker": {
             "colorbar": {
              "outlinewidth": 0,
              "ticks": ""
             }
            },
            "type": "scattergl"
           }
          ],
          "scattermapbox": [
           {
            "marker": {
             "colorbar": {
              "outlinewidth": 0,
              "ticks": ""
             }
            },
            "type": "scattermapbox"
           }
          ],
          "scatterpolar": [
           {
            "marker": {
             "colorbar": {
              "outlinewidth": 0,
              "ticks": ""
             }
            },
            "type": "scatterpolar"
           }
          ],
          "scatterpolargl": [
           {
            "marker": {
             "colorbar": {
              "outlinewidth": 0,
              "ticks": ""
             }
            },
            "type": "scatterpolargl"
           }
          ],
          "scatterternary": [
           {
            "marker": {
             "colorbar": {
              "outlinewidth": 0,
              "ticks": ""
             }
            },
            "type": "scatterternary"
           }
          ],
          "surface": [
           {
            "colorbar": {
             "outlinewidth": 0,
             "ticks": ""
            },
            "colorscale": [
             [
              0,
              "#0d0887"
             ],
             [
              0.1111111111111111,
              "#46039f"
             ],
             [
              0.2222222222222222,
              "#7201a8"
             ],
             [
              0.3333333333333333,
              "#9c179e"
             ],
             [
              0.4444444444444444,
              "#bd3786"
             ],
             [
              0.5555555555555556,
              "#d8576b"
             ],
             [
              0.6666666666666666,
              "#ed7953"
             ],
             [
              0.7777777777777778,
              "#fb9f3a"
             ],
             [
              0.8888888888888888,
              "#fdca26"
             ],
             [
              1,
              "#f0f921"
             ]
            ],
            "type": "surface"
           }
          ],
          "table": [
           {
            "cells": {
             "fill": {
              "color": "#EBF0F8"
             },
             "line": {
              "color": "white"
             }
            },
            "header": {
             "fill": {
              "color": "#C8D4E3"
             },
             "line": {
              "color": "white"
             }
            },
            "type": "table"
           }
          ]
         },
         "layout": {
          "annotationdefaults": {
           "arrowcolor": "#2a3f5f",
           "arrowhead": 0,
           "arrowwidth": 1
          },
          "autotypenumbers": "strict",
          "coloraxis": {
           "colorbar": {
            "outlinewidth": 0,
            "ticks": ""
           }
          },
          "colorscale": {
           "diverging": [
            [
             0,
             "#8e0152"
            ],
            [
             0.1,
             "#c51b7d"
            ],
            [
             0.2,
             "#de77ae"
            ],
            [
             0.3,
             "#f1b6da"
            ],
            [
             0.4,
             "#fde0ef"
            ],
            [
             0.5,
             "#f7f7f7"
            ],
            [
             0.6,
             "#e6f5d0"
            ],
            [
             0.7,
             "#b8e186"
            ],
            [
             0.8,
             "#7fbc41"
            ],
            [
             0.9,
             "#4d9221"
            ],
            [
             1,
             "#276419"
            ]
           ],
           "sequential": [
            [
             0,
             "#0d0887"
            ],
            [
             0.1111111111111111,
             "#46039f"
            ],
            [
             0.2222222222222222,
             "#7201a8"
            ],
            [
             0.3333333333333333,
             "#9c179e"
            ],
            [
             0.4444444444444444,
             "#bd3786"
            ],
            [
             0.5555555555555556,
             "#d8576b"
            ],
            [
             0.6666666666666666,
             "#ed7953"
            ],
            [
             0.7777777777777778,
             "#fb9f3a"
            ],
            [
             0.8888888888888888,
             "#fdca26"
            ],
            [
             1,
             "#f0f921"
            ]
           ],
           "sequentialminus": [
            [
             0,
             "#0d0887"
            ],
            [
             0.1111111111111111,
             "#46039f"
            ],
            [
             0.2222222222222222,
             "#7201a8"
            ],
            [
             0.3333333333333333,
             "#9c179e"
            ],
            [
             0.4444444444444444,
             "#bd3786"
            ],
            [
             0.5555555555555556,
             "#d8576b"
            ],
            [
             0.6666666666666666,
             "#ed7953"
            ],
            [
             0.7777777777777778,
             "#fb9f3a"
            ],
            [
             0.8888888888888888,
             "#fdca26"
            ],
            [
             1,
             "#f0f921"
            ]
           ]
          },
          "colorway": [
           "#636efa",
           "#EF553B",
           "#00cc96",
           "#ab63fa",
           "#FFA15A",
           "#19d3f3",
           "#FF6692",
           "#B6E880",
           "#FF97FF",
           "#FECB52"
          ],
          "font": {
           "color": "#2a3f5f"
          },
          "geo": {
           "bgcolor": "white",
           "lakecolor": "white",
           "landcolor": "#E5ECF6",
           "showlakes": true,
           "showland": true,
           "subunitcolor": "white"
          },
          "hoverlabel": {
           "align": "left"
          },
          "hovermode": "closest",
          "mapbox": {
           "style": "light"
          },
          "paper_bgcolor": "white",
          "plot_bgcolor": "#E5ECF6",
          "polar": {
           "angularaxis": {
            "gridcolor": "white",
            "linecolor": "white",
            "ticks": ""
           },
           "bgcolor": "#E5ECF6",
           "radialaxis": {
            "gridcolor": "white",
            "linecolor": "white",
            "ticks": ""
           }
          },
          "scene": {
           "xaxis": {
            "backgroundcolor": "#E5ECF6",
            "gridcolor": "white",
            "gridwidth": 2,
            "linecolor": "white",
            "showbackground": true,
            "ticks": "",
            "zerolinecolor": "white"
           },
           "yaxis": {
            "backgroundcolor": "#E5ECF6",
            "gridcolor": "white",
            "gridwidth": 2,
            "linecolor": "white",
            "showbackground": true,
            "ticks": "",
            "zerolinecolor": "white"
           },
           "zaxis": {
            "backgroundcolor": "#E5ECF6",
            "gridcolor": "white",
            "gridwidth": 2,
            "linecolor": "white",
            "showbackground": true,
            "ticks": "",
            "zerolinecolor": "white"
           }
          },
          "shapedefaults": {
           "line": {
            "color": "#2a3f5f"
           }
          },
          "ternary": {
           "aaxis": {
            "gridcolor": "white",
            "linecolor": "white",
            "ticks": ""
           },
           "baxis": {
            "gridcolor": "white",
            "linecolor": "white",
            "ticks": ""
           },
           "bgcolor": "#E5ECF6",
           "caxis": {
            "gridcolor": "white",
            "linecolor": "white",
            "ticks": ""
           }
          },
          "title": {
           "x": 0.05
          },
          "xaxis": {
           "automargin": true,
           "gridcolor": "white",
           "linecolor": "white",
           "ticks": "",
           "title": {
            "standoff": 15
           },
           "zerolinecolor": "white",
           "zerolinewidth": 2
          },
          "yaxis": {
           "automargin": true,
           "gridcolor": "white",
           "linecolor": "white",
           "ticks": "",
           "title": {
            "standoff": 15
           },
           "zerolinecolor": "white",
           "zerolinewidth": 2
          }
         }
        },
        "xaxis": {
         "autorange": true,
         "range": [
          -0.5,
          16.5
         ],
         "type": "category"
        },
        "yaxis": {
         "autorange": true,
         "range": [
          0,
          76.84210526315789
         ],
         "type": "linear"
        }
       }
      },
      "image/png": "[encoded data removed]",
      "text/html": [
       "<div>                            <div id=\"91001166-81f8-4089-a51b-ae0fe36e9a1a\" class=\"plotly-graph-div\" style=\"height:525px; width:100%;\"></div>            <script type=\"text/javascript\">                require([\"plotly\"], function(Plotly) {                    window.PLOTLYENV=window.PLOTLYENV || {};                                    if (document.getElementById(\"91001166-81f8-4089-a51b-ae0fe36e9a1a\")) {                    Plotly.newPlot(                        \"91001166-81f8-4089-a51b-ae0fe36e9a1a\",                        [{\"hoverinfo\":\"all\",\"marker\":{\"color\":\"#6890F0\"},\"name\":\"water\",\"x\":[\"water\"],\"y\":[73],\"type\":\"bar\"},{\"hoverinfo\":\"all\",\"marker\":{\"color\":\"#A8A878\"},\"name\":\"normal\",\"x\":[\"normal\"],\"y\":[60],\"type\":\"bar\"},{\"hoverinfo\":\"all\",\"marker\":{\"color\":\"#78C850\"},\"name\":\"grass\",\"x\":[\"grass\"],\"y\":[36],\"type\":\"bar\"},{\"hoverinfo\":\"all\",\"marker\":{\"color\":\"#A8B820\"},\"name\":\"bug\",\"x\":[\"bug\"],\"y\":[36],\"type\":\"bar\"},{\"hoverinfo\":\"all\",\"marker\":{\"color\":\"#F08030\"},\"name\":\"fire\",\"x\":[\"fire\"],\"y\":[29],\"type\":\"bar\"},{\"hoverinfo\":\"all\",\"marker\":{\"color\":\"#F85888\"},\"name\":\"psychic\",\"x\":[\"psychic\"],\"y\":[23],\"type\":\"bar\"},{\"hoverinfo\":\"all\",\"marker\":{\"color\":\"#F8D030\"},\"name\":\"electric\",\"x\":[\"electric\"],\"y\":[22],\"type\":\"bar\"},{\"hoverinfo\":\"all\",\"marker\":{\"color\":\"#B8A038\"},\"name\":\"rock\",\"x\":[\"rock\"],\"y\":[21],\"type\":\"bar\"},{\"hoverinfo\":\"all\",\"marker\":{\"color\":\"#A040A0\"},\"name\":\"poison\",\"x\":[\"poison\"],\"y\":[18],\"type\":\"bar\"},{\"hoverinfo\":\"all\",\"marker\":{\"color\":\"#E0C068\"},\"name\":\"ground\",\"x\":[\"ground\"],\"y\":[17],\"type\":\"bar\"},{\"hoverinfo\":\"all\",\"marker\":{\"color\":\"#C03028\"},\"name\":\"fighting\",\"x\":[\"fighting\"],\"y\":[13],\"type\":\"bar\"},{\"hoverinfo\":\"all\",\"marker\":{\"color\":\"#98D8D8\"},\"name\":\"ice\",\"x\":[\"ice\"],\"y\":[12],\"type\":\"bar\"},{\"hoverinfo\":\"all\",\"marker\":{\"color\":\"#B8B8D0\"},\"name\":\"steel\",\"x\":[\"steel\"],\"y\":[11],\"type\":\"bar\"},{\"hoverinfo\":\"all\",\"marker\":{\"color\":\"#7038F8\"},\"name\":\"dragon\",\"x\":[\"dragon\"],\"y\":[10],\"type\":\"bar\"},{\"hoverinfo\":\"all\",\"marker\":{\"color\":\"#705848\"},\"name\":\"dark\",\"x\":[\"dark\"],\"y\":[9],\"type\":\"bar\"},{\"hoverinfo\":\"all\",\"marker\":{\"color\":\"#705898\"},\"name\":\"ghost\",\"x\":[\"ghost\"],\"y\":[8],\"type\":\"bar\"},{\"hoverinfo\":\"all\",\"marker\":{\"color\":\"#EE99AC\"},\"name\":\"fairy\",\"x\":[\"fairy\"],\"y\":[7],\"type\":\"bar\"}],                        {\"template\":{\"data\":{\"histogram2dcontour\":[{\"type\":\"histogram2dcontour\",\"colorbar\":{\"outlinewidth\":0,\"ticks\":\"\"},\"colorscale\":[[0.0,\"#0d0887\"],[0.1111111111111111,\"#46039f\"],[0.2222222222222222,\"#7201a8\"],[0.3333333333333333,\"#9c179e\"],[0.4444444444444444,\"#bd3786\"],[0.5555555555555556,\"#d8576b\"],[0.6666666666666666,\"#ed7953\"],[0.7777777777777778,\"#fb9f3a\"],[0.8888888888888888,\"#fdca26\"],[1.0,\"#f0f921\"]]}],\"choropleth\":[{\"type\":\"choropleth\",\"colorbar\":{\"outlinewidth\":0,\"ticks\":\"\"}}],\"histogram2d\":[{\"type\":\"histogram2d\",\"colorbar\":{\"outlinewidth\":0,\"ticks\":\"\"},\"colorscale\":[[0.0,\"#0d0887\"],[0.1111111111111111,\"#46039f\"],[0.2222222222222222,\"#7201a8\"],[0.3333333333333333,\"#9c179e\"],[0.4444444444444444,\"#bd3786\"],[0.5555555555555556,\"#d8576b\"],[0.6666666666666666,\"#ed7953\"],[0.7777777777777778,\"#fb9f3a\"],[0.8888888888888888,\"#fdca26\"],[1.0,\"#f0f921\"]]}],\"heatmap\":[{\"type\":\"heatmap\",\"colorbar\":{\"outlinewidth\":0,\"ticks\":\"\"},\"colorscale\":[[0.0,\"#0d0887\"],[0.1111111111111111,\"#46039f\"],[0.2222222222222222,\"#7201a8\"],[0.3333333333333333,\"#9c179e\"],[0.4444444444444444,\"#bd3786\"],[0.5555555555555556,\"#d8576b\"],[0.6666666666666666,\"#ed7953\"],[0.7777777777777778,\"#fb9f3a\"],[0.8888888888888888,\"#fdca26\"],[1.0,\"#f0f921\"]]}],\"heatmapgl\":[{\"type\":\"heatmapgl\",\"colorbar\":{\"outlinewidth\":0,\"ticks\":\"\"},\"colorscale\":[[0.0,\"#0d0887\"],[0.1111111111111111,\"#46039f\"],[0.2222222222222222,\"#7201a8\"],[0.3333333333333333,\"#9c179e\"],[0.4444444444444444,\"#bd3786\"],[0.5555555555555556,\"#d8576b\"],[0.6666666666666666,\"#ed7953\"],[0.7777777777777778,\"#fb9f3a\"],[0.8888888888888888,\"#fdca26\"],[1.0,\"#f0f921\"]]}],\"contourcarpet\":[{\"type\":\"contourcarpet\",\"colorbar\":{\"outlinewidth\":0,\"ticks\":\"\"}}],\"contour\":[{\"type\":\"contour\",\"colorbar\":{\"outlinewidth\":0,\"ticks\":\"\"},\"colorscale\":[[0.0,\"#0d0887\"],[0.1111111111111111,\"#46039f\"],[0.2222222222222222,\"#7201a8\"],[0.3333333333333333,\"#9c179e\"],[0.4444444444444444,\"#bd3786\"],[0.5555555555555556,\"#d8576b\"],[0.6666666666666666,\"#ed7953\"],[0.7777777777777778,\"#fb9f3a\"],[0.8888888888888888,\"#fdca26\"],[1.0,\"#f0f921\"]]}],\"surface\":[{\"type\":\"surface\",\"colorbar\":{\"outlinewidth\":0,\"ticks\":\"\"},\"colorscale\":[[0.0,\"#0d0887\"],[0.1111111111111111,\"#46039f\"],[0.2222222222222222,\"#7201a8\"],[0.3333333333333333,\"#9c179e\"],[0.4444444444444444,\"#bd3786\"],[0.5555555555555556,\"#d8576b\"],[0.6666666666666666,\"#ed7953\"],[0.7777777777777778,\"#fb9f3a\"],[0.8888888888888888,\"#fdca26\"],[1.0,\"#f0f921\"]]}],\"mesh3d\":[{\"type\":\"mesh3d\",\"colorbar\":{\"outlinewidth\":0,\"ticks\":\"\"}}],\"scatter\":[{\"fillpattern\":{\"fillmode\":\"overlay\",\"size\":10,\"solidity\":0.2},\"type\":\"scatter\"}],\"parcoords\":[{\"type\":\"parcoords\",\"line\":{\"colorbar\":{\"outlinewidth\":0,\"ticks\":\"\"}}}],\"scatterpolargl\":[{\"type\":\"scatterpolargl\",\"marker\":{\"colorbar\":{\"outlinewidth\":0,\"ticks\":\"\"}}}],\"bar\":[{\"error_x\":{\"color\":\"#2a3f5f\"},\"error_y\":{\"color\":\"#2a3f5f\"},\"marker\":{\"line\":{\"color\":\"#E5ECF6\",\"width\":0.5},\"pattern\":{\"fillmode\":\"overlay\",\"size\":10,\"solidity\":0.2}},\"type\":\"bar\"}],\"scattergeo\":[{\"type\":\"scattergeo\",\"marker\":{\"colorbar\":{\"outlinewidth\":0,\"ticks\":\"\"}}}],\"scatterpolar\":[{\"type\":\"scatterpolar\",\"marker\":{\"colorbar\":{\"outlinewidth\":0,\"ticks\":\"\"}}}],\"histogram\":[{\"marker\":{\"pattern\":{\"fillmode\":\"overlay\",\"size\":10,\"solidity\":0.2}},\"type\":\"histogram\"}],\"scattergl\":[{\"type\":\"scattergl\",\"marker\":{\"colorbar\":{\"outlinewidth\":0,\"ticks\":\"\"}}}],\"scatter3d\":[{\"type\":\"scatter3d\",\"line\":{\"colorbar\":{\"outlinewidth\":0,\"ticks\":\"\"}},\"marker\":{\"colorbar\":{\"outlinewidth\":0,\"ticks\":\"\"}}}],\"scattermapbox\":[{\"type\":\"scattermapbox\",\"marker\":{\"colorbar\":{\"outlinewidth\":0,\"ticks\":\"\"}}}],\"scatterternary\":[{\"type\":\"scatterternary\",\"marker\":{\"colorbar\":{\"outlinewidth\":0,\"ticks\":\"\"}}}],\"scattercarpet\":[{\"type\":\"scattercarpet\",\"marker\":{\"colorbar\":{\"outlinewidth\":0,\"ticks\":\"\"}}}],\"carpet\":[{\"aaxis\":{\"endlinecolor\":\"#2a3f5f\",\"gridcolor\":\"white\",\"linecolor\":\"white\",\"minorgridcolor\":\"white\",\"startlinecolor\":\"#2a3f5f\"},\"baxis\":{\"endlinecolor\":\"#2a3f5f\",\"gridcolor\":\"white\",\"linecolor\":\"white\",\"minorgridcolor\":\"white\",\"startlinecolor\":\"#2a3f5f\"},\"type\":\"carpet\"}],\"table\":[{\"cells\":{\"fill\":{\"color\":\"#EBF0F8\"},\"line\":{\"color\":\"white\"}},\"header\":{\"fill\":{\"color\":\"#C8D4E3\"},\"line\":{\"color\":\"white\"}},\"type\":\"table\"}],\"barpolar\":[{\"marker\":{\"line\":{\"color\":\"#E5ECF6\",\"width\":0.5},\"pattern\":{\"fillmode\":\"overlay\",\"size\":10,\"solidity\":0.2}},\"type\":\"barpolar\"}],\"pie\":[{\"automargin\":true,\"type\":\"pie\"}]},\"layout\":{\"autotypenumbers\":\"strict\",\"colorway\":[\"#636efa\",\"#EF553B\",\"#00cc96\",\"#ab63fa\",\"#FFA15A\",\"#19d3f3\",\"#FF6692\",\"#B6E880\",\"#FF97FF\",\"#FECB52\"],\"font\":{\"color\":\"#2a3f5f\"},\"hovermode\":\"closest\",\"hoverlabel\":{\"align\":\"left\"},\"paper_bgcolor\":\"white\",\"plot_bgcolor\":\"#E5ECF6\",\"polar\":{\"bgcolor\":\"#E5ECF6\",\"angularaxis\":{\"gridcolor\":\"white\",\"linecolor\":\"white\",\"ticks\":\"\"},\"radialaxis\":{\"gridcolor\":\"white\",\"linecolor\":\"white\",\"ticks\":\"\"}},\"ternary\":{\"bgcolor\":\"#E5ECF6\",\"aaxis\":{\"gridcolor\":\"white\",\"linecolor\":\"white\",\"ticks\":\"\"},\"baxis\":{\"gridcolor\":\"white\",\"linecolor\":\"white\",\"ticks\":\"\"},\"caxis\":{\"gridcolor\":\"white\",\"linecolor\":\"white\",\"ticks\":\"\"}},\"coloraxis\":{\"colorbar\":{\"outlinewidth\":0,\"ticks\":\"\"}},\"colorscale\":{\"sequential\":[[0.0,\"#0d0887\"],[0.1111111111111111,\"#46039f\"],[0.2222222222222222,\"#7201a8\"],[0.3333333333333333,\"#9c179e\"],[0.4444444444444444,\"#bd3786\"],[0.5555555555555556,\"#d8576b\"],[0.6666666666666666,\"#ed7953\"],[0.7777777777777778,\"#fb9f3a\"],[0.8888888888888888,\"#fdca26\"],[1.0,\"#f0f921\"]],\"sequentialminus\":[[0.0,\"#0d0887\"],[0.1111111111111111,\"#46039f\"],[0.2222222222222222,\"#7201a8\"],[0.3333333333333333,\"#9c179e\"],[0.4444444444444444,\"#bd3786\"],[0.5555555555555556,\"#d8576b\"],[0.6666666666666666,\"#ed7953\"],[0.7777777777777778,\"#fb9f3a\"],[0.8888888888888888,\"#fdca26\"],[1.0,\"#f0f921\"]],\"diverging\":[[0,\"#8e0152\"],[0.1,\"#c51b7d\"],[0.2,\"#de77ae\"],[0.3,\"#f1b6da\"],[0.4,\"#fde0ef\"],[0.5,\"#f7f7f7\"],[0.6,\"#e6f5d0\"],[0.7,\"#b8e186\"],[0.8,\"#7fbc41\"],[0.9,\"#4d9221\"],[1,\"#276419\"]]},\"xaxis\":{\"gridcolor\":\"white\",\"linecolor\":\"white\",\"ticks\":\"\",\"title\":{\"standoff\":15},\"zerolinecolor\":\"white\",\"automargin\":true,\"zerolinewidth\":2},\"yaxis\":{\"gridcolor\":\"white\",\"linecolor\":\"white\",\"ticks\":\"\",\"title\":{\"standoff\":15},\"zerolinecolor\":\"white\",\"automargin\":true,\"zerolinewidth\":2},\"scene\":{\"xaxis\":{\"backgroundcolor\":\"#E5ECF6\",\"gridcolor\":\"white\",\"linecolor\":\"white\",\"showbackground\":true,\"ticks\":\"\",\"zerolinecolor\":\"white\",\"gridwidth\":2},\"yaxis\":{\"backgroundcolor\":\"#E5ECF6\",\"gridcolor\":\"white\",\"linecolor\":\"white\",\"showbackground\":true,\"ticks\":\"\",\"zerolinecolor\":\"white\",\"gridwidth\":2},\"zaxis\":{\"backgroundcolor\":\"#E5ECF6\",\"gridcolor\":\"white\",\"linecolor\":\"white\",\"showbackground\":true,\"ticks\":\"\",\"zerolinecolor\":\"white\",\"gridwidth\":2}},\"shapedefaults\":{\"line\":{\"color\":\"#2a3f5f\"}},\"annotationdefaults\":{\"arrowcolor\":\"#2a3f5f\",\"arrowhead\":0,\"arrowwidth\":1},\"geo\":{\"bgcolor\":\"white\",\"landcolor\":\"#E5ECF6\",\"subunitcolor\":\"white\",\"showland\":true,\"showlakes\":true,\"lakecolor\":\"white\"},\"title\":{\"x\":0.05},\"mapbox\":{\"style\":\"light\"}}}},                        {\"responsive\": true}                    ).then(function(){\n",
       "                            \n",
       "var gd = document.getElementById('91001166-81f8-4089-a51b-ae0fe36e9a1a');\n",
       "var x = new MutationObserver(function (mutations, observer) {{\n",
       "        var display = window.getComputedStyle(gd).display;\n",
       "        if (!display || display === 'none') {{\n",
       "            console.log([gd, 'removed!']);\n",
       "            Plotly.purge(gd);\n",
       "            observer.disconnect();\n",
       "        }}\n",
       "}});\n",
       "\n",
       "// Listen for the removal of the full notebook cells\n",
       "var notebookContainer = gd.closest('#notebook-container');\n",
       "if (notebookContainer) {{\n",
       "    x.observe(notebookContainer, {childList: true});\n",
       "}}\n",
       "\n",
       "// Listen for the clearing of the current output cell\n",
       "var outputEl = gd.closest('.output');\n",
       "if (outputEl) {{\n",
       "    x.observe(outputEl, {childList: true});\n",
       "}}\n",
       "\n",
       "                        })                };                });            </script>        </div>"
      ]
     },
     "metadata": {},
     "output_type": "display_data"
    }
   ],
   "source": [
    "# Create the Plotly figure\n",
    "fig = go.Figure()\n",
    "\n",
    "for ptype in primary_type_count.index:\n",
    "    fig.add_trace(\n",
    "        go.Bar(\n",
    "            x=[ptype],\n",
    "            y=[primary_type_count[ptype]], \n",
    "            marker=dict(color=type_colors[ptype]),\n",
    "            hoverinfo='all', \n",
    "            name=ptype,\n",
    "        )\n",
    "    )\n",
    "\n",
    "# Show the figure\n",
    "fig.show()"
   ]
  },
  {
   "cell_type": "markdown",
   "id": "58d1b2b1-d0e4-4940-bdc5-5554a17710c9",
   "metadata": {},
   "source": [
    "## Bar Chart Configuration"
   ]
  },
  {
   "cell_type": "code",
   "execution_count": 48,
   "id": "daa186a5-6b6e-449c-9719-186246b6902c",
   "metadata": {},
   "outputs": [
    {
     "data": {
      "application/vnd.plotly.v1+json": {
       "config": {
        "plotlyServerURL": "https://plot.ly"
       },
       "data": [
        {
         "hoverinfo": "all",
         "marker": {
          "color": "#6890F0"
         },
         "name": "water",
         "type": "bar",
         "x": [
          "water"
         ],
         "y": [
          73
         ]
        },
        {
         "hoverinfo": "all",
         "marker": {
          "color": "#A8A878"
         },
         "name": "normal",
         "type": "bar",
         "x": [
          "normal"
         ],
         "y": [
          60
         ]
        },
        {
         "hoverinfo": "all",
         "marker": {
          "color": "#78C850"
         },
         "name": "grass",
         "type": "bar",
         "x": [
          "grass"
         ],
         "y": [
          36
         ]
        },
        {
         "hoverinfo": "all",
         "marker": {
          "color": "#A8B820"
         },
         "name": "bug",
         "type": "bar",
         "x": [
          "bug"
         ],
         "y": [
          36
         ]
        },
        {
         "hoverinfo": "all",
         "marker": {
          "color": "#F08030"
         },
         "name": "fire",
         "type": "bar",
         "x": [
          "fire"
         ],
         "y": [
          29
         ]
        },
        {
         "hoverinfo": "all",
         "marker": {
          "color": "#F85888"
         },
         "name": "psychic",
         "type": "bar",
         "x": [
          "psychic"
         ],
         "y": [
          23
         ]
        },
        {
         "hoverinfo": "all",
         "marker": {
          "color": "#F8D030"
         },
         "name": "electric",
         "type": "bar",
         "x": [
          "electric"
         ],
         "y": [
          22
         ]
        },
        {
         "hoverinfo": "all",
         "marker": {
          "color": "#B8A038"
         },
         "name": "rock",
         "type": "bar",
         "x": [
          "rock"
         ],
         "y": [
          21
         ]
        },
        {
         "hoverinfo": "all",
         "marker": {
          "color": "#A040A0"
         },
         "name": "poison",
         "type": "bar",
         "x": [
          "poison"
         ],
         "y": [
          18
         ]
        },
        {
         "hoverinfo": "all",
         "marker": {
          "color": "#E0C068"
         },
         "name": "ground",
         "type": "bar",
         "x": [
          "ground"
         ],
         "y": [
          17
         ]
        },
        {
         "hoverinfo": "all",
         "marker": {
          "color": "#C03028"
         },
         "name": "fighting",
         "type": "bar",
         "x": [
          "fighting"
         ],
         "y": [
          13
         ]
        },
        {
         "hoverinfo": "all",
         "marker": {
          "color": "#98D8D8"
         },
         "name": "ice",
         "type": "bar",
         "x": [
          "ice"
         ],
         "y": [
          12
         ]
        },
        {
         "hoverinfo": "all",
         "marker": {
          "color": "#B8B8D0"
         },
         "name": "steel",
         "type": "bar",
         "x": [
          "steel"
         ],
         "y": [
          11
         ]
        },
        {
         "hoverinfo": "all",
         "marker": {
          "color": "#7038F8"
         },
         "name": "dragon",
         "type": "bar",
         "x": [
          "dragon"
         ],
         "y": [
          10
         ]
        },
        {
         "hoverinfo": "all",
         "marker": {
          "color": "#705848"
         },
         "name": "dark",
         "type": "bar",
         "x": [
          "dark"
         ],
         "y": [
          9
         ]
        },
        {
         "hoverinfo": "all",
         "marker": {
          "color": "#705898"
         },
         "name": "ghost",
         "type": "bar",
         "x": [
          "ghost"
         ],
         "y": [
          8
         ]
        },
        {
         "hoverinfo": "all",
         "marker": {
          "color": "#EE99AC"
         },
         "name": "fairy",
         "type": "bar",
         "x": [
          "fairy"
         ],
         "y": [
          7
         ]
        }
       ],
       "layout": {
        "height": 450,
        "template": {
         "data": {
          "bar": [
           {
            "error_x": {
             "color": "#2a3f5f"
            },
            "error_y": {
             "color": "#2a3f5f"
            },
            "marker": {
             "line": {
              "color": "#E5ECF6",
              "width": 0.5
             },
             "pattern": {
              "fillmode": "overlay",
              "size": 10,
              "solidity": 0.2
             }
            },
            "type": "bar"
           }
          ],
          "barpolar": [
           {
            "marker": {
             "line": {
              "color": "#E5ECF6",
              "width": 0.5
             },
             "pattern": {
              "fillmode": "overlay",
              "size": 10,
              "solidity": 0.2
             }
            },
            "type": "barpolar"
           }
          ],
          "carpet": [
           {
            "aaxis": {
             "endlinecolor": "#2a3f5f",
             "gridcolor": "white",
             "linecolor": "white",
             "minorgridcolor": "white",
             "startlinecolor": "#2a3f5f"
            },
            "baxis": {
             "endlinecolor": "#2a3f5f",
             "gridcolor": "white",
             "linecolor": "white",
             "minorgridcolor": "white",
             "startlinecolor": "#2a3f5f"
            },
            "type": "carpet"
           }
          ],
          "choropleth": [
           {
            "colorbar": {
             "outlinewidth": 0,
             "ticks": ""
            },
            "type": "choropleth"
           }
          ],
          "contour": [
           {
            "colorbar": {
             "outlinewidth": 0,
             "ticks": ""
            },
            "colorscale": [
             [
              0,
              "#0d0887"
             ],
             [
              0.1111111111111111,
              "#46039f"
             ],
             [
              0.2222222222222222,
              "#7201a8"
             ],
             [
              0.3333333333333333,
              "#9c179e"
             ],
             [
              0.4444444444444444,
              "#bd3786"
             ],
             [
              0.5555555555555556,
              "#d8576b"
             ],
             [
              0.6666666666666666,
              "#ed7953"
             ],
             [
              0.7777777777777778,
              "#fb9f3a"
             ],
             [
              0.8888888888888888,
              "#fdca26"
             ],
             [
              1,
              "#f0f921"
             ]
            ],
            "type": "contour"
           }
          ],
          "contourcarpet": [
           {
            "colorbar": {
             "outlinewidth": 0,
             "ticks": ""
            },
            "type": "contourcarpet"
           }
          ],
          "heatmap": [
           {
            "colorbar": {
             "outlinewidth": 0,
             "ticks": ""
            },
            "colorscale": [
             [
              0,
              "#0d0887"
             ],
             [
              0.1111111111111111,
              "#46039f"
             ],
             [
              0.2222222222222222,
              "#7201a8"
             ],
             [
              0.3333333333333333,
              "#9c179e"
             ],
             [
              0.4444444444444444,
              "#bd3786"
             ],
             [
              0.5555555555555556,
              "#d8576b"
             ],
             [
              0.6666666666666666,
              "#ed7953"
             ],
             [
              0.7777777777777778,
              "#fb9f3a"
             ],
             [
              0.8888888888888888,
              "#fdca26"
             ],
             [
              1,
              "#f0f921"
             ]
            ],
            "type": "heatmap"
           }
          ],
          "heatmapgl": [
           {
            "colorbar": {
             "outlinewidth": 0,
             "ticks": ""
            },
            "colorscale": [
             [
              0,
              "#0d0887"
             ],
             [
              0.1111111111111111,
              "#46039f"
             ],
             [
              0.2222222222222222,
              "#7201a8"
             ],
             [
              0.3333333333333333,
              "#9c179e"
             ],
             [
              0.4444444444444444,
              "#bd3786"
             ],
             [
              0.5555555555555556,
              "#d8576b"
             ],
             [
              0.6666666666666666,
              "#ed7953"
             ],
             [
              0.7777777777777778,
              "#fb9f3a"
             ],
             [
              0.8888888888888888,
              "#fdca26"
             ],
             [
              1,
              "#f0f921"
             ]
            ],
            "type": "heatmapgl"
           }
          ],
          "histogram": [
           {
            "marker": {
             "pattern": {
              "fillmode": "overlay",
              "size": 10,
              "solidity": 0.2
             }
            },
            "type": "histogram"
           }
          ],
          "histogram2d": [
           {
            "colorbar": {
             "outlinewidth": 0,
             "ticks": ""
            },
            "colorscale": [
             [
              0,
              "#0d0887"
             ],
             [
              0.1111111111111111,
              "#46039f"
             ],
             [
              0.2222222222222222,
              "#7201a8"
             ],
             [
              0.3333333333333333,
              "#9c179e"
             ],
             [
              0.4444444444444444,
              "#bd3786"
             ],
             [
              0.5555555555555556,
              "#d8576b"
             ],
             [
              0.6666666666666666,
              "#ed7953"
             ],
             [
              0.7777777777777778,
              "#fb9f3a"
             ],
             [
              0.8888888888888888,
              "#fdca26"
             ],
             [
              1,
              "#f0f921"
             ]
            ],
            "type": "histogram2d"
           }
          ],
          "histogram2dcontour": [
           {
            "colorbar": {
             "outlinewidth": 0,
             "ticks": ""
            },
            "colorscale": [
             [
              0,
              "#0d0887"
             ],
             [
              0.1111111111111111,
              "#46039f"
             ],
             [
              0.2222222222222222,
              "#7201a8"
             ],
             [
              0.3333333333333333,
              "#9c179e"
             ],
             [
              0.4444444444444444,
              "#bd3786"
             ],
             [
              0.5555555555555556,
              "#d8576b"
             ],
             [
              0.6666666666666666,
              "#ed7953"
             ],
             [
              0.7777777777777778,
              "#fb9f3a"
             ],
             [
              0.8888888888888888,
              "#fdca26"
             ],
             [
              1,
              "#f0f921"
             ]
            ],
            "type": "histogram2dcontour"
           }
          ],
          "mesh3d": [
           {
            "colorbar": {
             "outlinewidth": 0,
             "ticks": ""
            },
            "type": "mesh3d"
           }
          ],
          "parcoords": [
           {
            "line": {
             "colorbar": {
              "outlinewidth": 0,
              "ticks": ""
             }
            },
            "type": "parcoords"
           }
          ],
          "pie": [
           {
            "automargin": true,
            "type": "pie"
           }
          ],
          "scatter": [
           {
            "fillpattern": {
             "fillmode": "overlay",
             "size": 10,
             "solidity": 0.2
            },
            "type": "scatter"
           }
          ],
          "scatter3d": [
           {
            "line": {
             "colorbar": {
              "outlinewidth": 0,
              "ticks": ""
             }
            },
            "marker": {
             "colorbar": {
              "outlinewidth": 0,
              "ticks": ""
             }
            },
            "type": "scatter3d"
           }
          ],
          "scattercarpet": [
           {
            "marker": {
             "colorbar": {
              "outlinewidth": 0,
              "ticks": ""
             }
            },
            "type": "scattercarpet"
           }
          ],
          "scattergeo": [
           {
            "marker": {
             "colorbar": {
              "outlinewidth": 0,
              "ticks": ""
             }
            },
            "type": "scattergeo"
           }
          ],
          "scattergl": [
           {
            "marker": {
             "colorbar": {
              "outlinewidth": 0,
              "ticks": ""
             }
            },
            "type": "scattergl"
           }
          ],
          "scattermapbox": [
           {
            "marker": {
             "colorbar": {
              "outlinewidth": 0,
              "ticks": ""
             }
            },
            "type": "scattermapbox"
           }
          ],
          "scatterpolar": [
           {
            "marker": {
             "colorbar": {
              "outlinewidth": 0,
              "ticks": ""
             }
            },
            "type": "scatterpolar"
           }
          ],
          "scatterpolargl": [
           {
            "marker": {
             "colorbar": {
              "outlinewidth": 0,
              "ticks": ""
             }
            },
            "type": "scatterpolargl"
           }
          ],
          "scatterternary": [
           {
            "marker": {
             "colorbar": {
              "outlinewidth": 0,
              "ticks": ""
             }
            },
            "type": "scatterternary"
           }
          ],
          "surface": [
           {
            "colorbar": {
             "outlinewidth": 0,
             "ticks": ""
            },
            "colorscale": [
             [
              0,
              "#0d0887"
             ],
             [
              0.1111111111111111,
              "#46039f"
             ],
             [
              0.2222222222222222,
              "#7201a8"
             ],
             [
              0.3333333333333333,
              "#9c179e"
             ],
             [
              0.4444444444444444,
              "#bd3786"
             ],
             [
              0.5555555555555556,
              "#d8576b"
             ],
             [
              0.6666666666666666,
              "#ed7953"
             ],
             [
              0.7777777777777778,
              "#fb9f3a"
             ],
             [
              0.8888888888888888,
              "#fdca26"
             ],
             [
              1,
              "#f0f921"
             ]
            ],
            "type": "surface"
           }
          ],
          "table": [
           {
            "cells": {
             "fill": {
              "color": "#EBF0F8"
             },
             "line": {
              "color": "white"
             }
            },
            "header": {
             "fill": {
              "color": "#C8D4E3"
             },
             "line": {
              "color": "white"
             }
            },
            "type": "table"
           }
          ]
         },
         "layout": {
          "annotationdefaults": {
           "arrowcolor": "#2a3f5f",
           "arrowhead": 0,
           "arrowwidth": 1
          },
          "autotypenumbers": "strict",
          "coloraxis": {
           "colorbar": {
            "outlinewidth": 0,
            "ticks": ""
           }
          },
          "colorscale": {
           "diverging": [
            [
             0,
             "#8e0152"
            ],
            [
             0.1,
             "#c51b7d"
            ],
            [
             0.2,
             "#de77ae"
            ],
            [
             0.3,
             "#f1b6da"
            ],
            [
             0.4,
             "#fde0ef"
            ],
            [
             0.5,
             "#f7f7f7"
            ],
            [
             0.6,
             "#e6f5d0"
            ],
            [
             0.7,
             "#b8e186"
            ],
            [
             0.8,
             "#7fbc41"
            ],
            [
             0.9,
             "#4d9221"
            ],
            [
             1,
             "#276419"
            ]
           ],
           "sequential": [
            [
             0,
             "#0d0887"
            ],
            [
             0.1111111111111111,
             "#46039f"
            ],
            [
             0.2222222222222222,
             "#7201a8"
            ],
            [
             0.3333333333333333,
             "#9c179e"
            ],
            [
             0.4444444444444444,
             "#bd3786"
            ],
            [
             0.5555555555555556,
             "#d8576b"
            ],
            [
             0.6666666666666666,
             "#ed7953"
            ],
            [
             0.7777777777777778,
             "#fb9f3a"
            ],
            [
             0.8888888888888888,
             "#fdca26"
            ],
            [
             1,
             "#f0f921"
            ]
           ],
           "sequentialminus": [
            [
             0,
             "#0d0887"
            ],
            [
             0.1111111111111111,
             "#46039f"
            ],
            [
             0.2222222222222222,
             "#7201a8"
            ],
            [
             0.3333333333333333,
             "#9c179e"
            ],
            [
             0.4444444444444444,
             "#bd3786"
            ],
            [
             0.5555555555555556,
             "#d8576b"
            ],
            [
             0.6666666666666666,
             "#ed7953"
            ],
            [
             0.7777777777777778,
             "#fb9f3a"
            ],
            [
             0.8888888888888888,
             "#fdca26"
            ],
            [
             1,
             "#f0f921"
            ]
           ]
          },
          "colorway": [
           "#636efa",
           "#EF553B",
           "#00cc96",
           "#ab63fa",
           "#FFA15A",
           "#19d3f3",
           "#FF6692",
           "#B6E880",
           "#FF97FF",
           "#FECB52"
          ],
          "font": {
           "color": "#2a3f5f"
          },
          "geo": {
           "bgcolor": "white",
           "lakecolor": "white",
           "landcolor": "#E5ECF6",
           "showlakes": true,
           "showland": true,
           "subunitcolor": "white"
          },
          "hoverlabel": {
           "align": "left"
          },
          "hovermode": "closest",
          "mapbox": {
           "style": "light"
          },
          "paper_bgcolor": "white",
          "plot_bgcolor": "#E5ECF6",
          "polar": {
           "angularaxis": {
            "gridcolor": "white",
            "linecolor": "white",
            "ticks": ""
           },
           "bgcolor": "#E5ECF6",
           "radialaxis": {
            "gridcolor": "white",
            "linecolor": "white",
            "ticks": ""
           }
          },
          "scene": {
           "xaxis": {
            "backgroundcolor": "#E5ECF6",
            "gridcolor": "white",
            "gridwidth": 2,
            "linecolor": "white",
            "showbackground": true,
            "ticks": "",
            "zerolinecolor": "white"
           },
           "yaxis": {
            "backgroundcolor": "#E5ECF6",
            "gridcolor": "white",
            "gridwidth": 2,
            "linecolor": "white",
            "showbackground": true,
            "ticks": "",
            "zerolinecolor": "white"
           },
           "zaxis": {
            "backgroundcolor": "#E5ECF6",
            "gridcolor": "white",
            "gridwidth": 2,
            "linecolor": "white",
            "showbackground": true,
            "ticks": "",
            "zerolinecolor": "white"
           }
          },
          "shapedefaults": {
           "line": {
            "color": "#2a3f5f"
           }
          },
          "ternary": {
           "aaxis": {
            "gridcolor": "white",
            "linecolor": "white",
            "ticks": ""
           },
           "baxis": {
            "gridcolor": "white",
            "linecolor": "white",
            "ticks": ""
           },
           "bgcolor": "#E5ECF6",
           "caxis": {
            "gridcolor": "white",
            "linecolor": "white",
            "ticks": ""
           }
          },
          "title": {
           "x": 0.05
          },
          "xaxis": {
           "automargin": true,
           "gridcolor": "white",
           "linecolor": "white",
           "ticks": "",
           "title": {
            "standoff": 15
           },
           "zerolinecolor": "white",
           "zerolinewidth": 2
          },
          "yaxis": {
           "automargin": true,
           "gridcolor": "white",
           "linecolor": "white",
           "ticks": "",
           "title": {
            "standoff": 15
           },
           "zerolinecolor": "white",
           "zerolinewidth": 2
          }
         }
        },
        "title": {
         "text": "Pokemon Primary Ability Distribution - Overall"
        },
        "width": 800,
        "xaxis": {
         "autorange": true,
         "range": [
          -0.5,
          16.5
         ],
         "type": "category"
        },
        "yaxis": {
         "autorange": true,
         "range": [
          0,
          76.84210526315789
         ],
         "type": "linear"
        }
       }
      },
      "image/png": "[encoded data removed]",
      "text/html": [
       "<div>                            <div id=\"8427693d-163e-4d61-bc79-8ea4796d8b77\" class=\"plotly-graph-div\" style=\"height:450px; width:800px;\"></div>            <script type=\"text/javascript\">                require([\"plotly\"], function(Plotly) {                    window.PLOTLYENV=window.PLOTLYENV || {};                                    if (document.getElementById(\"8427693d-163e-4d61-bc79-8ea4796d8b77\")) {                    Plotly.newPlot(                        \"8427693d-163e-4d61-bc79-8ea4796d8b77\",                        [{\"hoverinfo\":\"all\",\"marker\":{\"color\":\"#6890F0\"},\"name\":\"water\",\"x\":[\"water\"],\"y\":[73],\"type\":\"bar\"},{\"hoverinfo\":\"all\",\"marker\":{\"color\":\"#A8A878\"},\"name\":\"normal\",\"x\":[\"normal\"],\"y\":[60],\"type\":\"bar\"},{\"hoverinfo\":\"all\",\"marker\":{\"color\":\"#78C850\"},\"name\":\"grass\",\"x\":[\"grass\"],\"y\":[36],\"type\":\"bar\"},{\"hoverinfo\":\"all\",\"marker\":{\"color\":\"#A8B820\"},\"name\":\"bug\",\"x\":[\"bug\"],\"y\":[36],\"type\":\"bar\"},{\"hoverinfo\":\"all\",\"marker\":{\"color\":\"#F08030\"},\"name\":\"fire\",\"x\":[\"fire\"],\"y\":[29],\"type\":\"bar\"},{\"hoverinfo\":\"all\",\"marker\":{\"color\":\"#F85888\"},\"name\":\"psychic\",\"x\":[\"psychic\"],\"y\":[23],\"type\":\"bar\"},{\"hoverinfo\":\"all\",\"marker\":{\"color\":\"#F8D030\"},\"name\":\"electric\",\"x\":[\"electric\"],\"y\":[22],\"type\":\"bar\"},{\"hoverinfo\":\"all\",\"marker\":{\"color\":\"#B8A038\"},\"name\":\"rock\",\"x\":[\"rock\"],\"y\":[21],\"type\":\"bar\"},{\"hoverinfo\":\"all\",\"marker\":{\"color\":\"#A040A0\"},\"name\":\"poison\",\"x\":[\"poison\"],\"y\":[18],\"type\":\"bar\"},{\"hoverinfo\":\"all\",\"marker\":{\"color\":\"#E0C068\"},\"name\":\"ground\",\"x\":[\"ground\"],\"y\":[17],\"type\":\"bar\"},{\"hoverinfo\":\"all\",\"marker\":{\"color\":\"#C03028\"},\"name\":\"fighting\",\"x\":[\"fighting\"],\"y\":[13],\"type\":\"bar\"},{\"hoverinfo\":\"all\",\"marker\":{\"color\":\"#98D8D8\"},\"name\":\"ice\",\"x\":[\"ice\"],\"y\":[12],\"type\":\"bar\"},{\"hoverinfo\":\"all\",\"marker\":{\"color\":\"#B8B8D0\"},\"name\":\"steel\",\"x\":[\"steel\"],\"y\":[11],\"type\":\"bar\"},{\"hoverinfo\":\"all\",\"marker\":{\"color\":\"#7038F8\"},\"name\":\"dragon\",\"x\":[\"dragon\"],\"y\":[10],\"type\":\"bar\"},{\"hoverinfo\":\"all\",\"marker\":{\"color\":\"#705848\"},\"name\":\"dark\",\"x\":[\"dark\"],\"y\":[9],\"type\":\"bar\"},{\"hoverinfo\":\"all\",\"marker\":{\"color\":\"#705898\"},\"name\":\"ghost\",\"x\":[\"ghost\"],\"y\":[8],\"type\":\"bar\"},{\"hoverinfo\":\"all\",\"marker\":{\"color\":\"#EE99AC\"},\"name\":\"fairy\",\"x\":[\"fairy\"],\"y\":[7],\"type\":\"bar\"}],                        {\"template\":{\"data\":{\"histogram2dcontour\":[{\"type\":\"histogram2dcontour\",\"colorbar\":{\"outlinewidth\":0,\"ticks\":\"\"},\"colorscale\":[[0.0,\"#0d0887\"],[0.1111111111111111,\"#46039f\"],[0.2222222222222222,\"#7201a8\"],[0.3333333333333333,\"#9c179e\"],[0.4444444444444444,\"#bd3786\"],[0.5555555555555556,\"#d8576b\"],[0.6666666666666666,\"#ed7953\"],[0.7777777777777778,\"#fb9f3a\"],[0.8888888888888888,\"#fdca26\"],[1.0,\"#f0f921\"]]}],\"choropleth\":[{\"type\":\"choropleth\",\"colorbar\":{\"outlinewidth\":0,\"ticks\":\"\"}}],\"histogram2d\":[{\"type\":\"histogram2d\",\"colorbar\":{\"outlinewidth\":0,\"ticks\":\"\"},\"colorscale\":[[0.0,\"#0d0887\"],[0.1111111111111111,\"#46039f\"],[0.2222222222222222,\"#7201a8\"],[0.3333333333333333,\"#9c179e\"],[0.4444444444444444,\"#bd3786\"],[0.5555555555555556,\"#d8576b\"],[0.6666666666666666,\"#ed7953\"],[0.7777777777777778,\"#fb9f3a\"],[0.8888888888888888,\"#fdca26\"],[1.0,\"#f0f921\"]]}],\"heatmap\":[{\"type\":\"heatmap\",\"colorbar\":{\"outlinewidth\":0,\"ticks\":\"\"},\"colorscale\":[[0.0,\"#0d0887\"],[0.1111111111111111,\"#46039f\"],[0.2222222222222222,\"#7201a8\"],[0.3333333333333333,\"#9c179e\"],[0.4444444444444444,\"#bd3786\"],[0.5555555555555556,\"#d8576b\"],[0.6666666666666666,\"#ed7953\"],[0.7777777777777778,\"#fb9f3a\"],[0.8888888888888888,\"#fdca26\"],[1.0,\"#f0f921\"]]}],\"heatmapgl\":[{\"type\":\"heatmapgl\",\"colorbar\":{\"outlinewidth\":0,\"ticks\":\"\"},\"colorscale\":[[0.0,\"#0d0887\"],[0.1111111111111111,\"#46039f\"],[0.2222222222222222,\"#7201a8\"],[0.3333333333333333,\"#9c179e\"],[0.4444444444444444,\"#bd3786\"],[0.5555555555555556,\"#d8576b\"],[0.6666666666666666,\"#ed7953\"],[0.7777777777777778,\"#fb9f3a\"],[0.8888888888888888,\"#fdca26\"],[1.0,\"#f0f921\"]]}],\"contourcarpet\":[{\"type\":\"contourcarpet\",\"colorbar\":{\"outlinewidth\":0,\"ticks\":\"\"}}],\"contour\":[{\"type\":\"contour\",\"colorbar\":{\"outlinewidth\":0,\"ticks\":\"\"},\"colorscale\":[[0.0,\"#0d0887\"],[0.1111111111111111,\"#46039f\"],[0.2222222222222222,\"#7201a8\"],[0.3333333333333333,\"#9c179e\"],[0.4444444444444444,\"#bd3786\"],[0.5555555555555556,\"#d8576b\"],[0.6666666666666666,\"#ed7953\"],[0.7777777777777778,\"#fb9f3a\"],[0.8888888888888888,\"#fdca26\"],[1.0,\"#f0f921\"]]}],\"surface\":[{\"type\":\"surface\",\"colorbar\":{\"outlinewidth\":0,\"ticks\":\"\"},\"colorscale\":[[0.0,\"#0d0887\"],[0.1111111111111111,\"#46039f\"],[0.2222222222222222,\"#7201a8\"],[0.3333333333333333,\"#9c179e\"],[0.4444444444444444,\"#bd3786\"],[0.5555555555555556,\"#d8576b\"],[0.6666666666666666,\"#ed7953\"],[0.7777777777777778,\"#fb9f3a\"],[0.8888888888888888,\"#fdca26\"],[1.0,\"#f0f921\"]]}],\"mesh3d\":[{\"type\":\"mesh3d\",\"colorbar\":{\"outlinewidth\":0,\"ticks\":\"\"}}],\"scatter\":[{\"fillpattern\":{\"fillmode\":\"overlay\",\"size\":10,\"solidity\":0.2},\"type\":\"scatter\"}],\"parcoords\":[{\"type\":\"parcoords\",\"line\":{\"colorbar\":{\"outlinewidth\":0,\"ticks\":\"\"}}}],\"scatterpolargl\":[{\"type\":\"scatterpolargl\",\"marker\":{\"colorbar\":{\"outlinewidth\":0,\"ticks\":\"\"}}}],\"bar\":[{\"error_x\":{\"color\":\"#2a3f5f\"},\"error_y\":{\"color\":\"#2a3f5f\"},\"marker\":{\"line\":{\"color\":\"#E5ECF6\",\"width\":0.5},\"pattern\":{\"fillmode\":\"overlay\",\"size\":10,\"solidity\":0.2}},\"type\":\"bar\"}],\"scattergeo\":[{\"type\":\"scattergeo\",\"marker\":{\"colorbar\":{\"outlinewidth\":0,\"ticks\":\"\"}}}],\"scatterpolar\":[{\"type\":\"scatterpolar\",\"marker\":{\"colorbar\":{\"outlinewidth\":0,\"ticks\":\"\"}}}],\"histogram\":[{\"marker\":{\"pattern\":{\"fillmode\":\"overlay\",\"size\":10,\"solidity\":0.2}},\"type\":\"histogram\"}],\"scattergl\":[{\"type\":\"scattergl\",\"marker\":{\"colorbar\":{\"outlinewidth\":0,\"ticks\":\"\"}}}],\"scatter3d\":[{\"type\":\"scatter3d\",\"line\":{\"colorbar\":{\"outlinewidth\":0,\"ticks\":\"\"}},\"marker\":{\"colorbar\":{\"outlinewidth\":0,\"ticks\":\"\"}}}],\"scattermapbox\":[{\"type\":\"scattermapbox\",\"marker\":{\"colorbar\":{\"outlinewidth\":0,\"ticks\":\"\"}}}],\"scatterternary\":[{\"type\":\"scatterternary\",\"marker\":{\"colorbar\":{\"outlinewidth\":0,\"ticks\":\"\"}}}],\"scattercarpet\":[{\"type\":\"scattercarpet\",\"marker\":{\"colorbar\":{\"outlinewidth\":0,\"ticks\":\"\"}}}],\"carpet\":[{\"aaxis\":{\"endlinecolor\":\"#2a3f5f\",\"gridcolor\":\"white\",\"linecolor\":\"white\",\"minorgridcolor\":\"white\",\"startlinecolor\":\"#2a3f5f\"},\"baxis\":{\"endlinecolor\":\"#2a3f5f\",\"gridcolor\":\"white\",\"linecolor\":\"white\",\"minorgridcolor\":\"white\",\"startlinecolor\":\"#2a3f5f\"},\"type\":\"carpet\"}],\"table\":[{\"cells\":{\"fill\":{\"color\":\"#EBF0F8\"},\"line\":{\"color\":\"white\"}},\"header\":{\"fill\":{\"color\":\"#C8D4E3\"},\"line\":{\"color\":\"white\"}},\"type\":\"table\"}],\"barpolar\":[{\"marker\":{\"line\":{\"color\":\"#E5ECF6\",\"width\":0.5},\"pattern\":{\"fillmode\":\"overlay\",\"size\":10,\"solidity\":0.2}},\"type\":\"barpolar\"}],\"pie\":[{\"automargin\":true,\"type\":\"pie\"}]},\"layout\":{\"autotypenumbers\":\"strict\",\"colorway\":[\"#636efa\",\"#EF553B\",\"#00cc96\",\"#ab63fa\",\"#FFA15A\",\"#19d3f3\",\"#FF6692\",\"#B6E880\",\"#FF97FF\",\"#FECB52\"],\"font\":{\"color\":\"#2a3f5f\"},\"hovermode\":\"closest\",\"hoverlabel\":{\"align\":\"left\"},\"paper_bgcolor\":\"white\",\"plot_bgcolor\":\"#E5ECF6\",\"polar\":{\"bgcolor\":\"#E5ECF6\",\"angularaxis\":{\"gridcolor\":\"white\",\"linecolor\":\"white\",\"ticks\":\"\"},\"radialaxis\":{\"gridcolor\":\"white\",\"linecolor\":\"white\",\"ticks\":\"\"}},\"ternary\":{\"bgcolor\":\"#E5ECF6\",\"aaxis\":{\"gridcolor\":\"white\",\"linecolor\":\"white\",\"ticks\":\"\"},\"baxis\":{\"gridcolor\":\"white\",\"linecolor\":\"white\",\"ticks\":\"\"},\"caxis\":{\"gridcolor\":\"white\",\"linecolor\":\"white\",\"ticks\":\"\"}},\"coloraxis\":{\"colorbar\":{\"outlinewidth\":0,\"ticks\":\"\"}},\"colorscale\":{\"sequential\":[[0.0,\"#0d0887\"],[0.1111111111111111,\"#46039f\"],[0.2222222222222222,\"#7201a8\"],[0.3333333333333333,\"#9c179e\"],[0.4444444444444444,\"#bd3786\"],[0.5555555555555556,\"#d8576b\"],[0.6666666666666666,\"#ed7953\"],[0.7777777777777778,\"#fb9f3a\"],[0.8888888888888888,\"#fdca26\"],[1.0,\"#f0f921\"]],\"sequentialminus\":[[0.0,\"#0d0887\"],[0.1111111111111111,\"#46039f\"],[0.2222222222222222,\"#7201a8\"],[0.3333333333333333,\"#9c179e\"],[0.4444444444444444,\"#bd3786\"],[0.5555555555555556,\"#d8576b\"],[0.6666666666666666,\"#ed7953\"],[0.7777777777777778,\"#fb9f3a\"],[0.8888888888888888,\"#fdca26\"],[1.0,\"#f0f921\"]],\"diverging\":[[0,\"#8e0152\"],[0.1,\"#c51b7d\"],[0.2,\"#de77ae\"],[0.3,\"#f1b6da\"],[0.4,\"#fde0ef\"],[0.5,\"#f7f7f7\"],[0.6,\"#e6f5d0\"],[0.7,\"#b8e186\"],[0.8,\"#7fbc41\"],[0.9,\"#4d9221\"],[1,\"#276419\"]]},\"xaxis\":{\"gridcolor\":\"white\",\"linecolor\":\"white\",\"ticks\":\"\",\"title\":{\"standoff\":15},\"zerolinecolor\":\"white\",\"automargin\":true,\"zerolinewidth\":2},\"yaxis\":{\"gridcolor\":\"white\",\"linecolor\":\"white\",\"ticks\":\"\",\"title\":{\"standoff\":15},\"zerolinecolor\":\"white\",\"automargin\":true,\"zerolinewidth\":2},\"scene\":{\"xaxis\":{\"backgroundcolor\":\"#E5ECF6\",\"gridcolor\":\"white\",\"linecolor\":\"white\",\"showbackground\":true,\"ticks\":\"\",\"zerolinecolor\":\"white\",\"gridwidth\":2},\"yaxis\":{\"backgroundcolor\":\"#E5ECF6\",\"gridcolor\":\"white\",\"linecolor\":\"white\",\"showbackground\":true,\"ticks\":\"\",\"zerolinecolor\":\"white\",\"gridwidth\":2},\"zaxis\":{\"backgroundcolor\":\"#E5ECF6\",\"gridcolor\":\"white\",\"linecolor\":\"white\",\"showbackground\":true,\"ticks\":\"\",\"zerolinecolor\":\"white\",\"gridwidth\":2}},\"shapedefaults\":{\"line\":{\"color\":\"#2a3f5f\"}},\"annotationdefaults\":{\"arrowcolor\":\"#2a3f5f\",\"arrowhead\":0,\"arrowwidth\":1},\"geo\":{\"bgcolor\":\"white\",\"landcolor\":\"#E5ECF6\",\"subunitcolor\":\"white\",\"showland\":true,\"showlakes\":true,\"lakecolor\":\"white\"},\"title\":{\"x\":0.05},\"mapbox\":{\"style\":\"light\"}}},\"title\":{\"text\":\"Pokemon Primary Ability Distribution - Overall\"},\"height\":450,\"width\":800},                        {\"responsive\": true}                    ).then(function(){\n",
       "                            \n",
       "var gd = document.getElementById('8427693d-163e-4d61-bc79-8ea4796d8b77');\n",
       "var x = new MutationObserver(function (mutations, observer) {{\n",
       "        var display = window.getComputedStyle(gd).display;\n",
       "        if (!display || display === 'none') {{\n",
       "            console.log([gd, 'removed!']);\n",
       "            Plotly.purge(gd);\n",
       "            observer.disconnect();\n",
       "        }}\n",
       "}});\n",
       "\n",
       "// Listen for the removal of the full notebook cells\n",
       "var notebookContainer = gd.closest('#notebook-container');\n",
       "if (notebookContainer) {{\n",
       "    x.observe(notebookContainer, {childList: true});\n",
       "}}\n",
       "\n",
       "// Listen for the clearing of the current output cell\n",
       "var outputEl = gd.closest('.output');\n",
       "if (outputEl) {{\n",
       "    x.observe(outputEl, {childList: true});\n",
       "}}\n",
       "\n",
       "                        })                };                });            </script>        </div>"
      ]
     },
     "metadata": {},
     "output_type": "display_data"
    }
   ],
   "source": [
    "fig.update_layout(\n",
    "    title_text='Pokemon Primary Ability Distribution - Overall',\n",
    "    height=450,\n",
    "    width=800\n",
    ")\n",
    "\n",
    "fig.show()"
   ]
  },
  {
   "cell_type": "code",
   "execution_count": 49,
   "id": "0c01db8e-46a4-44c1-9198-08ccb3b08896",
   "metadata": {},
   "outputs": [
    {
     "data": {
      "text/plain": [
       "Index(['name', 'national_no', 'species', 'ev_yield', 'catch_rate',\n",
       "       'base_friendship', 'base_exp', 'growth_rate', 'egg_groups',\n",
       "       'egg_cycles', 'hp', 'min_hp', 'max_hp', 'attack', 'min_attack',\n",
       "       'max_attack', 'defense', 'min_defense', 'max_defense', 'sp_atk',\n",
       "       'min_sp_atk', 'max_sp_atk', 'sp_def', 'min_sp_def', 'max_sp_def',\n",
       "       'speed', 'min_speed', 'max_speed', 'total', 'evo_path',\n",
       "       'pokemon_img_url', 'height_m', 'weight_kg', 'primary_type',\n",
       "       'secondary_type', 'male_percentage', 'female_percentage', 'gen',\n",
       "       'primary_ability', 'secondary_ability'],\n",
       "      dtype='object')"
      ]
     },
     "execution_count": 49,
     "metadata": {},
     "output_type": "execute_result"
    }
   ],
   "source": [
    "df.columns"
   ]
  },
  {
   "cell_type": "code",
   "execution_count": null,
   "id": "5fae6c6a-35be-4a20-b7e4-9028ad5b1180",
   "metadata": {},
   "outputs": [],
   "source": []
  }
 ],
 "metadata": {
  "kernelspec": {
   "display_name": "Python 3 (ipykernel)",
   "language": "python",
   "name": "python3"
  },
  "language_info": {
   "codemirror_mode": {
    "name": "ipython",
    "version": 3
   },
   "file_extension": ".py",
   "mimetype": "text/x-python",
   "name": "python",
   "nbconvert_exporter": "python",
   "pygments_lexer": "ipython3",
   "version": "3.8.20"
  }
 },
 "nbformat": 4,
 "nbformat_minor": 5
}
