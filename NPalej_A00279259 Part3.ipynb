{
 "cells": [
  {
   "cell_type": "markdown",
   "id": "b7dc6a8e-667f-4a09-91bd-0199f4a6b82f",
   "metadata": {},
   "source": [
    "# Natalia Palej A00279259\n",
    "Software Design with Artificial Intelligence for Cloud Computing \n",
    "Year 4"
   ]
  },
  {
   "cell_type": "markdown",
   "id": "4fdb0fcb-68a1-4c51-991c-989981222112",
   "metadata": {},
   "source": [
    "# Part 3: Analysis of Pokémon Distribution by Primary Type"
   ]
  },
  {
   "cell_type": "markdown",
   "id": "a718d543-808b-4b16-a7ea-2f5cfeb46c40",
   "metadata": {},
   "source": [
    "## Make Necessary Imports"
   ]
  },
  {
   "cell_type": "code",
   "execution_count": 5,
   "id": "d4fa7afa-2e40-4d3f-9577-3daf236987fb",
   "metadata": {},
   "outputs": [
    {
     "ename": "ImportError",
     "evalue": "C extension: pandas.compat._constants not built. If you want to import pandas from the source directory, you may need to run 'python setup.py build_ext' to build the C extensions first.",
     "output_type": "error",
     "traceback": [
      "\u001b[1;31m---------------------------------------------------------------------------\u001b[0m",
      "\u001b[1;31mImportError\u001b[0m                               Traceback (most recent call last)",
      "File \u001b[1;32m~\\anaconda3\\envs\\dmml\\Lib\\site-packages\\pandas\\__init__.py:39\u001b[0m\n\u001b[0;32m     37\u001b[0m \u001b[38;5;28;01mtry\u001b[39;00m:\n\u001b[0;32m     38\u001b[0m     \u001b[38;5;66;03m# numpy compat\u001b[39;00m\n\u001b[1;32m---> 39\u001b[0m     \u001b[38;5;28;01mfrom\u001b[39;00m \u001b[38;5;21;01mpandas\u001b[39;00m\u001b[38;5;21;01m.\u001b[39;00m\u001b[38;5;21;01mcompat\u001b[39;00m \u001b[38;5;28;01mimport\u001b[39;00m (\n\u001b[0;32m     40\u001b[0m         is_numpy_dev \u001b[38;5;28;01mas\u001b[39;00m _is_numpy_dev,  \u001b[38;5;66;03m# pyright: ignore[reportUnusedImport] # noqa: F401\u001b[39;00m\n\u001b[0;32m     41\u001b[0m     )\n\u001b[0;32m     42\u001b[0m \u001b[38;5;28;01mexcept\u001b[39;00m \u001b[38;5;167;01mImportError\u001b[39;00m \u001b[38;5;28;01mas\u001b[39;00m _err:  \u001b[38;5;66;03m# pragma: no cover\u001b[39;00m\n",
      "File \u001b[1;32m~\\anaconda3\\envs\\dmml\\Lib\\site-packages\\pandas\\compat\\__init__.py:17\u001b[0m\n\u001b[0;32m     15\u001b[0m \u001b[38;5;28;01mfrom\u001b[39;00m \u001b[38;5;21;01mtyping\u001b[39;00m \u001b[38;5;28;01mimport\u001b[39;00m TYPE_CHECKING\n\u001b[1;32m---> 17\u001b[0m \u001b[38;5;28;01mfrom\u001b[39;00m \u001b[38;5;21;01mpandas\u001b[39;00m\u001b[38;5;21;01m.\u001b[39;00m\u001b[38;5;21;01mcompat\u001b[39;00m\u001b[38;5;21;01m.\u001b[39;00m\u001b[38;5;21;01m_constants\u001b[39;00m \u001b[38;5;28;01mimport\u001b[39;00m (\n\u001b[0;32m     18\u001b[0m     IS64,\n\u001b[0;32m     19\u001b[0m     ISMUSL,\n\u001b[0;32m     20\u001b[0m     PY310,\n\u001b[0;32m     21\u001b[0m     PY311,\n\u001b[0;32m     22\u001b[0m     PY312,\n\u001b[0;32m     23\u001b[0m     PYPY,\n\u001b[0;32m     24\u001b[0m )\n\u001b[0;32m     25\u001b[0m \u001b[38;5;28;01mimport\u001b[39;00m \u001b[38;5;21;01mpandas\u001b[39;00m\u001b[38;5;21;01m.\u001b[39;00m\u001b[38;5;21;01mcompat\u001b[39;00m\u001b[38;5;21;01m.\u001b[39;00m\u001b[38;5;21;01mcompressors\u001b[39;00m\n",
      "\u001b[1;31mImportError\u001b[0m: cannot import name 'ISMUSL' from 'pandas.compat._constants' (C:\\Users\\Palej\\anaconda3\\envs\\dmml\\Lib\\site-packages\\pandas\\compat\\_constants.py)",
      "\nThe above exception was the direct cause of the following exception:\n",
      "\u001b[1;31mImportError\u001b[0m                               Traceback (most recent call last)",
      "Cell \u001b[1;32mIn[5], line 1\u001b[0m\n\u001b[1;32m----> 1\u001b[0m \u001b[38;5;28;01mimport\u001b[39;00m \u001b[38;5;21;01mpandas\u001b[39;00m \u001b[38;5;28;01mas\u001b[39;00m \u001b[38;5;21;01mpd\u001b[39;00m \n\u001b[0;32m      2\u001b[0m \u001b[38;5;28;01mimport\u001b[39;00m \u001b[38;5;21;01mnumpy\u001b[39;00m \u001b[38;5;28;01mas\u001b[39;00m \u001b[38;5;21;01mnp\u001b[39;00m\n\u001b[0;32m      3\u001b[0m \u001b[38;5;28;01mimport\u001b[39;00m \u001b[38;5;21;01mplotly\u001b[39;00m\u001b[38;5;21;01m.\u001b[39;00m\u001b[38;5;21;01mgraph_objects\u001b[39;00m \u001b[38;5;28;01mas\u001b[39;00m \u001b[38;5;21;01mgo\u001b[39;00m\n",
      "File \u001b[1;32m~\\anaconda3\\envs\\dmml\\Lib\\site-packages\\pandas\\__init__.py:44\u001b[0m\n\u001b[0;32m     42\u001b[0m \u001b[38;5;28;01mexcept\u001b[39;00m \u001b[38;5;167;01mImportError\u001b[39;00m \u001b[38;5;28;01mas\u001b[39;00m _err:  \u001b[38;5;66;03m# pragma: no cover\u001b[39;00m\n\u001b[0;32m     43\u001b[0m     _module \u001b[38;5;241m=\u001b[39m _err\u001b[38;5;241m.\u001b[39mname\n\u001b[1;32m---> 44\u001b[0m     \u001b[38;5;28;01mraise\u001b[39;00m \u001b[38;5;167;01mImportError\u001b[39;00m(\n\u001b[0;32m     45\u001b[0m         \u001b[38;5;124mf\u001b[39m\u001b[38;5;124m\"\u001b[39m\u001b[38;5;124mC extension: \u001b[39m\u001b[38;5;132;01m{\u001b[39;00m_module\u001b[38;5;132;01m}\u001b[39;00m\u001b[38;5;124m not built. If you want to import \u001b[39m\u001b[38;5;124m\"\u001b[39m\n\u001b[0;32m     46\u001b[0m         \u001b[38;5;124m\"\u001b[39m\u001b[38;5;124mpandas from the source directory, you may need to run \u001b[39m\u001b[38;5;124m\"\u001b[39m\n\u001b[0;32m     47\u001b[0m         \u001b[38;5;124m\"\u001b[39m\u001b[38;5;124m'\u001b[39m\u001b[38;5;124mpython setup.py build_ext\u001b[39m\u001b[38;5;124m'\u001b[39m\u001b[38;5;124m to build the C extensions first.\u001b[39m\u001b[38;5;124m\"\u001b[39m\n\u001b[0;32m     48\u001b[0m     ) \u001b[38;5;28;01mfrom\u001b[39;00m \u001b[38;5;21;01m_err\u001b[39;00m\n\u001b[0;32m     50\u001b[0m \u001b[38;5;28;01mfrom\u001b[39;00m \u001b[38;5;21;01mpandas\u001b[39;00m\u001b[38;5;21;01m.\u001b[39;00m\u001b[38;5;21;01m_config\u001b[39;00m \u001b[38;5;28;01mimport\u001b[39;00m (\n\u001b[0;32m     51\u001b[0m     get_option,\n\u001b[0;32m     52\u001b[0m     set_option,\n\u001b[1;32m   (...)\u001b[0m\n\u001b[0;32m     56\u001b[0m     options,\n\u001b[0;32m     57\u001b[0m )\n\u001b[0;32m     59\u001b[0m \u001b[38;5;66;03m# let init-time option registration happen\u001b[39;00m\n",
      "\u001b[1;31mImportError\u001b[0m: C extension: pandas.compat._constants not built. If you want to import pandas from the source directory, you may need to run 'python setup.py build_ext' to build the C extensions first."
     ]
    }
   ],
   "source": [
    "import pandas as pd \n",
    "import numpy as np\n",
    "import plotly.graph_objects as go"
   ]
  },
  {
   "cell_type": "markdown",
   "id": "d92eee3d-3b19-41bc-a318-c0049a4c1a3c",
   "metadata": {},
   "source": [
    "## Load Cleaned Pokemon Dataset "
   ]
  },
  {
   "cell_type": "code",
   "execution_count": 39,
   "id": "ed9c2269-db5c-4e42-a8cd-10306f708efe",
   "metadata": {},
   "outputs": [],
   "source": [
    "df = pd.read_pickle('data/final_cleaned_pokemon_data.pkl')"
   ]
  },
  {
   "cell_type": "code",
   "execution_count": 40,
   "id": "864181df-78fd-423e-bce5-40edb16d87f5",
   "metadata": {},
   "outputs": [
    {
     "data": {
      "text/html": [
       "<div>\n",
       "<style scoped>\n",
       "    .dataframe tbody tr th:only-of-type {\n",
       "        vertical-align: middle;\n",
       "    }\n",
       "\n",
       "    .dataframe tbody tr th {\n",
       "        vertical-align: top;\n",
       "    }\n",
       "\n",
       "    .dataframe thead th {\n",
       "        text-align: right;\n",
       "    }\n",
       "</style>\n",
       "<table border=\"1\" class=\"dataframe\">\n",
       "  <thead>\n",
       "    <tr style=\"text-align: right;\">\n",
       "      <th></th>\n",
       "      <th>name</th>\n",
       "      <th>national_no</th>\n",
       "      <th>species</th>\n",
       "      <th>ev_yield</th>\n",
       "      <th>catch_rate</th>\n",
       "      <th>base_friendship</th>\n",
       "      <th>base_exp</th>\n",
       "      <th>growth_rate</th>\n",
       "      <th>egg_groups</th>\n",
       "      <th>egg_cycles</th>\n",
       "      <th>...</th>\n",
       "      <th>total</th>\n",
       "      <th>evo_path</th>\n",
       "      <th>pokemon_img_url</th>\n",
       "      <th>height_m</th>\n",
       "      <th>weight_kg</th>\n",
       "      <th>male_percentage</th>\n",
       "      <th>female_percentage</th>\n",
       "      <th>gen</th>\n",
       "      <th>primary_ability</th>\n",
       "      <th>secondary_ability</th>\n",
       "    </tr>\n",
       "  </thead>\n",
       "  <tbody>\n",
       "    <tr>\n",
       "      <th>0</th>\n",
       "      <td>bulbasaur</td>\n",
       "      <td>1</td>\n",
       "      <td>Seed Pokémon</td>\n",
       "      <td>1 Sp. Atk</td>\n",
       "      <td>45.0</td>\n",
       "      <td>50.0</td>\n",
       "      <td>64</td>\n",
       "      <td>Medium Slow</td>\n",
       "      <td>Grass, Monster</td>\n",
       "      <td>20</td>\n",
       "      <td>...</td>\n",
       "      <td>318</td>\n",
       "      <td>[Bulbasaur, Ivysaur, Venusaur]</td>\n",
       "      <td>https://img.pokemondb.net/artwork/bulbasaur.jpg</td>\n",
       "      <td>0.7</td>\n",
       "      <td>6.9</td>\n",
       "      <td>87.5</td>\n",
       "      <td>12.5</td>\n",
       "      <td>1</td>\n",
       "      <td>Overgrow</td>\n",
       "      <td>Chlorophyll</td>\n",
       "    </tr>\n",
       "    <tr>\n",
       "      <th>1</th>\n",
       "      <td>ivysaur</td>\n",
       "      <td>2</td>\n",
       "      <td>Seed Pokémon</td>\n",
       "      <td>1 Sp. Atk, 1 Sp. Def</td>\n",
       "      <td>45.0</td>\n",
       "      <td>50.0</td>\n",
       "      <td>142</td>\n",
       "      <td>Medium Slow</td>\n",
       "      <td>Grass, Monster</td>\n",
       "      <td>20</td>\n",
       "      <td>...</td>\n",
       "      <td>405</td>\n",
       "      <td>[Bulbasaur, Ivysaur, Venusaur]</td>\n",
       "      <td>https://img.pokemondb.net/artwork/ivysaur.jpg</td>\n",
       "      <td>1.0</td>\n",
       "      <td>13.0</td>\n",
       "      <td>87.5</td>\n",
       "      <td>12.5</td>\n",
       "      <td>1</td>\n",
       "      <td>Overgrow</td>\n",
       "      <td>Chlorophyll</td>\n",
       "    </tr>\n",
       "    <tr>\n",
       "      <th>2</th>\n",
       "      <td>venusaur</td>\n",
       "      <td>3</td>\n",
       "      <td>Seed Pokémon</td>\n",
       "      <td>2 Sp. Atk, 1 Sp. Def</td>\n",
       "      <td>45.0</td>\n",
       "      <td>50.0</td>\n",
       "      <td>236</td>\n",
       "      <td>Medium Slow</td>\n",
       "      <td>Grass, Monster</td>\n",
       "      <td>20</td>\n",
       "      <td>...</td>\n",
       "      <td>525</td>\n",
       "      <td>[Bulbasaur, Ivysaur, Venusaur]</td>\n",
       "      <td>https://img.pokemondb.net/artwork/venusaur.jpg</td>\n",
       "      <td>2.0</td>\n",
       "      <td>100.0</td>\n",
       "      <td>87.5</td>\n",
       "      <td>12.5</td>\n",
       "      <td>1</td>\n",
       "      <td>Overgrow</td>\n",
       "      <td>Chlorophyll</td>\n",
       "    </tr>\n",
       "    <tr>\n",
       "      <th>3</th>\n",
       "      <td>charmander</td>\n",
       "      <td>4</td>\n",
       "      <td>Lizard Pokémon</td>\n",
       "      <td>1 Speed</td>\n",
       "      <td>45.0</td>\n",
       "      <td>50.0</td>\n",
       "      <td>62</td>\n",
       "      <td>Medium Slow</td>\n",
       "      <td>Dragon, Monster</td>\n",
       "      <td>20</td>\n",
       "      <td>...</td>\n",
       "      <td>309</td>\n",
       "      <td>[Charmander, Charmeleon, Charizard]</td>\n",
       "      <td>https://img.pokemondb.net/artwork/charmander.jpg</td>\n",
       "      <td>0.6</td>\n",
       "      <td>8.5</td>\n",
       "      <td>87.5</td>\n",
       "      <td>12.5</td>\n",
       "      <td>1</td>\n",
       "      <td>Blaze</td>\n",
       "      <td>Solar Power</td>\n",
       "    </tr>\n",
       "    <tr>\n",
       "      <th>4</th>\n",
       "      <td>charmeleon</td>\n",
       "      <td>5</td>\n",
       "      <td>Flame Pokémon</td>\n",
       "      <td>1 Sp. Atk, 1 Speed</td>\n",
       "      <td>45.0</td>\n",
       "      <td>50.0</td>\n",
       "      <td>142</td>\n",
       "      <td>Medium Slow</td>\n",
       "      <td>Dragon, Monster</td>\n",
       "      <td>20</td>\n",
       "      <td>...</td>\n",
       "      <td>405</td>\n",
       "      <td>[Charmander, Charmeleon, Charizard]</td>\n",
       "      <td>https://img.pokemondb.net/artwork/charmeleon.jpg</td>\n",
       "      <td>1.1</td>\n",
       "      <td>19.0</td>\n",
       "      <td>87.5</td>\n",
       "      <td>12.5</td>\n",
       "      <td>1</td>\n",
       "      <td>Blaze</td>\n",
       "      <td>Solar Power</td>\n",
       "    </tr>\n",
       "  </tbody>\n",
       "</table>\n",
       "<p>5 rows × 26 columns</p>\n",
       "</div>"
      ],
      "text/plain": [
       "         name  national_no         species              ev_yield  catch_rate  \\\n",
       "0   bulbasaur            1    Seed Pokémon             1 Sp. Atk        45.0   \n",
       "1     ivysaur            2    Seed Pokémon  1 Sp. Atk, 1 Sp. Def        45.0   \n",
       "2    venusaur            3    Seed Pokémon  2 Sp. Atk, 1 Sp. Def        45.0   \n",
       "3  charmander            4  Lizard Pokémon               1 Speed        45.0   \n",
       "4  charmeleon            5   Flame Pokémon    1 Sp. Atk, 1 Speed        45.0   \n",
       "\n",
       "   base_friendship  base_exp  growth_rate       egg_groups  egg_cycles  ...  \\\n",
       "0             50.0        64  Medium Slow   Grass, Monster          20  ...   \n",
       "1             50.0       142  Medium Slow   Grass, Monster          20  ...   \n",
       "2             50.0       236  Medium Slow   Grass, Monster          20  ...   \n",
       "3             50.0        62  Medium Slow  Dragon, Monster          20  ...   \n",
       "4             50.0       142  Medium Slow  Dragon, Monster          20  ...   \n",
       "\n",
       "   total                             evo_path  \\\n",
       "0    318       [Bulbasaur, Ivysaur, Venusaur]   \n",
       "1    405       [Bulbasaur, Ivysaur, Venusaur]   \n",
       "2    525       [Bulbasaur, Ivysaur, Venusaur]   \n",
       "3    309  [Charmander, Charmeleon, Charizard]   \n",
       "4    405  [Charmander, Charmeleon, Charizard]   \n",
       "\n",
       "                                    pokemon_img_url  height_m  weight_kg  \\\n",
       "0   https://img.pokemondb.net/artwork/bulbasaur.jpg       0.7        6.9   \n",
       "1     https://img.pokemondb.net/artwork/ivysaur.jpg       1.0       13.0   \n",
       "2    https://img.pokemondb.net/artwork/venusaur.jpg       2.0      100.0   \n",
       "3  https://img.pokemondb.net/artwork/charmander.jpg       0.6        8.5   \n",
       "4  https://img.pokemondb.net/artwork/charmeleon.jpg       1.1       19.0   \n",
       "\n",
       "   male_percentage  female_percentage gen primary_ability  secondary_ability  \n",
       "0             87.5               12.5   1        Overgrow        Chlorophyll  \n",
       "1             87.5               12.5   1        Overgrow        Chlorophyll  \n",
       "2             87.5               12.5   1        Overgrow        Chlorophyll  \n",
       "3             87.5               12.5   1           Blaze        Solar Power  \n",
       "4             87.5               12.5   1           Blaze        Solar Power  \n",
       "\n",
       "[5 rows x 26 columns]"
      ]
     },
     "execution_count": 40,
     "metadata": {},
     "output_type": "execute_result"
    }
   ],
   "source": [
    "df.head()"
   ]
  },
  {
   "cell_type": "code",
   "execution_count": 41,
   "id": "e32403b1-0ab1-4357-88da-431945844ea2",
   "metadata": {},
   "outputs": [
    {
     "data": {
      "text/plain": [
       "(76, 26)"
      ]
     },
     "execution_count": 41,
     "metadata": {},
     "output_type": "execute_result"
    }
   ],
   "source": [
    "df.shape"
   ]
  },
  {
   "cell_type": "code",
   "execution_count": 42,
   "id": "05b28155-2000-4c84-b5de-4d7ccbc8d2ac",
   "metadata": {},
   "outputs": [
    {
     "data": {
      "text/plain": [
       "Index(['name', 'national_no', 'species', 'ev_yield', 'catch_rate',\n",
       "       'base_friendship', 'base_exp', 'growth_rate', 'egg_groups',\n",
       "       'egg_cycles', 'hp', 'attack', 'defense', 'sp_atk', 'sp_def', 'speed',\n",
       "       'total', 'evo_path', 'pokemon_img_url', 'height_m', 'weight_kg',\n",
       "       'male_percentage', 'female_percentage', 'gen', 'primary_ability',\n",
       "       'secondary_ability'],\n",
       "      dtype='object')"
      ]
     },
     "execution_count": 42,
     "metadata": {},
     "output_type": "execute_result"
    }
   ],
   "source": [
    "df.columns"
   ]
  },
  {
   "cell_type": "code",
   "execution_count": 43,
   "id": "29a98088-133c-4708-a25b-94b08603a332",
   "metadata": {},
   "outputs": [
    {
     "name": "stdout",
     "output_type": "stream",
     "text": [
      "<class 'pandas.core.frame.DataFrame'>\n",
      "RangeIndex: 76 entries, 0 to 75\n",
      "Data columns (total 26 columns):\n",
      " #   Column             Non-Null Count  Dtype   \n",
      "---  ------             --------------  -----   \n",
      " 0   name               76 non-null     object  \n",
      " 1   national_no        76 non-null     Int64   \n",
      " 2   species            76 non-null     object  \n",
      " 3   ev_yield           76 non-null     object  \n",
      " 4   catch_rate         76 non-null     float64 \n",
      " 5   base_friendship    76 non-null     float64 \n",
      " 6   base_exp           76 non-null     int32   \n",
      " 7   growth_rate        76 non-null     object  \n",
      " 8   egg_groups         76 non-null     object  \n",
      " 9   egg_cycles         76 non-null     int64   \n",
      " 10  hp                 76 non-null     Int64   \n",
      " 11  attack             76 non-null     Int64   \n",
      " 12  defense            76 non-null     Int64   \n",
      " 13  sp_atk             76 non-null     Int64   \n",
      " 14  sp_def             76 non-null     Int64   \n",
      " 15  speed              76 non-null     Int64   \n",
      " 16  total              76 non-null     Int64   \n",
      " 17  evo_path           76 non-null     object  \n",
      " 18  pokemon_img_url    76 non-null     object  \n",
      " 19  height_m           76 non-null     float64 \n",
      " 20  weight_kg          76 non-null     float64 \n",
      " 21  male_percentage    76 non-null     float64 \n",
      " 22  female_percentage  76 non-null     float64 \n",
      " 23  gen                76 non-null     category\n",
      " 24  primary_ability    76 non-null     object  \n",
      " 25  secondary_ability  76 non-null     object  \n",
      "dtypes: Int64(8), category(1), float64(6), int32(1), int64(1), object(9)\n",
      "memory usage: 15.4+ KB\n"
     ]
    }
   ],
   "source": [
    "df.info()"
   ]
  },
  {
   "cell_type": "markdown",
   "id": "6b596f20-8907-4ecf-806e-bc92d9fa0fba",
   "metadata": {},
   "source": [
    "## Data Aggregation"
   ]
  },
  {
   "cell_type": "markdown",
   "id": "8e78c7b5-bd54-4181-8520-8cc6b5e641c9",
   "metadata": {},
   "source": [
    "### Utilize the value_counts() method on the primary_type column to tally the number of Pokémon for each type"
   ]
  },
  {
   "cell_type": "code",
   "execution_count": 44,
   "id": "6cf62718-17a9-4110-8e03-4730061632a3",
   "metadata": {},
   "outputs": [
    {
     "data": {
      "text/plain": [
       "primary_ability\n",
       "Chlorophyll      6\n",
       "Poison Point     6\n",
       "Keen Eye         5\n",
       "Cute Charm       4\n",
       "Sand Veil        4\n",
       "Intimidate       4\n",
       "Guts             3\n",
       "Synchronize      3\n",
       "Water Absorb     3\n",
       "Blaze            3\n",
       "Overgrow         3\n",
       "Shield Dust      3\n",
       "Torrent          3\n",
       "Rock Head        3\n",
       "Static           2\n",
       "Run Away         2\n",
       "Flash Fire       2\n",
       "Inner Focus      2\n",
       "Compound Eyes    2\n",
       "Effect Spore     2\n",
       "Damp             2\n",
       "Vital Spirit     2\n",
       "Shed Skin        2\n",
       "Clear Body       2\n",
       "Swarm            1\n",
       "Pickup           1\n",
       "Limber           1\n",
       "Name: count, dtype: int64"
      ]
     },
     "execution_count": 44,
     "metadata": {},
     "output_type": "execute_result"
    }
   ],
   "source": [
    "df.primary_ability.value_counts()"
   ]
  },
  {
   "cell_type": "markdown",
   "id": "0e8279b8-c50e-40dd-9086-da16513763b6",
   "metadata": {},
   "source": [
    "## Color Scheme Mapping"
   ]
  },
  {
   "cell_type": "markdown",
   "id": "7203295f-b9e4-433d-a619-e6a517976401",
   "metadata": {},
   "source": [
    "### Create a dictionary mapping each Pokémon type to a specific hexadecimal color value, reflecting the colors provided in the initial setup"
   ]
  },
  {
   "cell_type": "code",
   "execution_count": 45,
   "id": "a2a476af-10a1-4ffd-a997-ed77b346d2a2",
   "metadata": {},
   "outputs": [],
   "source": [
    "type_colors = {\n",
    "    'Grass': '#78C850',    'Fire': '#F08030',    'Water': '#6890F0',\n",
    "    'Bug': '#A8B820',    'Normal': '#A8A878',    'Poison': '#A040A0',\n",
    "    'Electric': '#F8D030',    'Ground': '#E0C068',    'Fairy': '#EE99AC',\n",
    "    'Fighting': '#C03028',    'Flying': '#A890F0',    'Psychic': '#F85888',\n",
    "    'Rock': '#B8A038',    'Ghost': '#705898',    'Ice': '#98D8D8',\n",
    "    'Dragon': '#7038F8',    'Dark': '#705848',    'Steel': '#B8B8D0',\n",
    "}"
   ]
  },
  {
   "cell_type": "markdown",
   "id": "5903b6c0-c27a-44e4-b5af-3916f85c899e",
   "metadata": {},
   "source": [
    "## Bar Chart Visualization"
   ]
  },
  {
   "cell_type": "markdown",
   "id": "c4522261-147b-49a9-b87f-e34f355681b4",
   "metadata": {},
   "source": [
    "### Employ a Plotly bar chart to display the count of Pokémon for each type"
   ]
  },
  {
   "cell_type": "code",
   "execution_count": 46,
   "id": "91cdcdee-8be9-483f-a6e3-e8afec315768",
   "metadata": {},
   "outputs": [
    {
     "name": "stdout",
     "output_type": "stream",
     "text": [
      "primary_ability\n",
      "Chlorophyll      6\n",
      "Poison Point     6\n",
      "Keen Eye         5\n",
      "Cute Charm       4\n",
      "Sand Veil        4\n",
      "Intimidate       4\n",
      "Guts             3\n",
      "Synchronize      3\n",
      "Water Absorb     3\n",
      "Blaze            3\n",
      "Overgrow         3\n",
      "Shield Dust      3\n",
      "Torrent          3\n",
      "Rock Head        3\n",
      "Static           2\n",
      "Run Away         2\n",
      "Flash Fire       2\n",
      "Inner Focus      2\n",
      "Compound Eyes    2\n",
      "Effect Spore     2\n",
      "Damp             2\n",
      "Vital Spirit     2\n",
      "Shed Skin        2\n",
      "Clear Body       2\n",
      "Swarm            1\n",
      "Pickup           1\n",
      "Limber           1\n",
      "Name: count, dtype: int64\n"
     ]
    }
   ],
   "source": [
    "ability_count = df.primary_ability.value_counts()\n",
    "print(ability_count)"
   ]
  },
  {
   "cell_type": "code",
   "execution_count": 47,
   "id": "f6607656-6398-47c0-bb89-b7bc49733354",
   "metadata": {},
   "outputs": [
    {
     "ename": "ValueError",
     "evalue": "\nImage export using the \"kaleido\" engine requires the kaleido package,\nwhich can be installed using pip:\n    $ pip install -U kaleido\n",
     "output_type": "error",
     "traceback": [
      "\u001b[1;31m---------------------------------------------------------------------------\u001b[0m",
      "\u001b[1;31mValueError\u001b[0m                                Traceback (most recent call last)",
      "Cell \u001b[1;32mIn[47], line 22\u001b[0m\n\u001b[0;32m     15\u001b[0m fig\u001b[38;5;241m.\u001b[39mupdate_layout(\n\u001b[0;32m     16\u001b[0m     title_text\u001b[38;5;241m=\u001b[39m\u001b[38;5;124m'\u001b[39m\u001b[38;5;124mPokemon Primary Ability Distribution\u001b[39m\u001b[38;5;124m'\u001b[39m,\n\u001b[0;32m     17\u001b[0m     height\u001b[38;5;241m=\u001b[39m\u001b[38;5;241m300\u001b[39m,\n\u001b[0;32m     18\u001b[0m     width\u001b[38;5;241m=\u001b[39m\u001b[38;5;241m800\u001b[39m\n\u001b[0;32m     19\u001b[0m )\n\u001b[0;32m     21\u001b[0m \u001b[38;5;66;03m# Save the plot \u001b[39;00m\n\u001b[1;32m---> 22\u001b[0m \u001b[43mfig\u001b[49m\u001b[38;5;241;43m.\u001b[39;49m\u001b[43mwrite_image\u001b[49m\u001b[43m(\u001b[49m\u001b[38;5;124;43m\"\u001b[39;49m\u001b[38;5;124;43mplots/pokemon_primary_ability_distribution.png\u001b[39;49m\u001b[38;5;124;43m\"\u001b[39;49m\u001b[43m)\u001b[49m\n\u001b[0;32m     24\u001b[0m fig\u001b[38;5;241m.\u001b[39mshow()\n",
      "File \u001b[1;32m~\\anaconda3\\envs\\dmml\\lib\\site-packages\\plotly\\basedatatypes.py:3835\u001b[0m, in \u001b[0;36mBaseFigure.write_image\u001b[1;34m(self, *args, **kwargs)\u001b[0m\n\u001b[0;32m   3775\u001b[0m \u001b[38;5;250m\u001b[39m\u001b[38;5;124;03m\"\"\"\u001b[39;00m\n\u001b[0;32m   3776\u001b[0m \u001b[38;5;124;03mConvert a figure to a static image and write it to a file or writeable\u001b[39;00m\n\u001b[0;32m   3777\u001b[0m \u001b[38;5;124;03mobject\u001b[39;00m\n\u001b[1;32m   (...)\u001b[0m\n\u001b[0;32m   3831\u001b[0m \u001b[38;5;124;03mNone\u001b[39;00m\n\u001b[0;32m   3832\u001b[0m \u001b[38;5;124;03m\"\"\"\u001b[39;00m\n\u001b[0;32m   3833\u001b[0m \u001b[38;5;28;01mimport\u001b[39;00m \u001b[38;5;21;01mplotly\u001b[39;00m\u001b[38;5;21;01m.\u001b[39;00m\u001b[38;5;21;01mio\u001b[39;00m \u001b[38;5;28;01mas\u001b[39;00m \u001b[38;5;21;01mpio\u001b[39;00m\n\u001b[1;32m-> 3835\u001b[0m \u001b[38;5;28;01mreturn\u001b[39;00m \u001b[43mpio\u001b[49m\u001b[38;5;241;43m.\u001b[39;49m\u001b[43mwrite_image\u001b[49m\u001b[43m(\u001b[49m\u001b[38;5;28;43mself\u001b[39;49m\u001b[43m,\u001b[49m\u001b[43m \u001b[49m\u001b[38;5;241;43m*\u001b[39;49m\u001b[43margs\u001b[49m\u001b[43m,\u001b[49m\u001b[43m \u001b[49m\u001b[38;5;241;43m*\u001b[39;49m\u001b[38;5;241;43m*\u001b[39;49m\u001b[43mkwargs\u001b[49m\u001b[43m)\u001b[49m\n",
      "File \u001b[1;32m~\\anaconda3\\envs\\dmml\\lib\\site-packages\\plotly\\io\\_kaleido.py:266\u001b[0m, in \u001b[0;36mwrite_image\u001b[1;34m(fig, file, format, scale, width, height, validate, engine)\u001b[0m\n\u001b[0;32m    250\u001b[0m             \u001b[38;5;28;01mraise\u001b[39;00m \u001b[38;5;167;01mValueError\u001b[39;00m(\n\u001b[0;32m    251\u001b[0m \u001b[38;5;250m                \u001b[39m\u001b[38;5;124;03m\"\"\"\u001b[39;00m\n\u001b[0;32m    252\u001b[0m \u001b[38;5;124;03mCannot infer image type from output path '{file}'.\u001b[39;00m\n\u001b[1;32m   (...)\u001b[0m\n\u001b[0;32m    260\u001b[0m                 )\n\u001b[0;32m    261\u001b[0m             )\n\u001b[0;32m    263\u001b[0m     \u001b[38;5;66;03m# Request image\u001b[39;00m\n\u001b[0;32m    264\u001b[0m     \u001b[38;5;66;03m# -------------\u001b[39;00m\n\u001b[0;32m    265\u001b[0m     \u001b[38;5;66;03m# Do this first so we don't create a file if image conversion fails\u001b[39;00m\n\u001b[1;32m--> 266\u001b[0m     img_data \u001b[38;5;241m=\u001b[39m \u001b[43mto_image\u001b[49m\u001b[43m(\u001b[49m\n\u001b[0;32m    267\u001b[0m \u001b[43m        \u001b[49m\u001b[43mfig\u001b[49m\u001b[43m,\u001b[49m\n\u001b[0;32m    268\u001b[0m \u001b[43m        \u001b[49m\u001b[38;5;28;43mformat\u001b[39;49m\u001b[38;5;241;43m=\u001b[39;49m\u001b[38;5;28;43mformat\u001b[39;49m\u001b[43m,\u001b[49m\n\u001b[0;32m    269\u001b[0m \u001b[43m        \u001b[49m\u001b[43mscale\u001b[49m\u001b[38;5;241;43m=\u001b[39;49m\u001b[43mscale\u001b[49m\u001b[43m,\u001b[49m\n\u001b[0;32m    270\u001b[0m \u001b[43m        \u001b[49m\u001b[43mwidth\u001b[49m\u001b[38;5;241;43m=\u001b[39;49m\u001b[43mwidth\u001b[49m\u001b[43m,\u001b[49m\n\u001b[0;32m    271\u001b[0m \u001b[43m        \u001b[49m\u001b[43mheight\u001b[49m\u001b[38;5;241;43m=\u001b[39;49m\u001b[43mheight\u001b[49m\u001b[43m,\u001b[49m\n\u001b[0;32m    272\u001b[0m \u001b[43m        \u001b[49m\u001b[43mvalidate\u001b[49m\u001b[38;5;241;43m=\u001b[39;49m\u001b[43mvalidate\u001b[49m\u001b[43m,\u001b[49m\n\u001b[0;32m    273\u001b[0m \u001b[43m        \u001b[49m\u001b[43mengine\u001b[49m\u001b[38;5;241;43m=\u001b[39;49m\u001b[43mengine\u001b[49m\u001b[43m,\u001b[49m\n\u001b[0;32m    274\u001b[0m \u001b[43m    \u001b[49m\u001b[43m)\u001b[49m\n\u001b[0;32m    276\u001b[0m     \u001b[38;5;66;03m# Open file\u001b[39;00m\n\u001b[0;32m    277\u001b[0m     \u001b[38;5;66;03m# ---------\u001b[39;00m\n\u001b[0;32m    278\u001b[0m     \u001b[38;5;28;01mif\u001b[39;00m path \u001b[38;5;129;01mis\u001b[39;00m \u001b[38;5;28;01mNone\u001b[39;00m:\n\u001b[0;32m    279\u001b[0m         \u001b[38;5;66;03m# We previously failed to make sense of `file` as a pathlib object.\u001b[39;00m\n\u001b[0;32m    280\u001b[0m         \u001b[38;5;66;03m# Attempt to write to `file` as an open file descriptor.\u001b[39;00m\n",
      "File \u001b[1;32m~\\anaconda3\\envs\\dmml\\lib\\site-packages\\plotly\\io\\_kaleido.py:132\u001b[0m, in \u001b[0;36mto_image\u001b[1;34m(fig, format, width, height, scale, validate, engine)\u001b[0m\n\u001b[0;32m    130\u001b[0m     \u001b[38;5;66;03m# Raise informative error message if Kaleido is not installed\u001b[39;00m\n\u001b[0;32m    131\u001b[0m     \u001b[38;5;28;01mif\u001b[39;00m scope \u001b[38;5;129;01mis\u001b[39;00m \u001b[38;5;28;01mNone\u001b[39;00m:\n\u001b[1;32m--> 132\u001b[0m         \u001b[38;5;28;01mraise\u001b[39;00m \u001b[38;5;167;01mValueError\u001b[39;00m(\n\u001b[0;32m    133\u001b[0m \u001b[38;5;250m            \u001b[39m\u001b[38;5;124;03m\"\"\"\u001b[39;00m\n\u001b[0;32m    134\u001b[0m \u001b[38;5;124;03mImage export using the \"kaleido\" engine requires the kaleido package,\u001b[39;00m\n\u001b[0;32m    135\u001b[0m \u001b[38;5;124;03mwhich can be installed using pip:\u001b[39;00m\n\u001b[0;32m    136\u001b[0m \u001b[38;5;124;03m    $ pip install -U kaleido\u001b[39;00m\n\u001b[0;32m    137\u001b[0m \u001b[38;5;124;03m\"\"\"\u001b[39;00m\n\u001b[0;32m    138\u001b[0m         )\n\u001b[0;32m    140\u001b[0m     \u001b[38;5;66;03m# Validate figure\u001b[39;00m\n\u001b[0;32m    141\u001b[0m     \u001b[38;5;66;03m# ---------------\u001b[39;00m\n\u001b[0;32m    142\u001b[0m     fig_dict \u001b[38;5;241m=\u001b[39m validate_coerce_fig_to_dict(fig, validate)\n",
      "\u001b[1;31mValueError\u001b[0m: \nImage export using the \"kaleido\" engine requires the kaleido package,\nwhich can be installed using pip:\n    $ pip install -U kaleido\n"
     ]
    }
   ],
   "source": [
    "# Create the Plotly figure\n",
    "fig = go.Figure()\n",
    "fig.add_trace(\n",
    "    go.Bar(\n",
    "        # Assign the types to the x-axis and counts to y-axis\n",
    "        x=ability_count.index,\n",
    "        y=ability_count.values,\n",
    "        marker={'color': [type_colors.get(k, '#000000') for k in ability_count.index]},\n",
    "        hoverinfo='all',\n",
    "        name='All Bars in a Figure',\n",
    "        showlegend=True,\n",
    "    )\n",
    ")\n",
    "\n",
    "fig.update_layout(\n",
    "    title_text='Pokemon Primary Ability Distribution',\n",
    "    height=300,\n",
    "    width=800\n",
    ")\n",
    "\n",
    "# Save the plot \n",
    "fig.write_image(\"plots/pokemon_primary_ability_distribution.png\")\n",
    "\n",
    "fig.show()"
   ]
  },
  {
   "cell_type": "markdown",
   "id": "58d1b2b1-d0e4-4940-bdc5-5554a17710c9",
   "metadata": {},
   "source": [
    "### Map each type to its respective color as defined in your color scheme"
   ]
  },
  {
   "cell_type": "code",
   "execution_count": 48,
   "id": "77162f26-55ec-4a93-acda-f123fc4c1b6f",
   "metadata": {},
   "outputs": [
    {
     "ename": "SyntaxError",
     "evalue": "invalid syntax (439962590.py, line 1)",
     "output_type": "error",
     "traceback": [
      "\u001b[1;36m  Cell \u001b[1;32mIn[48], line 1\u001b[1;36m\u001b[0m\n\u001b[1;33m    $ pip install -U kaleido\u001b[0m\n\u001b[1;37m    ^\u001b[0m\n\u001b[1;31mSyntaxError\u001b[0m\u001b[1;31m:\u001b[0m invalid syntax\n"
     ]
    }
   ],
   "source": [
    "$ pip install -U kaleido"
   ]
  },
  {
   "cell_type": "code",
   "execution_count": 49,
   "id": "fc585181-c2f1-40b9-bf33-423de7db538c",
   "metadata": {},
   "outputs": [
    {
     "name": "stdout",
     "output_type": "stream",
     "text": [
      "Requirement already satisfied: kaleido in c:\\users\\palej\\anaconda3\\envs\\dmml\\lib\\site-packages (0.2.1)\n",
      "Note: you may need to restart the kernel to use updated packages.\n"
     ]
    }
   ],
   "source": [
    "pip install -U kaleido"
   ]
  },
  {
   "cell_type": "code",
   "execution_count": null,
   "id": "7b3b0b91-2f2b-42f9-b002-0301571b5854",
   "metadata": {},
   "outputs": [],
   "source": [
    "pip uninstall kaleido"
   ]
  },
  {
   "cell_type": "code",
   "execution_count": null,
   "id": "daa186a5-6b6e-449c-9719-186246b6902c",
   "metadata": {},
   "outputs": [],
   "source": []
  },
  {
   "cell_type": "code",
   "execution_count": null,
   "id": "aff32a84-ef2c-43e3-9583-bc9e9a41e918",
   "metadata": {},
   "outputs": [],
   "source": [
    "pip install -U kaleido"
   ]
  },
  {
   "cell_type": "code",
   "execution_count": null,
   "id": "0c01db8e-46a4-44c1-9198-08ccb3b08896",
   "metadata": {},
   "outputs": [],
   "source": []
  },
  {
   "cell_type": "code",
   "execution_count": null,
   "id": "a5466eb7-2943-40ff-bd60-8fdbcab91fba",
   "metadata": {},
   "outputs": [],
   "source": [
    "conda update --all"
   ]
  },
  {
   "cell_type": "code",
   "execution_count": null,
   "id": "5fae6c6a-35be-4a20-b7e4-9028ad5b1180",
   "metadata": {},
   "outputs": [],
   "source": []
  }
 ],
 "metadata": {
  "kernelspec": {
   "display_name": "Python 3 (ipykernel)",
   "language": "python",
   "name": "python3"
  },
  "language_info": {
   "codemirror_mode": {
    "name": "ipython",
    "version": 3
   },
   "file_extension": ".py",
   "mimetype": "text/x-python",
   "name": "python",
   "nbconvert_exporter": "python",
   "pygments_lexer": "ipython3",
   "version": "3.13.0"
  }
 },
 "nbformat": 4,
 "nbformat_minor": 5
}
